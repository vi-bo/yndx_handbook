{
 "cells": [
  {
   "cell_type": "markdown",
   "metadata": {
    "pycharm": {
     "name": "#%% md\n"
    }
   },
   "source": [
    "# 2. Базовые конструкции Python"
   ]
  },
  {
   "cell_type": "markdown",
   "metadata": {
    "pycharm": {
     "name": "#%% md\n"
    }
   },
   "source": [
    "## 2.1. Ввод и вывод данных. Операции с числами, строками. Форматирование"
   ]
  },
  {
   "cell_type": "markdown",
   "source": [
    "### Теория"
   ],
   "metadata": {
    "collapsed": false,
    "pycharm": {
     "name": "#%% md\n"
    }
   }
  },
  {
   "cell_type": "code",
   "execution_count": 1,
   "outputs": [
    {
     "name": "stdout",
     "output_type": "stream",
     "text": [
      "Привет!\n"
     ]
    }
   ],
   "source": [
    "phrase = input(\"Введите строку: \")\n",
    "print(phrase)"
   ],
   "metadata": {
    "collapsed": false,
    "pycharm": {
     "name": "#%%\n"
    }
   }
  },
  {
   "cell_type": "code",
   "execution_count": 2,
   "outputs": [
    {
     "name": "stdout",
     "output_type": "stream",
     "text": [
      "Добрый день,Пользователь.\n"
     ]
    }
   ],
   "source": [
    "name = \"Пользователь\"\n",
    "print(\"Добрый день,\", name, \".\", sep=\"\")"
   ],
   "metadata": {
    "collapsed": false,
    "pycharm": {
     "name": "#%%\n"
    }
   }
  },
  {
   "cell_type": "code",
   "execution_count": 3,
   "outputs": [
    {
     "name": "stdout",
     "output_type": "stream",
     "text": [
      "Добрый день,\n",
      "Пользователь.\n"
     ]
    }
   ],
   "source": [
    "name = \"Пользователь\"\n",
    "print(f\"Добрый день,\\n{name}.\")"
   ],
   "metadata": {
    "collapsed": false,
    "pycharm": {
     "name": "#%%\n"
    }
   }
  },
  {
   "cell_type": "code",
   "execution_count": 4,
   "outputs": [
    {
     "name": "stdout",
     "output_type": "stream",
     "text": [
      "Сложноподчинённый\n"
     ]
    }
   ],
   "source": [
    "print(\"Сложно\" + \"подчинённый\")"
   ],
   "metadata": {
    "collapsed": false,
    "pycharm": {
     "name": "#%%\n"
    }
   }
  },
  {
   "cell_type": "code",
   "execution_count": 5,
   "outputs": [
    {
     "name": "stdout",
     "output_type": "stream",
     "text": [
      "----------\n"
     ]
    }
   ],
   "source": [
    "print(\"-\" * 10)"
   ],
   "metadata": {
    "collapsed": false,
    "pycharm": {
     "name": "#%%\n"
    }
   }
  },
  {
   "cell_type": "code",
   "execution_count": 6,
   "outputs": [
    {
     "name": "stdout",
     "output_type": "stream",
     "text": [
      "12\n",
      "3\n"
     ]
    }
   ],
   "source": [
    "n_1 = \"1\"\n",
    "n_2 = \"2\"\n",
    "print(n_1 + n_2)\n",
    "n_1 = int(n_1)\n",
    "n_2 = int(n_2)\n",
    "print(n_1 + n_2)"
   ],
   "metadata": {
    "collapsed": false,
    "pycharm": {
     "name": "#%%\n"
    }
   }
  },
  {
   "cell_type": "code",
   "execution_count": 7,
   "outputs": [
    {
     "name": "stdout",
     "output_type": "stream",
     "text": [
      "5.0\n",
      "-1.0\n",
      "6.0\n",
      "0.6666666666666666\n",
      "8.0\n"
     ]
    }
   ],
   "source": [
    "int_number = int(input())\n",
    "float_number = float(input())\n",
    "n = int_number\n",
    "x = float_number\n",
    "print(n + x)\n",
    "print(n - x)\n",
    "print(n * x)\n",
    "print(n / x)\n",
    "print(n ** x)"
   ],
   "metadata": {
    "collapsed": false,
    "pycharm": {
     "name": "#%%\n"
    }
   }
  },
  {
   "cell_type": "code",
   "execution_count": 8,
   "outputs": [
    {
     "name": "stdout",
     "output_type": "stream",
     "text": [
      "Остаток от деления: 1234 % 10 = 4\n"
     ]
    }
   ],
   "source": [
    "# vibo: % - статок от деления\n",
    "penultimate_digit = 1234 % 10\n",
    "print(f\"Остаток от деления: 1234 % 10 = {penultimate_digit}\")"
   ],
   "metadata": {
    "collapsed": false,
    "pycharm": {
     "name": "#%%\n"
    }
   }
  },
  {
   "cell_type": "code",
   "execution_count": 9,
   "outputs": [
    {
     "name": "stdout",
     "output_type": "stream",
     "text": [
      "Целочисленное деление: 1234 // 10 = 123\n"
     ]
    }
   ],
   "source": [
    "# vibo: // - целочисленное деление\n",
    "penultimate_digit = 1234 // 10\n",
    "print(f\"Целочисленное деление: 1234 // 10 = {penultimate_digit}\")"
   ],
   "metadata": {
    "collapsed": false,
    "pycharm": {
     "name": "#%%\n"
    }
   }
  },
  {
   "cell_type": "code",
   "execution_count": 10,
   "outputs": [
    {
     "name": "stdout",
     "output_type": "stream",
     "text": [
      "1234 // 10 % 10 = 3\n"
     ]
    }
   ],
   "source": [
    "# vibo: возвращаем предпоследнюю цифру\n",
    "penultimate_digit = 1234 // 10 % 10\n",
    "print(f\"1234 // 10 % 10 = {penultimate_digit}\")"
   ],
   "metadata": {
    "collapsed": false,
    "pycharm": {
     "name": "#%%\n"
    }
   }
  },
  {
   "cell_type": "markdown",
   "source": [
    "### Практика"
   ],
   "metadata": {
    "collapsed": false,
    "pycharm": {
     "name": "#%% md\n"
    }
   }
  },
  {
   "cell_type": "code",
   "execution_count": 11,
   "outputs": [
    {
     "name": "stdout",
     "output_type": "stream",
     "text": [
      "Как Вас зовут?\n",
      "Привет, vibo\n"
     ]
    }
   ],
   "source": [
    "# B\n",
    "name = input()\n",
    "print(\"Как Вас зовут?\")\n",
    "print(f\"Привет, {name}\")"
   ],
   "metadata": {
    "collapsed": false,
    "pycharm": {
     "name": "#%%\n"
    }
   }
  },
  {
   "cell_type": "code",
   "execution_count": 12,
   "outputs": [
    {
     "name": "stdout",
     "output_type": "stream",
     "text": [
      "2\n",
      "2\n",
      "2\n",
      "\n"
     ]
    }
   ],
   "source": [
    "# C\n",
    "string = input()\n",
    "print(f\"{string}\\n\" * 3)"
   ],
   "metadata": {
    "collapsed": false,
    "pycharm": {
     "name": "#%%\n"
    }
   }
  },
  {
   "cell_type": "code",
   "execution_count": null,
   "outputs": [],
   "source": [
    "# D\n",
    "n = int(input())\n",
    "m = int(n - 2.5 * 38)\n",
    "print(m)"
   ],
   "metadata": {
    "collapsed": false,
    "pycharm": {
     "name": "#%%\n"
    }
   }
  },
  {
   "cell_type": "code",
   "execution_count": null,
   "outputs": [],
   "source": [
    "# E\n",
    "price = int(input())\n",
    "weght = int(input())\n",
    "usr_money = int(input())\n",
    "usr_change = int(usr_money - price * weght)\n",
    "print(usr_change)"
   ],
   "metadata": {
    "collapsed": false,
    "pycharm": {
     "name": "#%%\n"
    }
   }
  },
  {
   "cell_type": "code",
   "execution_count": null,
   "outputs": [],
   "source": [
    "# F\n",
    "item = str(input())\n",
    "price = int(input())\n",
    "weght = int(input())\n",
    "usr_money = int(input())\n",
    "total = int(price * weght)\n",
    "usr_change = int(usr_money - total)\n",
    "print(f\"Чек\\n{item} - {weght}кг - {price}руб/кг\\nИтого: {total}руб\\nВнесено: {usr_money}руб\\nСдача: {usr_change}руб\")"
   ],
   "metadata": {
    "collapsed": false,
    "pycharm": {
     "name": "#%%\n"
    }
   }
  },
  {
   "cell_type": "code",
   "execution_count": null,
   "outputs": [],
   "source": [
    "# G\n",
    "n = int(input())\n",
    "print(f\"Купи слона!\\n\" * n)"
   ],
   "metadata": {
    "collapsed": false,
    "pycharm": {
     "name": "#%%\n"
    }
   }
  },
  {
   "cell_type": "code",
   "execution_count": null,
   "outputs": [],
   "source": [
    "# H\n",
    "n = int(input())\n",
    "string = str(input())\n",
    "print(f'Я больше никогда не буду писать \"{string}\"!\\n' * n)"
   ],
   "metadata": {
    "collapsed": false,
    "pycharm": {
     "name": "#%%\n"
    }
   }
  },
  {
   "cell_type": "code",
   "execution_count": null,
   "outputs": [],
   "source": [
    "# I\n",
    "n = int(input())\n",
    "m = int(input())\n",
    "print(int(0.5 * n * m))"
   ],
   "metadata": {
    "collapsed": false,
    "pycharm": {
     "name": "#%%\n"
    }
   }
  },
  {
   "cell_type": "code",
   "execution_count": null,
   "outputs": [],
   "source": [
    "# J\n",
    "usr_name = str(input())\n",
    "case_number = int(input())\n",
    "group_number = int(case_number // 100)\n",
    "bed_number = int(case_number // 10 % 10)\n",
    "id_user = int(case_number % 10)\n",
    "print(f'Группа №{group_number}.')\n",
    "print(f'{id_user}. {usr_name}.')\n",
    "print(f'Шкафчик: {case_number}.')\n",
    "print(f'Кроватка: {bed_number}.')"
   ],
   "metadata": {
    "collapsed": false,
    "pycharm": {
     "name": "#%%\n"
    }
   }
  },
  {
   "cell_type": "code",
   "execution_count": null,
   "outputs": [],
   "source": [
    "# K\n",
    "# vibo: abcd -> badc\n",
    "string = str(input())\n",
    "input_list = list(string)\n",
    "output_list = str(input_list[1]) + str(input_list[0]) + str(input_list[3]) + str(input_list[2])\n",
    "print(output_list)"
   ],
   "metadata": {
    "collapsed": false,
    "pycharm": {
     "name": "#%%\n"
    }
   }
  },
  {
   "cell_type": "code",
   "execution_count": null,
   "outputs": [],
   "source": [
    "# L\n",
    "n = int(input())\n",
    "m = int(input())\n",
    "n0 = n % 10\n",
    "m0 = m % 10\n",
    "nm0 = str((n0 + m0) % 10)\n",
    "n1 = n // 10 % 10\n",
    "m1 = m // 10 % 10\n",
    "nm1 = str((n1 + m1) % 10)\n",
    "n2 = n // 100\n",
    "m2 = m // 100\n",
    "nm2 = str((n2 + m2) % 10)\n",
    "print(nm2 + nm1 + nm0)"
   ],
   "metadata": {
    "collapsed": false,
    "pycharm": {
     "name": "#%%\n"
    }
   }
  },
  {
   "cell_type": "code",
   "execution_count": null,
   "outputs": [],
   "source": [
    "# M\n",
    "childrens = int(input())\n",
    "candy = int(input())\n",
    "print(int(candy // childrens))\n",
    "print(candy - childrens * (int(candy // childrens)))"
   ],
   "metadata": {
    "collapsed": false,
    "pycharm": {
     "name": "#%%\n"
    }
   }
  },
  {
   "cell_type": "code",
   "execution_count": null,
   "outputs": [],
   "source": [
    "# N\n",
    "red = int(input())\n",
    "green = int(input())\n",
    "blue = int(input())\n",
    "print(red + blue + 1)"
   ],
   "metadata": {
    "collapsed": false,
    "pycharm": {
     "name": "#%%\n"
    }
   }
  },
  {
   "cell_type": "code",
   "execution_count": null,
   "outputs": [],
   "source": [
    "# O\n",
    "# vibo: ОШИБКА, WA НА ТЕСТЕ-12\n",
    "start_hour = int(input())\n",
    "start_min = int(input())\n",
    "t_deliv = int(input())\n",
    "t_deliv_min = t_deliv - (t_deliv // 60) * 60\n",
    "finish_hour = start_hour + (t_deliv // 60) - ((start_hour + (t_deliv // 60)) // 24) * 24\n",
    "finish_min = start_min + t_deliv_min\n",
    "hour = finish_min // 60\n",
    "finish_hour = finish_hour + hour\n",
    "finish_min = finish_min - 60 * hour\n",
    "if finish_hour < 10:\n",
    "    finish_hour = '0' + str(finish_hour)\n",
    "if finish_min < 10:\n",
    "    finish_min = '0' + str(finish_min)\n",
    "print(f'{finish_hour}:{finish_min}')"
   ],
   "metadata": {
    "collapsed": false,
    "pycharm": {
     "name": "#%%\n"
    }
   }
  },
  {
   "cell_type": "code",
   "execution_count": null,
   "outputs": [],
   "source": [
    "# P\n",
    "a = int(input())\n",
    "b = int(input())\n",
    "c = int(input())\n",
    "dist = b - a\n",
    "time = round((dist / c), 2)\n",
    "print(f'{time}')"
   ],
   "metadata": {
    "collapsed": false,
    "pycharm": {
     "name": "#%%\n"
    }
   }
  },
  {
   "cell_type": "code",
   "execution_count": null,
   "outputs": [],
   "source": [
    "# Q\n",
    "price_items = int(input())\n",
    "price_last_item = input()\n",
    "total = int(price_last_item, 2) + price_items\n",
    "print(f'{total}')"
   ],
   "metadata": {
    "collapsed": false,
    "pycharm": {
     "name": "#%%\n"
    }
   }
  },
  {
   "cell_type": "code",
   "execution_count": null,
   "outputs": [],
   "source": [
    "# R\n",
    "# vibo: перевод из двоичного кода в десятичный int(input(), 2)\n",
    "price = int(input(), 2)\n",
    "money = int(input())\n",
    "change = money - price\n",
    "print(f'{change}')"
   ],
   "metadata": {
    "collapsed": false,
    "pycharm": {
     "name": "#%%\n"
    }
   }
  },
  {
   "cell_type": "code",
   "execution_count": null,
   "outputs": [],
   "source": [
    "# S\n",
    "# vibo: ОШИБКА, WA НА ТЕСТЕ-1\n",
    "name_item = input()\n",
    "len_name_item = len(name_item)\n",
    "len_str1 = ' ' * (35 - len_name_item - 6)\n",
    "price = input()\n",
    "len_price = len(price)\n",
    "price = int(price)\n",
    "waight = input()\n",
    "len_waight = len(waight)\n",
    "waight = int(waight)\n",
    "len_str2 = ' ' * (35 - len_price - len_waight - 16)\n",
    "print(len_str2)\n",
    "money = input()\n",
    "len_money = len(money)\n",
    "money = int(money)\n",
    "total = price * waight\n",
    "len_total = len(str(total))\n",
    "len_str3 = ' ' * (35 - len_total - 9)\n",
    "len_money = len(str(money))\n",
    "len_str4 = ' ' * (35 - len_money - 11)\n",
    "change = money - total\n",
    "len_change = len(str(change))\n",
    "len_str5 = ' ' * (35 - len_change - 9)\n",
    "print(f'================Чек================')\n",
    "print(f'Товар:{len_str1}{name_item}')\n",
    "print(f'Цена:{len_str2}{waight}кг * {price}руб/кг')\n",
    "print(f'Итого:{len_str3}{total}руб')\n",
    "print(f'Внесено:{len_str4}{money}руб')\n",
    "print(f'Сдача:{len_str5}{change}руб')\n",
    "print(f'===================================')"
   ],
   "metadata": {
    "collapsed": false,
    "pycharm": {
     "name": "#%%\n"
    }
   }
  },
  {
   "cell_type": "code",
   "execution_count": null,
   "outputs": [],
   "source": [
    "# T\n",
    "'''\n",
    "x + y = N\n",
    "k1 * x + k2 * y = M * N\n",
    "'''\n",
    "n = int(input())\n",
    "m = int(input())\n",
    "k1 = int(input())\n",
    "k2 = int(input())\n",
    "y = ((m - k1) * n) / (-k1 + k2)\n",
    "x = n - y\n",
    "print(f'{int(x)} {int(y)}')"
   ],
   "metadata": {
    "collapsed": false,
    "pycharm": {
     "name": "#%%\n"
    }
   }
  },
  {
   "cell_type": "markdown",
   "source": [
    "## 2.2. Условный оператор"
   ],
   "metadata": {
    "collapsed": false,
    "pycharm": {
     "name": "#%% md\n"
    }
   }
  },
  {
   "cell_type": "markdown",
   "source": [
    "### Теория"
   ],
   "metadata": {
    "collapsed": false,
    "pycharm": {
     "name": "#%% md\n"
    }
   }
  },
  {
   "cell_type": "code",
   "execution_count": 14,
   "outputs": [
    {
     "name": "stdout",
     "output_type": "stream",
     "text": [
      "Сегодня теплее, чем вчера.\n"
     ]
    }
   ],
   "source": [
    "yesterday_temp = int(input())\n",
    "today_temp = int(input())\n",
    "if today_temp > yesterday_temp:\n",
    "    print(\"Сегодня теплее, чем вчера.\")\n",
    "# vibo: проверяется только в случае, если предыдущее условие не было истинным.\n",
    "elif today_temp < yesterday_temp:\n",
    "    print(\"Сегодня холоднее, чем вчера.\")\n",
    "else:\n",
    "    print(\"Сегодня такая же температура, как вчера.\")"
   ],
   "metadata": {
    "collapsed": false,
    "pycharm": {
     "name": "#%%\n"
    }
   }
  },
  {
   "cell_type": "code",
   "execution_count": 15,
   "outputs": [
    {
     "name": "stdout",
     "output_type": "stream",
     "text": [
      "False\n",
      "116 119\n",
      "t w\n"
     ]
    }
   ],
   "source": [
    "letter_1 = \"t\"\n",
    "letter_2 = \"w\"\n",
    "print(letter_1 > letter_2)\n",
    "print(ord(\"t\"), ord(\"w\"))\n",
    "print(chr(116), chr(119))"
   ],
   "metadata": {
    "collapsed": false,
    "pycharm": {
     "name": "#%%\n"
    }
   }
  },
  {
   "cell_type": "code",
   "execution_count": 16,
   "outputs": [
    {
     "name": "stdout",
     "output_type": "stream",
     "text": [
      "Встретилось 'доброе' слово.\n"
     ]
    }
   ],
   "source": [
    "text = input()\n",
    "if \"добр\" in text:\n",
    "    print(\"Встретилось 'доброе' слово.\")\n",
    "else:\n",
    "    print(\"Добрых слов не найдено.\")"
   ],
   "metadata": {
    "collapsed": false,
    "pycharm": {
     "name": "#%%\n"
    }
   }
  },
  {
   "cell_type": "code",
   "execution_count": null,
   "outputs": [],
   "source": [
    "# vibo: только в Python версии 3.10\n",
    "color = input()\n",
    "match color:\n",
    "    case 'красный' | 'жёлтый':\n",
    "        print('Стоп.')\n",
    "    case 'зелёный':\n",
    "        print('Можно ехать.')\n",
    "    case _: # Последний оператор case выполняется всегда и сработает в случае, если ни одно из предыдущих условий не сработало.\n",
    "        print('Некорректное значение.')"
   ],
   "metadata": {
    "collapsed": false,
    "pycharm": {
     "name": "#%%\n"
    }
   }
  },
  {
   "cell_type": "code",
   "execution_count": 17,
   "outputs": [
    {
     "name": "stdout",
     "output_type": "stream",
     "text": [
      "25\n"
     ]
    }
   ],
   "source": [
    "m = 12\n",
    "n = 19\n",
    "k = 25\n",
    "\n",
    "# максимальное число\n",
    "print(max(m, n, k))\n",
    "\n",
    "line_1 = \"m\"\n",
    "line_2 = \"n\"\n",
    "line_3 = \"k\""
   ],
   "metadata": {
    "collapsed": false,
    "pycharm": {
     "name": "#%%\n"
    }
   }
  },
  {
   "cell_type": "code",
   "execution_count": 18,
   "outputs": [
    {
     "name": "stdout",
     "output_type": "stream",
     "text": [
      "k\n"
     ]
    }
   ],
   "source": [
    "# минимальная лексикографически строка\n",
    "print(min(line_1, line_2, line_3))"
   ],
   "metadata": {
    "collapsed": false,
    "pycharm": {
     "name": "#%%\n"
    }
   }
  },
  {
   "cell_type": "code",
   "execution_count": 19,
   "outputs": [
    {
     "name": "stdout",
     "output_type": "stream",
     "text": [
      "609\n"
     ]
    }
   ],
   "source": [
    "# количество цифр в числе 2 в степени 2022\n",
    "print(len(str(2 ** 2022)))"
   ],
   "metadata": {
    "collapsed": false,
    "pycharm": {
     "name": "#%%\n"
    }
   }
  },
  {
   "cell_type": "markdown",
   "source": [
    "### Практика"
   ],
   "metadata": {
    "collapsed": false,
    "pycharm": {
     "name": "#%% md\n"
    }
   }
  },
  {
   "cell_type": "code",
   "execution_count": null,
   "outputs": [],
   "source": [
    "# A\n",
    "print(f'Как Вас зовут?')\n",
    "username = input()\n",
    "print(f'Здравствуйте, {username}!')\n",
    "print(f'Как дела?')\n",
    "status = input()\n",
    "\n",
    "if 'хорошо' in status:\n",
    "    print(f'Я за вас рада!')\n",
    "if 'плохо' in status:\n",
    "    print(f'Всё наладится!')"
   ],
   "metadata": {
    "collapsed": false,
    "pycharm": {
     "name": "#%%\n"
    }
   }
  },
  {
   "cell_type": "code",
   "execution_count": null,
   "outputs": [],
   "source": [
    "# B\n",
    "dist = 43872\n",
    "speed_pety = int(input())\n",
    "speed_vasy = int(input())\n",
    "if speed_pety > speed_vasy:\n",
    "    print('Петя')\n",
    "if speed_pety < speed_vasy:\n",
    "    print('Вася')"
   ],
   "metadata": {
    "collapsed": false,
    "pycharm": {
     "name": "#%%\n"
    }
   }
  },
  {
   "cell_type": "code",
   "execution_count": null,
   "outputs": [],
   "source": [
    "# C\n",
    "speed_pety = int(input())\n",
    "speed_vasy = int(input())\n",
    "speed_toly = int(input())\n",
    "max_speed = max(speed_pety, speed_vasy, speed_toly)\n",
    "if max_speed == speed_pety:\n",
    "    print('Петя')\n",
    "elif max_speed == speed_vasy:\n",
    "    print('Вася')\n",
    "elif max_speed == speed_toly:\n",
    "    print('Толя')"
   ],
   "metadata": {
    "collapsed": false,
    "pycharm": {
     "name": "#%%\n"
    }
   }
  },
  {
   "cell_type": "code",
   "execution_count": null,
   "outputs": [],
   "source": [
    "# D\n",
    "# vibo: как-то все криво и некрасиво получилось\n",
    "speed_pety = int(input())\n",
    "speed_vasy = int(input())\n",
    "speed_toly = int(input())\n",
    "\n",
    "name_list = [speed_pety, speed_vasy, speed_toly]\n",
    "sort_name_list = sorted(name_list, reverse=True)\n",
    "\n",
    "if sort_name_list[0] == speed_pety:\n",
    "    first_name = 'Петя'\n",
    "elif sort_name_list[0] == speed_vasy:\n",
    "    first_name = 'Вася'\n",
    "elif sort_name_list[0] == speed_toly:\n",
    "    first_name = 'Толя'\n",
    "\n",
    "if sort_name_list[1] == speed_pety:\n",
    "    second_name = 'Петя'\n",
    "elif sort_name_list[1] == speed_vasy:\n",
    "    second_name = 'Вася'\n",
    "elif sort_name_list[1] == speed_toly:\n",
    "    second_name = 'Толя'\n",
    "\n",
    "if sort_name_list[2] == speed_pety:\n",
    "    third_name = 'Петя'\n",
    "elif sort_name_list[2] == speed_vasy:\n",
    "    third_name = 'Вася'\n",
    "elif sort_name_list[2] == speed_toly:\n",
    "    third_name = 'Толя'\n",
    "\n",
    "print(f'1. {first_name}')\n",
    "print(f'2. {second_name}')\n",
    "print(f'3. {third_name}')"
   ],
   "metadata": {
    "collapsed": false,
    "pycharm": {
     "name": "#%%\n"
    }
   }
  },
  {
   "cell_type": "code",
   "execution_count": null,
   "outputs": [],
   "source": [
    "# E\n",
    "n = int(input())\n",
    "m = int(input())\n",
    "pety_items = 7 - 3 + n\n",
    "vasy_items = 6 + 3 + 2 - 2 + m\n",
    "if pety_items > vasy_items:\n",
    "    print('Петя')\n",
    "if pety_items < vasy_items:\n",
    "    print('Вася')"
   ],
   "metadata": {
    "collapsed": false,
    "pycharm": {
     "name": "#%%\n"
    }
   }
  },
  {
   "cell_type": "code",
   "execution_count": null,
   "outputs": [],
   "source": [
    "# F\n",
    "# vibo: високосный год https://learn.microsoft.com/ru-ru/office/troubleshoot/excel/determine-a-leap-year\n",
    "year = int(input())\n",
    "if year % 4 == 0:\n",
    "    if year % 100 == 0:\n",
    "        if year % 400 == 0:\n",
    "            print('YES')\n",
    "        else:\n",
    "            print('NO')\n",
    "    else:\n",
    "        print('YES')\n",
    "else:\n",
    "    print('NO')"
   ],
   "metadata": {
    "collapsed": false,
    "pycharm": {
     "name": "#%%\n"
    }
   }
  },
  {
   "cell_type": "code",
   "execution_count": null,
   "outputs": [],
   "source": [
    "# G\n",
    "string = list(input())\n",
    "if string[0] == string[3] and string[1] == string[2]:\n",
    "    print('YES')\n",
    "else:\n",
    "    print('NO')"
   ],
   "metadata": {
    "collapsed": false,
    "pycharm": {
     "name": "#%%\n"
    }
   }
  },
  {
   "cell_type": "code",
   "execution_count": null,
   "outputs": [],
   "source": [
    "# H\n",
    "string = input()\n",
    "if 'зайка' in string:\n",
    "    print('YES')\n",
    "else:\n",
    "    print('NO')"
   ],
   "metadata": {
    "collapsed": false,
    "pycharm": {
     "name": "#%%\n"
    }
   }
  },
  {
   "cell_type": "code",
   "execution_count": null,
   "outputs": [],
   "source": [
    "# I\n",
    "name1, name2, name3 = input(), input(), input()\n",
    "name_list = sorted([name1, name2, name3])\n",
    "print(name_list[0])"
   ],
   "metadata": {
    "collapsed": false,
    "pycharm": {
     "name": "#%%\n"
    }
   }
  },
  {
   "cell_type": "code",
   "execution_count": null,
   "outputs": [],
   "source": [
    "# J\n",
    "input_pass = int(input())\n",
    "first_num = input_pass // 100\n",
    "second_num = input_pass // 10 % 10\n",
    "third_num = input_pass % 10\n",
    "numb1 = second_num + third_num\n",
    "numb2 = first_num + second_num\n",
    "output_list = [numb1, numb2]\n",
    "output_list = sorted(output_list, reverse=True)\n",
    "output_list = str(output_list[0]) + str(output_list[1])\n",
    "print(output_list)"
   ],
   "metadata": {
    "collapsed": false,
    "pycharm": {
     "name": "#%%\n"
    }
   }
  },
  {
   "cell_type": "code",
   "execution_count": null,
   "outputs": [],
   "source": [
    "# K\n",
    "input_pass = int(input())\n",
    "first_num = input_pass // 100\n",
    "second_num = input_pass // 10 % 10\n",
    "third_num = input_pass % 10\n",
    "min_num = min(first_num, second_num, third_num)\n",
    "max_num = max(first_num, second_num, third_num)\n",
    "num_list = [int(first_num), int(second_num), int(third_num)]\n",
    "num_list.remove(min_num)\n",
    "num_list.remove(max_num)\n",
    "else_num = num_list[0]\n",
    "if (min_num + max_num) == (else_num * 2):\n",
    "    print('YES')\n",
    "else:\n",
    "    print('NO')"
   ],
   "metadata": {
    "collapsed": false,
    "pycharm": {
     "name": "#%%\n"
    }
   }
  },
  {
   "cell_type": "code",
   "execution_count": null,
   "outputs": [],
   "source": [
    "# L\n",
    "a, b, c = int(input()), int(input()), int(input())\n",
    "if a < (b + c) and b < (a + c) and c < (a + b) and a != 0 and b != 0 and c != 0:\n",
    "    print('YES')\n",
    "else:\n",
    "    print('NO')"
   ],
   "metadata": {
    "collapsed": false,
    "pycharm": {
     "name": "#%%\n"
    }
   }
  },
  {
   "cell_type": "code",
   "execution_count": null,
   "outputs": [],
   "source": [
    "# M\n",
    "num1, num2, num3 = int(input()), int(input()), int(input())\n",
    "num1_1, num2_1, num3_1 = num1 // 10, num2 // 10, num3 // 10\n",
    "num1_2, num2_2, num3_2 = num1 % 10, num2 % 10, num3 % 10\n",
    "\n",
    "if num1_1 == num2_1 == num3_1:\n",
    "    print(num1_1)\n",
    "elif num1_2 == num2_2 == num3_2:\n",
    "    print(num1_2)"
   ],
   "metadata": {
    "collapsed": false,
    "pycharm": {
     "name": "#%%\n"
    }
   }
  },
  {
   "cell_type": "code",
   "execution_count": null,
   "outputs": [],
   "source": [
    "# N\n",
    "start_num = list(input())\n",
    "a = int(start_num[0])\n",
    "b = int(start_num[1])\n",
    "c = int(start_num[2])\n",
    "\n",
    "total_list = [int(str(a) + str(b)), int(str(b) + str(a)),\n",
    "              int(str(b) + str(c)), int(str(c) + str(b)),\n",
    "              int(str(a) + str(c)), int(str(c) + str(a))\n",
    "              ]\n",
    "total_list = sorted(total_list, reverse=True)\n",
    "\n",
    "ans2 = total_list[0]\n",
    "\n",
    "for num in total_list:\n",
    "    if num > 9:\n",
    "        ans1 = num\n",
    "\n",
    "print(f'{ans1} {ans2}')"
   ],
   "metadata": {
    "collapsed": false,
    "pycharm": {
     "name": "#%%\n"
    }
   }
  },
  {
   "cell_type": "code",
   "execution_count": null,
   "outputs": [],
   "source": [
    "# O\n",
    "num1, num2 = int(input()), int(input())\n",
    "num1_1, num1_2 = num1 // 10, num1 % 10\n",
    "num2_1, num2_2 = num2 // 10, num2 % 10\n",
    "total_list = sorted([num1_1, num1_2, num2_1, num2_2], reverse=True)\n",
    "ans = str(total_list[0]) + str((total_list[1] + total_list[2]) % 10) + str(total_list[3])\n",
    "print(ans)"
   ],
   "metadata": {
    "collapsed": false,
    "pycharm": {
     "name": "#%%\n"
    }
   }
  },
  {
   "cell_type": "code",
   "execution_count": null,
   "outputs": [],
   "source": [
    "# P\n",
    "pety = int(input())\n",
    "vasy = int(input())\n",
    "tola = int(input())\n",
    "\n",
    "my_dict = {'Петя': pety, 'Толя': tola, 'Вася': vasy}\n",
    "top_list = sorted(my_dict.items(), reverse=True, key=lambda item: item[1])\n",
    "\n",
    "first = top_list[0][0]\n",
    "second = top_list[1][0]\n",
    "third = top_list[2][0]\n",
    "print(f'          {first}          ')\n",
    "print(f'  {second}                  ')\n",
    "print(f'                  {third}  ')\n",
    "print(f'   II      I      III')"
   ],
   "metadata": {
    "collapsed": false,
    "pycharm": {
     "name": "#%%\n"
    }
   }
  },
  {
   "cell_type": "code",
   "execution_count": null,
   "outputs": [],
   "source": [
    "# Q\n",
    "# vibo: поиск корней квадратного уранения"
   ],
   "metadata": {
    "collapsed": false,
    "pycharm": {
     "name": "#%%\n"
    }
   }
  },
  {
   "cell_type": "code",
   "execution_count": null,
   "outputs": [],
   "source": [
    "# R\n",
    "a, b, c = int(input()), int(input()), int(input())\n",
    "sort_list = sorted([a, b, c])\n",
    "a = sort_list[0]\n",
    "b = sort_list[1]\n",
    "c = sort_list[2]\n",
    "\n",
    "if a ** 2 + b ** 2 == c ** 2:\n",
    "    print('100%')\n",
    "if a ** 2 + b ** 2 > c ** 2:\n",
    "    print('крайне мала')\n",
    "if a ** 2 + b ** 2 < c ** 2:\n",
    "    print('велика')"
   ],
   "metadata": {
    "collapsed": false,
    "pycharm": {
     "name": "#%%\n"
    }
   }
  },
  {
   "cell_type": "code",
   "execution_count": null,
   "outputs": [],
   "source": [
    "# S"
   ],
   "metadata": {
    "collapsed": false,
    "pycharm": {
     "name": "#%%\n"
    }
   }
  },
  {
   "cell_type": "code",
   "execution_count": null,
   "outputs": [],
   "source": [
    "# T"
   ],
   "metadata": {
    "collapsed": false,
    "pycharm": {
     "name": "#%%\n"
    }
   }
  },
  {
   "cell_type": "markdown",
   "source": [
    "## 2.2. Циклы"
   ],
   "metadata": {
    "collapsed": false,
    "pycharm": {
     "name": "#%% md\n"
    }
   }
  },
  {
   "cell_type": "markdown",
   "source": [
    "### Теория"
   ],
   "metadata": {
    "collapsed": false,
    "pycharm": {
     "name": "#%% md\n"
    }
   }
  },
  {
   "cell_type": "code",
   "execution_count": 20,
   "outputs": [
    {
     "name": "stdout",
     "output_type": "stream",
     "text": [
      "Пароль верный. Вход разрешён.\n",
      "Пароль верный. Вход разрешён.\n"
     ]
    }
   ],
   "source": [
    "# vibo: стандартно\n",
    "saved_pwd = \"right_password\"\n",
    "pwd = input(\"Введите пароль для входа: \")\n",
    "while pwd != saved_pwd:\n",
    "    pwd = input(\"Введите пароль для входа: \")\n",
    "print(\"Пароль верный. Вход разрешён.\")\n",
    "\n",
    "# vibo: использование pass\n",
    "saved_pwd = \"right_password\"\n",
    "while input(\"Введите пароль для входа: \") != saved_pwd:\n",
    "    pass\n",
    "print(\"Пароль верный. Вход разрешён.\")"
   ],
   "metadata": {
    "collapsed": false,
    "pycharm": {
     "name": "#%%\n"
    }
   }
  },
  {
   "cell_type": "code",
   "execution_count": null,
   "outputs": [],
   "source": [
    "# vibo: стандартно\n",
    "name = input(\"Введите имя: \")\n",
    "while name != \"СТОП\":\n",
    "    print(f\"Привет, {name}!\")\n",
    "    name = input(\"Введите имя: \")\n",
    "print(\"Программа завершена.\")\n",
    "\n",
    "# vibo: МОРЖОВЫЙ ОПЕРАТОР\n",
    "while (name := input(\"Введите имя: \")) != \"СТОП\":\n",
    "    print(f\"Привет, {name}!\")\n",
    "print(\"Программа завершена.\")"
   ],
   "metadata": {
    "collapsed": false,
    "pycharm": {
     "name": "#%%\n"
    }
   }
  },
  {
   "cell_type": "code",
   "execution_count": null,
   "outputs": [],
   "source": [
    "n = int(input(\"Введите количество чисел: \"))\n",
    "for i in range(n):\n",
    "    print(i)\n",
    "\n",
    "k = int(input(\"Введите начало диапазона: \"))\n",
    "n = int(input(\"Введите конец (без включения) диапазона: \"))\n",
    "for i in range(k, n):\n",
    "    print(i)\n",
    "\n",
    "n = int(input(\"Введите конец диапазона: \"))\n",
    "for i in range(0, n + 1, 2):\n",
    "    print(i)"
   ],
   "metadata": {
    "collapsed": false,
    "pycharm": {
     "name": "#%%\n"
    }
   }
  },
  {
   "cell_type": "code",
   "execution_count": null,
   "outputs": [],
   "source": [
    "# vibo: ОБРАТНЫЙ ПОРЯДОК\n",
    "n = int(input(\"Введите количество чисел: \"))\n",
    "for i in range(n, -1, -1):\n",
    "    print(i)"
   ],
   "metadata": {
    "collapsed": false,
    "pycharm": {
     "name": "#%%\n"
    }
   }
  },
  {
   "cell_type": "markdown",
   "source": [
    "\n",
    "### Практика"
   ],
   "metadata": {
    "collapsed": false,
    "pycharm": {
     "name": "#%% md\n"
    }
   }
  },
  {
   "cell_type": "code",
   "execution_count": null,
   "outputs": [],
   "source": [
    "# A\n",
    "while (say_text := input()) != \"Три!\":\n",
    "    print(f\"Режим ожидания...\")\n",
    "print(\"Ёлочка, гори!\")"
   ],
   "metadata": {
    "collapsed": false,
    "pycharm": {
     "name": "#%%\n"
    }
   }
  },
  {
   "cell_type": "code",
   "execution_count": null,
   "outputs": [],
   "source": [
    "# B\n",
    "find_item = 0\n",
    "while (input_string := input()) != \"Приехали!\":\n",
    "    if 'зайка' in input_string:\n",
    "        find_item += 1\n",
    "print(find_item)"
   ],
   "metadata": {
    "collapsed": false,
    "pycharm": {
     "name": "#%%\n"
    }
   }
  },
  {
   "cell_type": "code",
   "execution_count": null,
   "outputs": [],
   "source": [
    "# vibo: делаем join list, но только для str (для int не работает)\n",
    "answer = []\n",
    "start, finish = int(input()), int(input())\n",
    "for i in range(start, finish + 1):\n",
    "    answer.append(str(i))\n",
    "print(' '.join(answer))"
   ],
   "metadata": {
    "collapsed": false,
    "pycharm": {
     "name": "#%%\n"
    }
   }
  },
  {
   "cell_type": "code",
   "execution_count": null,
   "outputs": [],
   "source": [
    "# D\n",
    "answer = []\n",
    "start, finish = int(input()), int(input())\n",
    "\n",
    "if start <= finish:\n",
    "    for i in range(start, finish + 1):\n",
    "        answer.append(str(i))\n",
    "\n",
    "if start > finish:\n",
    "    for i in range(start, finish - 1, -1):\n",
    "        answer.append(str(i))\n",
    "\n",
    "print(' '.join(answer))"
   ],
   "metadata": {
    "collapsed": false,
    "pycharm": {
     "name": "#%%\n"
    }
   }
  },
  {
   "cell_type": "code",
   "execution_count": null,
   "outputs": [],
   "source": [
    "# E\n",
    "total_price = 0\n",
    "while (price := float(input())) != 0:\n",
    "    if price >= 500:\n",
    "        total_price += price * 0.9\n",
    "    if price < 500:\n",
    "        total_price += price\n",
    "print(total_price)"
   ],
   "metadata": {
    "collapsed": false,
    "pycharm": {
     "name": "#%%\n"
    }
   }
  },
  {
   "cell_type": "code",
   "execution_count": null,
   "outputs": [],
   "source": [
    "# F\n",
    "# vibo: наибольший общий делитель (НОД) алгоритм Евклида\n",
    "# ЧИТЕРНУЛ, НО КРАСИВО\n",
    "\n",
    "# a, b = int(input()), int(input())\n",
    "# while a != 0 and b != 0:\n",
    "#     if a > b:\n",
    "#         a = a % b\n",
    "#     else:\n",
    "#         b = b % a\n",
    "# print(a + b)\n",
    "\n",
    "# vibo: мое решение в лоб\n",
    "a, b = int(input()), int(input())\n",
    "\n",
    "list_a = []\n",
    "for i in range(a + 1):\n",
    "    if a % (i + 1) == 0:\n",
    "        list_a.append(i + 1)\n",
    "\n",
    "list_b = []\n",
    "for i in range(b + 1):\n",
    "    if b % (i + 1) == 0:\n",
    "        list_b.append(i + 1)\n",
    "\n",
    "ans = (sorted(list(set(list_a) & set(list_b)), reverse=True))[0]\n",
    "print(ans)"
   ],
   "metadata": {
    "collapsed": false,
    "pycharm": {
     "name": "#%%\n"
    }
   }
  },
  {
   "cell_type": "code",
   "execution_count": null,
   "outputs": [],
   "source": [
    "# G\n",
    "# vibo: наименьшее общее кратное (НОК) двух чисел\n",
    "a, b = int(input()), int(input())\n",
    "\n",
    "list = []\n",
    "if a > b:\n",
    "    for i in range(a, (a * b + 1)):\n",
    "        if i % a == 0 and i % b == 0:\n",
    "            list.append(i)\n",
    "if a < b:\n",
    "    for i in range(b, (a * b + 1)):\n",
    "        if i % a == 0 and i % b == 0:\n",
    "            list.append(i)\n",
    "\n",
    "print(list[0])"
   ],
   "metadata": {
    "collapsed": false,
    "pycharm": {
     "name": "#%%\n"
    }
   }
  },
  {
   "cell_type": "code",
   "execution_count": null,
   "outputs": [],
   "source": [
    "# H\n",
    "input_str, n = input(), int(input())\n",
    "for i in range(n):\n",
    "    print(input_str)"
   ],
   "metadata": {
    "collapsed": false,
    "pycharm": {
     "name": "#%%\n"
    }
   }
  },
  {
   "cell_type": "code",
   "execution_count": null,
   "outputs": [],
   "source": [
    "# I\n",
    "import math as m\n",
    "n = int(input())\n",
    "if n > 0:\n",
    "    ans = m.factorial(n)\n",
    "else:\n",
    "    ans = 1\n",
    "print(ans)"
   ],
   "metadata": {
    "collapsed": false,
    "pycharm": {
     "name": "#%%\n"
    }
   }
  },
  {
   "cell_type": "code",
   "execution_count": null,
   "outputs": [],
   "source": [
    "# J\n",
    "input_list = []\n",
    "while (input_info := input()) != 'СТОП':\n",
    "    input_list.append(input_info)\n",
    "print(input_list)\n",
    "\n",
    "x = 0\n",
    "y = 0\n",
    "\n",
    "input_direct = []\n",
    "for i in range(0, len(input_list), 2):\n",
    "    input_direct.append(input_list[i])\n",
    "print(input_direct)\n",
    "\n",
    "input_dist = []\n",
    "for i in range(1, len(input_list), 2):\n",
    "    input_dist.append(int(input_list[i]))\n",
    "print(input_dist)\n",
    "\n",
    "for i, j in zip(input_direct, input_dist):\n",
    "    print(i, j)\n",
    "    if i == 'ВОСТОК':\n",
    "        x = x + j\n",
    "    if i == 'ЗАПАД':\n",
    "        x = x - j\n",
    "    if i == 'СЕВЕР':\n",
    "        y = y + j\n",
    "    if i == 'ЮГ':\n",
    "        y = y - j\n",
    "\n",
    "# # vibo: так чекер не принял, что странно\n",
    "# print(x)\n",
    "# print(y)\n",
    "print(y)\n",
    "print(x)"
   ],
   "metadata": {
    "collapsed": false,
    "pycharm": {
     "name": "#%%\n"
    }
   }
  },
  {
   "cell_type": "code",
   "execution_count": null,
   "outputs": [],
   "source": [
    "# K\n",
    "input_num = int(input())\n",
    "ans = input_num % 10\n",
    "while (input_num // 10) > 0:\n",
    "    input_num = input_num // 10\n",
    "    ans = ans + (input_num % 10)\n",
    "print(ans)"
   ],
   "metadata": {
    "collapsed": false,
    "pycharm": {
     "name": "#%%\n"
    }
   }
  },
  {
   "cell_type": "code",
   "execution_count": null,
   "outputs": [],
   "source": [
    "# L\n",
    "input_num = int(input())\n",
    "ans = [input_num % 10]\n",
    "while (input_num // 10) > 0:\n",
    "    input_num = input_num // 10\n",
    "    ans.append(input_num % 10)\n",
    "print(max(ans))"
   ],
   "metadata": {
    "collapsed": false,
    "pycharm": {
     "name": "#%%\n"
    }
   }
  },
  {
   "cell_type": "code",
   "execution_count": null,
   "outputs": [],
   "source": [
    "# M\n",
    "players = int(input())\n",
    "name_list = []\n",
    "for i in range(players):\n",
    "    name = input()\n",
    "    name_list.append(name)\n",
    "print(min(name_list))"
   ],
   "metadata": {
    "collapsed": false,
    "pycharm": {
     "name": "#%%\n"
    }
   }
  },
  {
   "cell_type": "code",
   "execution_count": null,
   "outputs": [],
   "source": [
    "# N\n",
    "# vibo: простые числа\n",
    "# vibo: вариант 1.\n",
    "# TLE на ТЕСТЕ-8\n",
    "\n",
    "# n = int(input())\n",
    "\n",
    "# if n == 1:\n",
    "#     print(\"NO\")\n",
    "\n",
    "# if n == 2:\n",
    "#     print('YES')\n",
    "\n",
    "# if n % 2 == 0 and n != 2:\n",
    "#     print('NO')\n",
    "\n",
    "# elif n not in [1, 2]:\n",
    "#     some_ans = range(3, n + 1, 2)\n",
    "\n",
    "#     my_list = []\n",
    "\n",
    "#     for i in range(len(some_ans)):\n",
    "#         if n % some_ans[i] == 0:\n",
    "#             my_list.append(some_ans[i])\n",
    "\n",
    "#     if len(my_list) > 1:\n",
    "#         print('NO')\n",
    "#     else:\n",
    "#         print('YES')"
   ],
   "metadata": {
    "collapsed": false,
    "pycharm": {
     "name": "#%%\n"
    }
   }
  },
  {
   "cell_type": "code",
   "execution_count": null,
   "outputs": [],
   "source": [
    "# N\n",
    "# vibo: простые числа\n",
    "# vibo: вариант 2\n",
    "# TLE на ТЕСТЕ-8\n",
    "\n",
    "# n = int(input())\n",
    "\n",
    "# if n == 1:\n",
    "#     print(\"NO\")\n",
    "\n",
    "# if n == 2:\n",
    "#     print('YES')\n",
    "\n",
    "# if n % 2 == 0 and n != 2:\n",
    "#     print('NO')\n",
    "\n",
    "# elif n not in [1, 2]:\n",
    "#     some_ans = range(3, n + 1, 2)\n",
    "\n",
    "#     my_list = []\n",
    "\n",
    "#     for i in some_ans:\n",
    "#         if n % i == 0:\n",
    "#             my_list.append(i)\n",
    "\n",
    "#     if len(my_list) > 1:\n",
    "#         print('NO')\n",
    "#     else:\n",
    "#         print('YES')"
   ],
   "metadata": {
    "collapsed": false,
    "pycharm": {
     "name": "#%%\n"
    }
   }
  },
  {
   "cell_type": "code",
   "execution_count": null,
   "outputs": [],
   "source": [
    "# N\n",
    "# vibo: простые числа\n",
    "# vibo: вариант 3\n",
    "# WA на тесте-12\n",
    "\n",
    "# n = int(input())\n",
    "\n",
    "# if n == 1:\n",
    "#     print(\"NO\")\n",
    "\n",
    "# if n == 2:\n",
    "#     print('YES')\n",
    "\n",
    "# if n == 3:\n",
    "#     print('YES')\n",
    "\n",
    "# if (n % 2 == 0 and n != 2) or (n % 5 == 0 and n != 5):\n",
    "#     print('NO')\n",
    "\n",
    "# else:\n",
    "#     some_ans = range(3, n + 1, 2)\n",
    "\n",
    "#     for i in some_ans[:-1]:\n",
    "#         if n % i == 0:\n",
    "#             print(f'NO')\n",
    "#             break\n",
    "#         else:\n",
    "#             print('YES')\n",
    "#             break"
   ],
   "metadata": {
    "collapsed": false,
    "pycharm": {
     "name": "#%%\n"
    }
   }
  },
  {
   "cell_type": "code",
   "execution_count": null,
   "outputs": [],
   "source": [
    "# N\n",
    "# vibo: простые числа\n",
    "# вариант 4\n",
    "# ML на тесте-10\n",
    "\n",
    "# n = int(input())\n",
    "\n",
    "# if n == 1:\n",
    "#     print('NO-1')\n",
    "\n",
    "# elif n >= 2:\n",
    "#     # nums_2 = range(2, n, 2)\n",
    "#     # print(list(nums_2))\n",
    "#     if n == 2:\n",
    "#         print('YES')\n",
    "#     if n % 2 == 0 and n != 2:\n",
    "#         print('NO-2')\n",
    "\n",
    "#     elif n >= 3:\n",
    "#         print('>=3')\n",
    "#         if n == 3:\n",
    "#             print('YES')\n",
    "#         if n % 3 == 0 and n != 3:\n",
    "#             print('NO-3')\n",
    "\n",
    "#         elif n >= 5:\n",
    "#             print('>=5')\n",
    "#             if n == 5:\n",
    "#                 print('YES')\n",
    "#             if n % 5 == 0 and n != 5:\n",
    "#                 print('NO-5')\n",
    "\n",
    "#             elif n >= 7:\n",
    "#                 print('>=7')\n",
    "#                 if n == 7:\n",
    "#                     print('YES')\n",
    "#                 else:\n",
    "#                     nums = set(range(2, n + 1)) - set(range(2, n + 1, 2)) - set(range(3, n + 1, 3)) - set(range(5, n + 1, 5))\n",
    "#                     print(nums)\n",
    "#                     for i in nums:\n",
    "#                         print(f'i: {i}, n: {n} (перед if)')\n",
    "#                         if n % i == 0 and i != n:\n",
    "#                             print(f'i: {i}, n: {n}')\n",
    "#                             print('NO-*')\n",
    "#                             break\n",
    "#                         elif i == n:\n",
    "#                             print(f'i: {i}, n: {n}')\n",
    "#                             print('YES-*')\n",
    "#                             break"
   ],
   "metadata": {
    "collapsed": false,
    "pycharm": {
     "name": "#%%\n"
    }
   }
  },
  {
   "cell_type": "code",
   "execution_count": null,
   "outputs": [],
   "source": [
    "# N\n",
    "# vibo: простые числа\n",
    "# вариант-5\n",
    "\n",
    "# n = int(input())\n",
    "\n",
    "# import sympy\n",
    "\n",
    "# if sympy.isprime(n):\n",
    "#     print('YES')\n",
    "# else:\n",
    "#     print('NO')"
   ],
   "metadata": {
    "collapsed": false,
    "pycharm": {
     "name": "#%%\n"
    }
   }
  },
  {
   "cell_type": "code",
   "execution_count": null,
   "outputs": [],
   "source": [
    "# N\n",
    "# vibo: простые числа\n",
    "# вариант 6 (доработаный чит)\n",
    "# TLE на тесте - 3\n",
    "\n",
    "# n = int(input())\n",
    "\n",
    "# if n == 1:\n",
    "#     print('NO')\n",
    "\n",
    "# elif n > 1:\n",
    "\n",
    "#     lst = [2]\n",
    "\n",
    "#     for i in range(3, n + 1, 2):\n",
    "#         if (i > 10) and (i % 10 == 5):\n",
    "#             continue\n",
    "#         for j in lst:\n",
    "#             if j * j - 1 > i:\n",
    "#                 lst.append(i)\n",
    "#                 break\n",
    "#             if (i % j == 0):\n",
    "#                 break\n",
    "#         else:\n",
    "#             lst.append(i)\n",
    "\n",
    "#     if n == lst[-1]:\n",
    "#         print('YES')\n",
    "#     else:\n",
    "#         print('NO')"
   ],
   "metadata": {
    "collapsed": false,
    "pycharm": {
     "name": "#%%\n"
    }
   }
  },
  {
   "cell_type": "code",
   "execution_count": null,
   "outputs": [],
   "source": [
    "# N\n",
    "# vibo: простые числа\n",
    "# РЕНЕНО!!!\n",
    "\n",
    "n = int(input())\n",
    "\n",
    "if n == 1:\n",
    "    print(\"NO-1\")\n",
    "\n",
    "elif n == 2 or n == 3:\n",
    "    print('YES-(2 or 3)')\n",
    "\n",
    "elif (n % 2 == 0 and n != 2) or (n % 3 == 0 and n != 3) or (n % 5 == 0 and n != 5):\n",
    "    print('NO-(2 or 3 or 5)')\n",
    "\n",
    "else:\n",
    "    nums = range(3, n + 1, 2)\n",
    "    print(f'list(nums): {list(nums)}')\n",
    "\n",
    "    for i in nums[:-1]:\n",
    "        print(f'list(nums[:-1]): {list(nums[:-1])}')\n",
    "        print(f'ПЕРЕД if n: {n}, i: {i}')\n",
    "\n",
    "        if n % i == 0:\n",
    "            print(f'n: {n}, i: {i}')\n",
    "            flag = False\n",
    "            break\n",
    "        else:\n",
    "            flag = True\n",
    "    if flag:\n",
    "        print('YES-**')\n",
    "    else:\n",
    "        print('NO-**')"
   ],
   "metadata": {
    "collapsed": false,
    "pycharm": {
     "name": "#%%\n"
    }
   }
  },
  {
   "cell_type": "code",
   "execution_count": null,
   "outputs": [],
   "source": [
    "# N\n",
    "# vibo: простые числа\n",
    "# vibo: итого без коммитов (всего 60 сабмитов и готово)\n",
    "\n",
    "n = int(input())\n",
    "\n",
    "if n == 1:\n",
    "    print(\"NO\")\n",
    "\n",
    "elif n == 2 or n == 3:\n",
    "    print('YES')\n",
    "\n",
    "elif (n % 2 == 0 and n != 2) or (n % 3 == 0 and n != 3) or (n % 5 == 0 and n != 5):\n",
    "    print('NO')\n",
    "\n",
    "else:\n",
    "    nums = range(3, n + 1, 2)\n",
    "\n",
    "    for i in nums[:-1]:\n",
    "\n",
    "        if n % i == 0:\n",
    "            flag = False\n",
    "            break\n",
    "        else:\n",
    "            flag = True\n",
    "    if flag:\n",
    "        print('YES')\n",
    "    else:\n",
    "        print('NO')"
   ],
   "metadata": {
    "collapsed": false,
    "pycharm": {
     "name": "#%%\n"
    }
   }
  },
  {
   "cell_type": "code",
   "execution_count": null,
   "outputs": [],
   "source": [
    "# O\n",
    "\n",
    "count_strings = int(input())\n",
    "\n",
    "ans = 0\n",
    "for i in range(count_strings):\n",
    "    string = input()\n",
    "    if 'зайка' in string:\n",
    "        ans += 1\n",
    "\n",
    "print(ans)"
   ],
   "metadata": {
    "collapsed": false,
    "pycharm": {
     "name": "#%%\n"
    }
   }
  },
  {
   "cell_type": "code",
   "execution_count": null,
   "outputs": [],
   "source": [
    "# P\n",
    "\n",
    "input_num = list(input())\n",
    "\n",
    "if input_num == input_num[::-1]:\n",
    "    print('YES')\n",
    "else:\n",
    "    print('NO')"
   ],
   "metadata": {
    "collapsed": false,
    "pycharm": {
     "name": "#%%\n"
    }
   }
  },
  {
   "cell_type": "code",
   "execution_count": null,
   "outputs": [],
   "source": [
    "# Q\n",
    "input_num = list(input())\n",
    "\n",
    "output_list = []\n",
    "for i in input_num:\n",
    "    if int(i) not in range(0, int(i) + 1, 2):\n",
    "        output_list.append(i)\n",
    "\n",
    "print(''.join(output_list))"
   ],
   "metadata": {
    "collapsed": false,
    "pycharm": {
     "name": "#%%\n"
    }
   }
  },
  {
   "cell_type": "code",
   "execution_count": null,
   "outputs": [],
   "source": [
    "# R\n",
    "\n",
    "find_sum = int(input())\n",
    "\n",
    "#vibo: чит для поиска списка простых чисел, спасибо хабр\n",
    "prime_list = [2]\n",
    "for i in range(3, find_sum // 2 + 1, 2):\n",
    "    if (i > 10) and (i % 10 == 5):\n",
    "        continue\n",
    "    for j in prime_list:\n",
    "        if j * j - 1 > 1:\n",
    "            prime_list.append(i)\n",
    "            break\n",
    "        if i % j == 0:\n",
    "            break\n",
    "    else:\n",
    "        prime_list.append(i)\n",
    "\n",
    "ans_lst = []\n",
    "for k in prime_list:\n",
    "    n_k = 0\n",
    "    while (find_sum % k) == 0:\n",
    "        find_sum = find_sum // k\n",
    "        n_k += 1\n",
    "        ans_lst.append(k)\n",
    "\n",
    "print(' * '.join(map(str, ans_lst)))"
   ],
   "metadata": {
    "collapsed": false,
    "pycharm": {
     "name": "#%%\n"
    }
   }
  },
  {
   "cell_type": "code",
   "execution_count": null,
   "outputs": [],
   "source": [
    "# S\n",
    "# vibo: ОШИБКА, WA НА ТЕСТЕ-20\n",
    "\n",
    "a = 1\n",
    "b = 1000\n",
    "ans = 500\n",
    "print(ans)\n",
    "\n",
    "while (result := input()) != 'Угадал!':\n",
    "\n",
    "    if result == 'Меньше':\n",
    "        # print(f'a_текущая: {a}, b_текущая: {b}')\n",
    "        b = ans\n",
    "        # print(f'a_текущая: {a}, b_новая: {b}')\n",
    "        ans = ans - round((b - a) / 2, 0)\n",
    "        print(int(ans))\n",
    "    if result == 'Больше':\n",
    "        # print(f'a_текущая: {a}, b_текущая: {b}')\n",
    "        a = ans\n",
    "        # print(f'a_новая: {a}; b_текущая: {b}')\n",
    "        ans = ans + round((b - a) / 2, 0)\n",
    "        print(int(ans))"
   ],
   "metadata": {
    "collapsed": false,
    "pycharm": {
     "name": "#%%\n"
    }
   }
  },
  {
   "cell_type": "code",
   "execution_count": null,
   "outputs": [],
   "source": [
    "# T\n",
    "# vibo: биткойн, НЕ РЕШЕНА\n",
    "\n",
    "# h = 0\n",
    "\n",
    "# count_blocks = int(input())\n",
    "\n",
    "# bitcoin = []\n",
    "\n",
    "# for i in range(count_blocks):\n",
    "#     block = int(input())\n",
    "#     bitcoin.append(block)\n",
    "\n",
    "#     h = 37 * (m + r + h)\n",
    "#     b = h + r * 256 + m * 256 ** 2\n",
    "\n",
    "# print(bitcoin)"
   ],
   "metadata": {
    "collapsed": false,
    "pycharm": {
     "name": "#%%\n"
    }
   }
  },
  {
   "cell_type": "markdown",
   "source": [
    "## 2.4. Вложенные циклы"
   ],
   "metadata": {
    "collapsed": false,
    "pycharm": {
     "name": "#%% md\n"
    }
   }
  },
  {
   "cell_type": "markdown",
   "source": [
    "### Теория"
   ],
   "metadata": {
    "collapsed": false,
    "pycharm": {
     "name": "#%% md\n"
    }
   }
  },
  {
   "cell_type": "code",
   "execution_count": 21,
   "outputs": [
    {
     "name": "stdout",
     "output_type": "stream",
     "text": [
      "False\n",
      "116 119\n",
      "t w\n"
     ]
    }
   ],
   "source": [
    "letter_1 = \"t\"\n",
    "letter_2 = \"w\"\n",
    "print(letter_1 > letter_2) # False\n",
    "print(ord(\"t\"), ord(\"w\")) # 116 119\n",
    "print(chr(116), chr(119)) # t w"
   ],
   "metadata": {
    "collapsed": false,
    "pycharm": {
     "name": "#%%\n"
    }
   }
  },
  {
   "cell_type": "code",
   "execution_count": 22,
   "outputs": [
    {
     "name": "stdout",
     "output_type": "stream",
     "text": [
      "aa\n",
      "ab\n",
      "ac\n",
      "ad\n",
      "ae\n",
      "af\n",
      "ag\n",
      "ah\n",
      "ai\n",
      "aj\n",
      "ak\n",
      "al\n",
      "am\n",
      "an\n",
      "ao\n",
      "ap\n",
      "aq\n",
      "ar\n",
      "as\n",
      "at\n",
      "au\n",
      "av\n",
      "aw\n",
      "ax\n",
      "ay\n",
      "az\n",
      "ba\n",
      "bb\n",
      "bc\n",
      "bd\n",
      "be\n",
      "bf\n",
      "bg\n",
      "bh\n",
      "bi\n",
      "bj\n",
      "bk\n",
      "bl\n",
      "bm\n",
      "bn\n",
      "bo\n",
      "bp\n",
      "bq\n",
      "br\n",
      "bs\n",
      "bt\n",
      "bu\n",
      "bv\n",
      "bw\n",
      "bx\n",
      "by\n",
      "bz\n",
      "ca\n",
      "cb\n",
      "cc\n",
      "cd\n",
      "ce\n",
      "cf\n",
      "cg\n",
      "ch\n",
      "ci\n",
      "cj\n",
      "ck\n",
      "cl\n",
      "cm\n",
      "cn\n",
      "co\n",
      "cp\n",
      "cq\n",
      "cr\n",
      "cs\n",
      "ct\n",
      "cu\n",
      "cv\n",
      "cw\n",
      "cx\n",
      "cy\n",
      "cz\n",
      "da\n",
      "db\n",
      "dc\n",
      "dd\n",
      "de\n",
      "df\n",
      "dg\n",
      "dh\n",
      "di\n",
      "dj\n",
      "dk\n",
      "dl\n",
      "dm\n",
      "dn\n",
      "do\n",
      "dp\n",
      "dq\n",
      "dr\n",
      "ds\n",
      "dt\n",
      "du\n",
      "dv\n",
      "dw\n",
      "dx\n",
      "dy\n",
      "dz\n",
      "ea\n",
      "eb\n",
      "ec\n",
      "ed\n",
      "ee\n",
      "ef\n",
      "eg\n",
      "eh\n",
      "ei\n",
      "ej\n",
      "ek\n",
      "el\n",
      "em\n",
      "en\n",
      "eo\n",
      "ep\n",
      "eq\n",
      "er\n",
      "es\n",
      "et\n",
      "eu\n",
      "ev\n",
      "ew\n",
      "ex\n",
      "ey\n",
      "ez\n",
      "fa\n",
      "fb\n",
      "fc\n",
      "fd\n",
      "fe\n",
      "ff\n",
      "fg\n",
      "fh\n",
      "fi\n",
      "fj\n",
      "fk\n",
      "fl\n",
      "fm\n",
      "fn\n",
      "fo\n",
      "fp\n",
      "fq\n",
      "fr\n",
      "fs\n",
      "ft\n",
      "fu\n",
      "fv\n",
      "fw\n",
      "fx\n",
      "fy\n",
      "fz\n",
      "ga\n",
      "gb\n",
      "gc\n",
      "gd\n",
      "ge\n",
      "gf\n",
      "gg\n",
      "gh\n",
      "gi\n",
      "gj\n",
      "gk\n",
      "gl\n",
      "gm\n",
      "gn\n",
      "go\n",
      "gp\n",
      "gq\n",
      "gr\n",
      "gs\n",
      "gt\n",
      "gu\n",
      "gv\n",
      "gw\n",
      "gx\n",
      "gy\n",
      "gz\n",
      "ha\n",
      "hb\n",
      "hc\n",
      "hd\n",
      "he\n",
      "hf\n",
      "hg\n",
      "hh\n",
      "hi\n",
      "hj\n",
      "hk\n",
      "hl\n",
      "hm\n",
      "hn\n",
      "ho\n",
      "hp\n",
      "hq\n",
      "hr\n",
      "hs\n",
      "ht\n",
      "hu\n",
      "hv\n",
      "hw\n",
      "hx\n",
      "hy\n",
      "hz\n",
      "ia\n",
      "ib\n",
      "ic\n",
      "id\n",
      "ie\n",
      "if\n",
      "ig\n",
      "ih\n",
      "ii\n",
      "ij\n",
      "ik\n",
      "il\n",
      "im\n",
      "in\n",
      "io\n",
      "ip\n",
      "iq\n",
      "ir\n",
      "is\n",
      "it\n",
      "iu\n",
      "iv\n",
      "iw\n",
      "ix\n",
      "iy\n",
      "iz\n",
      "ja\n",
      "jb\n",
      "jc\n",
      "jd\n",
      "je\n",
      "jf\n",
      "jg\n",
      "jh\n",
      "ji\n",
      "jj\n",
      "jk\n",
      "jl\n",
      "jm\n",
      "jn\n",
      "jo\n",
      "jp\n",
      "jq\n",
      "jr\n",
      "js\n",
      "jt\n",
      "ju\n",
      "jv\n",
      "jw\n",
      "jx\n",
      "jy\n",
      "jz\n",
      "ka\n",
      "kb\n",
      "kc\n",
      "kd\n",
      "ke\n",
      "kf\n",
      "kg\n",
      "kh\n",
      "ki\n",
      "kj\n",
      "kk\n",
      "kl\n",
      "km\n",
      "kn\n",
      "ko\n",
      "kp\n",
      "kq\n",
      "kr\n",
      "ks\n",
      "kt\n",
      "ku\n",
      "kv\n",
      "kw\n",
      "kx\n",
      "ky\n",
      "kz\n",
      "la\n",
      "lb\n",
      "lc\n",
      "ld\n",
      "le\n",
      "lf\n",
      "lg\n",
      "lh\n",
      "li\n",
      "lj\n",
      "lk\n",
      "ll\n",
      "lm\n",
      "ln\n",
      "lo\n",
      "lp\n",
      "lq\n",
      "lr\n",
      "ls\n",
      "lt\n",
      "lu\n",
      "lv\n",
      "lw\n",
      "lx\n",
      "ly\n",
      "lz\n",
      "ma\n",
      "mb\n",
      "mc\n",
      "md\n",
      "me\n",
      "mf\n",
      "mg\n",
      "mh\n",
      "mi\n",
      "mj\n",
      "mk\n",
      "ml\n",
      "mm\n",
      "mn\n",
      "mo\n",
      "mp\n",
      "mq\n",
      "mr\n",
      "ms\n",
      "mt\n",
      "mu\n",
      "mv\n",
      "mw\n",
      "mx\n",
      "my\n",
      "mz\n",
      "na\n",
      "nb\n",
      "nc\n",
      "nd\n",
      "ne\n",
      "nf\n",
      "ng\n",
      "nh\n",
      "ni\n",
      "nj\n",
      "nk\n",
      "nl\n",
      "nm\n",
      "nn\n",
      "no\n",
      "np\n",
      "nq\n",
      "nr\n",
      "ns\n",
      "nt\n",
      "nu\n",
      "nv\n",
      "nw\n",
      "nx\n",
      "ny\n",
      "nz\n",
      "oa\n",
      "ob\n",
      "oc\n",
      "od\n",
      "oe\n",
      "of\n",
      "og\n",
      "oh\n",
      "oi\n",
      "oj\n",
      "ok\n",
      "ol\n",
      "om\n",
      "on\n",
      "oo\n",
      "op\n",
      "oq\n",
      "or\n",
      "os\n",
      "ot\n",
      "ou\n",
      "ov\n",
      "ow\n",
      "ox\n",
      "oy\n",
      "oz\n",
      "pa\n",
      "pb\n",
      "pc\n",
      "pd\n",
      "pe\n",
      "pf\n",
      "pg\n",
      "ph\n",
      "pi\n",
      "pj\n",
      "pk\n",
      "pl\n",
      "pm\n",
      "pn\n",
      "po\n",
      "pp\n",
      "pq\n",
      "pr\n",
      "ps\n",
      "pt\n",
      "pu\n",
      "pv\n",
      "pw\n",
      "px\n",
      "py\n",
      "pz\n",
      "qa\n",
      "qb\n",
      "qc\n",
      "qd\n",
      "qe\n",
      "qf\n",
      "qg\n",
      "qh\n",
      "qi\n",
      "qj\n",
      "qk\n",
      "ql\n",
      "qm\n",
      "qn\n",
      "qo\n",
      "qp\n",
      "qq\n",
      "qr\n",
      "qs\n",
      "qt\n",
      "qu\n",
      "qv\n",
      "qw\n",
      "qx\n",
      "qy\n",
      "qz\n",
      "ra\n",
      "rb\n",
      "rc\n",
      "rd\n",
      "re\n",
      "rf\n",
      "rg\n",
      "rh\n",
      "ri\n",
      "rj\n",
      "rk\n",
      "rl\n",
      "rm\n",
      "rn\n",
      "ro\n",
      "rp\n",
      "rq\n",
      "rr\n",
      "rs\n",
      "rt\n",
      "ru\n",
      "rv\n",
      "rw\n",
      "rx\n",
      "ry\n",
      "rz\n",
      "sa\n",
      "sb\n",
      "sc\n",
      "sd\n",
      "se\n",
      "sf\n",
      "sg\n",
      "sh\n",
      "si\n",
      "sj\n",
      "sk\n",
      "sl\n",
      "sm\n",
      "sn\n",
      "so\n",
      "sp\n",
      "sq\n",
      "sr\n",
      "ss\n",
      "st\n",
      "su\n",
      "sv\n",
      "sw\n",
      "sx\n",
      "sy\n",
      "sz\n",
      "ta\n",
      "tb\n",
      "tc\n",
      "td\n",
      "te\n",
      "tf\n",
      "tg\n",
      "th\n",
      "ti\n",
      "tj\n",
      "tk\n",
      "tl\n",
      "tm\n",
      "tn\n",
      "to\n",
      "tp\n",
      "tq\n",
      "tr\n",
      "ts\n",
      "tt\n",
      "tu\n",
      "tv\n",
      "tw\n",
      "tx\n",
      "ty\n",
      "tz\n",
      "ua\n",
      "ub\n",
      "uc\n",
      "ud\n",
      "ue\n",
      "uf\n",
      "ug\n",
      "uh\n",
      "ui\n",
      "uj\n",
      "uk\n",
      "ul\n",
      "um\n",
      "un\n",
      "uo\n",
      "up\n",
      "uq\n",
      "ur\n",
      "us\n",
      "ut\n",
      "uu\n",
      "uv\n",
      "uw\n",
      "ux\n",
      "uy\n",
      "uz\n",
      "va\n",
      "vb\n",
      "vc\n",
      "vd\n",
      "ve\n",
      "vf\n",
      "vg\n",
      "vh\n",
      "vi\n",
      "vj\n",
      "vk\n",
      "vl\n",
      "vm\n",
      "vn\n",
      "vo\n",
      "vp\n",
      "vq\n",
      "vr\n",
      "vs\n",
      "vt\n",
      "vu\n",
      "vv\n",
      "vw\n",
      "vx\n",
      "vy\n",
      "vz\n",
      "wa\n",
      "wb\n",
      "wc\n",
      "wd\n",
      "we\n",
      "wf\n",
      "wg\n",
      "wh\n",
      "wi\n",
      "wj\n",
      "wk\n",
      "wl\n",
      "wm\n",
      "wn\n",
      "wo\n",
      "wp\n",
      "wq\n",
      "wr\n",
      "ws\n",
      "wt\n",
      "wu\n",
      "wv\n",
      "ww\n",
      "wx\n",
      "wy\n",
      "wz\n",
      "xa\n",
      "xb\n",
      "xc\n",
      "xd\n",
      "xe\n",
      "xf\n",
      "xg\n",
      "xh\n",
      "xi\n",
      "xj\n",
      "xk\n",
      "xl\n",
      "xm\n",
      "xn\n",
      "xo\n",
      "xp\n",
      "xq\n",
      "xr\n",
      "xs\n",
      "xt\n",
      "xu\n",
      "xv\n",
      "xw\n",
      "xx\n",
      "xy\n",
      "xz\n",
      "ya\n",
      "yb\n",
      "yc\n",
      "yd\n",
      "ye\n",
      "yf\n",
      "yg\n",
      "yh\n",
      "yi\n",
      "yj\n",
      "yk\n",
      "yl\n",
      "ym\n",
      "yn\n",
      "yo\n",
      "yp\n",
      "yq\n",
      "yr\n",
      "ys\n",
      "yt\n",
      "yu\n",
      "yv\n",
      "yw\n",
      "yx\n",
      "yy\n",
      "yz\n",
      "za\n",
      "zb\n",
      "zc\n",
      "zd\n",
      "ze\n",
      "zf\n",
      "zg\n",
      "zh\n",
      "zi\n",
      "zj\n",
      "zk\n",
      "zl\n",
      "zm\n",
      "zn\n",
      "zo\n",
      "zp\n",
      "zq\n",
      "zr\n",
      "zs\n",
      "zt\n",
      "zu\n",
      "zv\n",
      "zw\n",
      "zx\n",
      "zy\n",
      "zz\n"
     ]
    }
   ],
   "source": [
    "for i in range(26):\n",
    "    for j in range(26):\n",
    "        print(f\"{chr(ord('a') + i)}{chr(ord('a') + j)}\")"
   ],
   "metadata": {
    "collapsed": false,
    "pycharm": {
     "name": "#%%\n"
    }
   }
  },
  {
   "cell_type": "code",
   "execution_count": null,
   "outputs": [],
   "source": [
    "password = \"right_password\"\n",
    "while True:\n",
    "    if input(\"Введите пароль: \") == password:\n",
    "        print(\"Пароль принимается\")\n",
    "        break"
   ],
   "metadata": {
    "collapsed": false,
    "pycharm": {
     "name": "#%%\n"
    }
   }
  },
  {
   "cell_type": "code",
   "execution_count": null,
   "outputs": [],
   "source": [
    "# vibo: флаг на окончание внутреннего цикла для выхода из внешнего\n",
    "flag = False\n",
    "for i in range(26):\n",
    "    for j in range(26):\n",
    "        text = f\"{chr(ord('a') + i)}{chr(ord('a') + j)}\"\n",
    "        if text == \"ya\":\n",
    "            print(text)\n",
    "            flag = True\n",
    "            break\n",
    "        print(text)\n",
    "    if flag:\n",
    "        break"
   ],
   "metadata": {
    "collapsed": false,
    "pycharm": {
     "name": "#%%\n"
    }
   }
  },
  {
   "cell_type": "code",
   "execution_count": 23,
   "outputs": [
    {
     "name": "stdout",
     "output_type": "stream",
     "text": [
      "OK\n"
     ]
    }
   ],
   "source": [
    "flag1 = True\n",
    "flag2 = False\n",
    "\n",
    "if flag1:\n",
    "    print('OK')\n",
    "if flag2:\n",
    "    print('NOT OK')"
   ],
   "metadata": {
    "collapsed": false,
    "pycharm": {
     "name": "#%%\n"
    }
   }
  },
  {
   "cell_type": "code",
   "execution_count": 24,
   "outputs": [
    {
     "name": "stdout",
     "output_type": "stream",
     "text": [
      "ab\n",
      "ac\n",
      "ad\n",
      "ae\n",
      "af\n",
      "ag\n",
      "ah\n",
      "ai\n",
      "aj\n",
      "ak\n",
      "al\n",
      "am\n",
      "an\n",
      "ao\n",
      "ap\n",
      "aq\n",
      "ar\n",
      "as\n",
      "at\n",
      "au\n",
      "av\n",
      "aw\n",
      "ax\n",
      "ay\n",
      "az\n",
      "ba\n",
      "bc\n",
      "bd\n",
      "be\n",
      "bf\n",
      "bg\n",
      "bh\n",
      "bi\n",
      "bj\n",
      "bk\n",
      "bl\n",
      "bm\n",
      "bn\n",
      "bo\n",
      "bp\n",
      "bq\n",
      "br\n",
      "bs\n",
      "bt\n",
      "bu\n",
      "bv\n",
      "bw\n",
      "bx\n",
      "by\n",
      "bz\n",
      "ca\n",
      "cb\n",
      "cd\n",
      "ce\n",
      "cf\n",
      "cg\n",
      "ch\n",
      "ci\n",
      "cj\n",
      "ck\n",
      "cl\n",
      "cm\n",
      "cn\n",
      "co\n",
      "cp\n",
      "cq\n",
      "cr\n",
      "cs\n",
      "ct\n",
      "cu\n",
      "cv\n",
      "cw\n",
      "cx\n",
      "cy\n",
      "cz\n",
      "da\n",
      "db\n",
      "dc\n",
      "de\n",
      "df\n",
      "dg\n",
      "dh\n",
      "di\n",
      "dj\n",
      "dk\n",
      "dl\n",
      "dm\n",
      "dn\n",
      "do\n",
      "dp\n",
      "dq\n",
      "dr\n",
      "ds\n",
      "dt\n",
      "du\n",
      "dv\n",
      "dw\n",
      "dx\n",
      "dy\n",
      "dz\n",
      "ea\n",
      "eb\n",
      "ec\n",
      "ed\n",
      "ef\n",
      "eg\n",
      "eh\n",
      "ei\n",
      "ej\n",
      "ek\n",
      "el\n",
      "em\n",
      "en\n",
      "eo\n",
      "ep\n",
      "eq\n",
      "er\n",
      "es\n",
      "et\n",
      "eu\n",
      "ev\n",
      "ew\n",
      "ex\n",
      "ey\n",
      "ez\n",
      "fa\n",
      "fb\n",
      "fc\n",
      "fd\n",
      "fe\n",
      "fg\n",
      "fh\n",
      "fi\n",
      "fj\n",
      "fk\n",
      "fl\n",
      "fm\n",
      "fn\n",
      "fo\n",
      "fp\n",
      "fq\n",
      "fr\n",
      "fs\n",
      "ft\n",
      "fu\n",
      "fv\n",
      "fw\n",
      "fx\n",
      "fy\n",
      "fz\n",
      "ga\n",
      "gb\n",
      "gc\n",
      "gd\n",
      "ge\n",
      "gf\n",
      "gh\n",
      "gi\n",
      "gj\n",
      "gk\n",
      "gl\n",
      "gm\n",
      "gn\n",
      "go\n",
      "gp\n",
      "gq\n",
      "gr\n",
      "gs\n",
      "gt\n",
      "gu\n",
      "gv\n",
      "gw\n",
      "gx\n",
      "gy\n",
      "gz\n",
      "ha\n",
      "hb\n",
      "hc\n",
      "hd\n",
      "he\n",
      "hf\n",
      "hg\n",
      "hi\n",
      "hj\n",
      "hk\n",
      "hl\n",
      "hm\n",
      "hn\n",
      "ho\n",
      "hp\n",
      "hq\n",
      "hr\n",
      "hs\n",
      "ht\n",
      "hu\n",
      "hv\n",
      "hw\n",
      "hx\n",
      "hy\n",
      "hz\n",
      "ia\n",
      "ib\n",
      "ic\n",
      "id\n",
      "ie\n",
      "if\n",
      "ig\n",
      "ih\n",
      "ij\n",
      "ik\n",
      "il\n",
      "im\n",
      "in\n",
      "io\n",
      "ip\n",
      "iq\n",
      "ir\n",
      "is\n",
      "it\n",
      "iu\n",
      "iv\n",
      "iw\n",
      "ix\n",
      "iy\n",
      "iz\n",
      "ja\n",
      "jb\n",
      "jc\n",
      "jd\n",
      "je\n",
      "jf\n",
      "jg\n",
      "jh\n",
      "ji\n",
      "jk\n",
      "jl\n",
      "jm\n",
      "jn\n",
      "jo\n",
      "jp\n",
      "jq\n",
      "jr\n",
      "js\n",
      "jt\n",
      "ju\n",
      "jv\n",
      "jw\n",
      "jx\n",
      "jy\n",
      "jz\n",
      "ka\n",
      "kb\n",
      "kc\n",
      "kd\n",
      "ke\n",
      "kf\n",
      "kg\n",
      "kh\n",
      "ki\n",
      "kj\n",
      "kl\n",
      "km\n",
      "kn\n",
      "ko\n",
      "kp\n",
      "kq\n",
      "kr\n",
      "ks\n",
      "kt\n",
      "ku\n",
      "kv\n",
      "kw\n",
      "kx\n",
      "ky\n",
      "kz\n",
      "la\n",
      "lb\n",
      "lc\n",
      "ld\n",
      "le\n",
      "lf\n",
      "lg\n",
      "lh\n",
      "li\n",
      "lj\n",
      "lk\n",
      "lm\n",
      "ln\n",
      "lo\n",
      "lp\n",
      "lq\n",
      "lr\n",
      "ls\n",
      "lt\n",
      "lu\n",
      "lv\n",
      "lw\n",
      "lx\n",
      "ly\n",
      "lz\n",
      "ma\n",
      "mb\n",
      "mc\n",
      "md\n",
      "me\n",
      "mf\n",
      "mg\n",
      "mh\n",
      "mi\n",
      "mj\n",
      "mk\n",
      "ml\n",
      "mn\n",
      "mo\n",
      "mp\n",
      "mq\n",
      "mr\n",
      "ms\n",
      "mt\n",
      "mu\n",
      "mv\n",
      "mw\n",
      "mx\n",
      "my\n",
      "mz\n",
      "na\n",
      "nb\n",
      "nc\n",
      "nd\n",
      "ne\n",
      "nf\n",
      "ng\n",
      "nh\n",
      "ni\n",
      "nj\n",
      "nk\n",
      "nl\n",
      "nm\n",
      "no\n",
      "np\n",
      "nq\n",
      "nr\n",
      "ns\n",
      "nt\n",
      "nu\n",
      "nv\n",
      "nw\n",
      "nx\n",
      "ny\n",
      "nz\n",
      "oa\n",
      "ob\n",
      "oc\n",
      "od\n",
      "oe\n",
      "of\n",
      "og\n",
      "oh\n",
      "oi\n",
      "oj\n",
      "ok\n",
      "ol\n",
      "om\n",
      "on\n",
      "op\n",
      "oq\n",
      "or\n",
      "os\n",
      "ot\n",
      "ou\n",
      "ov\n",
      "ow\n",
      "ox\n",
      "oy\n",
      "oz\n",
      "pa\n",
      "pb\n",
      "pc\n",
      "pd\n",
      "pe\n",
      "pf\n",
      "pg\n",
      "ph\n",
      "pi\n",
      "pj\n",
      "pk\n",
      "pl\n",
      "pm\n",
      "pn\n",
      "po\n",
      "pq\n",
      "pr\n",
      "ps\n",
      "pt\n",
      "pu\n",
      "pv\n",
      "pw\n",
      "px\n",
      "py\n",
      "pz\n",
      "qa\n",
      "qb\n",
      "qc\n",
      "qd\n",
      "qe\n",
      "qf\n",
      "qg\n",
      "qh\n",
      "qi\n",
      "qj\n",
      "qk\n",
      "ql\n",
      "qm\n",
      "qn\n",
      "qo\n",
      "qp\n",
      "qr\n",
      "qs\n",
      "qt\n",
      "qu\n",
      "qv\n",
      "qw\n",
      "qx\n",
      "qy\n",
      "qz\n",
      "ra\n",
      "rb\n",
      "rc\n",
      "rd\n",
      "re\n",
      "rf\n",
      "rg\n",
      "rh\n",
      "ri\n",
      "rj\n",
      "rk\n",
      "rl\n",
      "rm\n",
      "rn\n",
      "ro\n",
      "rp\n",
      "rq\n",
      "rs\n",
      "rt\n",
      "ru\n",
      "rv\n",
      "rw\n",
      "rx\n",
      "ry\n",
      "rz\n",
      "sa\n",
      "sb\n",
      "sc\n",
      "sd\n",
      "se\n",
      "sf\n",
      "sg\n",
      "sh\n",
      "si\n",
      "sj\n",
      "sk\n",
      "sl\n",
      "sm\n",
      "sn\n",
      "so\n",
      "sp\n",
      "sq\n",
      "sr\n",
      "st\n",
      "su\n",
      "sv\n",
      "sw\n",
      "sx\n",
      "sy\n",
      "sz\n",
      "ta\n",
      "tb\n",
      "tc\n",
      "td\n",
      "te\n",
      "tf\n",
      "tg\n",
      "th\n",
      "ti\n",
      "tj\n",
      "tk\n",
      "tl\n",
      "tm\n",
      "tn\n",
      "to\n",
      "tp\n",
      "tq\n",
      "tr\n",
      "ts\n",
      "tu\n",
      "tv\n",
      "tw\n",
      "tx\n",
      "ty\n",
      "tz\n",
      "ua\n",
      "ub\n",
      "uc\n",
      "ud\n",
      "ue\n",
      "uf\n",
      "ug\n",
      "uh\n",
      "ui\n",
      "uj\n",
      "uk\n",
      "ul\n",
      "um\n",
      "un\n",
      "uo\n",
      "up\n",
      "uq\n",
      "ur\n",
      "us\n",
      "ut\n",
      "uv\n",
      "uw\n",
      "ux\n",
      "uy\n",
      "uz\n",
      "va\n",
      "vb\n",
      "vc\n",
      "vd\n",
      "ve\n",
      "vf\n",
      "vg\n",
      "vh\n",
      "vi\n",
      "vj\n",
      "vk\n",
      "vl\n",
      "vm\n",
      "vn\n",
      "vo\n",
      "vp\n",
      "vq\n",
      "vr\n",
      "vs\n",
      "vt\n",
      "vu\n",
      "vw\n",
      "vx\n",
      "vy\n",
      "vz\n",
      "wa\n",
      "wb\n",
      "wc\n",
      "wd\n",
      "we\n",
      "wf\n",
      "wg\n",
      "wh\n",
      "wi\n",
      "wj\n",
      "wk\n",
      "wl\n",
      "wm\n",
      "wn\n",
      "wo\n",
      "wp\n",
      "wq\n",
      "wr\n",
      "ws\n",
      "wt\n",
      "wu\n",
      "wv\n",
      "wx\n",
      "wy\n",
      "wz\n",
      "xa\n",
      "xb\n",
      "xc\n",
      "xd\n",
      "xe\n",
      "xf\n",
      "xg\n",
      "xh\n",
      "xi\n",
      "xj\n",
      "xk\n",
      "xl\n",
      "xm\n",
      "xn\n",
      "xo\n",
      "xp\n",
      "xq\n",
      "xr\n",
      "xs\n",
      "xt\n",
      "xu\n",
      "xv\n",
      "xw\n",
      "xy\n",
      "xz\n",
      "ya\n",
      "yb\n",
      "yc\n",
      "yd\n",
      "ye\n",
      "yf\n",
      "yg\n",
      "yh\n",
      "yi\n",
      "yj\n",
      "yk\n",
      "yl\n",
      "ym\n",
      "yn\n",
      "yo\n",
      "yp\n",
      "yq\n",
      "yr\n",
      "ys\n",
      "yt\n",
      "yu\n",
      "yv\n",
      "yw\n",
      "yx\n",
      "yz\n",
      "za\n",
      "zb\n",
      "zc\n",
      "zd\n",
      "ze\n",
      "zf\n",
      "zg\n",
      "zh\n",
      "zi\n",
      "zj\n",
      "zk\n",
      "zl\n",
      "zm\n",
      "zn\n",
      "zo\n",
      "zp\n",
      "zq\n",
      "zr\n",
      "zs\n",
      "zt\n",
      "zu\n",
      "zv\n",
      "zw\n",
      "zx\n",
      "zy\n",
      "ab\n",
      "ac\n",
      "ad\n",
      "ae\n",
      "af\n",
      "ag\n",
      "ah\n",
      "ai\n",
      "aj\n",
      "ak\n",
      "al\n",
      "am\n",
      "an\n",
      "ao\n",
      "ap\n",
      "aq\n",
      "ar\n",
      "as\n",
      "at\n",
      "au\n",
      "av\n",
      "aw\n",
      "ax\n",
      "ay\n",
      "az\n",
      "ba\n",
      "bc\n",
      "bd\n",
      "be\n",
      "bf\n",
      "bg\n",
      "bh\n",
      "bi\n",
      "bj\n",
      "bk\n",
      "bl\n",
      "bm\n",
      "bn\n",
      "bo\n",
      "bp\n",
      "bq\n",
      "br\n",
      "bs\n",
      "bt\n",
      "bu\n",
      "bv\n",
      "bw\n",
      "bx\n",
      "by\n",
      "bz\n",
      "ca\n",
      "cb\n",
      "cd\n",
      "ce\n",
      "cf\n",
      "cg\n",
      "ch\n",
      "ci\n",
      "cj\n",
      "ck\n",
      "cl\n",
      "cm\n",
      "cn\n",
      "co\n",
      "cp\n",
      "cq\n",
      "cr\n",
      "cs\n",
      "ct\n",
      "cu\n",
      "cv\n",
      "cw\n",
      "cx\n",
      "cy\n",
      "cz\n",
      "da\n",
      "db\n",
      "dc\n",
      "de\n",
      "df\n",
      "dg\n",
      "dh\n",
      "di\n",
      "dj\n",
      "dk\n",
      "dl\n",
      "dm\n",
      "dn\n",
      "do\n",
      "dp\n",
      "dq\n",
      "dr\n",
      "ds\n",
      "dt\n",
      "du\n",
      "dv\n",
      "dw\n",
      "dx\n",
      "dy\n",
      "dz\n",
      "ea\n",
      "eb\n",
      "ec\n",
      "ed\n",
      "ef\n",
      "eg\n",
      "eh\n",
      "ei\n",
      "ej\n",
      "ek\n",
      "el\n",
      "em\n",
      "en\n",
      "eo\n",
      "ep\n",
      "eq\n",
      "er\n",
      "es\n",
      "et\n",
      "eu\n",
      "ev\n",
      "ew\n",
      "ex\n",
      "ey\n",
      "ez\n",
      "fa\n",
      "fb\n",
      "fc\n",
      "fd\n",
      "fe\n",
      "fg\n",
      "fh\n",
      "fi\n",
      "fj\n",
      "fk\n",
      "fl\n",
      "fm\n",
      "fn\n",
      "fo\n",
      "fp\n",
      "fq\n",
      "fr\n",
      "fs\n",
      "ft\n",
      "fu\n",
      "fv\n",
      "fw\n",
      "fx\n",
      "fy\n",
      "fz\n",
      "ga\n",
      "gb\n",
      "gc\n",
      "gd\n",
      "ge\n",
      "gf\n",
      "gh\n",
      "gi\n",
      "gj\n",
      "gk\n",
      "gl\n",
      "gm\n",
      "gn\n",
      "go\n",
      "gp\n",
      "gq\n",
      "gr\n",
      "gs\n",
      "gt\n",
      "gu\n",
      "gv\n",
      "gw\n",
      "gx\n",
      "gy\n",
      "gz\n",
      "ha\n",
      "hb\n",
      "hc\n",
      "hd\n",
      "he\n",
      "hf\n",
      "hg\n",
      "hi\n",
      "hj\n",
      "hk\n",
      "hl\n",
      "hm\n",
      "hn\n",
      "ho\n",
      "hp\n",
      "hq\n",
      "hr\n",
      "hs\n",
      "ht\n",
      "hu\n",
      "hv\n",
      "hw\n",
      "hx\n",
      "hy\n",
      "hz\n",
      "ia\n",
      "ib\n",
      "ic\n",
      "id\n",
      "ie\n",
      "if\n",
      "ig\n",
      "ih\n",
      "ij\n",
      "ik\n",
      "il\n",
      "im\n",
      "in\n",
      "io\n",
      "ip\n",
      "iq\n",
      "ir\n",
      "is\n",
      "it\n",
      "iu\n",
      "iv\n",
      "iw\n",
      "ix\n",
      "iy\n",
      "iz\n",
      "ja\n",
      "jb\n",
      "jc\n",
      "jd\n",
      "je\n",
      "jf\n",
      "jg\n",
      "jh\n",
      "ji\n",
      "jk\n",
      "jl\n",
      "jm\n",
      "jn\n",
      "jo\n",
      "jp\n",
      "jq\n",
      "jr\n",
      "js\n",
      "jt\n",
      "ju\n",
      "jv\n",
      "jw\n",
      "jx\n",
      "jy\n",
      "jz\n",
      "ka\n",
      "kb\n",
      "kc\n",
      "kd\n",
      "ke\n",
      "kf\n",
      "kg\n",
      "kh\n",
      "ki\n",
      "kj\n",
      "kl\n",
      "km\n",
      "kn\n",
      "ko\n",
      "kp\n",
      "kq\n",
      "kr\n",
      "ks\n",
      "kt\n",
      "ku\n",
      "kv\n",
      "kw\n",
      "kx\n",
      "ky\n",
      "kz\n",
      "la\n",
      "lb\n",
      "lc\n",
      "ld\n",
      "le\n",
      "lf\n",
      "lg\n",
      "lh\n",
      "li\n",
      "lj\n",
      "lk\n",
      "lm\n",
      "ln\n",
      "lo\n",
      "lp\n",
      "lq\n",
      "lr\n",
      "ls\n",
      "lt\n",
      "lu\n",
      "lv\n",
      "lw\n",
      "lx\n",
      "ly\n",
      "lz\n",
      "ma\n",
      "mb\n",
      "mc\n",
      "md\n",
      "me\n",
      "mf\n",
      "mg\n",
      "mh\n",
      "mi\n",
      "mj\n",
      "mk\n",
      "ml\n",
      "mn\n",
      "mo\n",
      "mp\n",
      "mq\n",
      "mr\n",
      "ms\n",
      "mt\n",
      "mu\n",
      "mv\n",
      "mw\n",
      "mx\n",
      "my\n",
      "mz\n",
      "na\n",
      "nb\n",
      "nc\n",
      "nd\n",
      "ne\n",
      "nf\n",
      "ng\n",
      "nh\n",
      "ni\n",
      "nj\n",
      "nk\n",
      "nl\n",
      "nm\n",
      "no\n",
      "np\n",
      "nq\n",
      "nr\n",
      "ns\n",
      "nt\n",
      "nu\n",
      "nv\n",
      "nw\n",
      "nx\n",
      "ny\n",
      "nz\n",
      "oa\n",
      "ob\n",
      "oc\n",
      "od\n",
      "oe\n",
      "of\n",
      "og\n",
      "oh\n",
      "oi\n",
      "oj\n",
      "ok\n",
      "ol\n",
      "om\n",
      "on\n",
      "op\n",
      "oq\n",
      "or\n",
      "os\n",
      "ot\n",
      "ou\n",
      "ov\n",
      "ow\n",
      "ox\n",
      "oy\n",
      "oz\n",
      "pa\n",
      "pb\n",
      "pc\n",
      "pd\n",
      "pe\n",
      "pf\n",
      "pg\n",
      "ph\n",
      "pi\n",
      "pj\n",
      "pk\n",
      "pl\n",
      "pm\n",
      "pn\n",
      "po\n",
      "pq\n",
      "pr\n",
      "ps\n",
      "pt\n",
      "pu\n",
      "pv\n",
      "pw\n",
      "px\n",
      "py\n",
      "pz\n",
      "qa\n",
      "qb\n",
      "qc\n",
      "qd\n",
      "qe\n",
      "qf\n",
      "qg\n",
      "qh\n",
      "qi\n",
      "qj\n",
      "qk\n",
      "ql\n",
      "qm\n",
      "qn\n",
      "qo\n",
      "qp\n",
      "qr\n",
      "qs\n",
      "qt\n",
      "qu\n",
      "qv\n",
      "qw\n",
      "qx\n",
      "qy\n",
      "qz\n",
      "ra\n",
      "rb\n",
      "rc\n",
      "rd\n",
      "re\n",
      "rf\n",
      "rg\n",
      "rh\n",
      "ri\n",
      "rj\n",
      "rk\n",
      "rl\n",
      "rm\n",
      "rn\n",
      "ro\n",
      "rp\n",
      "rq\n",
      "rs\n",
      "rt\n",
      "ru\n",
      "rv\n",
      "rw\n",
      "rx\n",
      "ry\n",
      "rz\n",
      "sa\n",
      "sb\n",
      "sc\n",
      "sd\n",
      "se\n",
      "sf\n",
      "sg\n",
      "sh\n",
      "si\n",
      "sj\n",
      "sk\n",
      "sl\n",
      "sm\n",
      "sn\n",
      "so\n",
      "sp\n",
      "sq\n",
      "sr\n",
      "st\n",
      "su\n",
      "sv\n",
      "sw\n",
      "sx\n",
      "sy\n",
      "sz\n",
      "ta\n",
      "tb\n",
      "tc\n",
      "td\n",
      "te\n",
      "tf\n",
      "tg\n",
      "th\n",
      "ti\n",
      "tj\n",
      "tk\n",
      "tl\n",
      "tm\n",
      "tn\n",
      "to\n",
      "tp\n",
      "tq\n",
      "tr\n",
      "ts\n",
      "tu\n",
      "tv\n",
      "tw\n",
      "tx\n",
      "ty\n",
      "tz\n",
      "ua\n",
      "ub\n",
      "uc\n",
      "ud\n",
      "ue\n",
      "uf\n",
      "ug\n",
      "uh\n",
      "ui\n",
      "uj\n",
      "uk\n",
      "ul\n",
      "um\n",
      "un\n",
      "uo\n",
      "up\n",
      "uq\n",
      "ur\n",
      "us\n",
      "ut\n",
      "uv\n",
      "uw\n",
      "ux\n",
      "uy\n",
      "uz\n",
      "va\n",
      "vb\n",
      "vc\n",
      "vd\n",
      "ve\n",
      "vf\n",
      "vg\n",
      "vh\n",
      "vi\n",
      "vj\n",
      "vk\n",
      "vl\n",
      "vm\n",
      "vn\n",
      "vo\n",
      "vp\n",
      "vq\n",
      "vr\n",
      "vs\n",
      "vt\n",
      "vu\n",
      "vw\n",
      "vx\n",
      "vy\n",
      "vz\n",
      "wa\n",
      "wb\n",
      "wc\n",
      "wd\n",
      "we\n",
      "wf\n",
      "wg\n",
      "wh\n",
      "wi\n",
      "wj\n",
      "wk\n",
      "wl\n",
      "wm\n",
      "wn\n",
      "wo\n",
      "wp\n",
      "wq\n",
      "wr\n",
      "ws\n",
      "wt\n",
      "wu\n",
      "wv\n",
      "wx\n",
      "wy\n",
      "wz\n",
      "xa\n",
      "xb\n",
      "xc\n",
      "xd\n",
      "xe\n",
      "xf\n",
      "xg\n",
      "xh\n",
      "xi\n",
      "xj\n",
      "xk\n",
      "xl\n",
      "xm\n",
      "xn\n",
      "xo\n",
      "xp\n",
      "xq\n",
      "xr\n",
      "xs\n",
      "xt\n",
      "xu\n",
      "xv\n",
      "xw\n",
      "xy\n",
      "xz\n",
      "ya\n",
      "yb\n",
      "yc\n",
      "yd\n",
      "ye\n",
      "yf\n",
      "yg\n",
      "yh\n",
      "yi\n",
      "yj\n",
      "yk\n",
      "yl\n",
      "ym\n",
      "yn\n",
      "yo\n",
      "yp\n",
      "yq\n",
      "yr\n",
      "ys\n",
      "yt\n",
      "yu\n",
      "yv\n",
      "yw\n",
      "yx\n",
      "yz\n",
      "za\n",
      "zb\n",
      "zc\n",
      "zd\n",
      "ze\n",
      "zf\n",
      "zg\n",
      "zh\n",
      "zi\n",
      "zj\n",
      "zk\n",
      "zl\n",
      "zm\n",
      "zn\n",
      "zo\n",
      "zp\n",
      "zq\n",
      "zr\n",
      "zs\n",
      "zt\n",
      "zu\n",
      "zv\n",
      "zw\n",
      "zx\n",
      "zy\n"
     ]
    }
   ],
   "source": [
    "# # vibo: continue скипает итерацию при i = j\n",
    "for i in range(26):\n",
    "    for j in range(26):\n",
    "        if i == j:\n",
    "            continue\n",
    "        print(f\"{chr(ord('a') + i)}{chr(ord('a') + j)}\")\n",
    "\n",
    "# # vibo: можно так (более привычно)\n",
    "for i in range(26):\n",
    "    for j in range(26):\n",
    "        if i != j:\n",
    "            print(f\"{chr(ord('a') + i)}{chr(ord('a') + j)}\")"
   ],
   "metadata": {
    "collapsed": false,
    "pycharm": {
     "name": "#%%\n"
    }
   }
  },
  {
   "cell_type": "code",
   "execution_count": null,
   "outputs": [],
   "source": [
    "while input(\"Введите строку (СТОП для остановки): \") != \"СТОП\":\n",
    "    pass\n",
    "else:\n",
    "    print(\"Цикл завершён\")"
   ],
   "metadata": {
    "collapsed": false,
    "pycharm": {
     "name": "#%%\n"
    }
   }
  },
  {
   "cell_type": "code",
   "execution_count": null,
   "outputs": [],
   "source": [
    "while (text := input(\"Введите строку (СТОП для остановки): \")) != \"СТОП\":\n",
    "    if text == \"ignore_else\":\n",
    "        break\n",
    "else:\n",
    "    print(\"Цикл завершён\")"
   ],
   "metadata": {
    "collapsed": false,
    "pycharm": {
     "name": "#%%\n"
    }
   }
  },
  {
   "cell_type": "markdown",
   "source": [
    "\n",
    "### Практика"
   ],
   "metadata": {
    "collapsed": false,
    "pycharm": {
     "name": "#%% md\n"
    }
   }
  },
  {
   "cell_type": "code",
   "execution_count": null,
   "outputs": [],
   "source": [
    "# A\n",
    "num = int(input())\n",
    "\n",
    "for i in range(1, num + 1):\n",
    "    string_list = []\n",
    "    for j in range(1, num + 1):\n",
    "        string_list.append(str(i * j))\n",
    "    print(' '.join(string_list))"
   ],
   "metadata": {
    "collapsed": false,
    "pycharm": {
     "name": "#%%\n"
    }
   }
  },
  {
   "cell_type": "code",
   "execution_count": null,
   "outputs": [],
   "source": [
    "# B\n",
    "num = int(input())\n",
    "\n",
    "for i in range(1, num + 1):\n",
    "    for j in range(1, num + 1):\n",
    "        print(f'{j} * {i} = {i * j}')"
   ],
   "metadata": {
    "collapsed": false,
    "pycharm": {
     "name": "#%%\n"
    }
   }
  },
  {
   "cell_type": "code",
   "execution_count": null,
   "outputs": [],
   "source": [
    "# C\n",
    "# vibo: определял границы каждой строки из формул членов прогрессии\n",
    "\n",
    "n = int(input())\n",
    "\n",
    "for i in range(1, n + 1):\n",
    "\n",
    "    # print(f'i: {i}')\n",
    "\n",
    "    start = int(1 + (i - 1) * i / 2)\n",
    "    # print(f'        start: {start}')\n",
    "\n",
    "    end = int(i * (i + 1) / 2)\n",
    "    # print(f'        end: {end}')\n",
    "\n",
    "    if end < n:\n",
    "        ans = list(range(start, end + 1))\n",
    "        print(' '.join(map(str, ans)))\n",
    "    else:\n",
    "        ans = list(range(start, n + 1))\n",
    "        print(' '.join(map(str, ans)))\n",
    "        break"
   ],
   "metadata": {
    "collapsed": false,
    "pycharm": {
     "name": "#%%\n"
    }
   }
  },
  {
   "cell_type": "code",
   "execution_count": null,
   "outputs": [],
   "source": [
    "# C\n",
    "# vibo: решение через слайсы короче, чит от Дарины\n",
    "\n",
    "num = int(input())\n",
    "\n",
    "num = [i for i in range (1, num + 1)]\n",
    "get = 1\n",
    "\n",
    "while len(num) > 0:\n",
    "    print(' '.join(map(str, num[:get])))\n",
    "    num = num[get:]\n",
    "    get += 1"
   ],
   "metadata": {
    "collapsed": false,
    "pycharm": {
     "name": "#%%\n"
    }
   }
  },
  {
   "cell_type": "code",
   "execution_count": null,
   "outputs": [],
   "source": [
    "# D\n",
    "n_num = int(input())\n",
    "\n",
    "sum = 0\n",
    "for i in range(n_num):\n",
    "    str_num = input()\n",
    "    sum_str_num = 0\n",
    "    for j in str_num:\n",
    "        sum_str_num += int(j)\n",
    "    # print(sum_str_num)\n",
    "    sum += sum_str_num\n",
    "\n",
    "print(sum)"
   ],
   "metadata": {
    "collapsed": false,
    "pycharm": {
     "name": "#%%\n"
    }
   }
  },
  {
   "cell_type": "code",
   "execution_count": null,
   "outputs": [],
   "source": [
    "# E\n",
    "num_str = int(input())\n",
    "\n",
    "ans = 0\n",
    "\n",
    "for i in range(num_str):\n",
    "    flag = True # vibo: используем флаг для выхода из цикла\n",
    "    while (string := input()) != 'ВСЁ':\n",
    "\n",
    "        if string == 'зайка' and flag:\n",
    "            ans += 1\n",
    "            flag = False # vibo: считаем только одного зайку на строку\n",
    "\n",
    "print(ans)"
   ],
   "metadata": {
    "collapsed": false,
    "pycharm": {
     "name": "#%%\n"
    }
   }
  },
  {
   "cell_type": "code",
   "execution_count": null,
   "outputs": [],
   "source": [
    "# F\n",
    "# vibo: задача на НОД\n",
    "\n",
    "n_num = int(input())\n",
    "flst = []\n",
    "for i in range(n_num):\n",
    "    num = int(input())\n",
    "    lst = []\n",
    "    for j in range(1, num + 1):\n",
    "        if num % j == 0:\n",
    "            lst.append(j)\n",
    "    # print(lst)\n",
    "    flst.append(lst)\n",
    "\n",
    "# print(flst)\n",
    "\n",
    "ans = set(flst[0])\n",
    "for i in range(1, n_num):\n",
    "    ans = ans & set(flst[i])\n",
    "\n",
    "print(max(ans))"
   ],
   "metadata": {
    "collapsed": false,
    "pycharm": {
     "name": "#%%\n"
    }
   }
  },
  {
   "cell_type": "code",
   "execution_count": null,
   "outputs": [],
   "source": [
    "# G\n",
    "num_user = int(input())\n",
    "\n",
    "for j in range(num_user):\n",
    "    for i in range(3 + j, 0, -1):\n",
    "        print(f'До старта {(i)} секунд(ы)')\n",
    "    print(f'Старт {j + 1}!!!')"
   ],
   "metadata": {
    "collapsed": false,
    "pycharm": {
     "name": "#%%\n"
    }
   }
  },
  {
   "cell_type": "code",
   "execution_count": null,
   "outputs": [],
   "source": [
    "# H\n",
    "\n",
    "input_content = int(input())\n",
    "\n",
    "my_dict = {}\n",
    "for i in range(input_content):\n",
    "    name, num = input(), input()\n",
    "    num_sum = 0\n",
    "    for j in list(num):\n",
    "        num_sum += int(j)\n",
    "    # print(name, num_sum)\n",
    "    my_dict[num_sum] = name\n",
    "\n",
    "winner_points = max(list(my_dict.keys()))\n",
    "print(my_dict[winner_points])"
   ],
   "metadata": {
    "collapsed": false,
    "pycharm": {
     "name": "#%%\n"
    }
   }
  },
  {
   "cell_type": "code",
   "execution_count": null,
   "outputs": [],
   "source": [
    "# I\n",
    "n_num = int(input())\n",
    "\n",
    "max_num_list = []\n",
    "for i in range(n_num):\n",
    "    num_list = []\n",
    "    num = input()\n",
    "    for j in num:\n",
    "        num_list.append(int(j))\n",
    "    # print(num_list)\n",
    "    max_num = max(num_list)\n",
    "    max_num_list.append(str(max_num))\n",
    "print(''.join(max_num_list))"
   ],
   "metadata": {
    "collapsed": false,
    "pycharm": {
     "name": "#%%\n"
    }
   }
  },
  {
   "cell_type": "code",
   "execution_count": null,
   "outputs": [],
   "source": [
    "# J\n",
    "items = int(input())\n",
    "\n",
    "print(f'А Б В')\n",
    "\n",
    "sum_items = 0\n",
    "\n",
    "for i in range(1, items):\n",
    "    for j in range(1, items):\n",
    "        for k in range(1, items):\n",
    "            sum_items = i + j + k\n",
    "            if sum_items == items:\n",
    "                print(f'{i} {j} {k}')"
   ],
   "metadata": {
    "collapsed": false,
    "pycharm": {
     "name": "#%%\n"
    }
   }
  },
  {
   "cell_type": "code",
   "execution_count": null,
   "outputs": [],
   "source": [
    "# K\n",
    "# vibo: модификация простых чисел\n",
    "\n",
    "count_n = int(input())\n",
    "\n",
    "def prime(n):\n",
    "\n",
    "    ans = 0\n",
    "\n",
    "    if n == 1:\n",
    "        # print(\"NO\")\n",
    "        pass\n",
    "\n",
    "    elif n == 2 or n == 3:\n",
    "        # print('YES')\n",
    "        ans = 1\n",
    "\n",
    "    elif (n % 2 == 0 and n != 2) or (n % 3 == 0 and n != 3) or (n % 5 == 0 and n != 5):\n",
    "        # print('NO')\n",
    "        pass\n",
    "\n",
    "    else:\n",
    "        nums = range(3, n + 1, 2)\n",
    "\n",
    "        for i in nums[:-1]:\n",
    "\n",
    "            if n % i == 0:\n",
    "                flag = False\n",
    "                break\n",
    "            else:\n",
    "                flag = True\n",
    "        if flag:\n",
    "            # print('YES')\n",
    "            ans = 1\n",
    "        else:\n",
    "            # print('NO')\n",
    "            pass\n",
    "\n",
    "    return ans\n",
    "\n",
    "total = 0\n",
    "for i in range(count_n):\n",
    "    n = int(input())\n",
    "    # print(f'n: {n}')\n",
    "    # print(prime(n))\n",
    "    total += prime(n)"
   ],
   "metadata": {
    "collapsed": false,
    "pycharm": {
     "name": "#%%\n"
    }
   }
  },
  {
   "cell_type": "code",
   "execution_count": null,
   "outputs": [],
   "source": [
    "# L\n",
    "# vibo: числовой прямоугольник (по горизонтали)\n",
    "\n",
    "n, m = int(input()), int(input())\n",
    "\n",
    "start = 1\n",
    "finish = start + m\n",
    "\n",
    "for i in range(n):\n",
    "\n",
    "    ans = list(range(start, finish))\n",
    "\n",
    "    if n * m < 10:\n",
    "        new_ans = []\n",
    "        for k in ans:\n",
    "            new_ans.append(str(k))\n",
    "\n",
    "    if n * m >= 10:\n",
    "        new_ans = []\n",
    "        for j in ans:\n",
    "            if j < 10:\n",
    "                j = ' ' + str(j)\n",
    "                new_ans.append(j)\n",
    "            else:\n",
    "                j = str(j)\n",
    "                new_ans.append(j)\n",
    "\n",
    "    if n * m >= 100:\n",
    "        new_ans = []\n",
    "        for j in ans:\n",
    "            if j < 10:\n",
    "                new_j = '  ' + str(j)\n",
    "                new_ans.append(new_j)\n",
    "            if j >= 10 and j < 100:\n",
    "                new_j = ' ' + str(j)\n",
    "                new_ans.append(new_j)\n",
    "            if j >= 100:\n",
    "                new_j = str(j)\n",
    "                new_ans.append(new_j)\n",
    "\n",
    "    print(\" \".join(new_ans))\n",
    "    start = finish\n",
    "    finish = start + m"
   ],
   "metadata": {
    "collapsed": false,
    "pycharm": {
     "name": "#%%\n"
    }
   }
  },
  {
   "cell_type": "code",
   "execution_count": null,
   "outputs": [],
   "source": [
    "# M\n",
    "# vibo: числовой прямоугольник (по вертикали)\n",
    "\n",
    "n, m = int(input()), int(input())\n",
    "\n",
    "for i in range(1, n + 1):\n",
    "    ans = list(range(i, m * n + 1, n))\n",
    "\n",
    "    if n * m < 10:\n",
    "        new_ans = []\n",
    "        for k in ans:\n",
    "            new_ans.append(str(k))\n",
    "\n",
    "    if n * m >= 10:\n",
    "        new_ans = []\n",
    "        for j in ans:\n",
    "            if j < 10:\n",
    "                j = ' ' + str(j)\n",
    "                new_ans.append(j)\n",
    "            else:\n",
    "                j = str(j)\n",
    "                new_ans.append(j)\n",
    "\n",
    "    if n * m >= 100:\n",
    "        new_ans = []\n",
    "        for j in ans:\n",
    "            if j < 10:\n",
    "                new_j = '  ' + str(j)\n",
    "                new_ans.append(new_j)\n",
    "            if j >= 10 and j < 100:\n",
    "                new_j = ' ' + str(j)\n",
    "                new_ans.append(new_j)\n",
    "            if j >= 100:\n",
    "                new_j = str(j)\n",
    "                new_ans.append(new_j)\n",
    "\n",
    "    print(\" \".join(new_ans))"
   ],
   "metadata": {
    "collapsed": false,
    "pycharm": {
     "name": "#%%\n"
    }
   }
  },
  {
   "cell_type": "code",
   "execution_count": null,
   "outputs": [],
   "source": [
    "# N\n",
    "# vibo: числовой прямоугольник (змейка по горизонтали)\n",
    "\n",
    "n, m = int(input()), int(input())\n",
    "\n",
    "start = 1\n",
    "finish = start + m\n",
    "\n",
    "for i in range(n):\n",
    "\n",
    "    ans = list(range(start, finish))\n",
    "\n",
    "    if n * m < 10:\n",
    "        new_ans = []\n",
    "        for k in ans:\n",
    "            new_ans.append(str(k))\n",
    "\n",
    "    if n * m >= 10:\n",
    "        new_ans = []\n",
    "        for j in ans:\n",
    "            if j < 10:\n",
    "                j = ' ' + str(j)\n",
    "                new_ans.append(j)\n",
    "            else:\n",
    "                j = str(j)\n",
    "                new_ans.append(j)\n",
    "\n",
    "    if n * m >= 100:\n",
    "        new_ans = []\n",
    "        for j in ans:\n",
    "            if j < 10:\n",
    "                new_j = '  ' + str(j)\n",
    "                new_ans.append(new_j)\n",
    "            if j >= 10 and j < 100:\n",
    "                new_j = ' ' + str(j)\n",
    "                new_ans.append(new_j)\n",
    "            if j >= 100:\n",
    "                new_j = str(j)\n",
    "                new_ans.append(new_j)\n",
    "\n",
    "    if i % 2 == 0:\n",
    "        new_new_ans = new_ans\n",
    "    if i % 2 != 0:\n",
    "        new_new_ans = new_ans[::-1]\n",
    "    print(\" \".join(new_new_ans))\n",
    "    start = finish\n",
    "    finish = start + m"
   ],
   "metadata": {
    "collapsed": false,
    "pycharm": {
     "name": "#%%\n"
    }
   }
  },
  {
   "cell_type": "code",
   "execution_count": null,
   "outputs": [],
   "source": [
    "# O\n",
    "# vibo: числовой прямоугольник (змейка по вертикали)\n",
    "# vibo: решение через numpy\n",
    "\n",
    "import numpy as np\n",
    "\n",
    "m, n = int(input()), int(input())\n",
    "\n",
    "matr = np.array([i for i in range(1,n * m+1)]).reshape(n,m)\n",
    "\n",
    "for j in range(m):\n",
    "    ans = []\n",
    "    for i in range(n):\n",
    "        if i%2 == 0:\n",
    "            ans.append(matr[i][j])\n",
    "        else:\n",
    "            ans.append(matr[i][-j-1])\n",
    "\n",
    "    if n * m < 10:\n",
    "        new_ans = []\n",
    "        for k in ans:\n",
    "            new_ans.append(str(k))\n",
    "\n",
    "    if n * m >= 10:\n",
    "        new_ans = []\n",
    "        for j in ans:\n",
    "            if j < 10:\n",
    "                j = ' ' + str(j)\n",
    "                new_ans.append(j)\n",
    "            else:\n",
    "                j = str(j)\n",
    "                new_ans.append(j)\n",
    "\n",
    "    if n * m >= 100:\n",
    "        new_ans = []\n",
    "        for j in ans:\n",
    "            if j < 10:\n",
    "                new_j = '  ' + str(j)\n",
    "                new_ans.append(new_j)\n",
    "            if j >= 10 and j < 100:\n",
    "                new_j = ' ' + str(j)\n",
    "                new_ans.append(new_j)\n",
    "            if j >= 100:\n",
    "                new_j = str(j)\n",
    "                new_ans.append(new_j)\n",
    "\n",
    "    print(\" \".join(new_ans))"
   ],
   "metadata": {
    "collapsed": false,
    "pycharm": {
     "name": "#%%\n"
    }
   }
  },
  {
   "cell_type": "code",
   "execution_count": null,
   "outputs": [],
   "source": [
    "# P\n",
    "# vibo: таблица умножения (редизайн)\n",
    "# vibo: WA на тесте-4\n",
    "\n",
    "n = int(input())\n",
    "size = int(input())\n",
    "\n",
    "for i in range(1, n + 1):\n",
    "    ans = []\n",
    "    for j in range(1, n + 1):\n",
    "        value = i * j\n",
    "        if size == 3:\n",
    "            str_value = ' ' * 1 + str(value) + ' ' * 1\n",
    "        if size == 5:\n",
    "            if value < 10:\n",
    "                str_value = ' ' * 2 + str(value) + ' ' * 2\n",
    "            if value > 9:\n",
    "                str_value = ' ' * 1 + str(value) + ' ' * 2\n",
    "        ans.append(str_value)\n",
    "\n",
    "    separator = '|'\n",
    "    print(separator.join(map(str, ans)))\n",
    "    if value == n * n:\n",
    "        break\n",
    "    else:\n",
    "        if size == 3:\n",
    "            print('-' * n * n + '-' * 2)\n",
    "        if size == 5:\n",
    "            print('-' * n * n + '-' * 4)"
   ],
   "metadata": {
    "collapsed": false,
    "pycharm": {
     "name": "#%%\n"
    }
   }
  },
  {
   "cell_type": "code",
   "execution_count": null,
   "outputs": [],
   "source": [
    "# Q\n",
    "count_num = int(input())\n",
    "ans = 0\n",
    "\n",
    "for i in range(count_num):\n",
    "    input_num = input()\n",
    "    input_num = list(input_num)\n",
    "    if input_num == input_num[::-1]:\n",
    "        ans += 1\n",
    "\n",
    "print(ans)"
   ],
   "metadata": {
    "collapsed": false,
    "pycharm": {
     "name": "#%%\n"
    }
   }
  },
  {
   "cell_type": "code",
   "execution_count": null,
   "outputs": [],
   "source": [
    "# R\n",
    "# vibo: не понимаю, как расставлены пробелы в примере\n",
    "\n",
    "# n = int(input())\n",
    "\n",
    "# ans_list = list(range(1, n + 1))\n",
    "\n",
    "# for i in ans_list:\n",
    "#     print(ans_list[:i])\n",
    "#     ans_list = ans_list[i:]\n",
    "\n",
    "#     if ans_list == []:\n",
    "#         break\n",
    "\n",
    "\n",
    "# print(len('     1     '))\n",
    "# print(len('    2 3    '))\n",
    "# print(len('   4 5 6   '))\n",
    "# print(len(' 7 8 9 10  '))\n",
    "# print(len('11 12 13 14'))"
   ],
   "metadata": {
    "collapsed": false,
    "pycharm": {
     "name": "#%%\n"
    }
   }
  },
  {
   "cell_type": "code",
   "execution_count": null,
   "outputs": [],
   "source": [
    "# S"
   ],
   "metadata": {
    "collapsed": false,
    "pycharm": {
     "name": "#%%\n"
    }
   }
  },
  {
   "cell_type": "code",
   "execution_count": null,
   "outputs": [],
   "source": [
    "# T"
   ],
   "metadata": {
    "collapsed": false,
    "pycharm": {
     "name": "#%%\n"
    }
   }
  }
 ],
 "metadata": {
  "kernelspec": {
   "display_name": "Python 3.9.9 ('venv-vsc': venv)",
   "language": "python",
   "name": "python3"
  },
  "language_info": {
   "codemirror_mode": {
    "name": "ipython",
    "version": 3
   },
   "file_extension": ".py",
   "mimetype": "text/x-python",
   "name": "python",
   "nbconvert_exporter": "python",
   "pygments_lexer": "ipython3",
   "version": "3.9.9"
  },
  "orig_nbformat": 4,
  "vscode": {
   "interpreter": {
    "hash": "43807f5c999ff1bc99c26ab56886fdb0eb1ab623df40ddad9a297a39d65cf47c"
   }
  }
 },
 "nbformat": 4,
 "nbformat_minor": 2
}