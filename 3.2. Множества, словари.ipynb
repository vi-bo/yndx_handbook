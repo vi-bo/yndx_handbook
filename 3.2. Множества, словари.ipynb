{
 "cells": [
  {
   "cell_type": "markdown",
   "source": [
    "\n",
    "# 3. Коллекции и работа с памятью"
   ],
   "metadata": {
    "collapsed": false,
    "pycharm": {
     "name": "#%% md\n"
    }
   }
  },
  {
   "cell_type": "markdown",
   "source": [
    "## 3.2. Множества, словари"
   ],
   "metadata": {
    "collapsed": false,
    "pycharm": {
     "name": "#%% md\n"
    }
   }
  },
  {
   "cell_type": "markdown",
   "source": [
    "### Теория"
   ],
   "metadata": {
    "collapsed": false,
    "pycharm": {
     "name": "#%% md\n"
    }
   }
  },
  {
   "cell_type": "markdown",
   "source": [
    "#### Множество"
   ],
   "metadata": {
    "collapsed": false,
    "pycharm": {
     "name": "#%% md\n"
    }
   }
  },
  {
   "cell_type": "code",
   "execution_count": 1,
   "outputs": [],
   "source": [
    "vowels = {\"а\", \"e\", \"ё\", \"и\", \"о\", \"у\", \"ы\", \"э\", \"ю\", \"я\"}"
   ],
   "metadata": {
    "collapsed": false,
    "pycharm": {
     "name": "#%%\n"
    }
   }
  },
  {
   "cell_type": "code",
   "execution_count": 2,
   "outputs": [
    {
     "name": "stdout",
     "output_type": "stream",
     "text": [
      "Длина пустого множества равна 0.\n"
     ]
    }
   ],
   "source": [
    "empty_set = set()\n",
    "print(f\"Длина пустого множества равна {len(empty_set)}.\")"
   ],
   "metadata": {
    "collapsed": false,
    "pycharm": {
     "name": "#%%\n"
    }
   }
  },
  {
   "cell_type": "code",
   "execution_count": 3,
   "outputs": [
    {
     "name": "stdout",
     "output_type": "stream",
     "text": [
      "{'к', 'я', 'ц', 'л', 'е', 'и', 'о'}\n"
     ]
    }
   ],
   "source": [
    "word = \"коллекция\"\n",
    "letters = set(word)\n",
    "print(letters)"
   ],
   "metadata": {
    "collapsed": false,
    "pycharm": {
     "name": "#%%\n"
    }
   }
  },
  {
   "cell_type": "code",
   "execution_count": 12,
   "outputs": [
    {
     "name": "stdout",
     "output_type": "stream",
     "text": [
      "Гласная буква\n"
     ]
    }
   ],
   "source": [
    "vowels = {\"а\", \"e\", \"ё\", \"и\", \"о\", \"у\", \"ы\", \"э\", \"ю\", \"я\"}\n",
    "letter = input(\"Введите букву русского алфавита: \")\n",
    "if letter.lower() in vowels:\n",
    "    print(\"Гласная буква\")\n",
    "else:\n",
    "    print(\"Согласная буква\")"
   ],
   "metadata": {
    "collapsed": false,
    "pycharm": {
     "name": "#%%\n"
    }
   }
  },
  {
   "cell_type": "code",
   "execution_count": 13,
   "outputs": [
    {
     "name": "stdout",
     "output_type": "stream",
     "text": [
      "я\n",
      "а\n",
      "ю\n",
      "о\n",
      "э\n",
      "ё\n",
      "e\n",
      "у\n",
      "и\n",
      "ы\n"
     ]
    }
   ],
   "source": [
    "vowels = {\"а\", \"e\", \"ё\", \"и\", \"о\", \"у\", \"ы\", \"э\", \"ю\", \"я\"}\n",
    "for letter in vowels:\n",
    "    print(letter)"
   ],
   "metadata": {
    "collapsed": false,
    "pycharm": {
     "name": "#%%\n"
    }
   }
  },
  {
   "cell_type": "code",
   "execution_count": 14,
   "outputs": [
    {
     "name": "stdout",
     "output_type": "stream",
     "text": [
      "{1, 2, 3, 4, 5}\n"
     ]
    }
   ],
   "source": [
    "# vibo: объединение множества\n",
    "s_1 = {1, 2, 3}\n",
    "s_2 = {3, 4, 5}\n",
    "s_union = s_1 | s_2\n",
    "# s_union = s_1.union(s_2)\n",
    "print(s_union)"
   ],
   "metadata": {
    "collapsed": false,
    "pycharm": {
     "name": "#%%\n"
    }
   }
  },
  {
   "cell_type": "code",
   "execution_count": 15,
   "outputs": [
    {
     "name": "stdout",
     "output_type": "stream",
     "text": [
      "{3}\n"
     ]
    }
   ],
   "source": [
    "# vibo: пересечение множеств\n",
    "s_1 = {1, 2, 3}\n",
    "s_2 = {3, 4, 5}\n",
    "s_intersection = s_1 & s_2\n",
    "# s_intersection = s_1.intersection(s_2)\n",
    "print(s_intersection)"
   ],
   "metadata": {
    "collapsed": false,
    "pycharm": {
     "name": "#%%\n"
    }
   }
  },
  {
   "cell_type": "code",
   "execution_count": 16,
   "outputs": [
    {
     "name": "stdout",
     "output_type": "stream",
     "text": [
      "{1, 2}\n"
     ]
    }
   ],
   "source": [
    "# vibo: разность множеств\n",
    "s_1 = {1, 2, 3}\n",
    "s_2 = {3, 4, 5}\n",
    "s_dif = s_1 - s_2\n",
    "# s_dif = s_1.difference(s_2)\n",
    "print(s_dif)"
   ],
   "metadata": {
    "collapsed": false,
    "pycharm": {
     "name": "#%%\n"
    }
   }
  },
  {
   "cell_type": "code",
   "execution_count": 17,
   "outputs": [
    {
     "name": "stdout",
     "output_type": "stream",
     "text": [
      "{1, 2, 4, 5}\n"
     ]
    }
   ],
   "source": [
    "# vibo: симметричная разность множеств\n",
    "s_1 = {1, 2, 3}\n",
    "s_2 = {3, 4, 5}\n",
    "s_sym_dif = s_1 ^ s_2\n",
    "# s_sym_dif = s_1.symmetric_difference(s_2)\n",
    "print(s_sym_dif)"
   ],
   "metadata": {
    "collapsed": false,
    "pycharm": {
     "name": "#%%\n"
    }
   }
  },
  {
   "cell_type": "code",
   "execution_count": 18,
   "outputs": [
    {
     "name": "stdout",
     "output_type": "stream",
     "text": [
      "я, и, о\n"
     ]
    }
   ],
   "source": [
    "vowels = {\"а\", \"e\", \"ё\", \"и\", \"о\", \"у\", \"ы\", \"э\", \"ю\", \"я\"}\n",
    "letters = set(\"коллекция\")\n",
    "print(\", \".join(letters & vowels))"
   ],
   "metadata": {
    "collapsed": false,
    "pycharm": {
     "name": "#%%\n"
    }
   }
  },
  {
   "cell_type": "code",
   "execution_count": 19,
   "outputs": [
    {
     "name": "stdout",
     "output_type": "stream",
     "text": [
      "True\n"
     ]
    }
   ],
   "source": [
    "# vibo: совпадение множеств\n",
    "s_1 = {1, 2, 3}\n",
    "s_2 = {3, 1, 2}\n",
    "print(s_1 == s_2)"
   ],
   "metadata": {
    "collapsed": false,
    "pycharm": {
     "name": "#%%\n"
    }
   }
  },
  {
   "cell_type": "code",
   "execution_count": 20,
   "outputs": [
    {
     "name": "stdout",
     "output_type": "stream",
     "text": [
      "True\n"
     ]
    }
   ],
   "source": [
    "# vibo: подмножество\n",
    "s_1 = {1, 2, 3}\n",
    "s_2 = {1, 2, 3, 4}\n",
    "print(s_1 <= s_2)"
   ],
   "metadata": {
    "collapsed": false,
    "pycharm": {
     "name": "#%%\n"
    }
   }
  },
  {
   "cell_type": "code",
   "execution_count": 21,
   "outputs": [
    {
     "name": "stdout",
     "output_type": "stream",
     "text": [
      "True\n"
     ]
    }
   ],
   "source": [
    "# vibo: надмножество\n",
    "s_1 = {1, 2, 3}\n",
    "s_2 = {1, 2, 3, 4}\n",
    "print(s_2 >= s_1)"
   ],
   "metadata": {
    "collapsed": false,
    "pycharm": {
     "name": "#%%\n"
    }
   }
  },
  {
   "cell_type": "markdown",
   "source": [
    "**МНОЖЕСТВО - ИЗМЕНЯЕМАЯ, НЕУПОРЯДОЧЕННАЯ КОЛЛЕКЦИЯ**"
   ],
   "metadata": {
    "collapsed": false,
    "pycharm": {
     "name": "#%% md\n"
    }
   }
  },
  {
   "cell_type": "markdown",
   "source": [
    "#### Методы множества"
   ],
   "metadata": {
    "collapsed": false,
    "pycharm": {
     "name": "#%% md\n"
    }
   }
  },
  {
   "cell_type": "code",
   "execution_count": 22,
   "outputs": [
    {
     "name": "stdout",
     "output_type": "stream",
     "text": [
      "{1}\n"
     ]
    }
   ],
   "source": [
    "s = set()\n",
    "s.add(1)\n",
    "print(s)"
   ],
   "metadata": {
    "collapsed": false,
    "pycharm": {
     "name": "#%%\n"
    }
   }
  },
  {
   "cell_type": "code",
   "execution_count": 23,
   "outputs": [
    {
     "name": "stdout",
     "output_type": "stream",
     "text": [
      "{1, 3}\n"
     ]
    }
   ],
   "source": [
    "# Удалить элемент множества. Возвращает исключение KeyError, если элемент не принадлежит множеству\n",
    "s = {1, 2, 3}\n",
    "s.remove(2)\n",
    "print(s)"
   ],
   "metadata": {
    "collapsed": false,
    "pycharm": {
     "name": "#%%\n"
    }
   }
  },
  {
   "cell_type": "code",
   "execution_count": 24,
   "outputs": [
    {
     "name": "stdout",
     "output_type": "stream",
     "text": [
      "{1, 3}\n"
     ]
    }
   ],
   "source": [
    "# Удалить элемент, если он принадлежит множеству\n",
    "s = {1, 2, 3}\n",
    "s.discard(2)\n",
    "print(s)"
   ],
   "metadata": {
    "collapsed": false,
    "pycharm": {
     "name": "#%%\n"
    }
   }
  },
  {
   "cell_type": "code",
   "execution_count": 25,
   "outputs": [
    {
     "name": "stdout",
     "output_type": "stream",
     "text": [
      "1\n",
      "{2, 3}\n"
     ]
    }
   ],
   "source": [
    "# Вернуть и удалить произвольный элемент множества\n",
    "s = {1, 2, 3}\n",
    "x = s.pop()\n",
    "print(x)\n",
    "print(s)"
   ],
   "metadata": {
    "collapsed": false,
    "pycharm": {
     "name": "#%%\n"
    }
   }
  },
  {
   "cell_type": "code",
   "execution_count": 26,
   "outputs": [
    {
     "name": "stdout",
     "output_type": "stream",
     "text": [
      "set()\n"
     ]
    }
   ],
   "source": [
    "# Очистить множество, удалив все его элементы\n",
    "s = {1, 2, 3}\n",
    "s.clear()\n",
    "print(s)"
   ],
   "metadata": {
    "collapsed": false,
    "pycharm": {
     "name": "#%%\n"
    }
   }
  },
  {
   "cell_type": "code",
   "execution_count": null,
   "outputs": [],
   "source": [],
   "metadata": {
    "collapsed": false,
    "pycharm": {
     "name": "#%%\n"
    }
   }
  },
  {
   "cell_type": "code",
   "execution_count": 27,
   "outputs": [],
   "source": [
    "countries_and_capitals = [(\"Россия\", \"Москва\"), (\"США\", \"Вашингтон\"), (\"Франция\", \"Париж\")]"
   ],
   "metadata": {
    "collapsed": false,
    "pycharm": {
     "name": "#%%\n"
    }
   }
  },
  {
   "cell_type": "code",
   "execution_count": 28,
   "outputs": [
    {
     "name": "stdout",
     "output_type": "stream",
     "text": [
      "Париж\n"
     ]
    }
   ],
   "source": [
    "countries_and_capitals = [(\"Россия\", \"Москва\"), (\"США\", \"Вашингтон\"), (\"Франция\", \"Париж\")]\n",
    "for country in countries_and_capitals:\n",
    "    if country[0] == \"Франция\":\n",
    "        print(country[1])\n",
    "        break"
   ],
   "metadata": {
    "collapsed": false,
    "pycharm": {
     "name": "#%%\n"
    }
   }
  },
  {
   "cell_type": "markdown",
   "source": [
    "#### Словари"
   ],
   "metadata": {
    "collapsed": false,
    "pycharm": {
     "name": "#%% md\n"
    }
   }
  },
  {
   "cell_type": "code",
   "execution_count": 29,
   "outputs": [
    {
     "name": "stdout",
     "output_type": "stream",
     "text": [
      "Париж\n"
     ]
    }
   ],
   "source": [
    "countries_and_capitals = {\"Россия\": \"Москва\",\n",
    "                          \"США\": \"Вашингтон\",\n",
    "                          \"Франция\": \"Париж\"}\n",
    "print(countries_and_capitals[\"Франция\"])"
   ],
   "metadata": {
    "collapsed": false,
    "pycharm": {
     "name": "#%%\n"
    }
   }
  },
  {
   "cell_type": "code",
   "execution_count": 30,
   "outputs": [
    {
     "name": "stdout",
     "output_type": "stream",
     "text": [
      "{'Россия': 'Москва', 'США': 'Вашингтон', 'Франция': 'Париж', 'Сербия': 'Белград'}\n"
     ]
    }
   ],
   "source": [
    "countries_and_capitals = {\"Россия\": \"Москва\",\n",
    "                          \"США\": \"Вашингтон\",\n",
    "                          \"Франция\": \"Париж\"}\n",
    "countries_and_capitals[\"Сербия\"] = \"Белград\"\n",
    "print(countries_and_capitals)"
   ],
   "metadata": {
    "collapsed": false,
    "pycharm": {
     "name": "#%%\n"
    }
   }
  },
  {
   "cell_type": "code",
   "execution_count": 31,
   "outputs": [
    {
     "name": "stdout",
     "output_type": "stream",
     "text": [
      "new_value\n"
     ]
    }
   ],
   "source": [
    "d = {\"key\": \"old_value\"}\n",
    "d[\"key\"] = \"new_value\"\n",
    "print(d[\"key\"])"
   ],
   "metadata": {
    "collapsed": false,
    "pycharm": {
     "name": "#%%\n"
    }
   }
  },
  {
   "cell_type": "code",
   "execution_count": 32,
   "outputs": [
    {
     "ename": "KeyError",
     "evalue": "'Сербия'",
     "output_type": "error",
     "traceback": [
      "\u001B[0;31m---------------------------------------------------------------------------\u001B[0m",
      "\u001B[0;31mKeyError\u001B[0m                                  Traceback (most recent call last)",
      "Input \u001B[0;32mIn [32]\u001B[0m, in \u001B[0;36m<cell line: 4>\u001B[0;34m()\u001B[0m\n\u001B[1;32m      1\u001B[0m countries_and_capitals \u001B[38;5;241m=\u001B[39m {\u001B[38;5;124m\"\u001B[39m\u001B[38;5;124mРоссия\u001B[39m\u001B[38;5;124m\"\u001B[39m: \u001B[38;5;124m\"\u001B[39m\u001B[38;5;124mМосква\u001B[39m\u001B[38;5;124m\"\u001B[39m,\n\u001B[1;32m      2\u001B[0m                           \u001B[38;5;124m\"\u001B[39m\u001B[38;5;124mСША\u001B[39m\u001B[38;5;124m\"\u001B[39m: \u001B[38;5;124m\"\u001B[39m\u001B[38;5;124mВашингтон\u001B[39m\u001B[38;5;124m\"\u001B[39m,\n\u001B[1;32m      3\u001B[0m                           \u001B[38;5;124m\"\u001B[39m\u001B[38;5;124mФранция\u001B[39m\u001B[38;5;124m\"\u001B[39m: \u001B[38;5;124m\"\u001B[39m\u001B[38;5;124mПариж\u001B[39m\u001B[38;5;124m\"\u001B[39m}\n\u001B[0;32m----> 4\u001B[0m \u001B[38;5;28mprint\u001B[39m(\u001B[43mcountries_and_capitals\u001B[49m\u001B[43m[\u001B[49m\u001B[38;5;124;43m\"\u001B[39;49m\u001B[38;5;124;43mСербия\u001B[39;49m\u001B[38;5;124;43m\"\u001B[39;49m\u001B[43m]\u001B[49m)\n",
      "\u001B[0;31mKeyError\u001B[0m: 'Сербия'"
     ]
    }
   ],
   "source": [
    "countries_and_capitals = {\"Россия\": \"Москва\",\n",
    "                          \"США\": \"Вашингтон\",\n",
    "                          \"Франция\": \"Париж\"}\n",
    "print(countries_and_capitals[\"Сербия\"])"
   ],
   "metadata": {
    "collapsed": false,
    "pycharm": {
     "name": "#%%\n"
    }
   }
  },
  {
   "cell_type": "code",
   "execution_count": 34,
   "outputs": [
    {
     "name": "stdout",
     "output_type": "stream",
     "text": [
      "Страна пока не добавлена в словарь\n"
     ]
    }
   ],
   "source": [
    "countries_and_capitals = {\"Россия\": \"Москва\",\n",
    "                          \"США\": \"Вашингтон\",\n",
    "                          \"Франция\": \"Париж\"}\n",
    "if \"Сербия\" in countries_and_capitals:\n",
    "    print(countries_and_capitals[\"Сербия\"])\n",
    "else:\n",
    "    print(\"Страна пока не добавлена в словарь\")"
   ],
   "metadata": {
    "collapsed": false,
    "pycharm": {
     "name": "#%%\n"
    }
   }
  },
  {
   "cell_type": "code",
   "execution_count": 35,
   "outputs": [
    {
     "name": "stdout",
     "output_type": "stream",
     "text": [
      "У страны Россия столица — Москва.\n",
      "У страны США столица — Вашингтон.\n",
      "У страны Франция столица — Париж.\n"
     ]
    }
   ],
   "source": [
    "countries_and_capitals = {\"Россия\": \"Москва\",\n",
    "                          \"США\": \"Вашингтон\",\n",
    "                          \"Франция\": \"Париж\"}\n",
    "for country in countries_and_capitals:\n",
    "    print(f\"У страны {country} столица — {countries_and_capitals[country]}.\")"
   ],
   "metadata": {
    "collapsed": false,
    "pycharm": {
     "name": "#%%\n"
    }
   }
  },
  {
   "cell_type": "code",
   "execution_count": 37,
   "outputs": [
    {
     "name": "stdout",
     "output_type": "stream",
     "text": [
      "США: [0, 1]\n",
      "Россия: [2, 3, 4]\n",
      "Франция: [5]\n",
      "Сербия: [6]\n"
     ]
    }
   ],
   "source": [
    "# создаём пустой словарь\n",
    "countries = dict()\n",
    "# вводим первую строку до цикла (можно заменить, использовав оператор-морж)\n",
    "country = input()\n",
    "# создаём счётчик номеров строк\n",
    "str_number = 0\n",
    "# продолжаем цикл, пока не введена строка «СТОП»\n",
    "while country != \"СТОП\":\n",
    "    # если введённой страны нет в словаре, создаём ключ и записываем по ключу список из одного номера строки\n",
    "    if country not in countries:\n",
    "        countries[country] = [str_number]\n",
    "    # иначе добавляем в список по ключу новое значение номера строки\n",
    "    else:\n",
    "        countries[country].append(str_number)\n",
    "    # увеличиваем счётчик\n",
    "    str_number += 1\n",
    "    # вводим следующую строку\n",
    "    country = input()\n",
    "# выводим название страны и полученные списки с новой строки\n",
    "for country in countries:\n",
    "    print(f\"{country}: {countries[country]}\")"
   ],
   "metadata": {
    "collapsed": false,
    "pycharm": {
     "name": "#%%\n"
    }
   }
  },
  {
   "cell_type": "markdown",
   "source": [
    "#### Операции со словарями"
   ],
   "metadata": {
    "collapsed": false,
    "pycharm": {
     "name": "#%% md\n"
    }
   }
  },
  {
   "cell_type": "code",
   "execution_count": 38,
   "outputs": [
    {
     "name": "stdout",
     "output_type": "stream",
     "text": [
      "3\n"
     ]
    }
   ],
   "source": [
    "# Возвращает количество ключей в словаре\n",
    "d = {\"a\": 1, \"b\": 2, \"c\": 3}\n",
    "print(len(d))"
   ],
   "metadata": {
    "collapsed": false,
    "pycharm": {
     "name": "#%%\n"
    }
   }
  },
  {
   "cell_type": "code",
   "execution_count": 39,
   "outputs": [
    {
     "name": "stdout",
     "output_type": "stream",
     "text": [
      "{'a': 1, 'c': 3}\n"
     ]
    }
   ],
   "source": [
    "# Удалить ключ из словаря. Если ключа нет, то вызывается исключение KeyError\n",
    "d = {\"a\": 1, \"b\": 2, \"c\": 3}\n",
    "del d[\"b\"]\n",
    "print(d)"
   ],
   "metadata": {
    "collapsed": false,
    "pycharm": {
     "name": "#%%\n"
    }
   }
  },
  {
   "cell_type": "code",
   "execution_count": 40,
   "outputs": [
    {
     "name": "stdout",
     "output_type": "stream",
     "text": [
      "{}\n"
     ]
    }
   ],
   "source": [
    "# Удалить все ключи и значения в словаре\n",
    "d = {\"a\": 1, \"b\": 2, \"c\": 3}\n",
    "d.clear()\n",
    "print(d)"
   ],
   "metadata": {
    "collapsed": false,
    "pycharm": {
     "name": "#%%\n"
    }
   }
  },
  {
   "cell_type": "code",
   "execution_count": 41,
   "outputs": [
    {
     "name": "stdout",
     "output_type": "stream",
     "text": [
      "{'a': 1, 'b': 2, 'c': 3}\n"
     ]
    }
   ],
   "source": [
    "# Возвращает копию словаря\n",
    "d = {\"a\": 1, \"b\": 2, \"c\": 3}\n",
    "d_new = d.copy()\n",
    "print(d_new)"
   ],
   "metadata": {
    "collapsed": false,
    "pycharm": {
     "name": "#%%\n"
    }
   }
  },
  {
   "cell_type": "code",
   "execution_count": 42,
   "outputs": [
    {
     "name": "stdout",
     "output_type": "stream",
     "text": [
      "Ключа нет в словаре\n"
     ]
    }
   ],
   "source": [
    "# Возвращает значение по ключу key. Если ключа нет, то возвращает значение default\n",
    "d = {\"a\": 1, \"b\": 2, \"c\": 3}\n",
    "print(d.get(\"e\", \"Ключа нет в словаре\"))"
   ],
   "metadata": {
    "collapsed": false,
    "pycharm": {
     "name": "#%%\n"
    }
   }
  },
  {
   "cell_type": "code",
   "execution_count": 43,
   "outputs": [
    {
     "name": "stdout",
     "output_type": "stream",
     "text": [
      "a 1\n",
      "b 2\n",
      "c 3\n"
     ]
    }
   ],
   "source": [
    "# Возвращает итерируемый объект, состоящий из кортежей (ключ, значение) словаря\n",
    "d = {\"a\": 1, \"b\": 2, \"c\": 3}\n",
    "for key, value in d.items():\n",
    "    print(key, value)"
   ],
   "metadata": {
    "collapsed": false,
    "pycharm": {
     "name": "#%%\n"
    }
   }
  },
  {
   "cell_type": "code",
   "execution_count": 44,
   "outputs": [
    {
     "name": "stdout",
     "output_type": "stream",
     "text": [
      "a\n",
      "b\n",
      "c\n"
     ]
    }
   ],
   "source": [
    "# Возвращает итерируемый объект, состоящий из ключей словаря\n",
    "d = {\"a\": 1, \"b\": 2, \"c\": 3}\n",
    "for key in d.keys():\n",
    "    print(key)"
   ],
   "metadata": {
    "collapsed": false,
    "pycharm": {
     "name": "#%%\n"
    }
   }
  },
  {
   "cell_type": "code",
   "execution_count": 46,
   "outputs": [
    {
     "name": "stdout",
     "output_type": "stream",
     "text": [
      "1\n",
      "{'b': 2, 'c': 3}\n"
     ]
    }
   ],
   "source": [
    "# Возвращает значение по ключу key и удаляет его из словаря. Если ключа нет, то возвращает default\n",
    "d = {\"a\": 1, \"b\": 2, \"c\": 3}\n",
    "x = d.pop(\"a\")\n",
    "print(x)\n",
    "print(d)"
   ],
   "metadata": {
    "collapsed": false,
    "pycharm": {
     "name": "#%%\n"
    }
   }
  },
  {
   "cell_type": "code",
   "execution_count": 47,
   "outputs": [
    {
     "name": "stdout",
     "output_type": "stream",
     "text": [
      "1\n",
      "2\n",
      "3\n"
     ]
    }
   ],
   "source": [
    "# Возвращает итерируемый объект, состоящий из значений словаря\n",
    "d = {\"a\": 1, \"b\": 2, \"c\": 3}\n",
    "for value in d.values():\n",
    "    print(value)"
   ],
   "metadata": {
    "collapsed": false,
    "pycharm": {
     "name": "#%%\n"
    }
   }
  },
  {
   "cell_type": "code",
   "execution_count": 48,
   "outputs": [
    {
     "name": "stdout",
     "output_type": "stream",
     "text": [
      "США: [0, 1]\n",
      "Россия: [2, 3, 4]\n",
      "Франция: [5]\n",
      "Сербия: [6]\n"
     ]
    }
   ],
   "source": [
    "# создаём пустой словарь\n",
    "countries = dict()\n",
    "# вводим первую строку до цикла (можно заменить, использовав оператор-морж)\n",
    "country = input()\n",
    "# создаём счётчик номеров строк\n",
    "str_number = 0\n",
    "# продолжаем цикл, пока не введена строка «СТОП»\n",
    "while country != \"СТОП\":\n",
    "    # Если страна country есть среди ключей, то get() возвращает список,\n",
    "    # хранящийся по этому ключу, иначе get() возвращает пустой список.\n",
    "    # Добавляем в список значение str_number.\n",
    "    countries[country] = countries.get(country, []) + [str_number]\n",
    "    # увеличиваем счётчик\n",
    "    str_number += 1\n",
    "    # вводим следующую строку\n",
    "    country = input()\n",
    "# выводим название страны и полученные списки с новой строки\n",
    "for country in countries:\n",
    "    print(f\"{country}: {countries[country]}\")"
   ],
   "metadata": {
    "collapsed": false,
    "pycharm": {
     "name": "#%%\n"
    }
   }
  },
  {
   "cell_type": "markdown",
   "source": [
    "### Практика /20"
   ],
   "metadata": {
    "collapsed": false,
    "pycharm": {
     "name": "#%% md\n"
    }
   }
  },
  {
   "cell_type": "code",
   "execution_count": 2,
   "outputs": [
    {
     "name": "stdout",
     "output_type": "stream",
     "text": [
      "здем\n"
     ]
    }
   ],
   "source": [
    "# A Полное решение\n",
    "print(\"\".join(set(input())))"
   ],
   "metadata": {
    "collapsed": false,
    "pycharm": {
     "name": "#%%\n"
    }
   }
  },
  {
   "cell_type": "code",
   "execution_count": 4,
   "outputs": [
    {
     "name": "stdout",
     "output_type": "stream",
     "text": [
      "а\n"
     ]
    }
   ],
   "source": [
    "# B Полное решение\n",
    "a, b = input(), input()\n",
    "# vibo: пересечение множеств\n",
    "print(\"\".join(set(a) & set(b)))"
   ],
   "metadata": {
    "collapsed": false,
    "pycharm": {
     "name": "#%%\n"
    }
   }
  },
  {
   "cell_type": "code",
   "execution_count": null,
   "outputs": [],
   "source": [
    "# C Полное решение\n",
    "n = int(input())\n",
    "\n",
    "ans = set()\n",
    "for i in range(n):\n",
    "    one_set = set(input().split())\n",
    "    # vibo: объединение множеств\n",
    "    ans |= one_set\n",
    "\n",
    "for i in ans:\n",
    "    print(i)"
   ],
   "metadata": {
    "collapsed": false,
    "pycharm": {
     "name": "#%%\n",
     "is_executing": true
    }
   }
  },
  {
   "cell_type": "code",
   "execution_count": 10,
   "outputs": [
    {
     "name": "stdout",
     "output_type": "stream",
     "text": [
      "3\n"
     ]
    }
   ],
   "source": [
    "# D Полное решение\n",
    "n, m = int(input()), int(input())\n",
    "n_set = set()\n",
    "m_set = set()\n",
    "for i in range(n):\n",
    "    person_n = input()\n",
    "    n_set.add(person_n)\n",
    "for j in range(m):\n",
    "    person_m = input()\n",
    "    # vibo: добавляем пользователя в множество\n",
    "    m_set.add(person_m)\n",
    "\n",
    "if len(n_set & m_set) >= 1:\n",
    "    print(len(n_set & m_set))\n",
    "else:\n",
    "    print('Таких нет')"
   ],
   "metadata": {
    "collapsed": false,
    "pycharm": {
     "name": "#%%\n"
    }
   }
  },
  {
   "cell_type": "code",
   "execution_count": 32,
   "outputs": [
    {
     "name": "stdout",
     "output_type": "stream",
     "text": [
      "1\n"
     ]
    }
   ],
   "source": [
    "# E Полное решение\n",
    "n, m = int(input()), int(input())\n",
    "\n",
    "persons = dict()\n",
    "\n",
    "for person in range(n + m):\n",
    "    person = input()\n",
    "    if person not in persons:\n",
    "        persons[person] = 1\n",
    "    else:\n",
    "        persons[person] += 1\n",
    "\n",
    "# vibo: фильртуем словарь по значениям\n",
    "new_persons = {k: v for k, v in persons.items() if v != 2}\n",
    "ans = len(new_persons)\n",
    "\n",
    "if ans > 0:\n",
    "    print(ans)\n",
    "else:\n",
    "    print('Таких нет')"
   ],
   "metadata": {
    "collapsed": false,
    "pycharm": {
     "name": "#%%\n"
    }
   }
  },
  {
   "cell_type": "code",
   "execution_count": 37,
   "outputs": [
    {
     "name": "stdout",
     "output_type": "stream",
     "text": [
      "Таких нет\n"
     ]
    }
   ],
   "source": [
    "# F Полное решение\n",
    "\n",
    "n, m = int(input()), int(input())\n",
    "\n",
    "persons = dict()\n",
    "\n",
    "for person in range(n + m):\n",
    "    person = input()\n",
    "    if person not in persons:\n",
    "        persons[person] = 1\n",
    "    else:\n",
    "        persons[person] += 1\n",
    "\n",
    "# vibo: фильртуем словарь по значениям\n",
    "new_persons = {k: v for k, v in persons.items() if v != 2}\n",
    "ans = len(new_persons)\n",
    "new_ans = sorted(new_persons.keys())\n",
    "\n",
    "if ans > 0:\n",
    "    for i in new_ans:\n",
    "        print(i)\n",
    "else:\n",
    "    print('Таких нет')"
   ],
   "metadata": {
    "collapsed": false,
    "pycharm": {
     "name": "#%%\n"
    }
   }
  },
  {
   "cell_type": "code",
   "execution_count": 48,
   "outputs": [
    {
     "name": "stdout",
     "output_type": "stream",
     "text": [
      ".... . .-.. .--.\n",
      "-- .\n",
      "... --- ...\n"
     ]
    }
   ],
   "source": [
    "# G Полное решение\n",
    "morze = {\n",
    "    'A': '.-', 'B': '-...', 'C': '-.-.',\n",
    "    'D': '-..', 'E': '.', 'F': '..-.',\n",
    "    'G': '--.', 'H': '....', 'I': '..',\n",
    "    'J': '.---', 'K': '-.-', 'L': '.-..',\n",
    "    'M': '--', 'N': '-.', 'O': '---',\n",
    "    'P': '.--.', 'Q': '--.-', 'R': '.-.',\n",
    "    'S': '...', 'T': '-', 'U': '..-',\n",
    "    'V': '...-', 'W': '.--', 'X': '-..-',\n",
    "    'Y': '-.--', 'Z': '--..',\n",
    "    '0': '-----', '1': '.----', '2': '..---',\n",
    "    '3': '...--', '4': '....-', '5': '.....',\n",
    "    '6': '-....', '7': '--...', '8': '---..',\n",
    "    '9': '----.'\n",
    "}\n",
    "\n",
    "for word in input().split():\n",
    "    # print(word.upper())\n",
    "    morze_word = []\n",
    "    for letter in list(word.upper()):\n",
    "        # print(f'letter: {letter}, morze: {morze[letter]}')\n",
    "        morze_word.append(morze[letter])\n",
    "    print(\" \".join(morze_word))"
   ],
   "metadata": {
    "collapsed": false,
    "pycharm": {
     "name": "#%%\n"
    }
   }
  },
  {
   "cell_type": "code",
   "execution_count": 55,
   "outputs": [
    {
     "name": "stdout",
     "output_type": "stream",
     "text": [
      "Таких нет\n"
     ]
    }
   ],
   "source": [
    "# H Полное решение\n",
    "lst = []\n",
    "for string in range(int(input())):\n",
    "    lst.append(input().split())\n",
    "# print(lst)\n",
    "\n",
    "v = input()\n",
    "\n",
    "ans = []\n",
    "for i in lst:\n",
    "    if v in i[1:]:\n",
    "        ans.append(i[0])\n",
    "# print(ans)\n",
    "cnt = len(ans)\n",
    "\n",
    "if cnt > 0:\n",
    "    for j in sorted(ans):\n",
    "        print(j)\n",
    "else:\n",
    "    print('Таких нет')\n"
   ],
   "metadata": {
    "collapsed": false,
    "pycharm": {
     "name": "#%%\n"
    }
   }
  },
  {
   "cell_type": "code",
   "execution_count": 59,
   "outputs": [
    {
     "name": "stdout",
     "output_type": "stream",
     "text": [
      "зайка 2\n",
      "березка 4\n",
      "елочка 4\n"
     ]
    }
   ],
   "source": [
    "# I Полное решение\n",
    "\n",
    "ans = dict()\n",
    "while (string := input()) != \"\":\n",
    "    for word in string.split():\n",
    "        if word not in ans.keys():\n",
    "            ans[word] = 1\n",
    "        else:\n",
    "            ans[word] += 1\n",
    "\n",
    "for key, value in ans.items():\n",
    "    print(f'{key} {value}')"
   ],
   "metadata": {
    "collapsed": false,
    "pycharm": {
     "name": "#%%\n"
    }
   }
  },
  {
   "cell_type": "code",
   "execution_count": 20,
   "outputs": [
    {
     "name": "stdout",
     "output_type": "stream",
     "text": [
      "sel\n"
     ]
    }
   ],
   "source": [
    "# J Полное решение\n",
    "dct = {\n",
    "    'А': 'A', 'а': 'a',\n",
    "    'Б': 'B', 'б': 'b',\n",
    "    'В': 'V', 'в': 'v',\n",
    "    'Г': 'G', 'г': 'g',\n",
    "    'Д': 'D', 'д': 'd',\n",
    "    'Е': 'E', 'е': 'e',\n",
    "    'Ё': 'E', 'ё': 'e',\n",
    "    'Ж': 'Zh', 'ж': 'zh',\n",
    "    'З': 'Z', 'з': 'z',\n",
    "    'И': 'I', 'и': 'i',\n",
    "    'Й': 'I', 'й': 'i',\n",
    "    'К': 'K', 'к': 'k',\n",
    "    'Л': 'L', 'л': 'l',\n",
    "    'М': 'M', 'м': 'm',\n",
    "    'Н': 'N', 'н': 'n',\n",
    "    'О': 'O', 'о': 'o',\n",
    "    'П': 'P', 'п': 'p',\n",
    "    'Р': 'R', 'р': 'r',\n",
    "    'С': 'S', 'с': 's',\n",
    "    'Т': 'T', 'т': 't',\n",
    "    'У': 'U', 'у': 'u',\n",
    "    'Ф': 'F', 'ф': 'f',\n",
    "    'Х': 'Kh', 'х': 'kh',\n",
    "    'Ц': 'Tc', 'ц': 'tc',\n",
    "    'Ч': 'Ch', 'ч': 'ch',\n",
    "    'Ш': 'Sh', 'ш': 'sh',\n",
    "    'Щ': 'Shch', 'щ': 'shch',\n",
    "    'Ы': 'Y', 'ы': 'y',\n",
    "    'Э': 'E', 'э': 'e',\n",
    "    'Ю': 'Iu', 'ю': 'iu',\n",
    "    'Я': 'Ia', 'я': 'ia',\n",
    "    'Ъ': '', 'ъ': '',\n",
    "    'Ь': '', 'ь': ''\n",
    "}\n",
    "\n",
    "in_txt = input()\n",
    "out_txt = []\n",
    "for word in in_txt.split():\n",
    "    # print(word)\n",
    "    t_word = []\n",
    "    for letter in list(word):\n",
    "        if letter in dct:\n",
    "            t_letter = dct[letter]\n",
    "            # print(f'letter: {letter}, t_letter: {t_letter}')\n",
    "            t_word.append(t_letter)\n",
    "        else:\n",
    "            t_word.append(letter)\n",
    "    out_txt.append(''.join(t_word))\n",
    "print(' '.join(out_txt))"
   ],
   "metadata": {
    "collapsed": false,
    "pycharm": {
     "name": "#%%\n"
    }
   }
  },
  {
   "cell_type": "code",
   "execution_count": 24,
   "outputs": [
    {
     "name": "stdout",
     "output_type": "stream",
     "text": [
      "0\n"
     ]
    }
   ],
   "source": [
    "# K Полное решение\n",
    "persons = dict()\n",
    "for i in range(int(input())):\n",
    "    person = input()\n",
    "    if person not in persons:\n",
    "        persons[person] = 1\n",
    "    else:\n",
    "        persons[person] += 1\n",
    "\n",
    "find_persons = {k: v for k, v in persons.items() if v > 1}\n",
    "ans = sum(find_persons.values())\n",
    "print(ans)"
   ],
   "metadata": {
    "collapsed": false,
    "pycharm": {
     "name": "#%%\n"
    }
   }
  },
  {
   "cell_type": "code",
   "execution_count": 28,
   "outputs": [
    {
     "name": "stdout",
     "output_type": "stream",
     "text": [
      "Однофамильцев нет\n"
     ]
    }
   ],
   "source": [
    "# L Полное решение\n",
    "persons = dict()\n",
    "for i in range(int(input())):\n",
    "    person = input()\n",
    "    if person not in persons:\n",
    "        persons[person] = 1\n",
    "    else:\n",
    "        persons[person] += 1\n",
    "\n",
    "find_persons = {k: v for k, v in persons.items() if v > 1}\n",
    "count_find_person = len(find_persons)\n",
    "\n",
    "if count_find_person > 0:\n",
    "    for key, value in sorted(find_persons.items()):\n",
    "        print(f'{key} - {value}')\n",
    "else:\n",
    "    print('Однофамильцев нет')"
   ],
   "metadata": {
    "collapsed": false,
    "pycharm": {
     "name": "#%%\n"
    }
   }
  },
  {
   "cell_type": "code",
   "execution_count": 40,
   "outputs": [
    {
     "name": "stdout",
     "output_type": "stream",
     "text": [
      "Манная каша\n",
      "Овсянка\n"
     ]
    }
   ],
   "source": [
    "# M Полное решение\n",
    "act_menu = set()\n",
    "for i in range(int(input())):\n",
    "    act_menu.add(input())\n",
    "\n",
    "last_menu = set()\n",
    "for j in range(int(input())):\n",
    "    for k in range(int(input())):\n",
    "        last_menu.add(input())\n",
    "\n",
    "# vibo: разность множеств\n",
    "ans = act_menu - last_menu\n",
    "\n",
    "if len(ans) > 0:\n",
    "    for item in sorted(list(ans)):\n",
    "        print(item)\n",
    "else:\n",
    "    print('Готовить нечего')"
   ],
   "metadata": {
    "collapsed": false,
    "pycharm": {
     "name": "#%%\n"
    }
   }
  },
  {
   "cell_type": "code",
   "execution_count": 58,
   "outputs": [
    {
     "name": "stdout",
     "output_type": "stream",
     "text": [
      "products: {'Варенье', 'Картошка', 'Хлеб', 'Яблоки'}\n",
      "cook_book: {'Тосты': ['Хлеб', 'Варенье'], 'Яблочный сок': ['Яблоки'], 'Яичница': ['Яйца']}\n",
      "['Тосты', 'Яблочный сок']\n",
      "Тосты\n",
      "Яблочный сок\n"
     ]
    }
   ],
   "source": [
    "# N НЕВЕРНОЕ РЕШЕНИЕ\n",
    "# vibo: WA на тесте-7\n",
    "products = set()\n",
    "\n",
    "for i in range(int(input())):\n",
    "    products.add(input())\n",
    "\n",
    "cook_book = dict()\n",
    "new_menu = []\n",
    "for j in range(int(input())):\n",
    "    dish = input()\n",
    "    # vibo: создаем пустой словарь вида {key: [list]}\n",
    "    cook_book.setdefault(dish, [])\n",
    "    for k in range(int(input())):\n",
    "        cnt = 0\n",
    "        product = input()\n",
    "        # vibo: добавляем значения по ключу\n",
    "        cook_book[dish].append(product)\n",
    "        if product in products:\n",
    "            cnt += 1\n",
    "        if cnt == (k + 1):\n",
    "            new_menu.append(dish)\n",
    "\n",
    "# print(f'products: {products}')\n",
    "# print(f'cook_book: {cook_book}')\n",
    "# print(new_menu)\n",
    "\n",
    "if len(new_menu) > 0:\n",
    "    for t in sorted(new_menu):\n",
    "        print(t)\n",
    "else:\n",
    "    print('Готовить нечего')\n"
   ],
   "metadata": {
    "collapsed": false,
    "pycharm": {
     "name": "#%%\n"
    }
   }
  },
  {
   "cell_type": "code",
   "execution_count": 67,
   "outputs": [
    {
     "name": "stdout",
     "output_type": "stream",
     "text": [
      "products: {'хлеб'}\n",
      "cook_book: {'бутерброд': ['масло', 'хлеб']}\n",
      "ans: []\n",
      "Готовить нечего\n"
     ]
    }
   ],
   "source": [
    "# N Полное решение\n",
    "products = set()\n",
    "\n",
    "for i in range(int(input())):\n",
    "    products.add(input())\n",
    "\n",
    "cook_book = dict()\n",
    "\n",
    "for j in range(int(input())):\n",
    "    dish = input()\n",
    "    # vibo: создаем пустой словарь вида {key: [list]}\n",
    "    cook_book.setdefault(dish, [])\n",
    "    for k in range(int(input())):\n",
    "        cnt = 0\n",
    "        product = input()\n",
    "        # vibo: добавляем значения по ключу\n",
    "        cook_book[dish].append(product)\n",
    "\n",
    "# print(f'products: {products}')\n",
    "# print(f'cook_book: {cook_book}')\n",
    "\n",
    "ans = []\n",
    "for key, value in cook_book.items():\n",
    "    if set(value) & products == set(value):\n",
    "        ans.append(key)\n",
    "\n",
    "# print(f'ans: {ans}')\n",
    "\n",
    "if len(ans) > 0:\n",
    "    for t in sorted(ans):\n",
    "        print(t)\n",
    "else:\n",
    "    print('Готовить нечего')"
   ],
   "metadata": {
    "collapsed": false,
    "pycharm": {
     "name": "#%%\n"
    }
   }
  },
  {
   "cell_type": "code",
   "execution_count": 145,
   "outputs": [
    {
     "name": "stdout",
     "output_type": "stream",
     "text": [
      "[{'zeros': 1, 'units': 2, 'digits': 3}, {'zeros': 3, 'units': 1, 'digits': 4}, {'zeros': 2, 'units': 2, 'digits': 4}]\n"
     ]
    }
   ],
   "source": [
    "# 0 Полное решение\n",
    "dct = dict()\n",
    "ans = list()\n",
    "for i in input().split():\n",
    "    # print(f'i: {i}, bin(i): {bin(int(i))}')\n",
    "    dct['zeros'], zeros = 0, 0\n",
    "    digits = 0\n",
    "    units = 0\n",
    "    for j in list(bin(int(i)))[2:]:\n",
    "        if int(j) == 1:\n",
    "            units += 1\n",
    "            dct['units'] = units\n",
    "            digits += 1\n",
    "            dct['digits'] = digits\n",
    "        else:\n",
    "            zeros += 1\n",
    "            dct['zeros'] = zeros\n",
    "            digits += 1\n",
    "            dct['digits'] = digits\n",
    "    # vibo: без copy() не работало\n",
    "    ans.append(dct.copy())\n",
    "\n",
    "print(ans)"
   ],
   "metadata": {
    "collapsed": false,
    "pycharm": {
     "name": "#%%\n"
    }
   }
  },
  {
   "cell_type": "code",
   "execution_count": 142,
   "outputs": [],
   "source": [],
   "metadata": {
    "collapsed": false,
    "pycharm": {
     "name": "#%%\n"
    }
   }
  },
  {
   "cell_type": "code",
   "execution_count": 138,
   "outputs": [],
   "source": [],
   "metadata": {
    "collapsed": false,
    "pycharm": {
     "name": "#%%\n"
    }
   }
  }
 ],
 "metadata": {
  "kernelspec": {
   "display_name": "Python 3",
   "language": "python",
   "name": "python3"
  },
  "language_info": {
   "codemirror_mode": {
    "name": "ipython",
    "version": 2
   },
   "file_extension": ".py",
   "mimetype": "text/x-python",
   "name": "python",
   "nbconvert_exporter": "python",
   "pygments_lexer": "ipython2",
   "version": "2.7.6"
  }
 },
 "nbformat": 4,
 "nbformat_minor": 0
}