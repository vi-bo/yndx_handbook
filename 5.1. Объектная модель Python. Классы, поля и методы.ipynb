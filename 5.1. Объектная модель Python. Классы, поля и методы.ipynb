{
 "cells": [
  {
   "cell_type": "markdown",
   "source": [
    "\n",
    "# 5. Объектно ориентированное программирование"
   ],
   "metadata": {
    "collapsed": false,
    "pycharm": {
     "name": "#%% md\n"
    }
   }
  },
  {
   "cell_type": "markdown",
   "source": [
    "## 5.1. Объектная модель Python. Классы, поля и методы"
   ],
   "metadata": {
    "collapsed": false,
    "pycharm": {
     "name": "#%% md\n"
    }
   }
  },
  {
   "cell_type": "markdown",
   "source": [
    "### Теория"
   ],
   "metadata": {
    "collapsed": false,
    "pycharm": {
     "name": "#%% md\n"
    }
   }
  },
  {
   "cell_type": "markdown",
   "source": [
    "**Процедурный** подход в программировании, когда все действия над объектом описаны с помощью функций. Процедурный подход позволяет эффективно решать простые задачи. Однако при усложнении задачи и появлении новых объектов процедурный подход приводит к дублированию и ухудшению читаемости кода."
   ],
   "metadata": {
    "collapsed": false,
    "pycharm": {
     "name": "#%% md\n"
    }
   }
  },
  {
   "cell_type": "code",
   "execution_count": 1,
   "outputs": [],
   "source": [
    "# vibo: попробуем описать объекты класса с помощью коллекций и функций\n",
    "\n",
    "# vibo: создание объекта с набором признаков (свойства объекта класса)\n",
    "def create_car(color, consumption, tank_volume, mileage=0):\n",
    "    return {\n",
    "        \"color\": color, # цвет\n",
    "        \"consumption\": consumption, # расход\n",
    "        \"tank_volume\": tank_volume, # объем бака\n",
    "        \"reserve\": tank_volume, # резерв\n",
    "        \"mileage\": mileage, # пробег\n",
    "        \"engine_on\": False # двигатель включен\n",
    "    }\n",
    "\n",
    "# vibo: определение действий объекта\n",
    "\n",
    "# vibo: запустить двигатель\n",
    "def start_engine(car):\n",
    "    if not car[\"engine_on\"] and car[\"reserve\"] > 0:\n",
    "        car[\"engine_on\"] = True\n",
    "        return \"Двигатель запущен.\"\n",
    "    return \"Двигатель уже был запущен.\"\n",
    "\n",
    "# vibo: остановить двигатель\n",
    "def stop_engine(car):\n",
    "    if car[\"engine_on\"]:\n",
    "        car[\"engine_on\"] = False\n",
    "        return \"Двигатель остановлен.\"\n",
    "    return \"Двигатель уже был остановлен.\"\n",
    "\n",
    "# vibo: проехать N километров\n",
    "def drive(car, distance):\n",
    "    if not car[\"engine_on\"]:\n",
    "        return \"Двигатель не запущен.\"\n",
    "    if car[\"reserve\"] / car[\"consumption\"] * 100 < distance:\n",
    "        return \"Малый запас топлива.\"\n",
    "    car[\"mileage\"] += distance\n",
    "    car[\"reserve\"] -= distance / 100 * car[\"consumption\"]\n",
    "    return f\"Проехали {distance} км. Остаток топлива: {car['reserve']} л.\"\n",
    "\n",
    "# vibo: дозаправка\n",
    "def refuel(car):\n",
    "    car[\"reserve\"] = car[\"tank_volume\"]\n",
    "\n",
    "# vibo: пробег\n",
    "def get_mileage(car):\n",
    "    return f\"Пробег {car['mileage']} км.\"\n",
    "\n",
    "# vibo: запас топлива\n",
    "def get_reserve(car):\n",
    "    return f\"Запас топлива {car['reserve']} л.\""
   ],
   "metadata": {
    "collapsed": false,
    "pycharm": {
     "name": "#%%\n"
    }
   }
  },
  {
   "cell_type": "code",
   "execution_count": 2,
   "outputs": [],
   "source": [
    "car_1 = create_car(color=\"black\", consumption=10, tank_volume=55)"
   ],
   "metadata": {
    "collapsed": false,
    "pycharm": {
     "name": "#%%\n"
    }
   }
  },
  {
   "cell_type": "code",
   "execution_count": 3,
   "outputs": [
    {
     "name": "stdout",
     "output_type": "stream",
     "text": [
      "Двигатель запущен.\n",
      "Проехали 100 км. Остаток топлива: 45.0 л.\n",
      "Проехали 100 км. Остаток топлива: 35.0 л.\n",
      "Проехали 100 км. Остаток топлива: 25.0 л.\n",
      "Малый запас топлива.\n",
      "Пробег 300 км.\n",
      "Запас топлива 25.0 л.\n",
      "Двигатель остановлен.\n",
      "Двигатель не запущен.\n"
     ]
    }
   ],
   "source": [
    "print(start_engine(car_1))\n",
    "print(drive(car_1, 100))\n",
    "print(drive(car_1, 100))\n",
    "print(drive(car_1, 100))\n",
    "print(drive(car_1, 300))\n",
    "print(get_mileage(car_1))\n",
    "print(get_reserve(car_1))\n",
    "print(stop_engine(car_1))\n",
    "print(drive(car_1, 100))"
   ],
   "metadata": {
    "collapsed": false,
    "pycharm": {
     "name": "#%%\n"
    }
   }
  },
  {
   "cell_type": "markdown",
   "source": [
    "**Объектно-ориентированное программирование (ООП)**"
   ],
   "metadata": {
    "collapsed": false,
    "pycharm": {
     "name": "#%% md\n"
    }
   }
  },
  {
   "cell_type": "markdown",
   "source": [
    "Python является объектно-ориентированным языком программирования - каждая сущность (переменная, функция и так далее) является объектом определенного класса."
   ],
   "metadata": {
    "collapsed": false,
    "pycharm": {
     "name": "#%% md\n"
    }
   }
  },
  {
   "cell_type": "code",
   "execution_count": 4,
   "outputs": [
    {
     "name": "stdout",
     "output_type": "stream",
     "text": [
      "<class 'int'>\n"
     ]
    }
   ],
   "source": [
    "# vibo: например, 1 - принадлежность к классу int\n",
    "print(type(1))"
   ],
   "metadata": {
    "collapsed": false,
    "pycharm": {
     "name": "#%%\n"
    }
   }
  },
  {
   "cell_type": "markdown",
   "source": [
    "**Синтаксис создания класса**"
   ],
   "metadata": {
    "collapsed": false,
    "pycharm": {
     "name": "#%% md\n"
    }
   }
  },
  {
   "cell_type": "code",
   "execution_count": 5,
   "outputs": [],
   "source": [
    "# vibo: имя класса записывается в стиле CapWords\n",
    "'''\n",
    "class <ИмяКласса>:\n",
    "    <описание класса>\n",
    "'''\n",
    "\n",
    "# vibo: создаем класс Car\n",
    "class Car:\n",
    "    pass"
   ],
   "metadata": {
    "collapsed": false,
    "pycharm": {
     "name": "#%%\n"
    }
   }
  },
  {
   "cell_type": "markdown",
   "source": [
    "В классах описываются:\n",
    "- свойства объектов;\n",
    "- действия объектов;\n",
    "- или совершаемые над ними действия."
   ],
   "metadata": {
    "collapsed": false,
    "pycharm": {
     "name": "#%% md\n"
    }
   }
  },
  {
   "cell_type": "markdown",
   "source": [
    "**Свойства объектов - называются атрибутами. Для создания или изменения значения атрибута используется следующий синтаксис:**"
   ],
   "metadata": {
    "collapsed": false,
    "pycharm": {
     "name": "#%% md\n"
    }
   }
  },
  {
   "cell_type": "code",
   "execution_count": null,
   "outputs": [],
   "source": [
    "# vibo: атрибуты — переменные, в значениях которых хранятся свойства объекта\n",
    "'''\n",
    "<имя_объекта>.<имя_атрибута> = <значение>\n",
    "'''"
   ],
   "metadata": {
    "collapsed": false,
    "pycharm": {
     "name": "#%%\n"
    }
   }
  },
  {
   "cell_type": "markdown",
   "source": [
    "**Действия объектов называются методами. Для создания метода используется следующий синтаксис:**"
   ],
   "metadata": {
    "collapsed": false,
    "pycharm": {
     "name": "#%% md\n"
    }
   }
  },
  {
   "cell_type": "code",
   "execution_count": null,
   "outputs": [],
   "source": [
    "# vibo: вызываются методы после указания конкретного объекта\n",
    "# vibo: в методах первым аргументом всегда идет объект self\n",
    "'''\n",
    "def <имя_метода>(self, <аргументы>):\n",
    "    <тело метода>\n",
    "'''"
   ],
   "metadata": {
    "collapsed": false,
    "pycharm": {
     "name": "#%%\n",
     "is_executing": true
    }
   }
  },
  {
   "cell_type": "code",
   "execution_count": 23,
   "outputs": [],
   "source": [
    "# vibo: создадим в классе метод __init__, который будет при создании автомобиля принимать его свойства как аргументы\n",
    "class Car:\n",
    "\n",
    "    # vibo: __init__ специальный метод, вызывается при создании объекта\n",
    "    # vibo: в методе происходит инициализация всех атрибутов класса\n",
    "    def __init__(self, color, consumption, tank_volume, mileage=0):\n",
    "        self.color = color\n",
    "        self.consumption = consumption\n",
    "        self.tank_volume = tank_volume\n",
    "        self.reserve = tank_volume\n",
    "        self.mileage = mileage\n",
    "        self.engine_on = False"
   ],
   "metadata": {
    "collapsed": false,
    "pycharm": {
     "name": "#%%\n"
    }
   }
  },
  {
   "cell_type": "markdown",
   "source": [
    "**Создание объекта класса**"
   ],
   "metadata": {
    "collapsed": false,
    "pycharm": {
     "name": "#%% md\n"
    }
   }
  },
  {
   "cell_type": "code",
   "execution_count": null,
   "outputs": [],
   "source": [
    "'''\n",
    "<имя_объекта> = <ИмяКласса>(<аргументы метода __init__>)\n",
    "'''\n",
    "\n",
    "# vibo: создаем объект класса\n",
    "car_1 = Car(color=\"black\", consumption=10, tank_volume=55)"
   ],
   "metadata": {
    "collapsed": false,
    "pycharm": {
     "name": "#%%\n"
    }
   }
  },
  {
   "cell_type": "code",
   "execution_count": 7,
   "outputs": [
    {
     "name": "stdout",
     "output_type": "stream",
     "text": [
      "Двигатель запущен.\n",
      "Проехали 100 км. Остаток топлива: 45.0 л.\n",
      "Проехали 100 км. Остаток топлива: 35.0 л.\n",
      "Проехали 100 км. Остаток топлива: 25.0 л.\n",
      "Малый запас топлива.\n",
      "Пробег 300 км.\n",
      "Запас топлива 25.0 л.\n",
      "Двигатель остановлен.\n"
     ]
    }
   ],
   "source": [
    "# vibo: опишем с помощью методов какие действия могут совершать объекты класса\n",
    "class Car:\n",
    "\n",
    "    def __init__(self, color, consumption, tank_volume, mileage=0):\n",
    "        self.color = color\n",
    "        self.consumption = consumption\n",
    "        self.tank_volume = tank_volume\n",
    "        self.reserve = tank_volume\n",
    "        self.mileage = mileage\n",
    "        self.engine_on = False\n",
    "\n",
    "    def start_engine(self):\n",
    "        if not self.engine_on and self.reserve > 0:\n",
    "            self.engine_on = True\n",
    "            return \"Двигатель запущен.\"\n",
    "        return \"Двигатель уже был запущен.\"\n",
    "\n",
    "    def stop_engine(self):\n",
    "        if self.engine_on:\n",
    "            self.engine_on = False\n",
    "            return \"Двигатель остановлен.\"\n",
    "        return \"Двигатель уже был остановлен.\"\n",
    "\n",
    "    def drive(self, distance):\n",
    "        if not self.engine_on:\n",
    "            return \"Двигатель не запущен.\"\n",
    "        if self.reserve / self.consumption * 100 < distance:\n",
    "            return \"Малый запас топлива.\"\n",
    "        self.mileage += distance\n",
    "        self.reserve -= distance / 100 * self.consumption\n",
    "        return f\"Проехали {distance} км. Остаток топлива: {self.reserve} л.\"\n",
    "\n",
    "    def refuel(self):\n",
    "        self.reserve = self.tank_volume\n",
    "\n",
    "    def get_mileage(self):\n",
    "        return self.mileage\n",
    "\n",
    "    def get_reserve(self):\n",
    "        return self.reserve\n",
    "\n",
    "\n",
    "# vibo: две пустые строки после класса\n",
    "car_1 = Car(color=\"black\", consumption=10, tank_volume=55)\n",
    "print(car_1.start_engine())\n",
    "print(car_1.drive(100))\n",
    "print(car_1.drive(100))\n",
    "print(car_1.drive(100))\n",
    "print(car_1.drive(300))\n",
    "print(f\"Пробег {car_1.get_mileage()} км.\")\n",
    "print(f\"Запас топлива {car_1.get_reserve()} л.\")\n",
    "print(car_1.stop_engine())"
   ],
   "metadata": {
    "collapsed": false,
    "pycharm": {
     "name": "#%%\n"
    }
   }
  },
  {
   "cell_type": "markdown",
   "source": [
    "Взаимодействие с объектом класса вне описания класса осуществляется только с помощью методов и прямого доступа к атрибутам не происходит. Этот принцип ООП называется инкапсуляцией."
   ],
   "metadata": {
    "collapsed": false,
    "pycharm": {
     "name": "#%% md\n"
    }
   }
  },
  {
   "cell_type": "markdown",
   "source": [
    "**Инкапсуляция** заключается в сокрытии внутреннего устройства класса за интерфейсом, состоящим из методов класса. Это необходимо, чтобы не нарушать логику работы методов внутри класса."
   ],
   "metadata": {
    "collapsed": false,
    "pycharm": {
     "name": "#%% md\n"
    }
   }
  },
  {
   "cell_type": "code",
   "execution_count": 8,
   "outputs": [
    {
     "name": "stdout",
     "output_type": "stream",
     "text": [
      "Пробег 1000 км.\n",
      "Запас топлива 55 л.\n"
     ]
    }
   ],
   "source": [
    "# vibo: если в изменить пробег напрямую (не с помощью метода drive()), то автомобиль проедет указанный путь даже с пустым баком и без расхода топлива:\n",
    "car_1 = Car(color=\"black\", consumption=10, tank_volume=55)\n",
    "car_1.mileage = 1000\n",
    "print(f\"Пробег {car_1.get_mileage()} км.\")\n",
    "print(f\"Запас топлива {car_1.get_reserve()} л.\")"
   ],
   "metadata": {
    "collapsed": false,
    "pycharm": {
     "name": "#%%\n"
    }
   }
  },
  {
   "cell_type": "code",
   "execution_count": 28,
   "outputs": [],
   "source": [
    "# vibo: напишем еще один класс автомобилей, отличие в замене топливного бака на заряд аккумуляторной батареи:\n",
    "class ElectricCar:\n",
    "\n",
    "    def __init__(self, color, consumption, bat_capacity, mileage=0):\n",
    "        self.color = color\n",
    "        self.consumption = consumption\n",
    "        self.bat_capacity = bat_capacity\n",
    "        self.reserve = bat_capacity\n",
    "        self.mileage = mileage\n",
    "        self.engine_on = False\n",
    "\n",
    "    def start_engine(self):\n",
    "        if not self.engine_on and self.reserve > 0:\n",
    "            self.engine_on = True\n",
    "            return \"Двигатель запущен.\"\n",
    "        return \"Двигатель уже был запущен.\"\n",
    "\n",
    "    def stop_engine(self):\n",
    "        if self.engine_on:\n",
    "            self.engine_on = False\n",
    "            return \"Двигатель остановлен.\"\n",
    "        return \"Двигатель уже был остановлен.\"\n",
    "\n",
    "    def drive(self, distance):\n",
    "        if not self.engine_on:\n",
    "            return \"Двигатель не запущен.\"\n",
    "        if self.reserve / self.consumption * 100 < distance:\n",
    "            return \"Малый заряд батареи.\"\n",
    "        self.mileage += distance\n",
    "        self.reserve -= distance / 100 * self.consumption\n",
    "        return f\"Проехали {distance} км. Остаток заряда: {self.reserve} кВт*ч.\"\n",
    "\n",
    "    def recharge(self):\n",
    "        self.reserve = self.bat_capacity\n",
    "\n",
    "    def get_mileage(self):\n",
    "        return self.mileage\n",
    "\n",
    "    def get_reserve(self):\n",
    "        return self.reserve"
   ],
   "metadata": {
    "collapsed": false,
    "pycharm": {
     "name": "#%%\n"
    }
   }
  },
  {
   "cell_type": "markdown",
   "source": [
    "**Полиморфные функции** - которые могут работать с объектами разных классов, принцип ООП называется **полиморфизмом.**"
   ],
   "metadata": {
    "collapsed": false,
    "pycharm": {
     "name": "#%% md\n"
    }
   }
  },
  {
   "cell_type": "code",
   "execution_count": null,
   "outputs": [],
   "source": [
    "# vibo: функция, определяющая запас хода для двух классов\n",
    "def range_reserve(car):\n",
    "    return car.get_reserve() / car.get_consumption() * 100"
   ],
   "metadata": {
    "collapsed": false,
    "pycharm": {
     "name": "#%%\n"
    }
   }
  },
  {
   "cell_type": "markdown",
   "source": [
    "\n",
    "Программа с классами, полиморфной функцией и пример их использования представлена ниже:"
   ],
   "metadata": {
    "collapsed": false,
    "pycharm": {
     "name": "#%% md\n"
    }
   }
  },
  {
   "cell_type": "code",
   "execution_count": 9,
   "outputs": [
    {
     "name": "stdout",
     "output_type": "stream",
     "text": [
      "Запас хода: 550.0 км.\n",
      "Запас хода: 600.0 км.\n"
     ]
    }
   ],
   "source": [
    "class Car:\n",
    "\n",
    "    def __init__(self, color, consumption, tank_volume, mileage=0):\n",
    "        self.color = color\n",
    "        self.consumption = consumption\n",
    "        self.tank_volume = tank_volume\n",
    "        self.reserve = tank_volume\n",
    "        self.mileage = mileage\n",
    "        self.engine_on = False\n",
    "\n",
    "    def start_engine(self):\n",
    "        if not self.engine_on and self.reserve > 0:\n",
    "            self.engine_on = True\n",
    "            return \"Двигатель запущен.\"\n",
    "        return \"Двигатель уже был запущен.\"\n",
    "\n",
    "    def stop_engine(self):\n",
    "        if self.engine_on:\n",
    "            self.engine_on = False\n",
    "            return \"Двигатель остановлен.\"\n",
    "        return \"Двигатель уже был остановлен.\"\n",
    "\n",
    "    def drive(self, distance):\n",
    "        if not self.engine_on:\n",
    "            return \"Двигатель не запущен.\"\n",
    "        if self.reserve / self.consumption * 100 < distance:\n",
    "            return \"Малый запас топлива.\"\n",
    "        self.mileage += distance\n",
    "        self.reserve -= distance / 100 * self.consumption\n",
    "        return f\"Проехали {distance} км. Остаток топлива: {self.reserve} л.\"\n",
    "\n",
    "    def refuel(self):\n",
    "        self.reserve = self.tank_volume\n",
    "\n",
    "    def get_mileage(self):\n",
    "        return self.mileage\n",
    "\n",
    "    def get_reserve(self):\n",
    "        return self.reserve\n",
    "\n",
    "    def get_consumption(self):\n",
    "        return self.consumption\n",
    "\n",
    "\n",
    "class ElectricCar:\n",
    "\n",
    "    def __init__(self, color, consumption, bat_capacity, mileage=0):\n",
    "        self.color = color\n",
    "        self.consumption = consumption\n",
    "        self.bat_capacity = bat_capacity\n",
    "        self.reserve = bat_capacity\n",
    "        self.mileage = mileage\n",
    "        self.engine_on = False\n",
    "\n",
    "    def start_engine(self):\n",
    "        if not self.engine_on and self.reserve > 0:\n",
    "            self.engine_on = True\n",
    "            return \"Двигатель запущен.\"\n",
    "        return \"Двигатель уже был запущен.\"\n",
    "\n",
    "    def stop_engine(self):\n",
    "        if self.engine_on:\n",
    "            self.engine_on = False\n",
    "            return \"Двигатель остановлен.\"\n",
    "        return \"Двигатель уже был остановлен.\"\n",
    "\n",
    "    def drive(self, distance):\n",
    "        if not self.engine_on:\n",
    "            return \"Двигатель не запущен.\"\n",
    "        if self.reserve / self.consumption * 100 < distance:\n",
    "            return \"Малый заряд батареи.\"\n",
    "        self.mileage += distance\n",
    "        self.reserve -= distance / 100 * self.consumption\n",
    "        return f\"Проехали {distance} км. Остаток заряда: {self.reserve} кВт*ч.\"\n",
    "\n",
    "    def recharge(self):\n",
    "        self.reserve = self.bat_capacity\n",
    "\n",
    "    def get_mileage(self):\n",
    "        return self.mileage\n",
    "\n",
    "    def get_reserve(self):\n",
    "        return self.reserve\n",
    "\n",
    "    def get_consumption(self):\n",
    "        return self.consumption\n",
    "\n",
    "\n",
    "def range_reserve(car):\n",
    "    return car.get_reserve() / car.get_consumption() * 100\n",
    "\n",
    "\n",
    "car_1 = Car(color=\"black\", consumption=10, tank_volume=55)\n",
    "car_2 = ElectricCar(color=\"white\", consumption=15, bat_capacity=90)\n",
    "print(f\"Запас хода: {range_reserve(car_1)} км.\")\n",
    "print(f\"Запас хода: {range_reserve(car_2)} км.\")"
   ],
   "metadata": {
    "collapsed": false,
    "pycharm": {
     "name": "#%%\n"
    }
   }
  },
  {
   "cell_type": "markdown",
   "source": [
    "\n",
    "Классы Car и ElectricCar имеют много общих атрибутов и методов, что привело к дублированию кода. В следующей главе мы познакомимся с наследованием."
   ],
   "metadata": {
    "collapsed": false,
    "pycharm": {
     "name": "#%% md\n"
    }
   }
  },
  {
   "cell_type": "markdown",
   "source": [
    "### Практика 9/10"
   ],
   "metadata": {
    "collapsed": false,
    "pycharm": {
     "name": "#%% md\n"
    }
   }
  },
  {
   "cell_type": "code",
   "execution_count": 29,
   "outputs": [
    {
     "name": "stdout",
     "output_type": "stream",
     "text": [
      "3 5\n",
      "2 -7\n"
     ]
    }
   ],
   "source": [
    "# A Полное решение\n",
    "class Point:\n",
    "\n",
    "    # vibo: специальный метод __init__\n",
    "    # vibo: инициализация атрибутов класса\n",
    "    def __init__(self, x, y):\n",
    "        self.x = x\n",
    "        self.y = y\n",
    "\n",
    "\n",
    "# vibo: создаем объект класса Point\n",
    "point = Point(3, 5)\n",
    "# vibo: вызов значений атрибутов класса\n",
    "print(point.x, point.y)\n",
    "\n",
    "point = Point(2, -7)\n",
    "print(point.x, point.y)"
   ],
   "metadata": {
    "collapsed": false,
    "pycharm": {
     "name": "#%%\n"
    }
   }
  },
  {
   "cell_type": "code",
   "execution_count": 10,
   "outputs": [
    {
     "name": "stdout",
     "output_type": "stream",
     "text": [
      "3 5\n",
      "5 2\n",
      "16.76\n",
      "16.76\n"
     ]
    }
   ],
   "source": [
    "# B Полное решение\n",
    "\n",
    "class Point:\n",
    "\n",
    "    def __init__(self, x, y):\n",
    "        self.x = x\n",
    "        self.y = y\n",
    "\n",
    "    # vibo: создание метода move\n",
    "    def move(self, dx, dy):\n",
    "        self.x += dx\n",
    "        self.y += dy\n",
    "\n",
    "    # vibo: создание метода length\n",
    "    def length(self, name):\n",
    "        # vibo: self.x - значение аргумента для объекта для которого вызывается метод length\n",
    "        # vibo: name.x - значение аргумента для объекта, передаваемого в метод length\n",
    "        return round(((name.x - self.x) ** 2 + (name.y - self.y) ** 2) ** (1 / 2), 2)\n",
    "\n",
    "\n",
    "# vibo: Пример 1.\n",
    "point = Point(3, 5)\n",
    "print(point.x, point.y)\n",
    "point.move(2, -3)\n",
    "print(point.x, point.y)\n",
    "\n",
    "# vibo: Пример 2.\n",
    "first_point = Point(2, -7)\n",
    "second_point = Point(7, 9)\n",
    "# vibo: вызов метода length для объекта first_point в качестве аргумента передаем second_point\n",
    "print(first_point.length(second_point))\n",
    "# vibo: и наоборот\n",
    "print(second_point.length(first_point))"
   ],
   "metadata": {
    "collapsed": false,
    "pycharm": {
     "name": "#%%\n"
    }
   }
  },
  {
   "cell_type": "code",
   "execution_count": 29,
   "outputs": [
    {
     "name": "stdout",
     "output_type": "stream",
     "text": [
      "Тревога!\n",
      "Тревога!\n",
      "Тревога!\n",
      "Тревога!\n",
      "Тревога!\n",
      "2 3\n"
     ]
    }
   ],
   "source": [
    "# C Полное решение\n",
    "class RedButton:\n",
    "\n",
    "    # vibo: при создании объекта класса устанавливаем счетчик n на ноль\n",
    "    def __init__(self):\n",
    "        self.n = 0\n",
    "\n",
    "    def click(self):\n",
    "        print('Тревога!')\n",
    "        # vibo: при каждом вызове увеличиваем счетчик\n",
    "        self.n += 1\n",
    "\n",
    "    def count(self):\n",
    "        return self.n\n",
    "\n",
    "# vibo: Пример\n",
    "first_button = RedButton()\n",
    "second_button = RedButton()\n",
    "for time in range(5):\n",
    "    if time % 2 == 0:\n",
    "        second_button.click()\n",
    "    else:\n",
    "        first_button.click()\n",
    "print(first_button.count(), second_button.count())"
   ],
   "metadata": {
    "collapsed": false,
    "pycharm": {
     "name": "#%%\n"
    }
   }
  },
  {
   "cell_type": "code",
   "execution_count": 52,
   "outputs": [
    {
     "name": "stdout",
     "output_type": "stream",
     "text": [
      "Васильев Иван 750ч. 7500тгр.\n",
      "Васильев Иван 1250ч. 15000тгр.\n",
      "Васильев Иван 1500ч. 20000тгр.\n",
      "Васильев Иван 1750ч. 25250тгр.\n"
     ]
    }
   ],
   "source": [
    "# D Полное решение\n",
    "class Programmer:\n",
    "\n",
    "    def __init__(self, name, position):\n",
    "        # vibo: передаваемые в класс атрибуты для инициализации объекта\n",
    "        self.name = name\n",
    "        self.position = position\n",
    "        # vibo: сквозные переменные для накопления итогового результата\n",
    "        self.time = 0\n",
    "        self.grade = 0\n",
    "        self.money = 0\n",
    "\n",
    "    # vibo: метод отмечает новую отработку в количестве часов time\n",
    "    def work(self, new_time):\n",
    "\n",
    "        self.time += new_time\n",
    "        grad_money = {'Junior': 10,\n",
    "                      'Middle': 15,\n",
    "                      'Senior': 20}\n",
    "        # vibo: заработанная сумма для стандартной сетики окладов\n",
    "        if self.grade <= 2:\n",
    "            self.money += grad_money[self.position] * new_time\n",
    "        else:\n",
    "            # vibo: по условию каждое последующее повышение seior дает +1 к окладу\n",
    "            self.money += (grad_money[self.position] + (self.grade - 2)) * new_time\n",
    "\n",
    "    # vibo: метод повышает программиста\n",
    "    def rise(self):\n",
    "        self.grade += 1\n",
    "        grad_step = {0: 'Junior',\n",
    "                     1: 'Middle',\n",
    "                     2: 'Senior'}\n",
    "        if self.grade <= 2:\n",
    "            self.position = grad_step[self.grade]\n",
    "        else:\n",
    "            # vibo: после третьего повышения должность не изменяется\n",
    "            self.position == 'Senior'\n",
    "\n",
    "    # vibo: метод возвращает строку для бухгалтерии\n",
    "    def info(self):\n",
    "        return f'{self.name} {self.time}ч. {self.money}тгр.'\n",
    "\n",
    "# vibo: Пример\n",
    "\n",
    "programmer = Programmer('Васильев Иван', 'Junior')\n",
    "programmer.work(750)\n",
    "print(programmer.info())\n",
    "programmer.rise()\n",
    "programmer.work(500)\n",
    "print(programmer.info())\n",
    "programmer.rise()\n",
    "programmer.work(250)\n",
    "print(programmer.info())\n",
    "programmer.rise()\n",
    "programmer.work(250)\n",
    "print(programmer.info())"
   ],
   "metadata": {
    "collapsed": false,
    "pycharm": {
     "name": "#%%\n"
    }
   }
  },
  {
   "cell_type": "code",
   "execution_count": 100,
   "outputs": [
    {
     "name": "stdout",
     "output_type": "stream",
     "text": [
      "23.52\n",
      "32.14\n"
     ]
    }
   ],
   "source": [
    "# E Полное решение\n",
    "class Rectangle:\n",
    "\n",
    "    def __init__(self, *args):\n",
    "        self.args = args\n",
    "\n",
    "    # vibo: периметр прямоугольника\n",
    "    def perimeter(self):\n",
    "        ((x1, y1), (x2, y2)) = self.args\n",
    "        return round(abs(x1 - x2) * 2 + abs(y1 - y2) * 2, 2)\n",
    "\n",
    "    # vibo: площадь прямоугольника\n",
    "    def area(self):\n",
    "        ((x1, y1), (x2, y2)) = self.args\n",
    "        return round(abs(x1 - x2) * abs(y1 - y2), 2)\n",
    "\n",
    "# vibo: Пример 1.\n",
    "rect = Rectangle((3.2, -4.3), (7.52, 3.14))\n",
    "print(rect.perimeter())\n",
    "\n",
    "# # vibo: Пример 2.\n",
    "rect = Rectangle((7.52, -4.3), (3.2, 3.14))\n",
    "print(rect.area())"
   ],
   "metadata": {
    "collapsed": false,
    "pycharm": {
     "name": "#%%\n"
    }
   }
  },
  {
   "cell_type": "code",
   "execution_count": 65,
   "outputs": [
    {
     "name": "stdout",
     "output_type": "stream",
     "text": [
      "(-7.52, 4.3) (4.32, 7.44)\n",
      "(-7.52, 4.3) (23.5, 11.3)\n"
     ]
    },
    {
     "data": {
      "text/plain": "<Figure size 640x480 with 1 Axes>",
      "image/png": "[encoded data removed]"
     },
     "metadata": {},
     "output_type": "display_data"
    }
   ],
   "source": [
    "# F НЕВЕРНОЕ РЕШЕНИЕ\n",
    "# vibo: WA на тесте-20\n",
    "# vibo: ошибка была в округлении, округлять промежуточные результаты было неправильно\n",
    "import matplotlib.pyplot as plt\n",
    "plt.grid()\n",
    "\n",
    "class Rectangle:\n",
    "\n",
    "    def __init__(self, *args):\n",
    "        # vibo: распаковываем переменные на входе\n",
    "        # vibo: координаты точек - двух противоположных углов прямоугольника\n",
    "        ((self.x1, self.y1), (self.x2, self.y2)) = args\n",
    "\n",
    "        # vibo: получаем координаты всех углов начиная с левого верхнего по часовой стрелке\n",
    "        if self.x1 < self.x2:\n",
    "            if self.y1 > self.y2:\n",
    "                self.l_up_x, self.l_up_y = self.x1, self.y1\n",
    "                self.r_up_x, self.r_up_y = self.x2, self.y1\n",
    "                self.r_dn_x, self.r_dn_y = self.x2, self.y2\n",
    "                self.l_dn_x, self.l_dn_y = self.x1, self.y2\n",
    "            else:\n",
    "                self.l_up_x, self.l_up_y = self.x1, self.y2\n",
    "                self.r_up_x, self.r_up_y = self.x2, self.y2\n",
    "                self.r_dn_x, self.r_dn_y = self.x2, self.y1\n",
    "                self.l_dn_x, self.l_dn_y = self.x1, self.y1\n",
    "\n",
    "        else:\n",
    "            if self.y1 > self.y2:\n",
    "                self.l_up_x, self.l_up_y = self.x2, self.y1\n",
    "                self.r_up_x, self.r_up_y = self.x1, self.y1\n",
    "                self.r_dn_x, self.r_dn_y = self.x1, self.y2\n",
    "                self.l_dn_x, self.l_dn_y = self.x2, self.y2\n",
    "\n",
    "            else:\n",
    "                self.l_up_x, self.l_up_y = self.x2, self.y2\n",
    "                self.r_up_x, self.r_up_y = self.x1, self.y2\n",
    "                self.r_dn_x, self.r_dn_y = self.x1, self.y1\n",
    "                self.l_dn_x, self.l_dn_y = self.x2, self.y1\n",
    "\n",
    "    # vibo: периметр прямоугольника\n",
    "    def perimeter(self):\n",
    "        if self.r_up_x != self.l_up_x and self.l_up_y != self.l_dn_y:\n",
    "            return round((self.r_up_x - self.l_up_x) * 2 + (self.l_up_y - self.l_dn_y) * 2, 2)\n",
    "        else:\n",
    "            return 0\n",
    "\n",
    "    # vibo: площадь прямоугольника\n",
    "    def area(self):\n",
    "        return round((self.r_up_x - self.l_up_x) * (self.l_up_y - self.l_dn_y), 2)\n",
    "\n",
    "    # vibo: возвращает координаты верхнего левого угла в виде кортежа\n",
    "    def get_pos(self):\n",
    "        return f'({self.l_up_x}, {self.l_up_y})'\n",
    "\n",
    "    # vibo: возвращает размеры в виде кортежа\n",
    "    def get_size(self):\n",
    "        return round((self.r_up_x - self.l_up_x), 2), round((self.l_up_y - self.l_dn_y), 2)\n",
    "\n",
    "    # vibo: изменяет положение на заданные значения\n",
    "    def move(self, dx, dy):\n",
    "\n",
    "\n",
    "        # vibo: визуализация перед методом\n",
    "        plt.plot([rect.x1, rect.x2], [rect.y1, rect.y2], marker = 'o', color='blue')\n",
    "        plt.plot([rect.l_up_x, rect.r_up_x], [rect.l_up_y, rect.r_up_y], marker = 'o', color='blue')\n",
    "        plt.plot([rect.l_dn_x, rect.r_dn_x], [rect.l_dn_y, rect.r_dn_y], marker = 'o', color='blue')\n",
    "        plt.plot([rect.r_up_x, rect.r_dn_x], [rect.r_up_y, rect.r_dn_y], marker = 'o', color='blue')\n",
    "        plt.plot([rect.l_up_x, rect.l_dn_x], [rect.l_up_y, rect.l_dn_y], marker = 'o', color='blue')\n",
    "\n",
    "\n",
    "        self.l_up_x, self.l_up_y = round(self.l_up_x + dx, 2), round(self.l_up_y + dy, 2)\n",
    "        self.r_up_x, self.r_up_y = round(self.r_up_x + dx, 2), round(self.r_up_y + dy, 2)\n",
    "        self.r_dn_x, self.r_dn_y = round(self.r_dn_x + dx, 2), round(self.r_dn_y + dy, 2)\n",
    "        self.l_dn_x, self.l_dn_y = round(self.l_dn_x + dx, 2), round(self.l_dn_y + dy, 2)\n",
    "\n",
    "\n",
    "        # vibo: визуализация после метода\n",
    "        # plt.plot([rect.x1, rect.x2], [rect.y1, rect.y2], marker = 'o', color = 'blue')\n",
    "        plt.plot([rect.l_up_x, rect.r_up_x], [rect.l_up_y, rect.r_up_y], marker = 'o', color='red')\n",
    "        plt.plot([rect.l_dn_x, rect.r_dn_x], [rect.l_dn_y, rect.r_dn_y], marker = 'o', color='red')\n",
    "        plt.plot([rect.r_up_x, rect.r_dn_x], [rect.r_up_y, rect.r_dn_y], marker = 'o', color='red')\n",
    "        plt.plot([rect.l_up_x, rect.l_dn_x], [rect.l_up_y, rect.l_dn_y], marker = 'o', color='red')\n",
    "\n",
    "\n",
    "    # vibo: изменяет размер (положение верхнего левого угла остаётся неизменным)\n",
    "    def resize(self, width, height):\n",
    "\n",
    "\n",
    "        # vibo: визуализация перед методом\n",
    "        plt.plot([rect.x1, rect.x2], [rect.y1, rect.y2], marker = 'o', color='blue')\n",
    "        plt.plot([rect.l_up_x, rect.r_up_x], [rect.l_up_y, rect.r_up_y], marker = 'o', color='blue')\n",
    "        plt.plot([rect.l_dn_x, rect.r_dn_x], [rect.l_dn_y, rect.r_dn_y], marker = 'o', color='blue')\n",
    "        plt.plot([rect.r_up_x, rect.r_dn_x], [rect.r_up_y, rect.r_dn_y], marker = 'o', color='blue')\n",
    "        plt.plot([rect.l_up_x, rect.l_dn_x], [rect.l_up_y, rect.l_dn_y], marker = 'o', color='blue')\n",
    "\n",
    "\n",
    "        self.l_up_x, self.l_up_y = self.l_up_x, self.l_up_y\n",
    "        self.r_up_x, self.r_up_y = round(self.l_up_x + width, 2), round(self.l_up_y, 2)\n",
    "        self.r_dn_x, self.r_dn_y = round(self.l_up_x + width, 2), round(self.l_up_y - height, 2)\n",
    "        self.l_dn_x, self.l_dn_y = round(self.l_up_x, 2), round(self.l_up_y - height, 2)\n",
    "\n",
    "        if width < 0 or height < 0:\n",
    "\n",
    "            self.x1, self.y1, self.x2, self.y2 = self.l_up_x, self.l_up_y, self.r_dn_x, self.r_dn_y\n",
    "\n",
    "            if self.x1 < self.x2:\n",
    "                if self.y1 > self.y2:\n",
    "                    self.l_up_x, self.l_up_y = self.x1, self.y1\n",
    "                    self.r_up_x, self.r_up_y = self.x2, self.y1\n",
    "                    self.r_dn_x, self.r_dn_y = self.x2, self.y2\n",
    "                    self.l_dn_x, self.l_dn_y = self.x1, self.y2\n",
    "                else:\n",
    "                    self.l_up_x, self.l_up_y = self.x1, self.y2\n",
    "                    self.r_up_x, self.r_up_y = self.x2, self.y2\n",
    "                    self.r_dn_x, self.r_dn_y = self.x2, self.y1\n",
    "                    self.l_dn_x, self.l_dn_y = self.x1, self.y1\n",
    "\n",
    "            else:\n",
    "                if self.y1 > self.y2:\n",
    "                    self.l_up_x, self.l_up_y = self.x2, self.y1\n",
    "                    self.r_up_x, self.r_up_y = self.x1, self.y1\n",
    "                    self.r_dn_x, self.r_dn_y = self.x1, self.y2\n",
    "                    self.l_dn_x, self.l_dn_y = self.x2, self.y2\n",
    "\n",
    "                else:\n",
    "                    self.l_up_x, self.l_up_y = self.x2, self.y2\n",
    "                    self.r_up_x, self.r_up_y = self.x1, self.y2\n",
    "                    self.r_dn_x, self.r_dn_y = self.x1, self.y1\n",
    "                    self.l_dn_x, self.l_dn_y = self.x2, self.y1\n",
    "\n",
    "\n",
    "        # vibo: визуализация после метода\n",
    "        # plt.plot([rect.x1, rect.x2], [rect.y1, rect.y2], marker = 'o', color = 'blue')\n",
    "        plt.plot([rect.l_up_x, rect.r_up_x], [rect.l_up_y, rect.r_up_y], marker = 'o', color='red')\n",
    "        plt.plot([rect.l_dn_x, rect.r_dn_x], [rect.l_dn_y, rect.r_dn_y], marker = 'o', color='red')\n",
    "        plt.plot([rect.r_up_x, rect.r_dn_x], [rect.r_up_y, rect.r_dn_y], marker = 'o', color='red')\n",
    "        plt.plot([rect.l_up_x, rect.l_dn_x], [rect.l_up_y, rect.l_dn_y], marker = 'o', color='red')\n",
    "\n",
    "\n",
    "# # vibo: Пример 1.\n",
    "# rect = Rectangle((3.2, -4.3), (7.52, 3.14))\n",
    "# print(rect.get_pos(), rect.get_size())\n",
    "# rect.move(3, -3)\n",
    "# print(rect.get_pos(), rect.get_size())\n",
    "\n",
    "# vibo: Пример 2.\n",
    "rect = Rectangle((-7.52, 4.3), (-3.2, -3.14))\n",
    "print(rect.get_pos(), rect.get_size())\n",
    "rect.resize(23.5, 11.3)\n",
    "print(rect.get_pos(), rect.get_size())"
   ],
   "metadata": {
    "collapsed": false,
    "pycharm": {
     "name": "#%%\n"
    }
   }
  },
  {
   "cell_type": "code",
   "execution_count": 1,
   "outputs": [
    {
     "name": "stdout",
     "output_type": "stream",
     "text": [
      "(3.2, 3.14) (4.32, 7.44)\n",
      "(4.52, -1.86) (4.32, 7.44)\n",
      "(3.2, 3.14) (4.32, 7.44)\n",
      "(3.2, 3.14) (23.5, 11.3)\n"
     ]
    }
   ],
   "source": [
    "# F Полное решение\n",
    "# vibo: вынес определение координат из init в отделньый метод\n",
    "\n",
    "class Rectangle:\n",
    "\n",
    "    # vibo: входные точки\n",
    "    def __init__(self, point1, point2):\n",
    "        self.x1, self.y1 = point1\n",
    "        self.x2, self.y2 = point2\n",
    "\n",
    "        # vibo: вызываем метод для определения координат\n",
    "        self.l_up_x, self.l_up_y, self.r_dn_x, self.r_dn_y, self.l_dn_x, self.l_dn_y, self.r_up_x, self.r_up_y = self.coordinates()\n",
    "\n",
    "    # vibo: определяем координаты\n",
    "    def coordinates(self):\n",
    "        if self.x1 < self.x2 and self.y1 > self.y2:\n",
    "            l_up_x, l_up_y = self.x1, self.y1\n",
    "            r_dn_x, r_dn_y = self.x2, self.y2\n",
    "\n",
    "            r_up_x, r_up_y = self.x2, self.y1\n",
    "            l_dn_x, l_dn_y = self.x1, self.y2\n",
    "\n",
    "        if self.x2 < self.x1 and self.y2 > self.y1:\n",
    "            l_up_x, l_up_y = self.x2, self.y2\n",
    "            r_dn_x, r_dn_y = self.x1, self.y1\n",
    "\n",
    "            r_up_x, r_up_y = self.x1, self.y2\n",
    "            l_dn_x, l_dn_y = self.x2, self.y1\n",
    "\n",
    "        if self.x1 < self.x2 and self.y2 > self.y1:\n",
    "            l_dn_x, l_dn_y = self.x1, self.y1\n",
    "            r_up_x, r_up_y = self.x2, self.y2\n",
    "\n",
    "            l_up_x, l_up_y = self.x1, self.y2\n",
    "            r_dn_x, r_dn_y = self.x2, self.y1\n",
    "\n",
    "        if self.x2 < self.x1 and self.y1 > self.y2:\n",
    "            r_up_x, r_up_y = self.x1, self.y1\n",
    "            l_dn_x, l_dn_y = self.x2, self.y2\n",
    "\n",
    "            l_up_x, l_up_y = self.x2, self.y1\n",
    "            r_dn_x, r_dn_y = self.x1, self.y2\n",
    "\n",
    "        return l_up_x, l_up_y, r_dn_x, r_dn_y, l_dn_x, l_dn_y, r_up_x, r_up_y\n",
    "\n",
    "    # vibo: возвращает периметр прямоугольника\n",
    "    def perimeter(self):\n",
    "        return round((self.r_up_x - self.l_up_x) * 2 + (self.l_up_y - self.l_dn_y) * 2, 2)\n",
    "\n",
    "    # vibo: возвращает площадь прямоугольника\n",
    "    def area(self):\n",
    "        return round((self.r_up_x - self.l_up_x) * (self.l_up_y - self.l_dn_y), 2)\n",
    "\n",
    "    # vibo: возвращает координаты верхнего левого угла в виде кортежа\n",
    "    def get_pos(self):\n",
    "        return round(self.l_up_x, 2), round(self.l_up_y, 2)\n",
    "\n",
    "    # vibo: возвращает размеры в виде кортежа\n",
    "    def get_size(self):\n",
    "        return round((self.r_up_x - self.l_up_x), 2), round((self.l_up_y - self.l_dn_y), 2)\n",
    "\n",
    "    # vibo: изменяет положение на заданные значения\n",
    "    def move(self, dx, dy):\n",
    "        self.l_up_x, self.l_up_y = self.l_up_x + dx, self.l_up_y + dy\n",
    "        self.r_dn_x, self.r_dn_y = self.r_dn_x + dx, self.r_dn_y + dy\n",
    "        self.l_dn_x, self.l_dn_y = self.l_dn_x + dx, self.l_dn_y + dy\n",
    "        self.r_up_x, self.r_up_y = self.r_up_x + dx, self.r_up_y + dy\n",
    "\n",
    "    # vibo: изменяет размер (положение верхнего левого угла остаётся неизменным)\n",
    "    def resize(self, width, height):\n",
    "        self.r_dn_x, self.r_dn_y = self.l_up_x + width, self.l_up_y - height\n",
    "        self.l_dn_x, self.l_dn_y = self.l_up_x, self.l_up_y - height\n",
    "        self.r_up_x, self.r_up_y = self.l_up_x + width, self.l_up_y\n",
    "\n",
    "\n",
    "# vibo: Пример 1.\n",
    "rect = Rectangle((3.2, -4.3), (7.52, 3.14))\n",
    "print(rect.get_pos(), rect.get_size())\n",
    "rect.move(1.32, -5)\n",
    "print(rect.get_pos(), rect.get_size())\n",
    "\n",
    "# vibo: Пример 2.\n",
    "rect = Rectangle((7.52, -4.3), (3.2, 3.14))\n",
    "print(rect.get_pos(), rect.get_size())\n",
    "rect.resize(23.5, 11.3)\n",
    "print(rect.get_pos(), rect.get_size())"
   ],
   "metadata": {
    "collapsed": false,
    "pycharm": {
     "name": "#%%\n"
    }
   }
  },
  {
   "cell_type": "code",
   "execution_count": 2,
   "outputs": [
    {
     "name": "stdout",
     "output_type": "stream",
     "text": [
      "(-3.14, 2.71)\n",
      "(6.28, 5.42)\n",
      "(-6.28, 5.42)\n",
      "(12.56, 10.84)\n"
     ]
    },
    {
     "data": {
      "text/plain": "<Figure size 640x480 with 1 Axes>",
      "image/png": "[encoded data removed]"
     },
     "metadata": {},
     "output_type": "display_data"
    }
   ],
   "source": [
    "# G НЕВЕРНОЕ РЕШЕШНИЕ\n",
    "# vibo: WA на тесте-3\n",
    "import matplotlib.pyplot as plt\n",
    "plt.grid()\n",
    "\n",
    "class Rectangle:\n",
    "\n",
    "    def __init__(self, *args):\n",
    "        # vibo: распаковываем переменные на входе\n",
    "        # vibo: координаты точек - двух противоположных углов прямоугольника\n",
    "        ((self.x1, self.y1), (self.x2, self.y2)) = args\n",
    "\n",
    "        # vibo: получаем координаты всех углов начиная с левого верхнего по часовой стрелке\n",
    "        if self.x1 < self.x2:\n",
    "            if self.y1 > self.y2:\n",
    "                self.l_up_x, self.l_up_y = self.x1, self.y1\n",
    "                self.r_up_x, self.r_up_y = self.x2, self.y1\n",
    "                self.r_dn_x, self.r_dn_y = self.x2, self.y2\n",
    "                self.l_dn_x, self.l_dn_y = self.x1, self.y2\n",
    "            else:\n",
    "                self.l_up_x, self.l_up_y = self.x1, self.y2\n",
    "                self.r_up_x, self.r_up_y = self.x2, self.y2\n",
    "                self.r_dn_x, self.r_dn_y = self.x2, self.y1\n",
    "                self.l_dn_x, self.l_dn_y = self.x1, self.y1\n",
    "\n",
    "        else:\n",
    "            if self.y1 > self.y2:\n",
    "                self.l_up_x, self.l_up_y = self.x2, self.y1\n",
    "                self.r_up_x, self.r_up_y = self.x1, self.y1\n",
    "                self.r_dn_x, self.r_dn_y = self.x1, self.y2\n",
    "                self.l_dn_x, self.l_dn_y = self.x2, self.y2\n",
    "\n",
    "            else:\n",
    "                self.l_up_x, self.l_up_y = self.x2, self.y2\n",
    "                self.r_up_x, self.r_up_y = self.x1, self.y2\n",
    "                self.r_dn_x, self.r_dn_y = self.x1, self.y1\n",
    "                self.l_dn_x, self.l_dn_y = self.x2, self.y1\n",
    "\n",
    "    # vibo: рассчитываем периметр прямоугольника\n",
    "    def perimeter(self):\n",
    "        return round(abs(self.l_up_x - self.r_up_x) * 2 + abs(self.l_up_y - self.l_dn_y) * 2, 2)\n",
    "\n",
    "    # vibo: рассчитываем площадь прямоугольника\n",
    "    def area(self):\n",
    "        return round(abs(self.l_up_x - self.r_up_x) * abs(self.l_up_y - self.l_dn_y), 2)\n",
    "\n",
    "    # vibo: возвращает координаты верхнего левого угла в виде кортежа\n",
    "    def get_pos(self):\n",
    "        return f'({self.l_up_x}, {self.l_up_y})'\n",
    "\n",
    "    # vibo: возвращает размеры в виде кортежа\n",
    "    def get_size(self):\n",
    "        return round(abs(self.l_up_x - self.r_up_x), 2), round(abs(self.l_up_y - self.l_dn_y), 2)\n",
    "\n",
    "    # vibo: изменяет положение на заданные значения\n",
    "    def move(self, dx, dy):\n",
    "        self.l_up_x, self.l_up_y = round(self.l_up_x + dx, 2), round(self.l_up_y + dy, 2)\n",
    "        self.r_up_x, self.r_up_y = round(self.r_up_x + dx, 2), round(self.r_up_y + dy, 2)\n",
    "        self.r_dn_x, self.r_dn_y = round(self.r_dn_x + dx, 2), round(self.r_dn_y + dy, 2)\n",
    "        self.l_dn_x, self.l_dn_y = round(self.l_dn_x + dx, 2), round(self.l_dn_y + dy, 2)\n",
    "\n",
    "    # vibo: изменяет размер (положение верхнего левого угла остаётся неизменным)\n",
    "    def resize(self, width, height):\n",
    "        # x0 = self.l_up_x\n",
    "        # y0 = self.l_up_y\n",
    "        #\n",
    "        # self.l_up_x, self.l_up_y = round(x0, 2), round(y0, 2)\n",
    "        # self.r_up_x, self.r_up_y = round(x0 + width, 2), round(y0, 2)\n",
    "        # self.r_dn_x, self.r_dn_y = round(x0 + width, 2), round(y0 - height, 2)\n",
    "        # self.l_dn_x, self.l_dn_y = round(x0, 2), round(y0 - height, 2)\n",
    "\n",
    "        self.l_up_x, self.l_up_y = round(self.l_up_x, 2), round(self.l_up_y, 2)\n",
    "        self.r_up_x, self.r_up_y = round(self.l_up_x + width, 2), round(self.l_up_y, 2)\n",
    "        self.r_dn_x, self.r_dn_y = round(self.l_up_x + width, 2), round(self.l_up_y - height, 2)\n",
    "        self.l_dn_x, self.l_dn_y = round(self.l_up_x, 2), round(self.l_up_y - height, 2)\n",
    "\n",
    "    # vibo: поворачивает прямоугольник на 90 градусов; по часовой стрелке вокруг его центра\n",
    "    def turn(self):\n",
    "\n",
    "\n",
    "        # vibo: визуализация перед методом\n",
    "        plt.plot([rect.x1, rect.x2], [rect.y1, rect.y2], marker = 'o', color='blue')\n",
    "        plt.plot([rect.l_up_x, rect.r_up_x], [rect.l_up_y, rect.r_up_y], marker = 'o', color='blue')\n",
    "        plt.plot([rect.l_dn_x, rect.r_dn_x], [rect.l_dn_y, rect.r_dn_y], marker = 'o', color='blue')\n",
    "        plt.plot([rect.r_up_x, rect.r_dn_x], [rect.r_up_y, rect.r_dn_y], marker = 'o', color='blue')\n",
    "        plt.plot([rect.l_up_x, rect.l_dn_x], [rect.l_up_y, rect.l_dn_y], marker = 'o', color='blue')\n",
    "\n",
    "\n",
    "        # vibo: находим центр\n",
    "        center_x = round(((self.r_up_x - self.l_up_x) / 2) + self.l_up_x, 2)\n",
    "        center_y = round(self.l_up_y - ((self.l_up_y - self.l_dn_y) / 2), 2)\n",
    "\n",
    "\n",
    "        # vibo: отображаем цетр\n",
    "        plt.plot([center_x], [center_y], marker = 'o', color='red')\n",
    "\n",
    "\n",
    "        # vibo: перемещаемся в центр координат\n",
    "        self.move(-center_x, -center_y)\n",
    "\n",
    "\n",
    "        plt.plot([rect.l_up_x, rect.r_up_x], [rect.l_up_y, rect.r_up_y], marker = 'o', color='blue', linestyle = '--')\n",
    "        plt.plot([rect.l_dn_x, rect.r_dn_x], [rect.l_dn_y, rect.r_dn_y], marker = 'o', color='blue', linestyle = '--')\n",
    "        plt.plot([rect.r_up_x, rect.r_dn_x], [rect.r_up_y, rect.r_dn_y], marker = 'o', color='blue', linestyle = '--')\n",
    "        plt.plot([rect.l_up_x, rect.l_dn_x], [rect.l_up_y, rect.l_dn_y], marker = 'o', color='blue', linestyle = '--')\n",
    "\n",
    "\n",
    "        # vibo: поворот на 90 градусов по часовой стрелке\n",
    "        self.l_up_x, self.l_up_y = -self.l_up_y, -self.l_up_x\n",
    "        self.r_up_x, self.r_up_y = self.r_up_y, self.r_up_x\n",
    "        self.r_dn_x, self.r_dn_y = -self.r_dn_y, -self.r_dn_x\n",
    "        self.l_dn_x, self.l_dn_y = self.l_dn_y, self.l_dn_x\n",
    "\n",
    "\n",
    "        plt.plot([rect.l_up_x, rect.r_up_x], [rect.l_up_y, rect.r_up_y], marker = 'o', color='red', linestyle = '--')\n",
    "        plt.plot([rect.l_dn_x, rect.r_dn_x], [rect.l_dn_y, rect.r_dn_y], marker = 'o', color='red', linestyle = '--')\n",
    "        plt.plot([rect.r_up_x, rect.r_dn_x], [rect.r_up_y, rect.r_dn_y], marker = 'o', color='red', linestyle = '--')\n",
    "        plt.plot([rect.l_up_x, rect.l_dn_x], [rect.l_up_y, rect.l_dn_y], marker = 'o', color='red', linestyle = '--')\n",
    "\n",
    "\n",
    "        # vibo: возвращаемся в исходный центр\n",
    "        self.move(center_x, center_y)\n",
    "\n",
    "\n",
    "        # vibo: визуализация после метода\n",
    "        # plt.plot([rect.x1, rect.x2], [rect.y1, rect.y2], marker = 'o', color = 'blue')\n",
    "        plt.plot([rect.l_up_x, rect.r_up_x], [rect.l_up_y, rect.r_up_y], marker = 'o', color='red')\n",
    "        plt.plot([rect.l_dn_x, rect.r_dn_x], [rect.l_dn_y, rect.r_dn_y], marker = 'o', color='red')\n",
    "        plt.plot([rect.r_up_x, rect.r_dn_x], [rect.r_up_y, rect.r_dn_y], marker = 'o', color='red')\n",
    "        plt.plot([rect.l_up_x, rect.l_dn_x], [rect.l_up_y, rect.l_dn_y], marker = 'o', color='red')\n",
    "\n",
    "\n",
    "    # vibo: изменяет размер в указанное количество раз, тоже относительно центра\n",
    "    def scale(self, factor):\n",
    "\n",
    "\n",
    "        # vibo: визуализация перед методом\n",
    "        plt.plot([rect.x1, rect.x2], [rect.y1, rect.y2], marker = 'o', color='blue')\n",
    "        plt.plot([rect.l_up_x, rect.r_up_x], [rect.l_up_y, rect.r_up_y], marker = 'o', color='blue')\n",
    "        plt.plot([rect.l_dn_x, rect.r_dn_x], [rect.l_dn_y, rect.r_dn_y], marker = 'o', color='blue')\n",
    "        plt.plot([rect.r_up_x, rect.r_dn_x], [rect.r_up_y, rect.r_dn_y], marker = 'o', color='blue')\n",
    "        plt.plot([rect.l_up_x, rect.l_dn_x], [rect.l_up_y, rect.l_dn_y], marker = 'o', color='blue')\n",
    "\n",
    "\n",
    "        # vibo: находим центр\n",
    "        center_x = round(((self.r_up_x - self.l_up_x) / 2) + self.l_up_x, 2)\n",
    "        center_y = round(self.l_up_y - ((self.l_up_y - self.l_dn_y) / 2), 2)\n",
    "\n",
    "\n",
    "        # vibo: отображаем цетр\n",
    "        plt.plot([center_x], [center_y], marker = 'o', color='red')\n",
    "\n",
    "\n",
    "        # vibo: перемещаемся в центр координат\n",
    "        self.move(-center_x, -center_y)\n",
    "\n",
    "\n",
    "        plt.plot([rect.l_up_x, rect.r_up_x], [rect.l_up_y, rect.r_up_y], marker = 'o', color='blue', linestyle = '--')\n",
    "        plt.plot([rect.l_dn_x, rect.r_dn_x], [rect.l_dn_y, rect.r_dn_y], marker = 'o', color='blue', linestyle = '--')\n",
    "        plt.plot([rect.r_up_x, rect.r_dn_x], [rect.r_up_y, rect.r_dn_y], marker = 'o', color='blue', linestyle = '--')\n",
    "        plt.plot([rect.l_up_x, rect.l_dn_x], [rect.l_up_y, rect.l_dn_y], marker = 'o', color='blue', linestyle = '--')\n",
    "\n",
    "\n",
    "        # vibo: масштабирование\n",
    "        self.l_up_x, self.l_up_y = round(self.l_up_x * factor, 2), round(self.l_up_y * factor, 2)\n",
    "        self.r_up_x, self.r_up_y = round(self.r_up_x * factor, 2), round(self.r_up_y * factor, 2)\n",
    "        self.r_dn_x, self.r_dn_y = round(self.r_dn_x * factor, 2), round(self.r_dn_y * factor, 2)\n",
    "        self.l_dn_x, self.l_dn_y = round(self.l_dn_x * factor, 2), round(self.l_dn_y * factor, 2)\n",
    "\n",
    "\n",
    "        plt.plot([rect.l_up_x, rect.r_up_x], [rect.l_up_y, rect.r_up_y], marker = 'o', color='red', linestyle = '--')\n",
    "        plt.plot([rect.l_dn_x, rect.r_dn_x], [rect.l_dn_y, rect.r_dn_y], marker = 'o', color='red', linestyle = '--')\n",
    "        plt.plot([rect.r_up_x, rect.r_dn_x], [rect.r_up_y, rect.r_dn_y], marker = 'o', color='red', linestyle = '--')\n",
    "        plt.plot([rect.l_up_x, rect.l_dn_x], [rect.l_up_y, rect.l_dn_y], marker = 'o', color='red', linestyle = '--')\n",
    "\n",
    "\n",
    "        # vibo: возвращаемся в исходный центр\n",
    "        self.move(center_x, center_y)\n",
    "\n",
    "\n",
    "        # vibo: визуализация после метода\n",
    "        # plt.plot([rect.x1, rect.x2], [rect.y1, rect.y2], marker = 'o', color = 'blue')\n",
    "        plt.plot([rect.l_up_x, rect.r_up_x], [rect.l_up_y, rect.r_up_y], marker = 'o', color='red')\n",
    "        plt.plot([rect.l_dn_x, rect.r_dn_x], [rect.l_dn_y, rect.r_dn_y], marker = 'o', color='red')\n",
    "        plt.plot([rect.r_up_x, rect.r_dn_x], [rect.r_up_y, rect.r_dn_y], marker = 'o', color='red')\n",
    "        plt.plot([rect.l_up_x, rect.l_dn_x], [rect.l_up_y, rect.l_dn_y], marker = 'o', color='red')\n",
    "\n",
    "\n",
    "# # vibo: Пример 1\n",
    "# rect = Rectangle((3.14, 2.71), (-3.14, -2.71))\n",
    "# print(rect.get_pos(), rect.get_size(), sep='\\n')\n",
    "# rect.turn()\n",
    "# print(rect.get_pos(), rect.get_size(), sep='\\n')\n",
    "\n",
    "# vibo: Пример 2\n",
    "rect = Rectangle((3.14, 2.71), (-3.14, -2.71))\n",
    "print(rect.get_pos(), rect.get_size(), sep='\\n')\n",
    "rect.scale(2.0)\n",
    "print(rect.get_pos(), rect.get_size(), sep='\\n')"
   ],
   "metadata": {
    "collapsed": false,
    "pycharm": {
     "name": "#%%\n"
    }
   }
  },
  {
   "cell_type": "code",
   "execution_count": 1,
   "outputs": [
    {
     "name": "stdout",
     "output_type": "stream",
     "text": [
      "(-3.14, 2.71)\n",
      "(6.28, 5.42)\n",
      "(-2.71, 3.14)\n",
      "(5.42, 6.28)\n",
      "(-3.14, 2.71)\n",
      "(6.28, 5.42)\n",
      "(-6.28, 5.42)\n",
      "(12.56, 10.84)\n"
     ]
    }
   ],
   "source": [
    "# G Полное решение\n",
    "class Rectangle:\n",
    "\n",
    "    # vibo: входные точки\n",
    "    def __init__(self, point1, point2):\n",
    "        self.x1, self.y1 = point1\n",
    "        self.x2, self.y2 = point2\n",
    "\n",
    "        # vibo: вызываем метод для определения координат\n",
    "        self.l_up_x, self.l_up_y, self.r_dn_x, self.r_dn_y,\\\n",
    "            self.l_dn_x, self.l_dn_y, self.r_up_x, self.r_up_y = self.coordinates()\n",
    "\n",
    "    # vibo: определяем координаты\n",
    "    def coordinates(self):\n",
    "        if self.x1 < self.x2 and self.y1 > self.y2:\n",
    "            l_up_x, l_up_y = self.x1, self.y1\n",
    "            r_dn_x, r_dn_y = self.x2, self.y2\n",
    "\n",
    "            r_up_x, r_up_y = self.x2, self.y1\n",
    "            l_dn_x, l_dn_y = self.x1, self.y2\n",
    "\n",
    "        if self.x2 < self.x1 and self.y2 > self.y1:\n",
    "            l_up_x, l_up_y = self.x2, self.y2\n",
    "            r_dn_x, r_dn_y = self.x1, self.y1\n",
    "\n",
    "            r_up_x, r_up_y = self.x1, self.y2\n",
    "            l_dn_x, l_dn_y = self.x2, self.y1\n",
    "\n",
    "        if self.x1 < self.x2 and self.y2 > self.y1:\n",
    "            l_dn_x, l_dn_y = self.x1, self.y1\n",
    "            r_up_x, r_up_y = self.x2, self.y2\n",
    "\n",
    "            l_up_x, l_up_y = self.x1, self.y2\n",
    "            r_dn_x, r_dn_y = self.x2, self.y1\n",
    "\n",
    "        if self.x2 < self.x1 and self.y1 > self.y2:\n",
    "            r_up_x, r_up_y = self.x1, self.y1\n",
    "            l_dn_x, l_dn_y = self.x2, self.y2\n",
    "\n",
    "            l_up_x, l_up_y = self.x2, self.y1\n",
    "            r_dn_x, r_dn_y = self.x1, self.y2\n",
    "\n",
    "        return l_up_x, l_up_y, r_dn_x, r_dn_y, l_dn_x, l_dn_y, r_up_x, r_up_y\n",
    "\n",
    "    # vibo: возвращает периметр прямоугольника\n",
    "    def perimeter(self):\n",
    "        return round((self.r_up_x - self.l_up_x) * 2 + (self.l_up_y - self.l_dn_y) * 2, 2)\n",
    "\n",
    "    # vibo: возвращает площадь прямоугольника\n",
    "    def area(self):\n",
    "        return round((self.r_up_x - self.l_up_x) * (self.l_up_y - self.l_dn_y), 2)\n",
    "\n",
    "    # vibo: возвращает координаты верхнего левого угла в виде кортежа\n",
    "    def get_pos(self):\n",
    "        return round(self.l_up_x, 2), round(self.l_up_y, 2)\n",
    "\n",
    "    # vibo: возвращает размеры в виде кортежа\n",
    "    def get_size(self):\n",
    "        return round((self.r_up_x - self.l_up_x), 2), round((self.l_up_y - self.l_dn_y), 2)\n",
    "\n",
    "    # vibo: изменяет положение на заданные значения\n",
    "    def move(self, dx, dy):\n",
    "        self.l_up_x, self.l_up_y = self.l_up_x + dx, self.l_up_y + dy\n",
    "        self.r_dn_x, self.r_dn_y = self.r_dn_x + dx, self.r_dn_y + dy\n",
    "        self.l_dn_x, self.l_dn_y = self.l_dn_x + dx, self.l_dn_y + dy\n",
    "        self.r_up_x, self.r_up_y = self.r_up_x + dx, self.r_up_y + dy\n",
    "\n",
    "    # vibo: изменяет размер (положение верхнего левого угла остаётся неизменным)\n",
    "    def resize(self, width, height):\n",
    "        self.r_dn_x, self.r_dn_y = self.l_up_x + width, self.l_up_y - height\n",
    "        self.l_dn_x, self.l_dn_y = self.l_up_x, self.l_up_y - height\n",
    "        self.r_up_x, self.r_up_y = self.l_up_x + width, self.l_up_y\n",
    "\n",
    "    # vibo: делаем метод по определению центра\n",
    "    def center(self):\n",
    "        x_ctr = round((self.r_up_x - self.l_up_x) / 2 + self.l_up_x, 2)\n",
    "        y_ctr = round((self.l_up_y - self.l_dn_y) / 2 + self.l_dn_y, 2)\n",
    "        return x_ctr, y_ctr\n",
    "\n",
    "    # vibo: поворачивает прямоугольник на 90 градусов; по часовой стрелке вокруг его центра;\n",
    "    def turn(self):\n",
    "        # vibo: находим текущий центр\n",
    "        x_ctr, y_ctr = self.center()\n",
    "        # vibo: перемещаем текущий центр в центр координат\n",
    "        self.move(-x_ctr, -y_ctr)\n",
    "        # vibo: определяем текущую ширину и высоту\n",
    "        width, height = self.get_size()\n",
    "        # vibo: меняем координаты левого верхнего угла с учетом поворота\n",
    "        self.l_up_x, self.l_up_y = -self.l_up_y, -self.l_up_x\n",
    "        # vibo: меняем ширину и высоту местами\n",
    "        self.resize(height, width)\n",
    "        # vibo: перемещаемся в исходный центр\n",
    "        self.move(x_ctr, y_ctr)\n",
    "\n",
    "    # vibo: изменяет размер в указанное количество раз, тоже относительно центра\n",
    "    def scale(self, factor):\n",
    "        # vibo: находим текущий центр\n",
    "        x_ctr, y_ctr = self.center()\n",
    "        # vibo: перемещаем текущий центр в центр координат\n",
    "        self.move(-x_ctr, -y_ctr)\n",
    "        # vibo: определяем текущую ширину и высоту\n",
    "        width, height = self.get_size()\n",
    "        # vibo: перемещаем левый верхний угол с учетом масштабирования\n",
    "        self.l_up_x, self.l_up_y = round(self.l_up_x * factor, 2), round(self.l_up_y * factor, 2)\n",
    "        # vibo: выставляем ширину и высоту с учетом масштабирования\n",
    "        self.resize(round(width * factor, 2), round(height * factor, 2))\n",
    "        # vibo: перемещаемся в исходный центр\n",
    "        self.move(x_ctr, y_ctr)\n",
    "\n",
    "\n",
    "# vibo: Пример 1.\n",
    "rect = Rectangle((3.14, 2.71), (-3.14, -2.71))\n",
    "print(rect.get_pos(), rect.get_size(), sep='\\n')\n",
    "rect.turn()\n",
    "print(rect.get_pos(), rect.get_size(), sep='\\n')\n",
    "\n",
    "# vibo: Пример 2.\n",
    "rect = Rectangle((3.14, 2.71), (-3.14, -2.71))\n",
    "print(rect.get_pos(), rect.get_size(), sep='\\n')\n",
    "rect.scale(2.0)\n",
    "print(rect.get_pos(), rect.get_size(), sep='\\n')"
   ],
   "metadata": {
    "collapsed": false,
    "pycharm": {
     "name": "#%%\n"
    }
   }
  },
  {
   "cell_type": "code",
   "execution_count": null,
   "outputs": [],
   "source": [
    "# H НЕ РЕШЕНА\n",
    "# vibo: объекты класса строят игральную доску\n",
    "# со стандартным распределением клеток\n",
    "class Checkers:\n",
    "    def __init__(self):\n",
    "        pass\n",
    "\n",
    "    # vibo: перемещает шашку из позиции f в позицию t\n",
    "    def move(self, f, t):\n",
    "        pass\n",
    "\n",
    "    # vibo: возвращает объект «клетка» в позиции p\n",
    "    def get_cell(self, p):\n",
    "        pass\n",
    "\n",
    "# vibo: объекты класса принимают состояния:\n",
    "# W — белая шашка, B — чёрная шашка, * — пустая клетка\n",
    "class Cell:\n",
    "    def __init__(self):\n",
    "        pass\n",
    "\n",
    "    def status(self):\n",
    "        pass\n"
   ],
   "metadata": {
    "collapsed": false,
    "pycharm": {
     "name": "#%%\n"
    }
   }
  },
  {
   "cell_type": "code",
   "execution_count": 4,
   "outputs": [
    {
     "name": "stdout",
     "output_type": "stream",
     "text": [
      "Hello,\n",
      "world!\n"
     ]
    }
   ],
   "source": [
    "# I Полное решение\n",
    "# vibo: очередь\n",
    "class Queue:\n",
    "    def __init__(self):\n",
    "        self.turn = []\n",
    "\n",
    "    # vibo:  добавить элемент в конец очереди\n",
    "    def push(self, item):\n",
    "        return self.turn.append(item)\n",
    "\n",
    "    # vibo: «вытащить» первый элемент из очереди\n",
    "    def pop(self):\n",
    "        return self.turn.pop(0)\n",
    "\n",
    "    # vibo: проверят очередь на пустоту\n",
    "    def is_empty(self):\n",
    "        return len(self.turn) == 0\n",
    "\n",
    "# vibo: Пример 1.\n",
    "queue = Queue()\n",
    "for item in range(10):\n",
    "    queue.push(item)\n",
    "while not queue.is_empty():\n",
    "    print(queue.pop(), end=\" \")\n",
    "\n",
    "# vibo: Пример 2.\n",
    "queue = Queue()\n",
    "for item in (\"Hello,\", \"world!\"):\n",
    "    queue.push(item)\n",
    "while not queue.is_empty():\n",
    "    print(queue.pop())"
   ],
   "metadata": {
    "collapsed": false,
    "pycharm": {
     "name": "#%%\n"
    }
   }
  },
  {
   "cell_type": "code",
   "execution_count": 3,
   "outputs": [
    {
     "name": "stdout",
     "output_type": "stream",
     "text": [
      "world!\n",
      "Hello,\n"
     ]
    }
   ],
   "source": [
    "# J Полное решение\n",
    "# vibo: стек\n",
    "class Stack:\n",
    "    def __init__(self):\n",
    "        self.turn = []\n",
    "\n",
    "    # vibo:  добавить элемент в конец очереди\n",
    "    def push(self, item):\n",
    "        return self.turn.append(item)\n",
    "\n",
    "    # vibo: «вытащить» первый элемент из очереди\n",
    "    def pop(self):\n",
    "        return self.turn.pop()\n",
    "\n",
    "    # vibo: проверят очередь на пустоту\n",
    "    def is_empty(self):\n",
    "        return len(self.turn) == 0\n",
    "\n",
    "# vibo: Пример 1.\n",
    "stack = Stack()\n",
    "for item in range(10):\n",
    "    stack.push(item)\n",
    "while not stack.is_empty():\n",
    "    print(stack.pop(), end=\" \")\n",
    "\n",
    "# vibo: Пример 2.\n",
    "stack = Stack()\n",
    "for item in (\"Hello,\", \"world!\"):\n",
    "    stack.push(item)\n",
    "while not stack.is_empty():\n",
    "    print(stack.pop())"
   ],
   "metadata": {
    "collapsed": false,
    "pycharm": {
     "name": "#%%\n"
    }
   }
  }
 ],
 "metadata": {
  "kernelspec": {
   "display_name": "Python 3",
   "language": "python",
   "name": "python3"
  },
  "language_info": {
   "codemirror_mode": {
    "name": "ipython",
    "version": 2
   },
   "file_extension": ".py",
   "mimetype": "text/x-python",
   "name": "python",
   "nbconvert_exporter": "python",
   "pygments_lexer": "ipython2",
   "version": "2.7.6"
  }
 },
 "nbformat": 4,
 "nbformat_minor": 0
}