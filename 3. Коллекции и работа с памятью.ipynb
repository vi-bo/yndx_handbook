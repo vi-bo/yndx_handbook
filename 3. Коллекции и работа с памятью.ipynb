{
 "cells": [
  {
   "cell_type": "markdown",
   "source": [
    "\n",
    "# 3. Коллекции и работа с памятью"
   ],
   "metadata": {
    "collapsed": false,
    "pycharm": {
     "name": "#%% md\n"
    }
   }
  },
  {
   "cell_type": "markdown",
   "source": [
    "\n",
    "## 3.1. Строки, кортежи, списки"
   ],
   "metadata": {
    "collapsed": false,
    "pycharm": {
     "name": "#%% md\n"
    }
   }
  },
  {
   "cell_type": "markdown",
   "source": [
    "### Теория"
   ],
   "metadata": {
    "collapsed": false,
    "pycharm": {
     "name": "#%% md\n"
    }
   }
  },
  {
   "cell_type": "code",
   "execution_count": 1,
   "metadata": {
    "collapsed": true,
    "pycharm": {
     "name": "#%%\n"
    }
   },
   "outputs": [
    {
     "name": "stdout",
     "output_type": "stream",
     "text": [
      "1\n"
     ]
    }
   ],
   "source": [
    "# vibo: индексация симова в строке\n",
    "text = '12345'\n",
    "print(text[0])"
   ]
  },
  {
   "cell_type": "code",
   "execution_count": 2,
   "outputs": [
    {
     "name": "stdout",
     "output_type": "stream",
     "text": [
      "Индекс выходит за пределы строки\n"
     ]
    }
   ],
   "source": [
    "# vibo: обрабатываем выход за пределы длины строки\n",
    "text = input(\"Введите строку: \")\n",
    "i = int(input(\"Введите индекс символа: \"))\n",
    "if i < len(text):\n",
    "    print(text[i])\n",
    "else:\n",
    "    print(\"Индекс выходит за пределы строки\")"
   ],
   "metadata": {
    "collapsed": false,
    "pycharm": {
     "name": "#%%\n"
    }
   }
  },
  {
   "cell_type": "code",
   "execution_count": 4,
   "outputs": [
    {
     "name": "stdout",
     "output_type": "stream",
     "text": [
      "5\n",
      "5\n"
     ]
    }
   ],
   "source": [
    "# vibo: последний элемент строки\n",
    "text = input()\n",
    "print(text[len(text) - 1])\n",
    "\n",
    "# vibo: тоже последний элемент строки\n",
    "text = input()\n",
    "print(text[-1])"
   ],
   "metadata": {
    "collapsed": false,
    "pycharm": {
     "name": "#%%\n"
    }
   }
  },
  {
   "cell_type": "code",
   "execution_count": 5,
   "outputs": [
    {
     "name": "stdout",
     "output_type": "stream",
     "text": [
      "0. п\n",
      "1. р\n",
      "2. и\n",
      "3. в\n",
      "4. е\n",
      "5. т\n"
     ]
    }
   ],
   "source": [
    "# vibo: проход по строке\n",
    "# ВАРИАНТ1\n",
    "text = input()\n",
    "for i in range(len(text)):\n",
    "    print(f'{i}. {text[i]}')"
   ],
   "metadata": {
    "collapsed": false,
    "pycharm": {
     "name": "#%%\n"
    }
   }
  },
  {
   "cell_type": "code",
   "execution_count": 6,
   "outputs": [
    {
     "name": "stdout",
     "output_type": "stream",
     "text": [
      "п\n",
      "р\n",
      "и\n",
      "в\n",
      "е\n",
      "т\n"
     ]
    }
   ],
   "source": [
    "# vibo: если не требуется знать индекс текущего символа\n",
    "# ВАРИАНТ2\n",
    "text = input()\n",
    "for letter in text:\n",
    "    print(letter)"
   ],
   "metadata": {
    "collapsed": false,
    "pycharm": {
     "name": "#%%\n"
    }
   }
  },
  {
   "cell_type": "code",
   "execution_count": 7,
   "outputs": [
    {
     "name": "stdout",
     "output_type": "stream",
     "text": [
      "0. п\n",
      "1. р\n",
      "2. и\n",
      "3. в\n",
      "4. е\n",
      "5. т\n"
     ]
    }
   ],
   "source": [
    "# # vibo: enumerate\n",
    "text = input()\n",
    "for i, letter in enumerate(text):\n",
    "    print(f\"{i}. {letter}\")"
   ],
   "metadata": {
    "collapsed": false,
    "pycharm": {
     "name": "#%%\n"
    }
   }
  },
  {
   "cell_type": "code",
   "execution_count": 8,
   "outputs": [
    {
     "name": "stdout",
     "output_type": "stream",
     "text": [
      "0. П\n",
      "1. р\n",
      "2. и\n",
      "3. в\n",
      "4. е\n",
      "5. т\n",
      "6. ,\n",
      "7.  \n",
      "8. м\n",
      "9. и\n",
      "10. р\n",
      "11. !\n"
     ]
    }
   ],
   "source": [
    "# vibo: slice\n",
    "\n",
    "text = \"Привет, мир!\"\n",
    "\n",
    "for i, letter in enumerate(text):\n",
    "    print(f\"{i}. {letter}\")"
   ],
   "metadata": {
    "collapsed": false,
    "pycharm": {
     "name": "#%%\n"
    }
   }
  },
  {
   "cell_type": "code",
   "execution_count": 9,
   "outputs": [
    {
     "name": "stdout",
     "output_type": "stream",
     "text": [
      "мир\n",
      "Привет\n",
      "мир!\n",
      "Привет, мир!\n",
      "Пие,мр\n"
     ]
    }
   ],
   "source": [
    "print(text[8:11])\n",
    "print(text[:6])\n",
    "print(text[8:])\n",
    "print(text[:])\n",
    "print(text[::2])"
   ],
   "metadata": {
    "collapsed": false,
    "pycharm": {
     "name": "#%%\n"
    }
   }
  },
  {
   "cell_type": "markdown",
   "source": [
    "#### Строка"
   ],
   "metadata": {
    "collapsed": false,
    "pycharm": {
     "name": "#%% md\n"
    }
   }
  },
  {
   "cell_type": "markdown",
   "source": [
    "**СТРОКА - НЕИЗМЕНЯЕМАЯ КОЛЛЕКЦИЯ**"
   ],
   "metadata": {
    "collapsed": false,
    "pycharm": {
     "name": "#%% md\n"
    }
   }
  },
  {
   "cell_type": "code",
   "execution_count": 10,
   "outputs": [
    {
     "ename": "TypeError",
     "evalue": "'str' object does not support item assignment",
     "output_type": "error",
     "traceback": [
      "\u001B[0;31m---------------------------------------------------------------------------\u001B[0m",
      "\u001B[0;31mTypeError\u001B[0m                                 Traceback (most recent call last)",
      "Input \u001B[0;32mIn [10]\u001B[0m, in \u001B[0;36m<cell line: 4>\u001B[0;34m()\u001B[0m\n\u001B[1;32m      1\u001B[0m \u001B[38;5;66;03m# vibo: СТРОКА - НЕИЗМЕНЯЕМАЯ КОЛЛЕКЦИЯ\u001B[39;00m\n\u001B[1;32m      3\u001B[0m word \u001B[38;5;241m=\u001B[39m \u001B[38;5;124m\"\u001B[39m\u001B[38;5;124mмир\u001B[39m\u001B[38;5;124m\"\u001B[39m\n\u001B[0;32m----> 4\u001B[0m \u001B[43mword\u001B[49m\u001B[43m[\u001B[49m\u001B[38;5;241;43m0\u001B[39;49m\u001B[43m]\u001B[49m \u001B[38;5;241m=\u001B[39m \u001B[38;5;124m\"\u001B[39m\u001B[38;5;124mп\u001B[39m\u001B[38;5;124m\"\u001B[39m\n",
      "\u001B[0;31mTypeError\u001B[0m: 'str' object does not support item assignment"
     ]
    }
   ],
   "source": [
    "# vibo: СТРОКА - НЕИЗМЕНЯЕМАЯ КОЛЛЕКЦИЯ\n",
    "\n",
    "word = \"мир\"\n",
    "word[0] = \"п\"\n",
    "\n",
    "'''\n",
    "TypeError: 'str' object does not support item assignment\n",
    "'''"
   ],
   "metadata": {
    "collapsed": false,
    "pycharm": {
     "name": "#%%\n"
    }
   }
  },
  {
   "cell_type": "markdown",
   "source": [
    "#### Методы строк"
   ],
   "metadata": {
    "collapsed": false,
    "pycharm": {
     "name": "#%% md\n"
    }
   }
  },
  {
   "cell_type": "code",
   "execution_count": 11,
   "outputs": [
    {
     "name": "stdout",
     "output_type": "stream",
     "text": [
      "True\n",
      "False\n"
     ]
    }
   ],
   "source": [
    "print(\"аaaaaaa a aaaa\".islower())\n",
    "print(\"aaaaaaaaaaaa gffffffff A\".islower())"
   ],
   "metadata": {
    "collapsed": false,
    "pycharm": {
     "name": "#%%\n"
    }
   }
  },
  {
   "cell_type": "code",
   "execution_count": 12,
   "outputs": [
    {
     "name": "stdout",
     "output_type": "stream",
     "text": [
      "Hello, world!\n"
     ]
    }
   ],
   "source": [
    "s = \"hello, World!\"\n",
    "print(s.capitalize())"
   ],
   "metadata": {
    "collapsed": false,
    "pycharm": {
     "name": "#%%\n"
    }
   }
  },
  {
   "cell_type": "code",
   "execution_count": 13,
   "outputs": [
    {
     "name": "stdout",
     "output_type": "stream",
     "text": [
      "3\n"
     ]
    }
   ],
   "source": [
    "s = \"Hello, world!\"\n",
    "print(s.count(\"l\"))"
   ],
   "metadata": {
    "collapsed": false,
    "pycharm": {
     "name": "#%%\n"
    }
   }
  },
  {
   "cell_type": "code",
   "execution_count": 14,
   "outputs": [
    {
     "name": "stdout",
     "output_type": "stream",
     "text": [
      "2\n"
     ]
    }
   ],
   "source": [
    "# vibo: не перекрывающиеся\n",
    "s = \"AAAAA\"\n",
    "print(s.count(\"AA\"))"
   ],
   "metadata": {
    "collapsed": false,
    "pycharm": {
     "name": "#%%\n"
    }
   }
  },
  {
   "cell_type": "code",
   "execution_count": 16,
   "outputs": [
    {
     "name": "stdout",
     "output_type": "stream",
     "text": [
      "True\n"
     ]
    }
   ],
   "source": [
    "s = \"Hello, world!\"\n",
    "print(s.endswith(\"world!\"))\n",
    "# vibo: в скобки также можно передать кортеж"
   ],
   "metadata": {
    "collapsed": false,
    "pycharm": {
     "name": "#%%\n"
    }
   }
  },
  {
   "cell_type": "code",
   "execution_count": 17,
   "outputs": [
    {
     "name": "stdout",
     "output_type": "stream",
     "text": [
      "4\n",
      "-1\n",
      "4\n"
     ]
    },
    {
     "ename": "ValueError",
     "evalue": "substring not found",
     "output_type": "error",
     "traceback": [
      "\u001B[0;31m---------------------------------------------------------------------------\u001B[0m",
      "\u001B[0;31mValueError\u001B[0m                                Traceback (most recent call last)",
      "Input \u001B[0;32mIn [17]\u001B[0m, in \u001B[0;36m<cell line: 13>\u001B[0;34m()\u001B[0m\n\u001B[1;32m     11\u001B[0m \u001B[38;5;66;03m# vibo: падат с ошибкой\u001B[39;00m\n\u001B[1;32m     12\u001B[0m s \u001B[38;5;241m=\u001B[39m \u001B[38;5;124m\"\u001B[39m\u001B[38;5;124mHello, world!\u001B[39m\u001B[38;5;124m\"\u001B[39m\n\u001B[0;32m---> 13\u001B[0m \u001B[38;5;28mprint\u001B[39m(\u001B[43ms\u001B[49m\u001B[38;5;241;43m.\u001B[39;49m\u001B[43mindex\u001B[49m\u001B[43m(\u001B[49m\u001B[38;5;124;43m\"\u001B[39;49m\u001B[38;5;124;43mY\u001B[39;49m\u001B[38;5;124;43m\"\u001B[39;49m\u001B[43m)\u001B[49m)\n",
      "\u001B[0;31mValueError\u001B[0m: substring not found"
     ]
    }
   ],
   "source": [
    "s = \"Hello, world!\"\n",
    "print(s.find(\"o\"))\n",
    "\n",
    "# vibo: не падает, а выдает -1\n",
    "s = \"Hello, world!\"\n",
    "print(s.find(\"Y\"))\n",
    "\n",
    "s = \"Hello, world!\"\n",
    "print(s.index(\"o\"))\n",
    "\n",
    "# vibo: падат с ошибкой\n",
    "s = \"Hello, world!\"\n",
    "print(s.index(\"Y\"))"
   ],
   "metadata": {
    "collapsed": false,
    "pycharm": {
     "name": "#%%\n"
    }
   }
  },
  {
   "cell_type": "code",
   "execution_count": 18,
   "outputs": [
    {
     "name": "stdout",
     "output_type": "stream",
     "text": [
      "True\n",
      "False\n"
     ]
    }
   ],
   "source": [
    "s = \"abc123\"\n",
    "print(s.isalnum())\n",
    "s = \"ab.c123\"\n",
    "print(s.isalnum())"
   ],
   "metadata": {
    "collapsed": false,
    "pycharm": {
     "name": "#%%\n"
    }
   }
  },
  {
   "cell_type": "code",
   "execution_count": 19,
   "outputs": [
    {
     "name": "stdout",
     "output_type": "stream",
     "text": [
      "True\n"
     ]
    }
   ],
   "source": [
    "s = \"Letters\"\n",
    "print(s.isalpha())"
   ],
   "metadata": {
    "collapsed": false,
    "pycharm": {
     "name": "#%%\n"
    }
   }
  },
  {
   "cell_type": "code",
   "execution_count": 20,
   "outputs": [
    {
     "name": "stdout",
     "output_type": "stream",
     "text": [
      "True\n"
     ]
    }
   ],
   "source": [
    "s = \"123\"\n",
    "print(s.isdigit())"
   ],
   "metadata": {
    "collapsed": false,
    "pycharm": {
     "name": "#%%\n"
    }
   }
  },
  {
   "cell_type": "code",
   "execution_count": 21,
   "outputs": [
    {
     "name": "stdout",
     "output_type": "stream",
     "text": [
      "True\n",
      "False\n"
     ]
    }
   ],
   "source": [
    "s = \"word123\"\n",
    "print(s.islower())\n",
    "\n",
    "s = \"worRd123\"\n",
    "print(s.islower())"
   ],
   "metadata": {
    "collapsed": false,
    "pycharm": {
     "name": "#%%\n"
    }
   }
  },
  {
   "cell_type": "code",
   "execution_count": 22,
   "outputs": [
    {
     "name": "stdout",
     "output_type": "stream",
     "text": [
      "True\n"
     ]
    }
   ],
   "source": [
    "s = \"WORD123\"\n",
    "print(s.isupper())"
   ],
   "metadata": {
    "collapsed": false,
    "pycharm": {
     "name": "#%%\n"
    }
   }
  },
  {
   "cell_type": "code",
   "execution_count": 23,
   "outputs": [
    {
     "name": "stdout",
     "output_type": "stream",
     "text": [
      "1; 2; 3\n"
     ]
    }
   ],
   "source": [
    "a = [\"1\", \"2\", \"3\"]\n",
    "print(\"; \".join(a))"
   ],
   "metadata": {
    "collapsed": false,
    "pycharm": {
     "name": "#%%\n"
    }
   }
  },
  {
   "cell_type": "code",
   "execution_count": 24,
   "outputs": [
    {
     "name": "stdout",
     "output_type": "stream",
     "text": [
      "string\n"
     ]
    }
   ],
   "source": [
    "s = \"stringBCCA\"\n",
    "print(s.rstrip(\"ABC\"))"
   ],
   "metadata": {
    "collapsed": false,
    "pycharm": {
     "name": "#%%\n"
    }
   }
  },
  {
   "cell_type": "code",
   "execution_count": 25,
   "outputs": [
    {
     "name": "stdout",
     "output_type": "stream",
     "text": [
      "['one', 'two', 'three']\n"
     ]
    }
   ],
   "source": [
    "s = \"one, two, three\"\n",
    "print(s.split(\", \"))"
   ],
   "metadata": {
    "collapsed": false,
    "pycharm": {
     "name": "#%%\n"
    }
   }
  },
  {
   "cell_type": "code",
   "execution_count": 26,
   "outputs": [
    {
     "name": "stdout",
     "output_type": "stream",
     "text": [
      "True\n"
     ]
    }
   ],
   "source": [
    "s = \"Hello, world!\"\n",
    "print(s.startswith(\"Hello\"))"
   ],
   "metadata": {
    "collapsed": false,
    "pycharm": {
     "name": "#%%\n"
    }
   }
  },
  {
   "cell_type": "code",
   "execution_count": 27,
   "outputs": [
    {
     "name": "stdout",
     "output_type": "stream",
     "text": [
      "Hello, world!\n"
     ]
    }
   ],
   "source": [
    "s = \"abc Hello, world! cba\"\n",
    "print(s.strip(\" abc\"))"
   ],
   "metadata": {
    "collapsed": false,
    "pycharm": {
     "name": "#%%\n"
    }
   }
  },
  {
   "cell_type": "code",
   "execution_count": 28,
   "outputs": [
    {
     "name": "stdout",
     "output_type": "stream",
     "text": [
      "Hello, World!\n"
     ]
    }
   ],
   "source": [
    "s = \"hello, world!\"\n",
    "print(s.title())"
   ],
   "metadata": {
    "collapsed": false,
    "pycharm": {
     "name": "#%%\n"
    }
   }
  },
  {
   "cell_type": "code",
   "execution_count": 29,
   "outputs": [
    {
     "name": "stdout",
     "output_type": "stream",
     "text": [
      "HELLO, WORLD!\n"
     ]
    }
   ],
   "source": [
    "s = \"Hello, world!\"\n",
    "print(s.upper())"
   ],
   "metadata": {
    "collapsed": false,
    "pycharm": {
     "name": "#%%\n"
    }
   }
  },
  {
   "cell_type": "code",
   "execution_count": 30,
   "outputs": [
    {
     "name": "stdout",
     "output_type": "stream",
     "text": [
      "00123\n"
     ]
    }
   ],
   "source": [
    "s = \"123\"\n",
    "print(s.zfill(5))"
   ],
   "metadata": {
    "collapsed": false,
    "pycharm": {
     "name": "#%%\n"
    }
   }
  },
  {
   "cell_type": "markdown",
   "source": [
    "#### Список"
   ],
   "metadata": {
    "collapsed": false,
    "pycharm": {
     "name": "#%% md\n"
    }
   }
  },
  {
   "cell_type": "markdown",
   "source": [
    "**СПИСОК - УПОРЯДОЧЕННАЯ, ИЗМЕНЯЕМАЯ КОЛЛЕКЦИЯ**"
   ],
   "metadata": {
    "collapsed": false,
    "pycharm": {
     "name": "#%% md\n"
    }
   }
  },
  {
   "cell_type": "code",
   "execution_count": 31,
   "outputs": [
    {
     "name": "stdout",
     "output_type": "stream",
     "text": [
      "[10, 20, 30]\n",
      "[10, 20.55, 'text']\n",
      "10\n",
      "50\n",
      "[20, 30]\n",
      "[50, 40, 30, 20, 10]\n",
      "[10, 20, 30]\n"
     ]
    }
   ],
   "source": [
    "numbers = [10, 20, 30]\n",
    "mixed_list = [10, 20.55, \"text\"]\n",
    "print(numbers)\n",
    "print(mixed_list)\n",
    "\n",
    "numbers = [10, 20, 30, 40, 50]\n",
    "print(numbers[0])\n",
    "print(numbers[-1])\n",
    "print(numbers[1:3])\n",
    "print(numbers[::-1])\n",
    "\n",
    "numbers = [10, 20, 50]\n",
    "numbers[2] = 30\n",
    "print(numbers)"
   ],
   "metadata": {
    "collapsed": false,
    "pycharm": {
     "name": "#%%\n"
    }
   }
  },
  {
   "cell_type": "code",
   "execution_count": 32,
   "outputs": [
    {
     "name": "stdout",
     "output_type": "stream",
     "text": [
      "[5, 5, 5, 5, 1, 1, 1, 5, 5, 5]\n",
      "[10, 20]\n",
      "[2, 4]\n"
     ]
    }
   ],
   "source": [
    "numbers = []\n",
    "for i in range(10):\n",
    "    numbers.append(int(input()))\n",
    "print(numbers)\n",
    "\n",
    "numbers = [10, 20, 50]\n",
    "del numbers[-1]\n",
    "print(numbers)\n",
    "\n",
    "numbers = [1, 2, 3, 4, 5]\n",
    "del numbers[::2]\n",
    "print(numbers)"
   ],
   "metadata": {
    "collapsed": false,
    "pycharm": {
     "name": "#%%\n"
    }
   }
  },
  {
   "cell_type": "markdown",
   "source": [
    "#### Методы и функции списка"
   ],
   "metadata": {
    "collapsed": false,
    "pycharm": {
     "name": "#%% md\n"
    }
   }
  },
  {
   "cell_type": "code",
   "execution_count": 33,
   "outputs": [
    {
     "name": "stdout",
     "output_type": "stream",
     "text": [
      "True\n"
     ]
    }
   ],
   "source": [
    " print(1 in [1, 2, 3])"
   ],
   "metadata": {
    "collapsed": false,
    "pycharm": {
     "name": "#%%\n"
    }
   }
  },
  {
   "cell_type": "code",
   "execution_count": 34,
   "outputs": [
    {
     "name": "stdout",
     "output_type": "stream",
     "text": [
      "True\n"
     ]
    }
   ],
   "source": [
    "print(4 not in [1, 2, 3])"
   ],
   "metadata": {
    "collapsed": false,
    "pycharm": {
     "name": "#%%\n"
    }
   }
  },
  {
   "cell_type": "code",
   "execution_count": 35,
   "outputs": [
    {
     "name": "stdout",
     "output_type": "stream",
     "text": [
      "[1, 2, 3, 4, 5]\n"
     ]
    }
   ],
   "source": [
    "print([1, 2] + [3, 4, 5])"
   ],
   "metadata": {
    "collapsed": false,
    "pycharm": {
     "name": "#%%\n"
    }
   }
  },
  {
   "cell_type": "code",
   "execution_count": 36,
   "outputs": [
    {
     "name": "stdout",
     "output_type": "stream",
     "text": [
      "[1, 2, 3, 1, 2, 3, 1, 2, 3]\n"
     ]
    }
   ],
   "source": [
    "print([1, 2, 3] * 3)"
   ],
   "metadata": {
    "collapsed": false,
    "pycharm": {
     "name": "#%%\n"
    }
   }
  },
  {
   "cell_type": "code",
   "execution_count": 37,
   "outputs": [
    {
     "name": "stdout",
     "output_type": "stream",
     "text": [
      "3\n"
     ]
    }
   ],
   "source": [
    "print(len([1, 2, 3]))"
   ],
   "metadata": {
    "collapsed": false,
    "pycharm": {
     "name": "#%%\n"
    }
   }
  },
  {
   "cell_type": "code",
   "execution_count": 38,
   "outputs": [
    {
     "name": "stdout",
     "output_type": "stream",
     "text": [
      "1\n"
     ]
    }
   ],
   "source": [
    "print(min([1, 2, 3]))"
   ],
   "metadata": {
    "collapsed": false,
    "pycharm": {
     "name": "#%%\n"
    }
   }
  },
  {
   "cell_type": "code",
   "execution_count": 39,
   "outputs": [
    {
     "name": "stdout",
     "output_type": "stream",
     "text": [
      "3\n"
     ]
    }
   ],
   "source": [
    "print(max([1, 2, 3]))"
   ],
   "metadata": {
    "collapsed": false,
    "pycharm": {
     "name": "#%%\n"
    }
   }
  },
  {
   "cell_type": "code",
   "execution_count": 40,
   "outputs": [
    {
     "name": "stdout",
     "output_type": "stream",
     "text": [
      "1\n"
     ]
    },
    {
     "ename": "ValueError",
     "evalue": "4 is not in list",
     "output_type": "error",
     "traceback": [
      "\u001B[0;31m---------------------------------------------------------------------------\u001B[0m",
      "\u001B[0;31mValueError\u001B[0m                                Traceback (most recent call last)",
      "Input \u001B[0;32mIn [40]\u001B[0m, in \u001B[0;36m<cell line: 2>\u001B[0;34m()\u001B[0m\n\u001B[1;32m      1\u001B[0m \u001B[38;5;28mprint\u001B[39m([\u001B[38;5;241m1\u001B[39m, \u001B[38;5;241m2\u001B[39m, \u001B[38;5;241m3\u001B[39m, \u001B[38;5;241m2\u001B[39m, \u001B[38;5;241m1\u001B[39m]\u001B[38;5;241m.\u001B[39mindex(\u001B[38;5;241m2\u001B[39m))\n\u001B[0;32m----> 2\u001B[0m \u001B[38;5;28mprint\u001B[39m(\u001B[43m[\u001B[49m\u001B[38;5;241;43m1\u001B[39;49m\u001B[43m,\u001B[49m\u001B[43m \u001B[49m\u001B[38;5;241;43m2\u001B[39;49m\u001B[43m,\u001B[49m\u001B[43m \u001B[49m\u001B[38;5;241;43m3\u001B[39;49m\u001B[43m,\u001B[49m\u001B[43m \u001B[49m\u001B[38;5;241;43m2\u001B[39;49m\u001B[43m,\u001B[49m\u001B[43m \u001B[49m\u001B[38;5;241;43m1\u001B[39;49m\u001B[43m]\u001B[49m\u001B[38;5;241;43m.\u001B[39;49m\u001B[43mindex\u001B[49m\u001B[43m(\u001B[49m\u001B[38;5;241;43m4\u001B[39;49m\u001B[43m)\u001B[49m)\n",
      "\u001B[0;31mValueError\u001B[0m: 4 is not in list"
     ]
    }
   ],
   "source": [
    "print([1, 2, 3, 2, 1].index(2))\n",
    "print([1, 2, 3, 2, 1].index(4))"
   ],
   "metadata": {
    "collapsed": false,
    "pycharm": {
     "name": "#%%\n"
    }
   }
  },
  {
   "cell_type": "code",
   "execution_count": 41,
   "outputs": [
    {
     "name": "stdout",
     "output_type": "stream",
     "text": [
      "4\n"
     ]
    }
   ],
   "source": [
    "print([1, 1, 1, 2, 3, 1].count(1))"
   ],
   "metadata": {
    "collapsed": false,
    "pycharm": {
     "name": "#%%\n"
    }
   }
  },
  {
   "cell_type": "code",
   "execution_count": 42,
   "outputs": [
    {
     "name": "stdout",
     "output_type": "stream",
     "text": [
      "[1, 2, 3]\n"
     ]
    }
   ],
   "source": [
    "s = [1, 2]\n",
    "s.append(3)\n",
    "print(s)"
   ],
   "metadata": {
    "collapsed": false,
    "pycharm": {
     "name": "#%%\n"
    }
   }
  },
  {
   "cell_type": "code",
   "execution_count": 43,
   "outputs": [
    {
     "name": "stdout",
     "output_type": "stream",
     "text": [
      "[]\n"
     ]
    }
   ],
   "source": [
    "s = [1, 2, 3]\n",
    "s.clear()\n",
    "print(s)"
   ],
   "metadata": {
    "collapsed": false,
    "pycharm": {
     "name": "#%%\n"
    }
   }
  },
  {
   "cell_type": "code",
   "execution_count": 44,
   "outputs": [
    {
     "name": "stdout",
     "output_type": "stream",
     "text": [
      "[1, 2, 3]\n"
     ]
    }
   ],
   "source": [
    "print([1, 2, 3].copy())"
   ],
   "metadata": {
    "collapsed": false,
    "pycharm": {
     "name": "#%%\n"
    }
   }
  },
  {
   "cell_type": "code",
   "execution_count": 45,
   "outputs": [
    {
     "name": "stdout",
     "output_type": "stream",
     "text": [
      "[1, 2, 3, 4, 5]\n"
     ]
    }
   ],
   "source": [
    "s = [1, 2, 3]\n",
    "s.extend([4, 5])\n",
    "print(s)"
   ],
   "metadata": {
    "collapsed": false,
    "pycharm": {
     "name": "#%%\n"
    }
   }
  },
  {
   "cell_type": "code",
   "execution_count": 46,
   "outputs": [
    {
     "name": "stdout",
     "output_type": "stream",
     "text": [
      "[1, 'bla', 3, 4]\n"
     ]
    }
   ],
   "source": [
    "s = [1, 3, 4]\n",
    "s.insert(1, 'bla')\n",
    "print(s)"
   ],
   "metadata": {
    "collapsed": false,
    "pycharm": {
     "name": "#%%\n"
    }
   }
  },
  {
   "cell_type": "code",
   "execution_count": 47,
   "outputs": [
    {
     "name": "stdout",
     "output_type": "stream",
     "text": [
      "2\n",
      "[1, 3]\n"
     ]
    }
   ],
   "source": [
    "s = [1, 2, 3]\n",
    "x = s.pop(1)\n",
    "print(x)\n",
    "print(s)"
   ],
   "metadata": {
    "collapsed": false,
    "pycharm": {
     "name": "#%%\n"
    }
   }
  },
  {
   "cell_type": "code",
   "execution_count": 48,
   "outputs": [
    {
     "name": "stdout",
     "output_type": "stream",
     "text": [
      "[1, 3, 2, 1]\n"
     ]
    }
   ],
   "source": [
    "s = [1, 2, 3, 2, 1]\n",
    "s.remove(2)\n",
    "print(s)"
   ],
   "metadata": {
    "collapsed": false,
    "pycharm": {
     "name": "#%%\n"
    }
   }
  },
  {
   "cell_type": "code",
   "execution_count": 49,
   "outputs": [
    {
     "name": "stdout",
     "output_type": "stream",
     "text": [
      "[3, 2, 1]\n"
     ]
    }
   ],
   "source": [
    "s = [1, 2, 3]\n",
    "s.reverse()\n",
    "print(s)"
   ],
   "metadata": {
    "collapsed": false,
    "pycharm": {
     "name": "#%%\n"
    }
   }
  },
  {
   "cell_type": "code",
   "execution_count": 50,
   "outputs": [
    {
     "name": "stdout",
     "output_type": "stream",
     "text": [
      "[1, 2, 3]\n"
     ]
    }
   ],
   "source": [
    "s = [2, 3, 1]\n",
    "s.sort()\n",
    "print(s)"
   ],
   "metadata": {
    "collapsed": false,
    "pycharm": {
     "name": "#%%\n"
    }
   }
  },
  {
   "cell_type": "code",
   "execution_count": 51,
   "outputs": [
    {
     "name": "stdout",
     "output_type": "stream",
     "text": [
      "[3, 2, 1]\n"
     ]
    }
   ],
   "source": [
    "s = [2, 3, 1]\n",
    "new_s = sorted(s, reverse=True)\n",
    "print(new_s)"
   ],
   "metadata": {
    "collapsed": false,
    "pycharm": {
     "name": "#%%\n"
    }
   }
  },
  {
   "cell_type": "markdown",
   "source": [
    "#### Кортеж"
   ],
   "metadata": {
    "collapsed": false,
    "pycharm": {
     "name": "#%% md\n"
    }
   }
  },
  {
   "cell_type": "markdown",
   "source": [
    "**КОРТЕЖ - НЕИЗМЕНЯЕМЫЙ СПИСОК**"
   ],
   "metadata": {
    "collapsed": false,
    "pycharm": {
     "name": "#%% md\n"
    }
   }
  },
  {
   "cell_type": "code",
   "execution_count": 52,
   "outputs": [
    {
     "name": "stdout",
     "output_type": "stream",
     "text": [
      "(1, 2, 3, 4, 5)\n",
      "(1,)\n"
     ]
    }
   ],
   "source": [
    "numbers = (1, 2, 3, 4, 5)\n",
    "one_number = (1, )\n",
    "print(f'{numbers}\\n{one_number}')"
   ],
   "metadata": {
    "collapsed": false,
    "pycharm": {
     "name": "#%%\n"
    }
   }
  },
  {
   "cell_type": "code",
   "execution_count": 53,
   "outputs": [
    {
     "name": "stdout",
     "output_type": "stream",
     "text": [
      "a = 2, b = 1\n"
     ]
    }
   ],
   "source": [
    "a = 1\n",
    "b = 2\n",
    "(a, b) = (b, a)\n",
    "# можно опустить круглые скобки и записать так a, b = b, a\n",
    "print(f\"a = {a}, b = {b}\")"
   ],
   "metadata": {
    "collapsed": false,
    "pycharm": {
     "name": "#%%\n"
    }
   }
  },
  {
   "cell_type": "code",
   "execution_count": 54,
   "outputs": [
    {
     "name": "stdout",
     "output_type": "stream",
     "text": [
      "['П', 'р', 'и', 'в', 'е', 'т', ',', ' ', 'м', 'и', 'р', '!']\n",
      "('П', 'р', 'и', 'в', 'е', 'т', ',', ' ', 'м', 'и', 'р', '!')\n",
      "['П', 'р', 'и', 'в', 'е', 'т', ',', ' ', 'м', 'и', 'р', '!']\n"
     ]
    }
   ],
   "source": [
    "text = \"Привет, мир!\"\n",
    "list_symbols = list(text)\n",
    "tuple_symbols = tuple(text)\n",
    "text_from_list = string(list_symbols)\n",
    "print(list_symbols)\n",
    "print(tuple_symbols)\n",
    "print(text_from_list)"
   ],
   "metadata": {
    "collapsed": false,
    "pycharm": {
     "name": "#%%\n"
    }
   }
  },
  {
   "cell_type": "markdown",
   "source": [
    "### Практика"
   ],
   "metadata": {
    "collapsed": false,
    "pycharm": {
     "name": "#%% md\n"
    }
   }
  },
  {
   "cell_type": "code",
   "execution_count": null,
   "outputs": [],
   "source": [
    "# A\n",
    "n = int(input())\n",
    "ans = []\n",
    "for i in range(n):\n",
    "    string = input()\n",
    "    ans.append(string.startswith(('а', 'б', 'в')))\n",
    "\n",
    "if False in ans:\n",
    "    print('NO')\n",
    "else:\n",
    "    print('YES')"
   ],
   "metadata": {
    "collapsed": false,
    "pycharm": {
     "name": "#%%\n"
    }
   }
  },
  {
   "cell_type": "code",
   "execution_count": null,
   "outputs": [],
   "source": [
    "# B\n",
    "text = input()\n",
    "\n",
    "for i in text:\n",
    "    print(i)"
   ],
   "metadata": {
    "collapsed": false,
    "pycharm": {
     "name": "#%%\n"
    }
   }
  },
  {
   "cell_type": "code",
   "execution_count": null,
   "outputs": [],
   "source": [
    "# C\n",
    "length = int(input())\n",
    "n_topic = int(input())\n",
    "\n",
    "for i in range(n_topic):\n",
    "    topic = input()\n",
    "    if len(topic) <= length:\n",
    "        print(topic)\n",
    "    else:\n",
    "        print(topic[:(length - 3)] + '...')"
   ],
   "metadata": {
    "collapsed": false,
    "pycharm": {
     "name": "#%%\n"
    }
   }
  },
  {
   "cell_type": "code",
   "execution_count": null,
   "outputs": [],
   "source": [
    "# D\n",
    "while (string := input()) != \"\":\n",
    "\n",
    "    if string.endswith(\"@@@\"):\n",
    "        pass\n",
    "    elif string.startswith(\"##\"):\n",
    "        print(string.strip(\"##\"))\n",
    "    else:\n",
    "        print(string)"
   ],
   "metadata": {
    "collapsed": false,
    "pycharm": {
     "name": "#%%\n"
    }
   }
  },
  {
   "cell_type": "code",
   "execution_count": null,
   "outputs": [],
   "source": [
    "# E\n",
    "text = input()\n",
    "\n",
    "if text == text[::-1]:\n",
    "    print('YES')\n",
    "else:\n",
    "    print('NO')"
   ],
   "metadata": {
    "collapsed": false,
    "pycharm": {
     "name": "#%%\n"
    }
   }
  },
  {
   "cell_type": "code",
   "execution_count": null,
   "outputs": [],
   "source": [
    "# F\n",
    "n = int(input())\n",
    "\n",
    "ans = 0\n",
    "for i in range(n):\n",
    "    string = input()\n",
    "    ans += string.count('зайка')\n",
    "\n",
    "print(ans)"
   ],
   "metadata": {
    "collapsed": false,
    "pycharm": {
     "name": "#%%\n"
    }
   }
  },
  {
   "cell_type": "code",
   "execution_count": null,
   "outputs": [],
   "source": [
    "# G\n",
    "print(sum(map(int, input().split(' '))))"
   ],
   "metadata": {
    "collapsed": false,
    "pycharm": {
     "name": "#%%\n"
    }
   }
  },
  {
   "cell_type": "code",
   "execution_count": null,
   "outputs": [],
   "source": [
    "# H\n",
    "n = int(input())\n",
    "\n",
    "for i in range(n):\n",
    "    string = input()\n",
    "    if 'зайка' in string:\n",
    "        print(string.index('зайка') + 1)\n",
    "    else:\n",
    "        print('Заек нет =(')"
   ],
   "metadata": {
    "collapsed": false,
    "pycharm": {
     "name": "#%%\n"
    }
   }
  },
  {
   "cell_type": "code",
   "execution_count": null,
   "outputs": [],
   "source": [
    "# I\n",
    "while (string := input()) != '':\n",
    "    if string.startswith('#'):\n",
    "        pass\n",
    "    elif '#' in string:\n",
    "        print(string[:string.index('#')])\n",
    "    else:\n",
    "        print(string)"
   ],
   "metadata": {
    "collapsed": false,
    "pycharm": {
     "name": "#%%\n"
    }
   }
  },
  {
   "cell_type": "code",
   "execution_count": null,
   "outputs": [],
   "source": [
    "# J\n",
    "words_str = ''\n",
    "while (string := input()) != 'ФИНИШ':\n",
    "    words_str += string.lower()\n",
    "big_list = list(words_str)\n",
    "unic = sorted(list(set(big_list)))\n",
    "max_i = 0\n",
    "for i in unic:\n",
    "    count_i = big_list.count(i)\n",
    "    if i != ' ' and count_i > max_i:\n",
    "        max_i = count_i\n",
    "        find_i = i\n",
    "print(find_i)"
   ],
   "metadata": {
    "collapsed": false,
    "pycharm": {
     "name": "#%%\n"
    }
   }
  },
  {
   "cell_type": "code",
   "execution_count": null,
   "outputs": [],
   "source": [
    "# K\n",
    "topics = []\n",
    "for i in range(int(input())):\n",
    "    topics.append(input())\n",
    "\n",
    "# print(f'topics: {topics}')\n",
    "find_text = input().lower()\n",
    "# print(f'find_text: {find_text}')\n",
    "\n",
    "for i in topics:\n",
    "    if find_text in i.lower():\n",
    "        print(i)\n",
    "    else:\n",
    "        pass"
   ],
   "metadata": {
    "collapsed": false,
    "pycharm": {
     "name": "#%%\n"
    }
   }
  },
  {
   "cell_type": "code",
   "execution_count": null,
   "outputs": [],
   "source": [
    "# L\n",
    "n = int(input())\n",
    "lst = ['Манная', 'Гречневая', 'Пшённая', 'Овсяная', 'Рисовая']\n",
    "\n",
    "if n <= len(lst):\n",
    "    for i in lst[:n]:\n",
    "        print(i)\n",
    "\n",
    "if n > len(lst):\n",
    "\n",
    "    m_start = n // len(lst)\n",
    "    m_finish = n % len(lst)\n",
    "    for j in lst * m_start:\n",
    "        print(j)\n",
    "    for k in lst[:m_finish]:\n",
    "        print(k)"
   ],
   "metadata": {
    "collapsed": false,
    "pycharm": {
     "name": "#%%\n"
    }
   }
  },
  {
   "cell_type": "code",
   "execution_count": null,
   "outputs": [],
   "source": [
    "# M\n",
    "examples = []\n",
    "for i in range(int(input())):\n",
    "    examples.append(int(input()))\n",
    "\n",
    "n = int(input())\n",
    "\n",
    "for j in examples:\n",
    "    print(j ** n)"
   ],
   "metadata": {
    "collapsed": false,
    "pycharm": {
     "name": "#%%\n"
    }
   }
  },
  {
   "cell_type": "code",
   "execution_count": null,
   "outputs": [],
   "source": [
    "# N\n",
    "inp_str = input().split()\n",
    "n = int(input())\n",
    "\n",
    "out_str = []\n",
    "for j in inp_str:\n",
    "    out_str.append(int(j) ** n)\n",
    "\n",
    "print(\" \".join(map(string, out_str)))"
   ],
   "metadata": {
    "collapsed": false,
    "pycharm": {
     "name": "#%%\n"
    }
   }
  },
  {
   "cell_type": "code",
   "execution_count": null,
   "outputs": [],
   "source": [
    "# O\n",
    "# vibo: НОД, переделал из предыдущего варианта (поэтому криво, за-то быстро)\n",
    "\n",
    "input_str = input().split()\n",
    "\n",
    "n_num = len(input_str)\n",
    "flst = []\n",
    "for i in range(n_num):\n",
    "    num = int(input_str[i])\n",
    "    lst = []\n",
    "    for j in range(1, num + 1):\n",
    "        if num % j == 0:\n",
    "            lst.append(j)\n",
    "    flst.append(lst)\n",
    "\n",
    "ans = set(flst[0])\n",
    "for i in range(1, n_num):\n",
    "    ans = ans & set(flst[i])\n",
    "\n",
    "print(max(ans))"
   ],
   "metadata": {
    "collapsed": false,
    "pycharm": {
     "name": "#%%\n"
    }
   }
  },
  {
   "cell_type": "code",
   "execution_count": 91,
   "outputs": [
    {
     "name": "stdout",
     "output_type": "stream",
     "text": [
      "len_str: 97, max_len: 144\n",
      "Энтузиаст написал программу для управления громкостью с помощью жестов, чтоб не вставать с дивана\n",
      "len_str: 45, max_len: 47\n",
      "Благодаря ей он может регулировать громкость...\n"
     ]
    }
   ],
   "source": [
    "# P\n",
    "max_len = int(input())\n",
    "n = int(input())\n",
    "len_str = 0\n",
    "\n",
    "for i in range(n):\n",
    "    string = input()\n",
    "    len_str = len(string)\n",
    "    # print(f'len_str: {len_str}, max_len: {max_len}')\n",
    "    if len_str < (max_len - 3) and i == n:\n",
    "        print(string)\n",
    "        break\n",
    "    elif len_str < (max_len - 3) and i != n:\n",
    "        print(string)\n",
    "        max_len -= len(string)\n",
    "    else:\n",
    "        print(string[:(max_len - 3)] + '...')\n",
    "        break"
   ],
   "metadata": {
    "collapsed": false,
    "pycharm": {
     "name": "#%%\n"
    }
   }
  },
  {
   "cell_type": "code",
   "execution_count": 85,
   "outputs": [
    {
     "name": "stdout",
     "output_type": "stream",
     "text": [
      "YES\n"
     ]
    }
   ],
   "source": [
    "# Q\n",
    "a = list(''.join(input().lower().split()))\n",
    "if a == a[::-1]:\n",
    "    print('YES')\n",
    "else:\n",
    "    print('NO')"
   ],
   "metadata": {
    "collapsed": false,
    "pycharm": {
     "name": "#%%\n"
    }
   }
  },
  {
   "cell_type": "code",
   "execution_count": null,
   "outputs": [],
   "source": [
    "# R\n",
    "# vibo: RLE “run-length encoding”\n",
    "\n",
    "input = list(input())\n",
    "\n",
    "num = input[0]\n",
    "count = 1\n",
    "\n",
    "if len(input) != 1:\n",
    "\n",
    "    for i in range(1, len(input)):\n",
    "        if input[i] != num:\n",
    "            print(f'{num} {count}')\n",
    "            num = input[i]\n",
    "            count = 1\n",
    "        else:\n",
    "            count += 1\n",
    "\n",
    "print(f'{num} {count}')"
   ],
   "metadata": {
    "collapsed": false,
    "pycharm": {
     "name": "#%%\n"
    }
   }
  },
  {
   "cell_type": "code",
   "execution_count": null,
   "outputs": [],
   "source": [
    "# S"
   ],
   "metadata": {
    "collapsed": false,
    "pycharm": {
     "name": "#%%\n"
    }
   }
  },
  {
   "cell_type": "code",
   "execution_count": null,
   "outputs": [],
   "source": [
    "# T"
   ],
   "metadata": {
    "collapsed": false,
    "pycharm": {
     "name": "#%%\n"
    }
   }
  },
  {
   "cell_type": "markdown",
   "source": [
    "## 3.2. Множества, словари"
   ],
   "metadata": {
    "collapsed": false,
    "pycharm": {
     "name": "#%% md\n"
    }
   }
  },
  {
   "cell_type": "markdown",
   "source": [
    "### Теория"
   ],
   "metadata": {
    "collapsed": false,
    "pycharm": {
     "name": "#%% md\n"
    }
   }
  },
  {
   "cell_type": "markdown",
   "source": [
    "#### Множество"
   ],
   "metadata": {
    "collapsed": false,
    "pycharm": {
     "name": "#%% md\n"
    }
   }
  },
  {
   "cell_type": "code",
   "execution_count": 1,
   "outputs": [],
   "source": [
    "vowels = {\"а\", \"e\", \"ё\", \"и\", \"о\", \"у\", \"ы\", \"э\", \"ю\", \"я\"}"
   ],
   "metadata": {
    "collapsed": false,
    "pycharm": {
     "name": "#%%\n"
    }
   }
  },
  {
   "cell_type": "code",
   "execution_count": 2,
   "outputs": [
    {
     "name": "stdout",
     "output_type": "stream",
     "text": [
      "Длина пустого множества равна 0.\n"
     ]
    }
   ],
   "source": [
    "empty_set = set()\n",
    "print(f\"Длина пустого множества равна {len(empty_set)}.\")"
   ],
   "metadata": {
    "collapsed": false,
    "pycharm": {
     "name": "#%%\n"
    }
   }
  },
  {
   "cell_type": "code",
   "execution_count": 3,
   "outputs": [
    {
     "name": "stdout",
     "output_type": "stream",
     "text": [
      "{'к', 'я', 'ц', 'л', 'е', 'и', 'о'}\n"
     ]
    }
   ],
   "source": [
    "word = \"коллекция\"\n",
    "letters = set(word)\n",
    "print(letters)"
   ],
   "metadata": {
    "collapsed": false,
    "pycharm": {
     "name": "#%%\n"
    }
   }
  },
  {
   "cell_type": "code",
   "execution_count": 12,
   "outputs": [
    {
     "name": "stdout",
     "output_type": "stream",
     "text": [
      "Гласная буква\n"
     ]
    }
   ],
   "source": [
    "vowels = {\"а\", \"e\", \"ё\", \"и\", \"о\", \"у\", \"ы\", \"э\", \"ю\", \"я\"}\n",
    "letter = input(\"Введите букву русского алфавита: \")\n",
    "if letter.lower() in vowels:\n",
    "    print(\"Гласная буква\")\n",
    "else:\n",
    "    print(\"Согласная буква\")"
   ],
   "metadata": {
    "collapsed": false,
    "pycharm": {
     "name": "#%%\n"
    }
   }
  },
  {
   "cell_type": "code",
   "execution_count": 13,
   "outputs": [
    {
     "name": "stdout",
     "output_type": "stream",
     "text": [
      "я\n",
      "а\n",
      "ю\n",
      "о\n",
      "э\n",
      "ё\n",
      "e\n",
      "у\n",
      "и\n",
      "ы\n"
     ]
    }
   ],
   "source": [
    "vowels = {\"а\", \"e\", \"ё\", \"и\", \"о\", \"у\", \"ы\", \"э\", \"ю\", \"я\"}\n",
    "for letter in vowels:\n",
    "    print(letter)"
   ],
   "metadata": {
    "collapsed": false,
    "pycharm": {
     "name": "#%%\n"
    }
   }
  },
  {
   "cell_type": "code",
   "execution_count": 14,
   "outputs": [
    {
     "name": "stdout",
     "output_type": "stream",
     "text": [
      "{1, 2, 3, 4, 5}\n"
     ]
    }
   ],
   "source": [
    "# vibo: объединение множества\n",
    "s_1 = {1, 2, 3}\n",
    "s_2 = {3, 4, 5}\n",
    "s_union = s_1 | s_2\n",
    "# s_union = s_1.union(s_2)\n",
    "print(s_union)"
   ],
   "metadata": {
    "collapsed": false,
    "pycharm": {
     "name": "#%%\n"
    }
   }
  },
  {
   "cell_type": "code",
   "execution_count": 15,
   "outputs": [
    {
     "name": "stdout",
     "output_type": "stream",
     "text": [
      "{3}\n"
     ]
    }
   ],
   "source": [
    "# vibo: пересечение множеств\n",
    "s_1 = {1, 2, 3}\n",
    "s_2 = {3, 4, 5}\n",
    "s_intersection = s_1 & s_2\n",
    "# s_intersection = s_1.intersection(s_2)\n",
    "print(s_intersection)"
   ],
   "metadata": {
    "collapsed": false,
    "pycharm": {
     "name": "#%%\n"
    }
   }
  },
  {
   "cell_type": "code",
   "execution_count": 16,
   "outputs": [
    {
     "name": "stdout",
     "output_type": "stream",
     "text": [
      "{1, 2}\n"
     ]
    }
   ],
   "source": [
    "# vibo: разность множеств\n",
    "s_1 = {1, 2, 3}\n",
    "s_2 = {3, 4, 5}\n",
    "s_dif = s_1 - s_2\n",
    "# s_dif = s_1.difference(s_2)\n",
    "print(s_dif)"
   ],
   "metadata": {
    "collapsed": false,
    "pycharm": {
     "name": "#%%\n"
    }
   }
  },
  {
   "cell_type": "code",
   "execution_count": 17,
   "outputs": [
    {
     "name": "stdout",
     "output_type": "stream",
     "text": [
      "{1, 2, 4, 5}\n"
     ]
    }
   ],
   "source": [
    "# vibo: симметричная разность множеств\n",
    "s_1 = {1, 2, 3}\n",
    "s_2 = {3, 4, 5}\n",
    "s_sym_dif = s_1 ^ s_2\n",
    "# s_sym_dif = s_1.symmetric_difference(s_2)\n",
    "print(s_sym_dif)"
   ],
   "metadata": {
    "collapsed": false,
    "pycharm": {
     "name": "#%%\n"
    }
   }
  },
  {
   "cell_type": "code",
   "execution_count": 18,
   "outputs": [
    {
     "name": "stdout",
     "output_type": "stream",
     "text": [
      "я, и, о\n"
     ]
    }
   ],
   "source": [
    "vowels = {\"а\", \"e\", \"ё\", \"и\", \"о\", \"у\", \"ы\", \"э\", \"ю\", \"я\"}\n",
    "letters = set(\"коллекция\")\n",
    "print(\", \".join(letters & vowels))"
   ],
   "metadata": {
    "collapsed": false,
    "pycharm": {
     "name": "#%%\n"
    }
   }
  },
  {
   "cell_type": "code",
   "execution_count": 19,
   "outputs": [
    {
     "name": "stdout",
     "output_type": "stream",
     "text": [
      "True\n"
     ]
    }
   ],
   "source": [
    "# vibo: совпадение множеств\n",
    "s_1 = {1, 2, 3}\n",
    "s_2 = {3, 1, 2}\n",
    "print(s_1 == s_2)"
   ],
   "metadata": {
    "collapsed": false,
    "pycharm": {
     "name": "#%%\n"
    }
   }
  },
  {
   "cell_type": "code",
   "execution_count": 20,
   "outputs": [
    {
     "name": "stdout",
     "output_type": "stream",
     "text": [
      "True\n"
     ]
    }
   ],
   "source": [
    "# vibo: подмножество\n",
    "s_1 = {1, 2, 3}\n",
    "s_2 = {1, 2, 3, 4}\n",
    "print(s_1 <= s_2)"
   ],
   "metadata": {
    "collapsed": false,
    "pycharm": {
     "name": "#%%\n"
    }
   }
  },
  {
   "cell_type": "code",
   "execution_count": 21,
   "outputs": [
    {
     "name": "stdout",
     "output_type": "stream",
     "text": [
      "True\n"
     ]
    }
   ],
   "source": [
    "# vibo: надмножество\n",
    "s_1 = {1, 2, 3}\n",
    "s_2 = {1, 2, 3, 4}\n",
    "print(s_2 >= s_1)"
   ],
   "metadata": {
    "collapsed": false,
    "pycharm": {
     "name": "#%%\n"
    }
   }
  },
  {
   "cell_type": "markdown",
   "source": [
    "**МНОЖЕСТВО - ИЗМЕНЯЕМАЯ, НЕУПОРЯДОЧЕННАЯ КОЛЛЕКЦИЯ**"
   ],
   "metadata": {
    "collapsed": false,
    "pycharm": {
     "name": "#%% md\n"
    }
   }
  },
  {
   "cell_type": "markdown",
   "source": [
    "#### Методы множества"
   ],
   "metadata": {
    "collapsed": false,
    "pycharm": {
     "name": "#%% md\n"
    }
   }
  },
  {
   "cell_type": "code",
   "execution_count": 22,
   "outputs": [
    {
     "name": "stdout",
     "output_type": "stream",
     "text": [
      "{1}\n"
     ]
    }
   ],
   "source": [
    "s = set()\n",
    "s.add(1)\n",
    "print(s)"
   ],
   "metadata": {
    "collapsed": false,
    "pycharm": {
     "name": "#%%\n"
    }
   }
  },
  {
   "cell_type": "code",
   "execution_count": 23,
   "outputs": [
    {
     "name": "stdout",
     "output_type": "stream",
     "text": [
      "{1, 3}\n"
     ]
    }
   ],
   "source": [
    "# Удалить элемент множества. Возвращает исключение KeyError, если элемент не принадлежит множеству\n",
    "s = {1, 2, 3}\n",
    "s.remove(2)\n",
    "print(s)"
   ],
   "metadata": {
    "collapsed": false,
    "pycharm": {
     "name": "#%%\n"
    }
   }
  },
  {
   "cell_type": "code",
   "execution_count": 24,
   "outputs": [
    {
     "name": "stdout",
     "output_type": "stream",
     "text": [
      "{1, 3}\n"
     ]
    }
   ],
   "source": [
    "# Удалить элемент, если он принадлежит множеству\n",
    "s = {1, 2, 3}\n",
    "s.discard(2)\n",
    "print(s)"
   ],
   "metadata": {
    "collapsed": false,
    "pycharm": {
     "name": "#%%\n"
    }
   }
  },
  {
   "cell_type": "code",
   "execution_count": 25,
   "outputs": [
    {
     "name": "stdout",
     "output_type": "stream",
     "text": [
      "1\n",
      "{2, 3}\n"
     ]
    }
   ],
   "source": [
    "# Вернуть и удалить произвольный элемент множества\n",
    "s = {1, 2, 3}\n",
    "x = s.pop()\n",
    "print(x)\n",
    "print(s)"
   ],
   "metadata": {
    "collapsed": false,
    "pycharm": {
     "name": "#%%\n"
    }
   }
  },
  {
   "cell_type": "code",
   "execution_count": 26,
   "outputs": [
    {
     "name": "stdout",
     "output_type": "stream",
     "text": [
      "set()\n"
     ]
    }
   ],
   "source": [
    "# Очистить множество, удалив все его элементы\n",
    "s = {1, 2, 3}\n",
    "s.clear()\n",
    "print(s)"
   ],
   "metadata": {
    "collapsed": false,
    "pycharm": {
     "name": "#%%\n"
    }
   }
  },
  {
   "cell_type": "code",
   "execution_count": null,
   "outputs": [],
   "source": [],
   "metadata": {
    "collapsed": false,
    "pycharm": {
     "name": "#%%\n"
    }
   }
  },
  {
   "cell_type": "code",
   "execution_count": 27,
   "outputs": [],
   "source": [
    "countries_and_capitals = [(\"Россия\", \"Москва\"), (\"США\", \"Вашингтон\"), (\"Франция\", \"Париж\")]"
   ],
   "metadata": {
    "collapsed": false,
    "pycharm": {
     "name": "#%%\n"
    }
   }
  },
  {
   "cell_type": "code",
   "execution_count": 28,
   "outputs": [
    {
     "name": "stdout",
     "output_type": "stream",
     "text": [
      "Париж\n"
     ]
    }
   ],
   "source": [
    "countries_and_capitals = [(\"Россия\", \"Москва\"), (\"США\", \"Вашингтон\"), (\"Франция\", \"Париж\")]\n",
    "for country in countries_and_capitals:\n",
    "    if country[0] == \"Франция\":\n",
    "        print(country[1])\n",
    "        break"
   ],
   "metadata": {
    "collapsed": false,
    "pycharm": {
     "name": "#%%\n"
    }
   }
  },
  {
   "cell_type": "markdown",
   "source": [
    "#### Словари"
   ],
   "metadata": {
    "collapsed": false,
    "pycharm": {
     "name": "#%% md\n"
    }
   }
  },
  {
   "cell_type": "code",
   "execution_count": 29,
   "outputs": [
    {
     "name": "stdout",
     "output_type": "stream",
     "text": [
      "Париж\n"
     ]
    }
   ],
   "source": [
    "countries_and_capitals = {\"Россия\": \"Москва\",\n",
    "                          \"США\": \"Вашингтон\",\n",
    "                          \"Франция\": \"Париж\"}\n",
    "print(countries_and_capitals[\"Франция\"])"
   ],
   "metadata": {
    "collapsed": false,
    "pycharm": {
     "name": "#%%\n"
    }
   }
  },
  {
   "cell_type": "code",
   "execution_count": 30,
   "outputs": [
    {
     "name": "stdout",
     "output_type": "stream",
     "text": [
      "{'Россия': 'Москва', 'США': 'Вашингтон', 'Франция': 'Париж', 'Сербия': 'Белград'}\n"
     ]
    }
   ],
   "source": [
    "countries_and_capitals = {\"Россия\": \"Москва\",\n",
    "                          \"США\": \"Вашингтон\",\n",
    "                          \"Франция\": \"Париж\"}\n",
    "countries_and_capitals[\"Сербия\"] = \"Белград\"\n",
    "print(countries_and_capitals)"
   ],
   "metadata": {
    "collapsed": false,
    "pycharm": {
     "name": "#%%\n"
    }
   }
  },
  {
   "cell_type": "code",
   "execution_count": 31,
   "outputs": [
    {
     "name": "stdout",
     "output_type": "stream",
     "text": [
      "new_value\n"
     ]
    }
   ],
   "source": [
    "d = {\"key\": \"old_value\"}\n",
    "d[\"key\"] = \"new_value\"\n",
    "print(d[\"key\"])"
   ],
   "metadata": {
    "collapsed": false,
    "pycharm": {
     "name": "#%%\n"
    }
   }
  },
  {
   "cell_type": "code",
   "execution_count": 32,
   "outputs": [
    {
     "ename": "KeyError",
     "evalue": "'Сербия'",
     "output_type": "error",
     "traceback": [
      "\u001B[0;31m---------------------------------------------------------------------------\u001B[0m",
      "\u001B[0;31mKeyError\u001B[0m                                  Traceback (most recent call last)",
      "Input \u001B[0;32mIn [32]\u001B[0m, in \u001B[0;36m<cell line: 4>\u001B[0;34m()\u001B[0m\n\u001B[1;32m      1\u001B[0m countries_and_capitals \u001B[38;5;241m=\u001B[39m {\u001B[38;5;124m\"\u001B[39m\u001B[38;5;124mРоссия\u001B[39m\u001B[38;5;124m\"\u001B[39m: \u001B[38;5;124m\"\u001B[39m\u001B[38;5;124mМосква\u001B[39m\u001B[38;5;124m\"\u001B[39m,\n\u001B[1;32m      2\u001B[0m                           \u001B[38;5;124m\"\u001B[39m\u001B[38;5;124mСША\u001B[39m\u001B[38;5;124m\"\u001B[39m: \u001B[38;5;124m\"\u001B[39m\u001B[38;5;124mВашингтон\u001B[39m\u001B[38;5;124m\"\u001B[39m,\n\u001B[1;32m      3\u001B[0m                           \u001B[38;5;124m\"\u001B[39m\u001B[38;5;124mФранция\u001B[39m\u001B[38;5;124m\"\u001B[39m: \u001B[38;5;124m\"\u001B[39m\u001B[38;5;124mПариж\u001B[39m\u001B[38;5;124m\"\u001B[39m}\n\u001B[0;32m----> 4\u001B[0m \u001B[38;5;28mprint\u001B[39m(\u001B[43mcountries_and_capitals\u001B[49m\u001B[43m[\u001B[49m\u001B[38;5;124;43m\"\u001B[39;49m\u001B[38;5;124;43mСербия\u001B[39;49m\u001B[38;5;124;43m\"\u001B[39;49m\u001B[43m]\u001B[49m)\n",
      "\u001B[0;31mKeyError\u001B[0m: 'Сербия'"
     ]
    }
   ],
   "source": [
    "countries_and_capitals = {\"Россия\": \"Москва\",\n",
    "                          \"США\": \"Вашингтон\",\n",
    "                          \"Франция\": \"Париж\"}\n",
    "print(countries_and_capitals[\"Сербия\"])"
   ],
   "metadata": {
    "collapsed": false,
    "pycharm": {
     "name": "#%%\n"
    }
   }
  },
  {
   "cell_type": "code",
   "execution_count": 34,
   "outputs": [
    {
     "name": "stdout",
     "output_type": "stream",
     "text": [
      "Страна пока не добавлена в словарь\n"
     ]
    }
   ],
   "source": [
    "countries_and_capitals = {\"Россия\": \"Москва\",\n",
    "                          \"США\": \"Вашингтон\",\n",
    "                          \"Франция\": \"Париж\"}\n",
    "if \"Сербия\" in countries_and_capitals:\n",
    "    print(countries_and_capitals[\"Сербия\"])\n",
    "else:\n",
    "    print(\"Страна пока не добавлена в словарь\")"
   ],
   "metadata": {
    "collapsed": false,
    "pycharm": {
     "name": "#%%\n"
    }
   }
  },
  {
   "cell_type": "code",
   "execution_count": 35,
   "outputs": [
    {
     "name": "stdout",
     "output_type": "stream",
     "text": [
      "У страны Россия столица — Москва.\n",
      "У страны США столица — Вашингтон.\n",
      "У страны Франция столица — Париж.\n"
     ]
    }
   ],
   "source": [
    "countries_and_capitals = {\"Россия\": \"Москва\",\n",
    "                          \"США\": \"Вашингтон\",\n",
    "                          \"Франция\": \"Париж\"}\n",
    "for country in countries_and_capitals:\n",
    "    print(f\"У страны {country} столица — {countries_and_capitals[country]}.\")"
   ],
   "metadata": {
    "collapsed": false,
    "pycharm": {
     "name": "#%%\n"
    }
   }
  },
  {
   "cell_type": "code",
   "execution_count": 37,
   "outputs": [
    {
     "name": "stdout",
     "output_type": "stream",
     "text": [
      "США: [0, 1]\n",
      "Россия: [2, 3, 4]\n",
      "Франция: [5]\n",
      "Сербия: [6]\n"
     ]
    }
   ],
   "source": [
    "# создаём пустой словарь\n",
    "countries = dict()\n",
    "# вводим первую строку до цикла (можно заменить, использовав оператор-морж)\n",
    "country = input()\n",
    "# создаём счётчик номеров строк\n",
    "str_number = 0\n",
    "# продолжаем цикл, пока не введена строка «СТОП»\n",
    "while country != \"СТОП\":\n",
    "    # если введённой страны нет в словаре, создаём ключ и записываем по ключу список из одного номера строки\n",
    "    if country not in countries:\n",
    "        countries[country] = [str_number]\n",
    "    # иначе добавляем в список по ключу новое значение номера строки\n",
    "    else:\n",
    "        countries[country].append(str_number)\n",
    "    # увеличиваем счётчик\n",
    "    str_number += 1\n",
    "    # вводим следующую строку\n",
    "    country = input()\n",
    "# выводим название страны и полученные списки с новой строки\n",
    "for country in countries:\n",
    "    print(f\"{country}: {countries[country]}\")"
   ],
   "metadata": {
    "collapsed": false,
    "pycharm": {
     "name": "#%%\n"
    }
   }
  },
  {
   "cell_type": "markdown",
   "source": [
    "#### Операции со словарями"
   ],
   "metadata": {
    "collapsed": false,
    "pycharm": {
     "name": "#%% md\n"
    }
   }
  },
  {
   "cell_type": "code",
   "execution_count": 38,
   "outputs": [
    {
     "name": "stdout",
     "output_type": "stream",
     "text": [
      "3\n"
     ]
    }
   ],
   "source": [
    "# Возвращает количество ключей в словаре\n",
    "d = {\"a\": 1, \"b\": 2, \"c\": 3}\n",
    "print(len(d))"
   ],
   "metadata": {
    "collapsed": false,
    "pycharm": {
     "name": "#%%\n"
    }
   }
  },
  {
   "cell_type": "code",
   "execution_count": 39,
   "outputs": [
    {
     "name": "stdout",
     "output_type": "stream",
     "text": [
      "{'a': 1, 'c': 3}\n"
     ]
    }
   ],
   "source": [
    "# Удалить ключ из словаря. Если ключа нет, то вызывается исключение KeyError\n",
    "d = {\"a\": 1, \"b\": 2, \"c\": 3}\n",
    "del d[\"b\"]\n",
    "print(d)"
   ],
   "metadata": {
    "collapsed": false,
    "pycharm": {
     "name": "#%%\n"
    }
   }
  },
  {
   "cell_type": "code",
   "execution_count": 40,
   "outputs": [
    {
     "name": "stdout",
     "output_type": "stream",
     "text": [
      "{}\n"
     ]
    }
   ],
   "source": [
    "# Удалить все ключи и значения в словаре\n",
    "d = {\"a\": 1, \"b\": 2, \"c\": 3}\n",
    "d.clear()\n",
    "print(d)"
   ],
   "metadata": {
    "collapsed": false,
    "pycharm": {
     "name": "#%%\n"
    }
   }
  },
  {
   "cell_type": "code",
   "execution_count": 41,
   "outputs": [
    {
     "name": "stdout",
     "output_type": "stream",
     "text": [
      "{'a': 1, 'b': 2, 'c': 3}\n"
     ]
    }
   ],
   "source": [
    "# Возвращает копию словаря\n",
    "d = {\"a\": 1, \"b\": 2, \"c\": 3}\n",
    "d_new = d.copy()\n",
    "print(d_new)"
   ],
   "metadata": {
    "collapsed": false,
    "pycharm": {
     "name": "#%%\n"
    }
   }
  },
  {
   "cell_type": "code",
   "execution_count": 42,
   "outputs": [
    {
     "name": "stdout",
     "output_type": "stream",
     "text": [
      "Ключа нет в словаре\n"
     ]
    }
   ],
   "source": [
    "# Возвращает значение по ключу key. Если ключа нет, то возвращает значение default\n",
    "d = {\"a\": 1, \"b\": 2, \"c\": 3}\n",
    "print(d.get(\"e\", \"Ключа нет в словаре\"))"
   ],
   "metadata": {
    "collapsed": false,
    "pycharm": {
     "name": "#%%\n"
    }
   }
  },
  {
   "cell_type": "code",
   "execution_count": 43,
   "outputs": [
    {
     "name": "stdout",
     "output_type": "stream",
     "text": [
      "a 1\n",
      "b 2\n",
      "c 3\n"
     ]
    }
   ],
   "source": [
    "# Возвращает итерируемый объект, состоящий из кортежей (ключ, значение) словаря\n",
    "d = {\"a\": 1, \"b\": 2, \"c\": 3}\n",
    "for key, value in d.items():\n",
    "    print(key, value)"
   ],
   "metadata": {
    "collapsed": false,
    "pycharm": {
     "name": "#%%\n"
    }
   }
  },
  {
   "cell_type": "code",
   "execution_count": 44,
   "outputs": [
    {
     "name": "stdout",
     "output_type": "stream",
     "text": [
      "a\n",
      "b\n",
      "c\n"
     ]
    }
   ],
   "source": [
    "# Возвращает итерируемый объект, состоящий из ключей словаря\n",
    "d = {\"a\": 1, \"b\": 2, \"c\": 3}\n",
    "for key in d.keys():\n",
    "    print(key)"
   ],
   "metadata": {
    "collapsed": false,
    "pycharm": {
     "name": "#%%\n"
    }
   }
  },
  {
   "cell_type": "code",
   "execution_count": 46,
   "outputs": [
    {
     "name": "stdout",
     "output_type": "stream",
     "text": [
      "1\n",
      "{'b': 2, 'c': 3}\n"
     ]
    }
   ],
   "source": [
    "# Возвращает значение по ключу key и удаляет его из словаря. Если ключа нет, то возвращает default\n",
    "d = {\"a\": 1, \"b\": 2, \"c\": 3}\n",
    "x = d.pop(\"a\")\n",
    "print(x)\n",
    "print(d)"
   ],
   "metadata": {
    "collapsed": false,
    "pycharm": {
     "name": "#%%\n"
    }
   }
  },
  {
   "cell_type": "code",
   "execution_count": 47,
   "outputs": [
    {
     "name": "stdout",
     "output_type": "stream",
     "text": [
      "1\n",
      "2\n",
      "3\n"
     ]
    }
   ],
   "source": [
    "# Возвращает итерируемый объект, состоящий из значений словаря\n",
    "d = {\"a\": 1, \"b\": 2, \"c\": 3}\n",
    "for value in d.values():\n",
    "    print(value)"
   ],
   "metadata": {
    "collapsed": false,
    "pycharm": {
     "name": "#%%\n"
    }
   }
  },
  {
   "cell_type": "code",
   "execution_count": 48,
   "outputs": [
    {
     "name": "stdout",
     "output_type": "stream",
     "text": [
      "США: [0, 1]\n",
      "Россия: [2, 3, 4]\n",
      "Франция: [5]\n",
      "Сербия: [6]\n"
     ]
    }
   ],
   "source": [
    "# создаём пустой словарь\n",
    "countries = dict()\n",
    "# вводим первую строку до цикла (можно заменить, использовав оператор-морж)\n",
    "country = input()\n",
    "# создаём счётчик номеров строк\n",
    "str_number = 0\n",
    "# продолжаем цикл, пока не введена строка «СТОП»\n",
    "while country != \"СТОП\":\n",
    "    # Если страна country есть среди ключей, то get() возвращает список,\n",
    "    # хранящийся по этому ключу, иначе get() возвращает пустой список.\n",
    "    # Добавляем в список значение str_number.\n",
    "    countries[country] = countries.get(country, []) + [str_number]\n",
    "    # увеличиваем счётчик\n",
    "    str_number += 1\n",
    "    # вводим следующую строку\n",
    "    country = input()\n",
    "# выводим название страны и полученные списки с новой строки\n",
    "for country in countries:\n",
    "    print(f\"{country}: {countries[country]}\")"
   ],
   "metadata": {
    "collapsed": false,
    "pycharm": {
     "name": "#%%\n"
    }
   }
  }
 ],
 "metadata": {
  "kernelspec": {
   "display_name": "Python 3",
   "language": "python",
   "name": "python3"
  },
  "language_info": {
   "codemirror_mode": {
    "name": "ipython",
    "version": 2
   },
   "file_extension": ".py",
   "mimetype": "text/x-python",
   "name": "python",
   "nbconvert_exporter": "python",
   "pygments_lexer": "ipython2",
   "version": "2.7.6"
  }
 },
 "nbformat": 4,
 "nbformat_minor": 0
}