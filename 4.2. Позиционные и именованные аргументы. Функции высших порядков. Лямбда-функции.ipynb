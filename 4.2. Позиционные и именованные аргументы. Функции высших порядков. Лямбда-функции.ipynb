{
 "cells": [
  {
   "cell_type": "markdown",
   "source": [
    "\n",
    "# 4. Функции и их особенности в Python"
   ],
   "metadata": {
    "collapsed": false,
    "pycharm": {
     "name": "#%% md\n"
    }
   }
  },
  {
   "cell_type": "markdown",
   "source": [
    "## 4.2. Позиционные и именованные аргументы. Функции высших порядков. Лямбда-функции"
   ],
   "metadata": {
    "collapsed": false,
    "pycharm": {
     "name": "#%% md\n"
    }
   }
  },
  {
   "cell_type": "markdown",
   "source": [
    "### Теория"
   ],
   "metadata": {
    "collapsed": false,
    "pycharm": {
     "name": "#%% md\n"
    }
   }
  },
  {
   "cell_type": "code",
   "execution_count": 1,
   "outputs": [
    {
     "name": "stdout",
     "output_type": "stream",
     "text": [
      "950.0\n"
     ]
    }
   ],
   "source": [
    "# vibo: функция с позиционными аргументами\n",
    "def final_price(price, discount):\n",
    "    return price - price * discount / 100\n",
    "\n",
    "\n",
    "print(final_price(1000, 5))"
   ],
   "metadata": {
    "collapsed": false,
    "pycharm": {
     "name": "#%%\n"
    }
   }
  },
  {
   "cell_type": "code",
   "execution_count": 2,
   "outputs": [
    {
     "name": "stdout",
     "output_type": "stream",
     "text": [
      "950.0\n",
      "990.0\n"
     ]
    }
   ],
   "source": [
    "# vibo: функция с значением по умолчанию\n",
    "def final_price(price, discount=1):\n",
    "    return price - price * discount / 100\n",
    "\n",
    "\n",
    "print(final_price(1000, 5))\n",
    "# Значение скидки не задано, используется значение по умолчанию\n",
    "print(final_price(1000))"
   ],
   "metadata": {
    "collapsed": false,
    "pycharm": {
     "name": "#%%\n"
    }
   }
  },
  {
   "cell_type": "markdown",
   "source": [
    "**Значение по умолчанию задаётся один раз при объявлении функции. При последующих вызовах оно не меняется.**"
   ],
   "metadata": {
    "collapsed": false,
    "pycharm": {
     "name": "#%% md\n"
    }
   }
  },
  {
   "cell_type": "code",
   "execution_count": 3,
   "outputs": [
    {
     "name": "stdout",
     "output_type": "stream",
     "text": [
      "[0]\n",
      "[1, 2, 3, 0]\n",
      "[0, 1]\n"
     ]
    }
   ],
   "source": [
    "# vibo: list_arg накапливает значения\n",
    "def add_value(x, list_arg=[]):\n",
    "    list_arg += [x]\n",
    "    return list_arg\n",
    "\n",
    "# vibo: добавили в пустой список (по умолчанию) 0\n",
    "print(add_value(0))\n",
    "# vibo: список по умолчанию мы не используем, а передаем [1, 2, 3], добавляем в него 0\n",
    "print(add_value(0, [1, 2, 3]))\n",
    "# vibo: список по умолчанию мы изменили при первом вызове функции, в нем уже есть 0\n",
    "# vibo: поэтому получаем список [0, 1]\n",
    "print(add_value(1))"
   ],
   "metadata": {
    "collapsed": false,
    "pycharm": {
     "name": "#%%\n"
    }
   }
  },
  {
   "cell_type": "code",
   "execution_count": 4,
   "outputs": [
    {
     "name": "stdout",
     "output_type": "stream",
     "text": [
      "[0]\n",
      "[1, 2, 3, 0]\n",
      "[1]\n"
     ]
    }
   ],
   "source": [
    "# vibo: list_arg каждый вызов пустой, если list_arg=None\n",
    "def add_value(x, list_arg=None):\n",
    "    if list_arg is None:\n",
    "        list_arg = []\n",
    "    list_arg += [x]\n",
    "    return list_arg\n",
    "\n",
    "\n",
    "print(add_value(0))\n",
    "print(add_value(0, [1, 2, 3]))\n",
    "print(add_value(1))"
   ],
   "metadata": {
    "collapsed": false,
    "pycharm": {
     "name": "#%%\n"
    }
   }
  },
  {
   "cell_type": "code",
   "execution_count": 5,
   "outputs": [
    {
     "name": "stdout",
     "output_type": "stream",
     "text": [
      "950.0\n",
      "900.0\n"
     ]
    }
   ],
   "source": [
    "# vibo:вызов функции с именованным агрументом\n",
    "def final_price(price, discount=1):\n",
    "    return price - price * discount / 100\n",
    "\n",
    "# vibo: сначала передаются позиционные аргументы, потом — именованные\n",
    "print(final_price(1000, discount=5))\n",
    "# vibo: два именованных аргумента, порядок не важен\n",
    "print(final_price(discount=10, price=1000))"
   ],
   "metadata": {
    "collapsed": false,
    "pycharm": {
     "name": "#%%\n"
    }
   }
  },
  {
   "cell_type": "code",
   "execution_count": 10,
   "outputs": [
    {
     "name": "stdout",
     "output_type": "stream",
     "text": [
      "5 454 15 привет 10 пока\n"
     ]
    }
   ],
   "source": [
    "args = 5, 454, 15, 'привет', 10, 'пока'\n",
    "print(*args)"
   ],
   "metadata": {
    "collapsed": false,
    "pycharm": {
     "name": "#%%\n"
    }
   }
  },
  {
   "cell_type": "markdown",
   "source": [
    "(*args) - функция может принимать неограниченное количество **позиционных** аргументов"
   ],
   "metadata": {
    "collapsed": false,
    "pycharm": {
     "name": "#%% md\n"
    }
   }
  },
  {
   "cell_type": "code",
   "execution_count": 6,
   "outputs": [
    {
     "name": "stdout",
     "output_type": "stream",
     "text": [
      "[95.0, 190.0, 285.0]\n"
     ]
    }
   ],
   "source": [
    "# vibo: передача неограниченного количества позиционных аргументов\n",
    "def final_price(*prices, discount=1):\n",
    "    return [price - price * discount / 100 for price in prices]\n",
    "\n",
    "\n",
    "print(final_price(100, 200, 300, discount=5))"
   ],
   "metadata": {
    "collapsed": false,
    "pycharm": {
     "name": "#%%\n"
    }
   }
  },
  {
   "cell_type": "markdown",
   "source": [
    "(**kwargs), \"keyword arguments\" - функция может принимать неограниченное количество **именованных** аргументов"
   ],
   "metadata": {
    "collapsed": false,
    "pycharm": {
     "name": "#%% md\n"
    }
   }
  },
  {
   "cell_type": "code",
   "execution_count": 11,
   "outputs": [
    {
     "name": "stdout",
     "output_type": "stream",
     "text": [
      "[95.0, 190.0, 285.0, 380.0, 475.0]\n",
      "[190.0, 285.0, 380.0, 475.0]\n",
      "[95.0, 190.0]\n",
      "[190.0, 285.0]\n"
     ]
    }
   ],
   "source": [
    "def final_price(*prices, discount=1, **kwargs):\n",
    "    # vibo: kwargs - словарь\n",
    "    low = kwargs.get(\"price_low\", min(prices))\n",
    "    high = kwargs.get(\"price_high\", max(prices))\n",
    "    return [price - price * discount / 100 for price in prices if low <= price <= high]\n",
    "\n",
    "\n",
    "print(final_price(100, 200, 300, 400, 500, discount=5))\n",
    "print(final_price(100, 200, 300, 400, 500, discount=5, price_low=200))\n",
    "print(final_price(100, 200, 300, 400, 500, discount=5, price_high=200))\n",
    "print(final_price(100, 200, 300, 400, 500, discount=5, price_low=200, price_high=350))"
   ],
   "metadata": {
    "collapsed": false,
    "pycharm": {
     "name": "#%%\n"
    }
   }
  },
  {
   "cell_type": "markdown",
   "source": [
    "**Функции высшего порядка - функции, которые принимают агрументы-функции**"
   ],
   "metadata": {
    "collapsed": false,
    "pycharm": {
     "name": "#%% md\n"
    }
   }
  },
  {
   "cell_type": "code",
   "execution_count": 14,
   "outputs": [
    {
     "name": "stdout",
     "output_type": "stream",
     "text": [
      "5, 6\n"
     ]
    }
   ],
   "source": [
    "# vibo: функция filter() c использование пользовательской функции\n",
    "def only_pos(x):\n",
    "    return x > 0\n",
    "\n",
    "\n",
    "result = filter(only_pos, [-1, 5, 6, -10, 0])\n",
    "print(\", \".join(str(x) for x in result))"
   ],
   "metadata": {
    "collapsed": false,
    "pycharm": {
     "name": "#%%\n"
    }
   }
  },
  {
   "cell_type": "code",
   "execution_count": 15,
   "outputs": [
    {
     "name": "stdout",
     "output_type": "stream",
     "text": [
      "ABcd\n"
     ]
    }
   ],
   "source": [
    "# vibo: функция filter() c использованием встроенного метода isalpha()\n",
    "result = filter(str.isalpha, \"123ABcd()\")\n",
    "print(\"\".join(result))"
   ],
   "metadata": {
    "collapsed": false,
    "pycharm": {
     "name": "#%%\n"
    }
   }
  },
  {
   "cell_type": "code",
   "execution_count": 16,
   "outputs": [
    {
     "name": "stdout",
     "output_type": "stream",
     "text": [
      "0, 1, 4, 9, 16\n"
     ]
    }
   ],
   "source": [
    "# vibo: map() - тоже функция высшего порядка\n",
    "def square(x):\n",
    "    return x ** 2\n",
    "\n",
    "\n",
    "result = map(square, range(5))\n",
    "print(\", \".join(str(x) for x in result))"
   ],
   "metadata": {
    "collapsed": false,
    "pycharm": {
     "name": "#%%\n"
    }
   }
  },
  {
   "cell_type": "code",
   "execution_count": 17,
   "outputs": [
    {
     "name": "stdout",
     "output_type": "stream",
     "text": [
      "abcd\n",
      "efgh\n",
      "ijkl\n"
     ]
    }
   ],
   "source": [
    "result = map(str.lower, [\"abCD\", \"EFGh\", \"IJkl\"])\n",
    "print(\"\\n\".join(result))"
   ],
   "metadata": {
    "collapsed": false,
    "pycharm": {
     "name": "#%%\n"
    }
   }
  },
  {
   "cell_type": "markdown",
   "source": [
    "**Лямбда-функции**"
   ],
   "metadata": {
    "collapsed": false,
    "pycharm": {
     "name": "#%% md\n"
    }
   }
  },
  {
   "cell_type": "code",
   "execution_count": 19,
   "outputs": [
    {
     "name": "stdout",
     "output_type": "stream",
     "text": [
      "5, 6\n",
      "5, 6\n"
     ]
    }
   ],
   "source": [
    "# vibo: стандартная передача функции в функцию\n",
    "def only_pos(x):\n",
    "    return x > 0\n",
    "\n",
    "\n",
    "result = filter(only_pos, [-1, 5, 6, -10, 0])\n",
    "print(\", \".join(str(x) for x in result))\n",
    "\n",
    "# vibo: передаем lambda-функцию в функцию высшего порядка\n",
    "result = filter(lambda x: x > 0, [-1, 5, 6, -10, 0])\n",
    "print(\", \".join(str(x) for x in result))"
   ],
   "metadata": {
    "collapsed": false,
    "pycharm": {
     "name": "#%%\n"
    }
   }
  },
  {
   "cell_type": "code",
   "execution_count": 21,
   "outputs": [
    {
     "name": "stdout",
     "output_type": "stream",
     "text": [
      "0, 1, 4, 9, 16\n",
      "0, 1, 4, 9, 16\n"
     ]
    }
   ],
   "source": [
    "def square(x):\n",
    "    return x ** 2\n",
    "\n",
    "\n",
    "result = map(square, range(5))\n",
    "print(\", \".join(str(x) for x in result))\n",
    "\n",
    "result = map(lambda x: x ** 2, range(5))\n",
    "print(\", \".join(str(x) for x in result))"
   ],
   "metadata": {
    "collapsed": false,
    "pycharm": {
     "name": "#%%\n"
    }
   }
  },
  {
   "cell_type": "code",
   "execution_count": 22,
   "outputs": [
    {
     "name": "stdout",
     "output_type": "stream",
     "text": [
      "['ab', 'abc', 'abcd', 'abcdef']\n"
     ]
    }
   ],
   "source": [
    "# vibo: сортировка по длине строки с lambda-функцией\n",
    "lines = [\"abcd\", \"ab\", \"abc\", \"abcdef\"]\n",
    "print(sorted(lines, key=lambda line: len(line)))"
   ],
   "metadata": {
    "collapsed": false,
    "pycharm": {
     "name": "#%%\n"
    }
   }
  },
  {
   "cell_type": "code",
   "execution_count": 23,
   "outputs": [
    {
     "name": "stdout",
     "output_type": "stream",
     "text": [
      "['ab', 'ba', 'abcd', 'acde']\n"
     ]
    }
   ],
   "source": [
    "# vibo: сортировка по длине, затем по алфавиту\n",
    "lines = [\"abcd\", \"ab\", \"ba\", \"acde\"]\n",
    "print(sorted(lines, key=lambda line: (len(line), line)))"
   ],
   "metadata": {
    "collapsed": false,
    "pycharm": {
     "name": "#%%\n"
    }
   }
  },
  {
   "cell_type": "code",
   "execution_count": 24,
   "outputs": [
    {
     "name": "stdout",
     "output_type": "stream",
     "text": [
      "['abcd', 'acde', 'ab', 'ba']\n"
     ]
    }
   ],
   "source": [
    "# vibo: сортировка по убыванию длины строки, затем по алфавиту\n",
    "lines = [\"abcd\", \"ab\", \"ba\", \"acde\"]\n",
    "print(sorted(lines, key=lambda line: (-len(line), line)))"
   ],
   "metadata": {
    "collapsed": false,
    "pycharm": {
     "name": "#%%\n"
    }
   }
  },
  {
   "cell_type": "code",
   "execution_count": 25,
   "outputs": [
    {
     "name": "stdout",
     "output_type": "stream",
     "text": [
      "abcd\n"
     ]
    }
   ],
   "source": [
    "# vibo: самая длинная строка, лексикограмически меньшая\n",
    "lines = [\"abcd\", \"ab\", \"ba\", \"acde\"]\n",
    "print(min(lines, key=lambda line: (-len(line), line)))"
   ],
   "metadata": {
    "collapsed": false,
    "pycharm": {
     "name": "#%%\n"
    }
   }
  },
  {
   "cell_type": "code",
   "execution_count": 27,
   "outputs": [
    {
     "name": "stdout",
     "output_type": "stream",
     "text": [
      "5, 6\n",
      "5, 6\n",
      "5, 6\n"
     ]
    }
   ],
   "source": [
    "# vibo: приоритетный вид с использованием списочных выражений\n",
    "result = (x for x in [-1, 5, 6, -10, 0] if x > 0)\n",
    "print(\", \".join(str(x) for x in result))\n",
    "\n",
    "# vibo: стандартная передача функции в функцию\n",
    "def only_pos(x):\n",
    "    return x > 0\n",
    "result = filter(only_pos, [-1, 5, 6, -10, 0])\n",
    "print(\", \".join(str(x) for x in result))\n",
    "\n",
    "# vibo: передаем lambda-функцию в функцию высшего порядка\n",
    "result = filter(lambda x: x > 0, [-1, 5, 6, -10, 0])\n",
    "print(\", \".join(str(x) for x in result))"
   ],
   "metadata": {
    "collapsed": false,
    "pycharm": {
     "name": "#%%\n"
    }
   }
  },
  {
   "cell_type": "markdown",
   "source": [
    "### Практика /10"
   ],
   "metadata": {
    "collapsed": false,
    "pycharm": {
     "name": "#%% md\n"
    }
   }
  },
  {
   "cell_type": "code",
   "execution_count": 30,
   "outputs": [
    {
     "name": "stdout",
     "output_type": "stream",
     "text": [
      "[0, 0, 0]\n",
      "[1, 1, 1, 1, 1]\n"
     ]
    }
   ],
   "source": [
    "# A Полное решение\n",
    "def make_list(length, value=0):\n",
    "    return [value for x in range(length)]\n",
    "\n",
    "\n",
    "result = make_list(3)\n",
    "print(result)\n",
    "result = make_list(5, 1)\n",
    "print(result)"
   ],
   "metadata": {
    "collapsed": false,
    "pycharm": {
     "name": "#%%\n"
    }
   }
  },
  {
   "cell_type": "code",
   "execution_count": 64,
   "outputs": [
    {
     "name": "stdout",
     "output_type": "stream",
     "text": [
      "[[0, 0, 0], [0, 0, 0], [0, 0, 0]]\n",
      "[[1, 1, 1, 1], [1, 1, 1, 1]]\n"
     ]
    }
   ],
   "source": [
    "# B Полное решение\n",
    "def make_matrix(size, value=0):\n",
    "    if type(size) == int:\n",
    "        ans = [[value for x in range(size)] for y in range(size)]\n",
    "    elif type(size) == tuple:\n",
    "        m, n = size\n",
    "        ans = [[value for x in range(m)] for y in range(n)]\n",
    "    return ans\n",
    "\n",
    "\n",
    "result = make_matrix(3)\n",
    "print(result)\n",
    "result = make_matrix((4, 2), 1)\n",
    "print(result)"
   ],
   "metadata": {
    "collapsed": false,
    "pycharm": {
     "name": "#%%\n"
    }
   }
  },
  {
   "cell_type": "code",
   "execution_count": 48,
   "outputs": [
    {
     "name": "stdout",
     "output_type": "stream",
     "text": [
      "3\n",
      "12\n"
     ]
    }
   ],
   "source": [
    "# C Полное решение\n",
    "# vibo: наибольший общий делитель (НОД) нескольких чисел\n",
    "def gcd(*nums):\n",
    "    ans = [{(i + 1) for i in range(num + 1) if num % (i + 1) == 0} for num in nums]\n",
    "    # vibo: пересечение нескольких множеств set.intersection(*ans)\n",
    "    # vibo: выше получили ans вида [{}, {}, {}....]\n",
    "    ans = max(set.intersection(*ans))\n",
    "    return ans\n",
    "\n",
    "result = gcd(3)\n",
    "print(result)\n",
    "result = gcd(36, 48, 156, 100500)\n",
    "print(result)"
   ],
   "metadata": {
    "collapsed": false,
    "pycharm": {
     "name": "#%%\n"
    }
   }
  },
  {
   "cell_type": "code",
   "execution_count": 12,
   "outputs": [
    {
     "name": "stdout",
     "output_type": "stream",
     "text": [
      "January\n",
      "Июль\n"
     ]
    }
   ],
   "source": [
    "# D Полное решение\n",
    "def month(number, lang='ru'):\n",
    "    en = {1: 'January',\n",
    "          2: 'February',\n",
    "          3: 'March',\n",
    "          4: 'April',\n",
    "          5: 'May',\n",
    "          6: 'June',\n",
    "          7: 'July',\n",
    "          8: 'August',\n",
    "          9: 'September',\n",
    "          10: 'October',\n",
    "          11: 'November',\n",
    "          12: 'December'}\n",
    "    ru = {1: 'Январь',\n",
    "          2: 'Февраль',\n",
    "          3: 'Март',\n",
    "          4: 'Апрель',\n",
    "          5: 'Май',\n",
    "          6: 'Июнь',\n",
    "          7: 'Июль',\n",
    "          8: 'Август',\n",
    "          9: 'Сентябрь',\n",
    "          10: 'Октябрь',\n",
    "          11: 'Ноябрь',\n",
    "          12: 'Декабрь'}\n",
    "    if lang == \"en\":\n",
    "        dct = en\n",
    "    else:\n",
    "        dct = ru\n",
    "    ans = dct[number]\n",
    "    return ans\n",
    "\n",
    "\n",
    "result = month(1, \"en\")\n",
    "print(result)\n",
    "result = month(7)\n",
    "print(result)"
   ],
   "metadata": {
    "collapsed": false,
    "pycharm": {
     "name": "#%%\n"
    }
   }
  },
  {
   "cell_type": "code",
   "execution_count": 93,
   "outputs": [
    {
     "name": "stdout",
     "output_type": "stream",
     "text": [
      "1 2 3\n",
      "\n",
      "7, 3, 1, hello, (1, 2, 3)!\n"
     ]
    }
   ],
   "source": [
    "# E Полное решение\n",
    "def to_string(*data, sep=\" \", end=\"\\n\"):\n",
    "    ans = [string for string in data]\n",
    "    return sep.join(map(str, ans)) + end\n",
    "\n",
    "result = to_string(1, 2, 3)\n",
    "print(result)\n",
    "data = [7, 3, 1, \"hello\", (1, 2, 3)]\n",
    "result = to_string(*data, sep=\", \", end=\"!\")\n",
    "print(result)"
   ],
   "metadata": {
    "collapsed": false,
    "pycharm": {
     "name": "#%%\n"
    }
   }
  },
  {
   "cell_type": "code",
   "execution_count": 7,
   "outputs": [
    {
     "name": "stdout",
     "output_type": "stream",
     "text": [
      "item: Эспрессо\n",
      "recipes[item]: {'coffee': 1}\n",
      "in_stock: {'coffee': 1, 'milk': 2, 'cream': 3}\n",
      "    in_stock: {'coffee': 0, 'milk': 2, 'cream': 3}\n",
      "    in_stock[k_stock]: 0\n",
      "\n",
      "item: Капучино\n",
      "recipes[item]: {'coffee': 1, 'milk': 3}\n",
      "in_stock: {'coffee': 0, 'milk': 2, 'cream': 3}\n",
      "    in_stock: {'coffee': -1, 'milk': 2, 'cream': 3}\n",
      "    in_stock[k_stock]: -1\n",
      "    in_stock: {'coffee': -1, 'milk': -1, 'cream': 3}\n",
      "    in_stock[k_stock]: -1\n",
      "\n",
      "item: Макиато\n",
      "recipes[item]: {'coffee': 2, 'milk': 1}\n",
      "in_stock: {'coffee': -1, 'milk': -1, 'cream': 3}\n",
      "    in_stock: {'coffee': -3, 'milk': -1, 'cream': 3}\n",
      "    in_stock[k_stock]: -3\n",
      "    in_stock: {'coffee': -3, 'milk': -2, 'cream': 3}\n",
      "    in_stock[k_stock]: -2\n",
      "\n",
      "item: Кофе по-венски\n",
      "recipes[item]: {'coffee': 1, 'cream': 2}\n",
      "in_stock: {'coffee': -3, 'milk': -2, 'cream': 3}\n",
      "    in_stock: {'coffee': -4, 'milk': -2, 'cream': 3}\n",
      "    in_stock[k_stock]: -4\n",
      "    in_stock: {'coffee': -4, 'milk': -2, 'cream': 1}\n",
      "    in_stock[k_stock]: 1\n",
      "\n",
      "item: Латте Макиато\n",
      "recipes[item]: {'coffee': 1, 'milk': 2, 'cream': 1}\n",
      "in_stock: {'coffee': -4, 'milk': -2, 'cream': 1}\n",
      "    in_stock: {'coffee': -5, 'milk': -2, 'cream': 1}\n",
      "    in_stock[k_stock]: -5\n",
      "    in_stock: {'coffee': -5, 'milk': -4, 'cream': 1}\n",
      "    in_stock[k_stock]: -4\n",
      "    in_stock: {'coffee': -5, 'milk': -4, 'cream': 0}\n",
      "    in_stock[k_stock]: 0\n",
      "\n",
      "item: Кон Панна\n",
      "recipes[item]: {'coffee': 1, 'cream': 1}\n",
      "in_stock: {'coffee': -5, 'milk': -4, 'cream': 0}\n",
      "    in_stock: {'coffee': -6, 'milk': -4, 'cream': 0}\n",
      "    in_stock[k_stock]: -6\n",
      "    in_stock: {'coffee': -6, 'milk': -4, 'cream': -1}\n",
      "    in_stock[k_stock]: -1\n",
      "\n",
      "None\n"
     ]
    }
   ],
   "source": [
    "# F\n",
    "from copy import deepcopy\n",
    "\n",
    "def order(*items):\n",
    "\n",
    "    # vibo: делаем in_stock, глобальной, чтобы изменять вне функции\n",
    "    global in_stock\n",
    "    # vibo: делаем копию, с ней работаем\n",
    "    in_stock_copy = deepcopy(in_stock)\n",
    "\n",
    "    recipes = {\n",
    "        \"Эспрессо\": {\"coffee\": 1},\n",
    "        \"Капучино\": {\"coffee\": 1, \"milk\": 3},\n",
    "        \"Макиато\": {\"coffee\": 2, \"milk\": 1},\n",
    "        \"Кофе по-венски\": {\"coffee\": 1, \"cream\": 2},\n",
    "        \"Латте Макиато\": {\"coffee\": 1, \"milk\": 2, \"cream\": 1},\n",
    "        \"Кон Панна\": {\"coffee\": 1, \"cream\": 1}\n",
    "    }\n",
    "    for item in items:\n",
    "        print(f'item: {item}')\n",
    "        print(f'recipes[item]: {recipes[item]}')\n",
    "        print(f'in_stock: {in_stock_copy}')\n",
    "\n",
    "        for k_stock, v_stock in in_stock_copy.items():\n",
    "            for k_order, v_order in recipes[item].items():\n",
    "\n",
    "                if k_stock == k_order:\n",
    "                    in_stock_copy[k_stock] = in_stock_copy[k_stock] - v_order\n",
    "                    print(f'    in_stock: {in_stock_copy}')\n",
    "                    print(f'    in_stock[k_stock]: {in_stock_copy[k_stock]}')\n",
    "        print('')\n",
    "\n",
    "in_stock = {\"coffee\": 1, \"milk\": 2, \"cream\": 3}\n",
    "print(order(\"Эспрессо\", \"Капучино\", \"Макиато\", \"Кофе по-венски\", \"Латте Макиато\", \"Кон Панна\"))\n",
    "# print(order(\"Эспрессо\", \"Капучино\", \"Макиато\", \"Кофе по-венски\", \"Латте Макиато\", \"Кон Панна\"))\n",
    "\n",
    "# in_stock = {\"coffee\": 4, \"milk\": 4, \"cream\": 0}\n",
    "# print(order(\"Капучино\", \"Макиато\", \"Эспрессо\"))\n",
    "# print(order(\"Капучино\", \"Макиато\", \"Эспрессо\"))\n",
    "# print(order(\"Капучино\", \"Макиато\", \"Эспрессо\"))"
   ],
   "metadata": {
    "collapsed": false,
    "pycharm": {
     "name": "#%%\n"
    }
   }
  },
  {
   "cell_type": "code",
   "execution_count": null,
   "outputs": [],
   "source": [
    "# G"
   ],
   "metadata": {
    "collapsed": false,
    "pycharm": {
     "name": "#%%\n"
    }
   }
  },
  {
   "cell_type": "code",
   "execution_count": null,
   "outputs": [],
   "source": [
    "# H"
   ],
   "metadata": {
    "collapsed": false,
    "pycharm": {
     "name": "#%%\n"
    }
   }
  },
  {
   "cell_type": "code",
   "execution_count": null,
   "outputs": [],
   "source": [
    "# I"
   ],
   "metadata": {
    "collapsed": false,
    "pycharm": {
     "name": "#%%\n"
    }
   }
  },
  {
   "cell_type": "code",
   "execution_count": null,
   "outputs": [],
   "source": [
    "# J"
   ],
   "metadata": {
    "collapsed": false,
    "pycharm": {
     "name": "#%%\n"
    }
   }
  },
  {
   "cell_type": "code",
   "execution_count": null,
   "outputs": [],
   "source": [],
   "metadata": {
    "collapsed": false,
    "pycharm": {
     "name": "#%%\n"
    }
   }
  }
 ],
 "metadata": {
  "kernelspec": {
   "display_name": "Python 3",
   "language": "python",
   "name": "python3"
  },
  "language_info": {
   "codemirror_mode": {
    "name": "ipython",
    "version": 2
   },
   "file_extension": ".py",
   "mimetype": "text/x-python",
   "name": "python",
   "nbconvert_exporter": "python",
   "pygments_lexer": "ipython2",
   "version": "2.7.6"
  }
 },
 "nbformat": 4,
 "nbformat_minor": 0
}