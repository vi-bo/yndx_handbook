{
 "cells": [
  {
   "cell_type": "markdown",
   "metadata": {
    "pycharm": {
     "name": "#%% md\n"
    }
   },
   "source": [
    "\n",
    "# 6. Библиотеки для получения и обработки данных"
   ]
  },
  {
   "cell_type": "markdown",
   "metadata": {
    "pycharm": {
     "name": "#%% md\n"
    }
   },
   "source": [
    "## 6.3. Модуль requests"
   ]
  },
  {
   "cell_type": "markdown",
   "metadata": {
    "pycharm": {
     "name": "#%% md\n"
    }
   },
   "source": [
    "### Теория"
   ]
  },
  {
   "cell_type": "markdown",
   "source": [
    "**OSI (The Open Systems Interconnection model, модель взаимодействия открытых систем)** - стандарт, определяющий уровни передачи данных."
   ],
   "metadata": {
    "collapsed": false,
    "pycharm": {
     "name": "#%% md\n"
    }
   }
  },
  {
   "cell_type": "markdown",
   "source": [
    "**Протокол** - это набор правил, который определяет процесс обмена данными между различными устройствами или программами."
   ],
   "metadata": {
    "collapsed": false,
    "pycharm": {
     "name": "#%% md\n"
    }
   }
  },
  {
   "cell_type": "markdown",
   "source": [
    "**HTTP (HyperText Transfer Protocol, протокол передачи гипертекста)** - один из самых популярных протоколов для обмена данными между программами в компьютерных сетях (прикладного уровня):\n",
    "- Код ответа **200** - ответ HTTP-сервера, значит, что запрос был обработан успешно;\n",
    "- Код ответа **404** - запрошенный объект (чаще всего веб-страница) не был найден"
   ],
   "metadata": {
    "collapsed": false,
    "pycharm": {
     "name": "#%% md\n"
    }
   }
  },
  {
   "cell_type": "markdown",
   "source": [
    "В протоколе `HTTP` описаны различные виды запросов: на получение данных (`GET`), на передачу данных (`POST`) и др.\n"
   ],
   "metadata": {
    "collapsed": false,
    "pycharm": {
     "name": "#%% md\n"
    }
   }
  },
  {
   "cell_type": "markdown",
   "source": [
    "**API (Application Programming Interface)** - набор правил для взаимодействия с сервисом (протокол сервиса, действующий над протоколом HTTP)."
   ],
   "metadata": {
    "collapsed": false,
    "pycharm": {
     "name": "#%% md\n"
    }
   }
  },
  {
   "cell_type": "markdown",
   "source": [
    "#### API сервиса Яндекс.Карт на примере Static API"
   ],
   "metadata": {
    "collapsed": false,
    "pycharm": {
     "name": "#%% md\n"
    }
   }
  },
  {
   "cell_type": "markdown",
   "source": [
    "Static API  возвращает изображение карты в ответ на HTTPS-запрос. Документация: https://yandex.ru/dev/maps/staticapi/doc/1.x/dg/concepts/about.html. Запрос для браузера имеет следующий вид: https://static-maps.yandex.ru/1.x/?{параметры URL}"
   ],
   "metadata": {
    "collapsed": false,
    "pycharm": {
     "name": "#%% md\n"
    }
   }
  },
  {
   "cell_type": "markdown",
   "source": [
    "Введем запрос в браузере:\n",
    "> https://static-maps.yandex.ru/1.x/?ll=37.677751,55.757718&spn=0.016457,0.00619&l=map"
   ],
   "metadata": {
    "collapsed": false,
    "pycharm": {
     "name": "#%% md\n"
    }
   }
  },
  {
   "cell_type": "markdown",
   "source": [
    "Параметры:\n",
    "- `II` - координаты центра карты (через запятую - долгота и широта в градусах);\n",
    "- `spn` - область показа (протяженность карты в градусах по долготе и широте);\n",
    "- `l` - тип карты (в запросе используется тип map – схема)."
   ],
   "metadata": {
    "collapsed": false,
    "pycharm": {
     "name": "#%% md\n"
    }
   }
  },
  {
   "cell_type": "markdown",
   "source": [
    "#### requests"
   ],
   "metadata": {
    "collapsed": false,
    "pycharm": {
     "name": "#%% md\n"
    }
   }
  },
  {
   "cell_type": "markdown",
   "source": [
    "`requests` - библиотека для удобного формирования HTTP-запросов и получения ответов (не стандартная, устанавливается через `pip install requests`)"
   ],
   "metadata": {
    "collapsed": false,
    "pycharm": {
     "name": "#%% md\n"
    }
   }
  },
  {
   "cell_type": "code",
   "execution_count": 4,
   "outputs": [
    {
     "name": "stdout",
     "output_type": "stream",
     "text": [
      "<Response [200]>\n"
     ]
    }
   ],
   "source": [
    "# vibo: импортируем функцию get()\n",
    "from requests import get\n",
    "\n",
    "# vibo: формируем тот же запрос, что и выше через функцию get() библиотеки requests\n",
    "response = get(\"https://static-maps.yandex.ru/1.x/?\"\n",
    "             \"ll=37.677751,55.757718&\"\n",
    "             \"spn=0.016457,0.00619&\"\n",
    "             \"l=map\")\n",
    "print(response) # <Response [200]> ответ HTTP-сервера, значит, запрос был обработан успешно\n",
    "\n",
    "# vibo: или так\n",
    "\n",
    "# vibo: можно переделать запись, используя аргумент params (словарь)\n",
    "params = {\"ll\": \"37.677751,55.757718\",\n",
    "          \"spn\": \"0.016457,0.00619\",\n",
    "          \"l\": \"map\"}\n",
    "response = get(\"https://static-maps.yandex.ru/1.x/\", params=params)"
   ],
   "metadata": {
    "collapsed": false,
    "pycharm": {
     "name": "#%%\n"
    }
   }
  },
  {
   "cell_type": "code",
   "execution_count": 3,
   "outputs": [],
   "source": [
    "# vibo: для получения данных из ответа используем атрибут content, это данные в виде последовательности байтов,\n",
    "# vibo: в соответствии с документацией Static API, ответ - файл в формате `PNG`\n",
    "\n",
    "# vibo: запишем данные в файл\n",
    "# vibo: `wb` - запись в бинарном режиме\n",
    "with open(\"map.png\", \"wb\") as file:\n",
    "    file.write(response.content)"
   ],
   "metadata": {
    "collapsed": false,
    "pycharm": {
     "name": "#%%\n"
    }
   }
  },
  {
   "cell_type": "markdown",
   "source": [
    "Тот же запрос с обработкой исключения на потерю соединения (ConnectionError)"
   ],
   "metadata": {
    "collapsed": false,
    "pycharm": {
     "name": "#%% md\n"
    }
   }
  },
  {
   "cell_type": "code",
   "execution_count": 6,
   "outputs": [],
   "source": [
    "# vibo: проверка подключения к сети, исключение ConnectionError\n",
    "from requests import get, ConnectionError\n",
    "\n",
    "params = {\"ll\": \"37.677751,55.757718\",\n",
    "          \"spn\": \"0.016457,0.00619\",\n",
    "          \"l\": \"map\"}\n",
    "try:\n",
    "    response = get(\"https://static-maps.yandex.ru/1.x/\", params=params)\n",
    "except ConnectionError:\n",
    "    print(\"Проверьте подключение к сети.\")\n",
    "# vibo: если не вызвано исключение в блоке try\n",
    "else:\n",
    "    with open(\"map.png\", \"wb\") as file:\n",
    "        file.write(response.content)"
   ],
   "metadata": {
    "collapsed": false,
    "pycharm": {
     "name": "#%%\n"
    }
   }
  },
  {
   "cell_type": "markdown",
   "source": [
    "#### API. Яндекс.Диск"
   ],
   "metadata": {
    "collapsed": false,
    "pycharm": {
     "name": "#%% md\n"
    }
   }
  },
  {
   "cell_type": "markdown",
   "source": [
    "Документация: https://yandex.ru/dev/disk/rest/. Для работы с API Яндекс.Диска требуется авторизация пользователя по протоколу **OAuth 2.0.**"
   ],
   "metadata": {
    "collapsed": false,
    "pycharm": {
     "name": "#%% md\n"
    }
   }
  },
  {
   "cell_type": "markdown",
   "source": [
    "Открытый протокол авторизации **OAuth 2.0** обеспечивает предоставление третьей стороне ограниченный доступ к защищённым ресурсам пользователя без передачи ей логина и пароля. Вместо логина и пароля авторизация производится по **OAuth-токену**. **Токен** – это уникальная для каждого пользователя строка-ключ для доступа с помощью API к файлам в облаке."
   ],
   "metadata": {
    "collapsed": false,
    "pycharm": {
     "name": "#%% md\n"
    }
   }
  },
  {
   "cell_type": "markdown",
   "source": [
    "Для работы с API необходимо создать и зарегистрировать приложение-сервис по инструкции: https://yandex.ru/dev/id/doc/dg/oauth/tasks/register-client.html"
   ],
   "metadata": {
    "collapsed": false,
    "pycharm": {
     "name": "#%% md\n"
    }
   }
  },
  {
   "cell_type": "markdown",
   "source": [
    "Ссылка для создания сервиса: https://oauth.yandex.ru/client/new, заполняем:\n",
    "- Заполнить поле \"Название сервиса\".\n",
    "- Выбрать вариант платформы \"Веб-сервисы\".\n",
    "- Выбрать значение \"Подставить URL для разработки\" в поле Callback URL.\n",
    "- В качестве доступных сервису данных указать \"Яндекс.Диск REST API\" и выдать все четыре возможных права доступа.\n",
    "- Нажать кнопку \"Создать приложение\"."
   ],
   "metadata": {
    "collapsed": false,
    "pycharm": {
     "name": "#%% md\n"
    }
   }
  },
  {
   "cell_type": "markdown",
   "source": [
    "После успешной регистрации получаем значения для получения токена по протоколу авторизации OAuth 2.0:\n",
    "- **ClientID** - это идентификатор вашего приложения; используйте его в запросах для получения OAuth-токена;\n",
    "- **Client secret** - секретный ключ, которым будет подписан jwt-токен с информацией о пользователе;\n",
    "- **Callback URI (Redirect URL)** - на этот адрес направим пользователя после авторизации;"
   ],
   "metadata": {
    "collapsed": false,
    "pycharm": {
     "name": "#%% md\n"
    }
   }
  },
  {
   "cell_type": "markdown",
   "source": [
    "**Протокол OAuth 2.0 реализован в библиотеке requests-oauthlib**"
   ],
   "metadata": {
    "collapsed": false,
    "pycharm": {
     "name": "#%% md\n"
    }
   }
  },
  {
   "cell_type": "code",
   "execution_count": null,
   "outputs": [],
   "source": [
    "!pip install requests requests_oauthlib"
   ],
   "metadata": {
    "collapsed": false,
    "pycharm": {
     "name": "#%%\n",
     "is_executing": true
    }
   }
  },
  {
   "cell_type": "markdown",
   "source": [
    "Приложение-сервис должно перенаправить пользователя по ссылке для авторизации. Пользователь переходит по ссылке и копирует сгенерированный одноразовый код, а затем вводит его в приложение. Библиотека `requests-oauthlib` на основе введённого кода делает запрос на получение токена и возвращает его. Более детальный порядок получения токена в инструкции: https://yandex.ru/dev/id/doc/dg/oauth/reference/auto-code-client.html#auto-code-client__get-code"
   ],
   "metadata": {
    "collapsed": false,
    "pycharm": {
     "name": "#%% md\n"
    }
   }
  },
  {
   "cell_type": "code",
   "execution_count": null,
   "outputs": [],
   "source": [
    "# vibo: напишем программу с авторизацией сервиса и получением токена\n",
    "\n",
    "from requests_oauthlib import OAuth2Session\n",
    "from requests import get, post, put, delete\n",
    "\n",
    "\n",
    "# vibo: client_id и client_secret - получаем после регистрации приложения\n",
    "client_id = \"\"\n",
    "client_secret = \"\"\n",
    "auth_url = \"https://oauth.yandex.ru/authorize\"\n",
    "token_url = \"https://oauth.yandex.ru/token\"\n",
    "oauth = OAuth2Session(client_id=client_id)\n",
    "authorization_url, state = oauth.authorization_url(auth_url, force_confirm=\"true\")\n",
    "print(\"Перейдите по ссылке, авторизуйтесь и скопируйте код:\", authorization_url)\n",
    "code = input(\"Вставьте одноразовый код: \")\n",
    "token = oauth.fetch_token(token_url=token_url,\n",
    "                          code=code,\n",
    "                          client_secret=client_secret)\n",
    "# vibo: переменная token является словарем, в котором по ключу access_token находится нужный токен\n",
    "access_token = token[\"access_token\"]\n",
    "print(f'access_token: {access_token}')"
   ],
   "metadata": {
    "collapsed": false,
    "pycharm": {
     "name": "#%%\n",
     "is_executing": true
    }
   }
  },
  {
   "cell_type": "code",
   "execution_count": 15,
   "outputs": [
    {
     "name": "stdout",
     "output_type": "stream",
     "text": [
      "{'max_file_size': 1073741824, 'paid_max_file_size': 53687091200, 'total_space': 11811160064, 'trash_size': 0, 'is_paid': False, 'used_space': 399077229, 'system_folders': {'odnoklassniki': 'disk:/Социальные сети/Одноклассники', 'google': 'disk:/Социальные сети/Google+', 'instagram': 'disk:/Социальные сети/Instagram', 'vkontakte': 'disk:/Социальные сети/ВКонтакте', 'attach': 'disk:/Почтовые вложения', 'mailru': 'disk:/Социальные сети/Мой Мир', 'downloads': 'disk:/Загрузки/', 'applications': 'disk:/Приложения', 'facebook': 'disk:/Социальные сети/Facebook', 'social': 'disk:/Социальные сети/', 'messenger': 'disk:/Файлы Мессенджера', 'calendar': 'disk:/Материалы встреч', 'scans': 'disk:/Сканы', 'screenshots': 'disk:/Скриншоты/', 'photostream': 'disk:/Фотокамера/'}, 'user': {'country': 'ru', 'login': 'vv.bo', 'display_name': 'vibo', 'uid': '250371050'}, 'unlimited_autoupload_enabled': False, 'revision': 1668703522800636}\n"
     ]
    }
   ],
   "source": [
    "# vibo: создадим словарь headers\n",
    "# vibo: полученный на этапе авторизации токен необходимо передавать во всех запросах к API\n",
    "# # vibo: для этого нужно заполнять в заголовке запроса поле Authorization значением OAuth <ваш токен>\n",
    "headers = {\"Authorization\": f\"OAuth {access_token}\"}\n",
    "# vibo: выполним GET-запрос по адресу https://cloud-api.yandex.net/v1/disk для получения информации о состоянии облачного хранилища\n",
    "r = get(\"https://cloud-api.yandex.net/v1/disk\", headers=headers)\n",
    "#vibo: данные в ответе имеют формат json, преобразуются в словарь методом json()\n",
    "print(r.json())"
   ],
   "metadata": {
    "collapsed": false,
    "pycharm": {
     "name": "#%%\n"
    }
   }
  },
  {
   "cell_type": "markdown",
   "source": [
    "Все возможные запросы к сервису, их формат и ответы сервера можно посмотреть в документации: https://yandex.ru/dev/disk/poligon/"
   ],
   "metadata": {
    "collapsed": false,
    "pycharm": {
     "name": "#%% md\n"
    }
   }
  },
  {
   "cell_type": "code",
   "execution_count": 18,
   "outputs": [
    {
     "name": "stdout",
     "output_type": "stream",
     "text": [
      "<Response [201]>\n"
     ]
    }
   ],
   "source": [
    "# vibo: 1. создаем на яндекс диске новую папку \"Тест API\"\n",
    "\n",
    "# vibo: полученный на этапе авторизации токен необходимо передавать во всех запросах к API (headers)\n",
    "# vibo: для этого нужно заполнять в заголовке запроса поле Authorization значением OAuth <ваш токен>\n",
    "# vibo: в params передаем путь\n",
    "params = {\"path\": \"Тест API\"}\n",
    "r = put(\"https://cloud-api.yandex.net/v1/disk/resources\", headers=headers, params=params)\n",
    "print(r) # Response [201]"
   ],
   "metadata": {
    "collapsed": false,
    "pycharm": {
     "name": "#%%\n"
    }
   }
  },
  {
   "cell_type": "code",
   "execution_count": 20,
   "outputs": [
    {
     "name": "stdout",
     "output_type": "stream",
     "text": [
      "<Response [201]>\n"
     ]
    }
   ],
   "source": [
    "# vibo: копируем файл в папку на яндекс диск\n",
    "\n",
    "params = {\"path\": \"Тест API/map.png\"}\n",
    "# vibo: выполняем GET-запроc по адресу https://cloud-api.yandex.net/v1/disk/resources/upload\n",
    "# дял получения ссылки на загрузку в облако\n",
    "r = get(\"https://cloud-api.yandex.net/v1/disk/resources/upload\",\n",
    "        headers=headers, params=params)\n",
    "# vibo: адрес в поле href ответа сервера\n",
    "href = r.json()[\"href\"]\n",
    "# vibo: открываем файл в режиме бинарного чтения rb\n",
    "files = {\"file\": open(\"map.png\", \"rb\")}\n",
    "# vibo: PUT-запрос на запись файла\n",
    "# vibo: Передавать токен в данном запросе не нужно\n",
    "r = put(href, files=files)\n",
    "print(r) # Response [201]"
   ],
   "metadata": {
    "collapsed": false,
    "pycharm": {
     "name": "#%%\n"
    }
   }
  },
  {
   "cell_type": "markdown",
   "source": [
    "### Практика /10"
   ],
   "metadata": {
    "collapsed": false,
    "pycharm": {
     "name": "#%% md\n"
    }
   }
  },
  {
   "cell_type": "code",
   "execution_count": null,
   "outputs": [],
   "source": [
    "# A ПОЛНОЕ РЕШЕНИЕ\n",
    "# vibo: вывод ответа сервера\n",
    "from requests import get\n",
    "\n",
    "\n",
    "response = get(\"http://127.0.0.1:5000/\")\n",
    "print(response.text)"
   ],
   "metadata": {
    "collapsed": false,
    "pycharm": {
     "name": "#%%\n",
     "is_executing": true
    }
   }
  },
  {
   "cell_type": "code",
   "execution_count": null,
   "outputs": [],
   "source": [
    "# B ПОЛНОЕ РЕШЕНИЕ\n",
    "# vibo: суммирование ответов сервера\n",
    "from requests import get\n",
    "\n",
    "\n",
    "# vibo: получаем от пользователя адрес\n",
    "link = f'http://{input()}'\n",
    "# vibo: запрашиваем у сервера данные\n",
    "data = int(get(link).text)\n",
    "\n",
    "ans = 0\n",
    "# vibo: пока ответ сервера не равен 0 суммируем\n",
    "while data != 0:\n",
    "    ans += data\n",
    "    # vibo: снова запрашиваем данные\n",
    "    data = int(get(link).text)\n",
    "\n",
    "print(ans)"
   ],
   "metadata": {
    "collapsed": false,
    "pycharm": {
     "name": "#%%\n",
     "is_executing": true
    }
   }
  },
  {
   "cell_type": "code",
   "execution_count": 11,
   "outputs": [
    {
     "name": "stdout",
     "output_type": "stream",
     "text": [
      "6\n"
     ]
    }
   ],
   "source": [
    "# C ПОЛНОЕ РЕШЕНИЕ\n",
    "from requests import get\n",
    "\n",
    "\n",
    "# vibo: получаем от пользователя адрес\n",
    "link = f'http://{input()}'\n",
    "# vibo: запрашиваем у сервера данные (ответ в json по условию)\n",
    "data = get(link).json()\n",
    "\n",
    "# data = [1, 2, \"ошибка\", 3]\n",
    "# data = [7, 3, [\"ошибка\"], -5, 2]\n",
    "\n",
    "print(sum([x for x in data if type(x) == int]))"
   ],
   "metadata": {
    "collapsed": false,
    "pycharm": {
     "name": "#%%\n"
    }
   }
  },
  {
   "cell_type": "code",
   "execution_count": 16,
   "outputs": [
    {
     "name": "stdout",
     "output_type": "stream",
     "text": [
      "No data\n"
     ]
    }
   ],
   "source": [
    "# # D ПОЛНОЕ РЕШЕНИЕ\n",
    "# from requests import get\n",
    "#\n",
    "#\n",
    "# link = f'http://{input()}'\n",
    "# key_name = input()\n",
    "#\n",
    "# data = get(link).json()\n",
    "#\n",
    "# # data = {\"first\": \"1\", \"second\": \"2\"}\n",
    "# # data = {\"first\": \"1\", \"third\": \"3\"}\n",
    "#\n",
    "# try:\n",
    "#     print(data[key_name])\n",
    "# except KeyError:\n",
    "#     print(\"No data\")"
   ],
   "metadata": {
    "collapsed": false,
    "pycharm": {
     "name": "#%%\n"
    }
   }
  },
  {
   "cell_type": "code",
   "execution_count": null,
   "outputs": [],
   "source": [
    "# D ПОЛНОЕ РЕШЕНИЕ\n",
    "# vibo: проще без try/except\n",
    "from requests import get\n",
    "\n",
    "\n",
    "link = f'http://{input()}'\n",
    "key_name = input()\n",
    "\n",
    "response = get(link).json()\n",
    "\n",
    "print(response.get(key_name, 'No data'))"
   ],
   "metadata": {
    "collapsed": false,
    "pycharm": {
     "name": "#%%\n"
    }
   }
  },
  {
   "cell_type": "code",
   "execution_count": null,
   "outputs": [],
   "source": [
    "# # E ПОЛНОЕ РЕШЕНИЕ\n",
    "# from sys import stdin\n",
    "# from requests import get\n",
    "#\n",
    "#\n",
    "# link = f\"http://{input()}\"\n",
    "# ans = 0\n",
    "# for line in stdin:\n",
    "#     # vibo: rstrip(\"\\n\") - убираем символ переноса на новую строку\n",
    "#     way = line.rstrip(\"\\n\")\n",
    "#     ans += sum(get(f'{link}{way}').json())\n",
    "#\n",
    "# print(ans)"
   ],
   "metadata": {
    "collapsed": false,
    "pycharm": {
     "name": "#%%\n",
     "is_executing": true
    }
   }
  },
  {
   "cell_type": "code",
   "execution_count": null,
   "outputs": [],
   "source": [
    "# E ПОЛНОЕ РЕШЕНИЕ\n",
    "# vibo: можно заменить stdin на stdin.read().splitlines()\n",
    "# vibo: тогда не нужно отрезать \\n\n",
    "\n",
    "from sys import stdin\n",
    "from requests import get\n",
    "\n",
    "\n",
    "link = f\"http://{input()}\"\n",
    "ans = 0\n",
    "for way in stdin.read().splitlines():\n",
    "    ans += sum(get(link + way).json())\n",
    "\n",
    "print(ans)"
   ],
   "metadata": {
    "collapsed": false,
    "pycharm": {
     "name": "#%%\n"
    }
   }
  }
 ],
 "metadata": {
  "kernelspec": {
   "display_name": "Python 3 (ipykernel)",
   "language": "python",
   "name": "python3"
  },
  "language_info": {
   "codemirror_mode": {
    "name": "ipython",
    "version": 3
   },
   "file_extension": ".py",
   "mimetype": "text/x-python",
   "name": "python",
   "nbconvert_exporter": "python",
   "pygments_lexer": "ipython3",
   "version": "3.9.9"
  }
 },
 "nbformat": 4,
 "nbformat_minor": 1
}