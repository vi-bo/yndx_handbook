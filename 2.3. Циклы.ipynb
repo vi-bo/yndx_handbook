{
 "cells": [
  {
   "cell_type": "markdown",
   "metadata": {
    "pycharm": {
     "name": "#%% md\n"
    }
   },
   "source": [
    "# 2. Базовые конструкции Python"
   ]
  },
  {
   "cell_type": "markdown",
   "source": [
    "## 2.3. Циклы"
   ],
   "metadata": {
    "collapsed": false,
    "pycharm": {
     "name": "#%% md\n"
    }
   }
  },
  {
   "cell_type": "markdown",
   "source": [
    "### Теория"
   ],
   "metadata": {
    "collapsed": false,
    "pycharm": {
     "name": "#%% md\n"
    }
   }
  },
  {
   "cell_type": "code",
   "execution_count": 20,
   "outputs": [
    {
     "name": "stdout",
     "output_type": "stream",
     "text": [
      "Пароль верный. Вход разрешён.\n",
      "Пароль верный. Вход разрешён.\n"
     ]
    }
   ],
   "source": [
    "# vibo: стандартно\n",
    "saved_pwd = \"right_password\"\n",
    "pwd = input(\"Введите пароль для входа: \")\n",
    "while pwd != saved_pwd:\n",
    "    pwd = input(\"Введите пароль для входа: \")\n",
    "print(\"Пароль верный. Вход разрешён.\")\n",
    "\n",
    "# vibo: использование pass\n",
    "saved_pwd = \"right_password\"\n",
    "while input(\"Введите пароль для входа: \") != saved_pwd:\n",
    "    pass\n",
    "print(\"Пароль верный. Вход разрешён.\")"
   ],
   "metadata": {
    "collapsed": false,
    "pycharm": {
     "name": "#%%\n"
    }
   }
  },
  {
   "cell_type": "code",
   "execution_count": null,
   "outputs": [],
   "source": [
    "# vibo: стандартно\n",
    "name = input(\"Введите имя: \")\n",
    "while name != \"СТОП\":\n",
    "    print(f\"Привет, {name}!\")\n",
    "    name = input(\"Введите имя: \")\n",
    "print(\"Программа завершена.\")\n",
    "\n",
    "# vibo: МОРЖОВЫЙ ОПЕРАТОР\n",
    "while (name := input(\"Введите имя: \")) != \"СТОП\":\n",
    "    print(f\"Привет, {name}!\")\n",
    "print(\"Программа завершена.\")"
   ],
   "metadata": {
    "collapsed": false,
    "pycharm": {
     "name": "#%%\n"
    }
   }
  },
  {
   "cell_type": "code",
   "execution_count": null,
   "outputs": [],
   "source": [
    "n = int(input(\"Введите количество чисел: \"))\n",
    "for i in range(n):\n",
    "    print(i)\n",
    "\n",
    "k = int(input(\"Введите начало диапазона: \"))\n",
    "n = int(input(\"Введите конец (без включения) диапазона: \"))\n",
    "for i in range(k, n):\n",
    "    print(i)\n",
    "\n",
    "n = int(input(\"Введите конец диапазона: \"))\n",
    "for i in range(0, n + 1, 2):\n",
    "    print(i)"
   ],
   "metadata": {
    "collapsed": false,
    "pycharm": {
     "name": "#%%\n"
    }
   }
  },
  {
   "cell_type": "code",
   "execution_count": null,
   "outputs": [],
   "source": [
    "# vibo: ОБРАТНЫЙ ПОРЯДОК\n",
    "n = int(input(\"Введите количество чисел: \"))\n",
    "for i in range(n, -1, -1):\n",
    "    print(i)"
   ],
   "metadata": {
    "collapsed": false,
    "pycharm": {
     "name": "#%%\n"
    }
   }
  },
  {
   "cell_type": "markdown",
   "source": [
    "\n",
    "### Практика 18/20"
   ],
   "metadata": {
    "collapsed": false,
    "pycharm": {
     "name": "#%% md\n"
    }
   }
  },
  {
   "cell_type": "code",
   "execution_count": null,
   "outputs": [],
   "source": [
    "# A Полное решение\n",
    "while (say_text := input()) != \"Три!\":\n",
    "    print(f\"Режим ожидания...\")\n",
    "print(\"Ёлочка, гори!\")"
   ],
   "metadata": {
    "collapsed": false,
    "pycharm": {
     "name": "#%%\n"
    }
   }
  },
  {
   "cell_type": "code",
   "execution_count": null,
   "outputs": [],
   "source": [
    "# B Полное решение\n",
    "find_item = 0\n",
    "while (input_string := input()) != \"Приехали!\":\n",
    "    if 'зайка' in input_string:\n",
    "        find_item += 1\n",
    "print(find_item)"
   ],
   "metadata": {
    "collapsed": false,
    "pycharm": {
     "name": "#%%\n"
    }
   }
  },
  {
   "cell_type": "code",
   "execution_count": null,
   "outputs": [],
   "source": [
    "# C Полное решение\n",
    "# vibo: делаем join list, но только для str (для int не работает)\n",
    "answer = []\n",
    "start, finish = int(input()), int(input())\n",
    "for i in range(start, finish + 1):\n",
    "    answer.append(str(i))\n",
    "print(' '.join(answer))"
   ],
   "metadata": {
    "collapsed": false,
    "pycharm": {
     "name": "#%%\n"
    }
   }
  },
  {
   "cell_type": "code",
   "execution_count": null,
   "outputs": [],
   "source": [
    "# D Полное решение\n",
    "answer = []\n",
    "start, finish = int(input()), int(input())\n",
    "\n",
    "if start <= finish:\n",
    "    for i in range(start, finish + 1):\n",
    "        answer.append(str(i))\n",
    "\n",
    "if start > finish:\n",
    "    for i in range(start, finish - 1, -1):\n",
    "        answer.append(str(i))\n",
    "\n",
    "print(' '.join(answer))"
   ],
   "metadata": {
    "collapsed": false,
    "pycharm": {
     "name": "#%%\n"
    }
   }
  },
  {
   "cell_type": "code",
   "execution_count": null,
   "outputs": [],
   "source": [
    "# E Полное решение\n",
    "total_price = 0\n",
    "while (price := float(input())) != 0:\n",
    "    if price >= 500:\n",
    "        total_price += price * 0.9\n",
    "    if price < 500:\n",
    "        total_price += price\n",
    "print(total_price)"
   ],
   "metadata": {
    "collapsed": false,
    "pycharm": {
     "name": "#%%\n"
    }
   }
  },
  {
   "cell_type": "code",
   "execution_count": null,
   "outputs": [],
   "source": [
    "# F\n",
    "# vibo: наибольший общий делитель (НОД) алгоритм Евклида\n",
    "# ЧИТЕРНУЛ, НО КРАСИВО\n",
    "\n",
    "# a, b = int(input()), int(input())\n",
    "# while a != 0 and b != 0:\n",
    "#     if a > b:\n",
    "#         a = a % b\n",
    "#     else:\n",
    "#         b = b % a\n",
    "# print(a + b)"
   ],
   "metadata": {
    "collapsed": false,
    "pycharm": {
     "name": "#%%\n"
    }
   }
  },
  {
   "cell_type": "code",
   "execution_count": null,
   "outputs": [],
   "source": [
    "# F Полное решение\n",
    "# vibo: наибольший общий делитель (НОД) алгоритм Евклида\n",
    "# vibo: мое решение в лоб\n",
    "\n",
    "a, b = int(input()), int(input())\n",
    "\n",
    "list_a = []\n",
    "for i in range(a + 1):\n",
    "    if a % (i + 1) == 0:\n",
    "        list_a.append(i + 1)\n",
    "\n",
    "list_b = []\n",
    "for i in range(b + 1):\n",
    "    if b % (i + 1) == 0:\n",
    "        list_b.append(i + 1)\n",
    "\n",
    "ans = (sorted(list(set(list_a) & set(list_b)), reverse=True))[0]\n",
    "print(ans)"
   ],
   "metadata": {
    "collapsed": false,
    "pycharm": {
     "name": "#%%\n"
    }
   }
  },
  {
   "cell_type": "code",
   "execution_count": null,
   "outputs": [],
   "source": [
    "# G Полное решение\n",
    "# vibo: наименьшее общее кратное (НОК) двух чисел\n",
    "a, b = int(input()), int(input())\n",
    "\n",
    "list = []\n",
    "if a > b:\n",
    "    for i in range(a, (a * b + 1)):\n",
    "        if i % a == 0 and i % b == 0:\n",
    "            list.append(i)\n",
    "if a < b:\n",
    "    for i in range(b, (a * b + 1)):\n",
    "        if i % a == 0 and i % b == 0:\n",
    "            list.append(i)\n",
    "\n",
    "print(list[0])"
   ],
   "metadata": {
    "collapsed": false,
    "pycharm": {
     "name": "#%%\n"
    }
   }
  },
  {
   "cell_type": "code",
   "execution_count": null,
   "outputs": [],
   "source": [
    "# H Полное решение\n",
    "input_str, n = input(), int(input())\n",
    "for i in range(n):\n",
    "    print(input_str)"
   ],
   "metadata": {
    "collapsed": false,
    "pycharm": {
     "name": "#%%\n"
    }
   }
  },
  {
   "cell_type": "code",
   "execution_count": null,
   "outputs": [],
   "source": [
    "# I Полное решение\n",
    "import math as m\n",
    "n = int(input())\n",
    "if n > 0:\n",
    "    ans = m.factorial(n)\n",
    "else:\n",
    "    ans = 1\n",
    "print(ans)"
   ],
   "metadata": {
    "collapsed": false,
    "pycharm": {
     "name": "#%%\n"
    }
   }
  },
  {
   "cell_type": "code",
   "execution_count": null,
   "outputs": [],
   "source": [
    "# J Полное решение\n",
    "input_list = []\n",
    "while (input_info := input()) != 'СТОП':\n",
    "    input_list.append(input_info)\n",
    "print(input_list)\n",
    "\n",
    "x = 0\n",
    "y = 0\n",
    "\n",
    "input_direct = []\n",
    "for i in range(0, len(input_list), 2):\n",
    "    input_direct.append(input_list[i])\n",
    "print(input_direct)\n",
    "\n",
    "input_dist = []\n",
    "for i in range(1, len(input_list), 2):\n",
    "    input_dist.append(int(input_list[i]))\n",
    "print(input_dist)\n",
    "\n",
    "for i, j in zip(input_direct, input_dist):\n",
    "    print(i, j)\n",
    "    if i == 'ВОСТОК':\n",
    "        x = x + j\n",
    "    if i == 'ЗАПАД':\n",
    "        x = x - j\n",
    "    if i == 'СЕВЕР':\n",
    "        y = y + j\n",
    "    if i == 'ЮГ':\n",
    "        y = y - j\n",
    "\n",
    "# # vibo: так чекер не принял, что странно\n",
    "# print(x)\n",
    "# print(y)\n",
    "print(y)\n",
    "print(x)"
   ],
   "metadata": {
    "collapsed": false,
    "pycharm": {
     "name": "#%%\n"
    }
   }
  },
  {
   "cell_type": "code",
   "execution_count": null,
   "outputs": [],
   "source": [
    "# K Полное решение\n",
    "input_num = int(input())\n",
    "ans = input_num % 10\n",
    "while (input_num // 10) > 0:\n",
    "    input_num = input_num // 10\n",
    "    ans = ans + (input_num % 10)\n",
    "print(ans)"
   ],
   "metadata": {
    "collapsed": false,
    "pycharm": {
     "name": "#%%\n"
    }
   }
  },
  {
   "cell_type": "code",
   "execution_count": null,
   "outputs": [],
   "source": [
    "# L Полное решение\n",
    "input_num = int(input())\n",
    "ans = [input_num % 10]\n",
    "while (input_num // 10) > 0:\n",
    "    input_num = input_num // 10\n",
    "    ans.append(input_num % 10)\n",
    "print(max(ans))"
   ],
   "metadata": {
    "collapsed": false,
    "pycharm": {
     "name": "#%%\n"
    }
   }
  },
  {
   "cell_type": "code",
   "execution_count": null,
   "outputs": [],
   "source": [
    "# M Полное решение\n",
    "players = int(input())\n",
    "name_list = []\n",
    "for i in range(players):\n",
    "    name = input()\n",
    "    name_list.append(name)\n",
    "print(min(name_list))"
   ],
   "metadata": {
    "collapsed": false,
    "pycharm": {
     "name": "#%%\n"
    }
   }
  },
  {
   "cell_type": "code",
   "execution_count": null,
   "outputs": [],
   "source": [
    "# N\n",
    "# vibo: простые числа\n",
    "# vibo: вариант 1.\n",
    "# TLE на ТЕСТЕ-8\n",
    "\n",
    "# n = int(input())\n",
    "\n",
    "# if n == 1:\n",
    "#     print(\"NO\")\n",
    "\n",
    "# if n == 2:\n",
    "#     print('YES')\n",
    "\n",
    "# if n % 2 == 0 and n != 2:\n",
    "#     print('NO')\n",
    "\n",
    "# elif n not in [1, 2]:\n",
    "#     some_ans = range(3, n + 1, 2)\n",
    "\n",
    "#     my_list = []\n",
    "\n",
    "#     for i in range(len(some_ans)):\n",
    "#         if n % some_ans[i] == 0:\n",
    "#             my_list.append(some_ans[i])\n",
    "\n",
    "#     if len(my_list) > 1:\n",
    "#         print('NO')\n",
    "#     else:\n",
    "#         print('YES')"
   ],
   "metadata": {
    "collapsed": false,
    "pycharm": {
     "name": "#%%\n"
    }
   }
  },
  {
   "cell_type": "code",
   "execution_count": null,
   "outputs": [],
   "source": [
    "# N\n",
    "# vibo: простые числа\n",
    "# vibo: вариант 2\n",
    "# TLE на ТЕСТЕ-8\n",
    "\n",
    "# n = int(input())\n",
    "\n",
    "# if n == 1:\n",
    "#     print(\"NO\")\n",
    "\n",
    "# if n == 2:\n",
    "#     print('YES')\n",
    "\n",
    "# if n % 2 == 0 and n != 2:\n",
    "#     print('NO')\n",
    "\n",
    "# elif n not in [1, 2]:\n",
    "#     some_ans = range(3, n + 1, 2)\n",
    "\n",
    "#     my_list = []\n",
    "\n",
    "#     for i in some_ans:\n",
    "#         if n % i == 0:\n",
    "#             my_list.append(i)\n",
    "\n",
    "#     if len(my_list) > 1:\n",
    "#         print('NO')\n",
    "#     else:\n",
    "#         print('YES')"
   ],
   "metadata": {
    "collapsed": false,
    "pycharm": {
     "name": "#%%\n"
    }
   }
  },
  {
   "cell_type": "code",
   "execution_count": null,
   "outputs": [],
   "source": [
    "# N\n",
    "# vibo: простые числа\n",
    "# vibo: вариант 3\n",
    "# WA на тесте-12\n",
    "\n",
    "# n = int(input())\n",
    "\n",
    "# if n == 1:\n",
    "#     print(\"NO\")\n",
    "\n",
    "# if n == 2:\n",
    "#     print('YES')\n",
    "\n",
    "# if n == 3:\n",
    "#     print('YES')\n",
    "\n",
    "# if (n % 2 == 0 and n != 2) or (n % 5 == 0 and n != 5):\n",
    "#     print('NO')\n",
    "\n",
    "# else:\n",
    "#     some_ans = range(3, n + 1, 2)\n",
    "\n",
    "#     for i in some_ans[:-1]:\n",
    "#         if n % i == 0:\n",
    "#             print(f'NO')\n",
    "#             break\n",
    "#         else:\n",
    "#             print('YES')\n",
    "#             break"
   ],
   "metadata": {
    "collapsed": false,
    "pycharm": {
     "name": "#%%\n"
    }
   }
  },
  {
   "cell_type": "code",
   "execution_count": null,
   "outputs": [],
   "source": [
    "# N\n",
    "# vibo: простые числа\n",
    "# вариант 4\n",
    "# ML на тесте-10\n",
    "\n",
    "# n = int(input())\n",
    "\n",
    "# if n == 1:\n",
    "#     print('NO-1')\n",
    "\n",
    "# elif n >= 2:\n",
    "#     # nums_2 = range(2, n, 2)\n",
    "#     # print(list(nums_2))\n",
    "#     if n == 2:\n",
    "#         print('YES')\n",
    "#     if n % 2 == 0 and n != 2:\n",
    "#         print('NO-2')\n",
    "\n",
    "#     elif n >= 3:\n",
    "#         print('>=3')\n",
    "#         if n == 3:\n",
    "#             print('YES')\n",
    "#         if n % 3 == 0 and n != 3:\n",
    "#             print('NO-3')\n",
    "\n",
    "#         elif n >= 5:\n",
    "#             print('>=5')\n",
    "#             if n == 5:\n",
    "#                 print('YES')\n",
    "#             if n % 5 == 0 and n != 5:\n",
    "#                 print('NO-5')\n",
    "\n",
    "#             elif n >= 7:\n",
    "#                 print('>=7')\n",
    "#                 if n == 7:\n",
    "#                     print('YES')\n",
    "#                 else:\n",
    "#                     nums = set(range(2, n + 1)) - set(range(2, n + 1, 2)) - set(range(3, n + 1, 3)) - set(range(5, n + 1, 5))\n",
    "#                     print(nums)\n",
    "#                     for i in nums:\n",
    "#                         print(f'i: {i}, n: {n} (перед if)')\n",
    "#                         if n % i == 0 and i != n:\n",
    "#                             print(f'i: {i}, n: {n}')\n",
    "#                             print('NO-*')\n",
    "#                             break\n",
    "#                         elif i == n:\n",
    "#                             print(f'i: {i}, n: {n}')\n",
    "#                             print('YES-*')\n",
    "#                             break"
   ],
   "metadata": {
    "collapsed": false,
    "pycharm": {
     "name": "#%%\n"
    }
   }
  },
  {
   "cell_type": "code",
   "execution_count": null,
   "outputs": [],
   "source": [
    "# N\n",
    "# vibo: простые числа\n",
    "# вариант-5\n",
    "\n",
    "# n = int(input())\n",
    "\n",
    "# import sympy\n",
    "\n",
    "# if sympy.isprime(n):\n",
    "#     print('YES')\n",
    "# else:\n",
    "#     print('NO')"
   ],
   "metadata": {
    "collapsed": false,
    "pycharm": {
     "name": "#%%\n"
    }
   }
  },
  {
   "cell_type": "code",
   "execution_count": null,
   "outputs": [],
   "source": [
    "# N\n",
    "# vibo: простые числа\n",
    "# вариант 6 (доработаный чит)\n",
    "# TLE на тесте - 3\n",
    "\n",
    "# n = int(input())\n",
    "\n",
    "# if n == 1:\n",
    "#     print('NO')\n",
    "\n",
    "# elif n > 1:\n",
    "\n",
    "#     lst = [2]\n",
    "\n",
    "#     for i in range(3, n + 1, 2):\n",
    "#         if (i > 10) and (i % 10 == 5):\n",
    "#             continue\n",
    "#         for j in lst:\n",
    "#             if j * j - 1 > i:\n",
    "#                 lst.append(i)\n",
    "#                 break\n",
    "#             if (i % j == 0):\n",
    "#                 break\n",
    "#         else:\n",
    "#             lst.append(i)\n",
    "\n",
    "#     if n == lst[-1]:\n",
    "#         print('YES')\n",
    "#     else:\n",
    "#         print('NO')"
   ],
   "metadata": {
    "collapsed": false,
    "pycharm": {
     "name": "#%%\n"
    }
   }
  },
  {
   "cell_type": "code",
   "execution_count": 12,
   "outputs": [
    {
     "name": "stdout",
     "output_type": "stream",
     "text": [
      "NO-(2 or 3 or 5)\n"
     ]
    }
   ],
   "source": [
    "# N\n",
    "# vibo: простые числа\n",
    "# итого + комменты (всего 60 сабмитов и готово)\n",
    "\n",
    "n = int(input())\n",
    "\n",
    "if n == 1:\n",
    "    print(\"NO-1\")\n",
    "\n",
    "elif n == 2 or n == 3:\n",
    "    print('YES-(2 or 3)')\n",
    "\n",
    "elif (n % 2 == 0 and n != 2) or (n % 3 == 0 and n != 3) or (n % 5 == 0 and n != 5):\n",
    "    print('NO-(2 or 3 or 5)')\n",
    "\n",
    "else:\n",
    "    nums = range(3, n + 1, 2)\n",
    "    print(f'list(nums): {list(nums)}')\n",
    "\n",
    "    for i in nums[:-1]:\n",
    "        print(f'list(nums[:-1]): {list(nums[:-1])}')\n",
    "        print(f'ПЕРЕД if n: {n}, i: {i}')\n",
    "\n",
    "        if n % i == 0:\n",
    "            print(f'n: {n}, i: {i}')\n",
    "            flag = False\n",
    "            break\n",
    "        else:\n",
    "            flag = True\n",
    "    if flag:\n",
    "        print('YES-**')\n",
    "    else:\n",
    "        print('NO-**')"
   ],
   "metadata": {
    "collapsed": false,
    "pycharm": {
     "name": "#%%\n"
    }
   }
  },
  {
   "cell_type": "code",
   "execution_count": null,
   "outputs": [],
   "source": [
    "# N Полное решение\n",
    "# vibo: простые числа\n",
    "# vibo: итого без коммитов\n",
    "\n",
    "n = int(input())\n",
    "\n",
    "if n == 1:\n",
    "    print(\"NO\")\n",
    "\n",
    "elif n == 2 or n == 3:\n",
    "    print('YES')\n",
    "\n",
    "elif (n % 2 == 0 and n != 2) or (n % 3 == 0 and n != 3) or (n % 5 == 0 and n != 5):\n",
    "    print('NO')\n",
    "\n",
    "else:\n",
    "    nums = range(3, n + 1, 2)\n",
    "\n",
    "    for i in nums[:-1]:\n",
    "\n",
    "        if n % i == 0:\n",
    "            flag = False\n",
    "            break\n",
    "        else:\n",
    "            flag = True\n",
    "    if flag:\n",
    "        print('YES')\n",
    "    else:\n",
    "        print('NO')"
   ],
   "metadata": {
    "collapsed": false,
    "pycharm": {
     "name": "#%%\n"
    }
   }
  },
  {
   "cell_type": "code",
   "execution_count": null,
   "outputs": [],
   "source": [
    "# O Полное решение\n",
    "count_strings = int(input())\n",
    "\n",
    "ans = 0\n",
    "for i in range(count_strings):\n",
    "    string = input()\n",
    "    if 'зайка' in string:\n",
    "        ans += 1\n",
    "\n",
    "print(ans)"
   ],
   "metadata": {
    "collapsed": false,
    "pycharm": {
     "name": "#%%\n"
    }
   }
  },
  {
   "cell_type": "code",
   "execution_count": null,
   "outputs": [],
   "source": [
    "# P Полное решение\n",
    "\n",
    "input_num = list(input())\n",
    "\n",
    "if input_num == input_num[::-1]:\n",
    "    print('YES')\n",
    "else:\n",
    "    print('NO')"
   ],
   "metadata": {
    "collapsed": false,
    "pycharm": {
     "name": "#%%\n"
    }
   }
  },
  {
   "cell_type": "code",
   "execution_count": null,
   "outputs": [],
   "source": [
    "# Q Полное решение\n",
    "input_num = list(input())\n",
    "\n",
    "output_list = []\n",
    "for i in input_num:\n",
    "    if int(i) not in range(0, int(i) + 1, 2):\n",
    "        output_list.append(i)\n",
    "\n",
    "print(''.join(output_list))"
   ],
   "metadata": {
    "collapsed": false,
    "pycharm": {
     "name": "#%%\n"
    }
   }
  },
  {
   "cell_type": "code",
   "execution_count": null,
   "outputs": [],
   "source": [
    "# R Полное решение\n",
    "find_sum = int(input())\n",
    "\n",
    "#vibo: чит для поиска списка простых чисел, спасибо хабр\n",
    "prime_list = [2]\n",
    "for i in range(3, find_sum // 2 + 1, 2):\n",
    "    if (i > 10) and (i % 10 == 5):\n",
    "        continue\n",
    "    for j in prime_list:\n",
    "        if j * j - 1 > 1:\n",
    "            prime_list.append(i)\n",
    "            break\n",
    "        if i % j == 0:\n",
    "            break\n",
    "    else:\n",
    "        prime_list.append(i)\n",
    "\n",
    "ans_lst = []\n",
    "for k in prime_list:\n",
    "    n_k = 0\n",
    "    while (find_sum % k) == 0:\n",
    "        find_sum = find_sum // k\n",
    "        n_k += 1\n",
    "        ans_lst.append(k)\n",
    "\n",
    "print(' * '.join(map(str, ans_lst)))"
   ],
   "metadata": {
    "collapsed": false,
    "pycharm": {
     "name": "#%%\n"
    }
   }
  },
  {
   "cell_type": "code",
   "execution_count": null,
   "outputs": [],
   "source": [
    "# S НЕВЕРНОЕ РЕШЕНИЕ\n",
    "# vibo: WA на тесте-20\n",
    "a = 1\n",
    "b = 1000\n",
    "ans = 500\n",
    "print(ans)\n",
    "\n",
    "while (result := input()) != 'Угадал!':\n",
    "\n",
    "    if result == 'Меньше':\n",
    "        # print(f'a_текущая: {a}, b_текущая: {b}')\n",
    "        b = ans\n",
    "        # print(f'a_текущая: {a}, b_новая: {b}')\n",
    "        ans = ans - round((b - a) / 2, 0)\n",
    "        print(int(ans))\n",
    "    if result == 'Больше':\n",
    "        # print(f'a_текущая: {a}, b_текущая: {b}')\n",
    "        a = ans\n",
    "        # print(f'a_новая: {a}; b_текущая: {b}')\n",
    "        ans = ans + round((b - a) / 2, 0)\n",
    "        print(int(ans))"
   ],
   "metadata": {
    "collapsed": false,
    "pycharm": {
     "name": "#%%\n"
    }
   }
  },
  {
   "cell_type": "code",
   "execution_count": null,
   "outputs": [],
   "source": [
    "# T НЕ РЕШЕНО\n",
    "# vibo: биткойн\n",
    "\n",
    "# h = 0\n",
    "\n",
    "# count_blocks = int(input())\n",
    "\n",
    "# bitcoin = []\n",
    "\n",
    "# for i in range(count_blocks):\n",
    "#     block = int(input())\n",
    "#     bitcoin.append(block)\n",
    "\n",
    "#     h = 37 * (m + r + h)\n",
    "#     b = h + r * 256 + m * 256 ** 2\n",
    "\n",
    "# print(bitcoin)"
   ],
   "metadata": {
    "collapsed": false,
    "pycharm": {
     "name": "#%%\n"
    }
   }
  }
 ],
 "metadata": {
  "kernelspec": {
   "display_name": "Python 3.9.9 ('venv-vsc': venv)",
   "language": "python",
   "name": "python3"
  },
  "language_info": {
   "codemirror_mode": {
    "name": "ipython",
    "version": 3
   },
   "file_extension": ".py",
   "mimetype": "text/x-python",
   "name": "python",
   "nbconvert_exporter": "python",
   "pygments_lexer": "ipython3",
   "version": "3.9.9"
  },
  "orig_nbformat": 4,
  "vscode": {
   "interpreter": {
    "hash": "43807f5c999ff1bc99c26ab56886fdb0eb1ab623df40ddad9a297a39d65cf47c"
   }
  }
 },
 "nbformat": 4,
 "nbformat_minor": 2
}