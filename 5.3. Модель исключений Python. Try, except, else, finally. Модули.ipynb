{
 "cells": [
  {
   "cell_type": "markdown",
   "source": [
    "\n",
    "# 5. Объектно ориентированное программирование"
   ],
   "metadata": {
    "collapsed": false,
    "pycharm": {
     "name": "#%% md\n"
    }
   }
  },
  {
   "cell_type": "markdown",
   "source": [
    "## 5.3. Модель исключений Python. Try, except, else, finally. Модули"
   ],
   "metadata": {
    "collapsed": false,
    "pycharm": {
     "name": "#%% md\n"
    }
   }
  },
  {
   "cell_type": "markdown",
   "source": [
    "### Теория"
   ],
   "metadata": {
    "collapsed": false,
    "pycharm": {
     "name": "#%% md\n"
    }
   }
  },
  {
   "cell_type": "markdown",
   "source": [
    "#### division by zero\n"
   ],
   "metadata": {
    "collapsed": false,
    "pycharm": {
     "name": "#%% md\n"
    }
   }
  },
  {
   "cell_type": "code",
   "execution_count": 5,
   "outputs": [
    {
     "ename": "ZeroDivisionError",
     "evalue": "division by zero",
     "output_type": "error",
     "traceback": [
      "\u001B[0;31m---------------------------------------------------------------------------\u001B[0m",
      "\u001B[0;31mZeroDivisionError\u001B[0m                         Traceback (most recent call last)",
      "Input \u001B[0;32mIn [5]\u001B[0m, in \u001B[0;36m<cell line: 2>\u001B[0;34m()\u001B[0m\n\u001B[1;32m      1\u001B[0m \u001B[38;5;66;03m# vibo: считаем обратные значения для целых чисел из заданного диапазона\u001B[39;00m\n\u001B[0;32m----> 2\u001B[0m \u001B[38;5;28mprint\u001B[39m(\u001B[38;5;124;43m\"\u001B[39;49m\u001B[38;5;124;43m;\u001B[39;49m\u001B[38;5;124;43m\"\u001B[39;49m\u001B[38;5;241;43m.\u001B[39;49m\u001B[43mjoin\u001B[49m\u001B[43m(\u001B[49m\u001B[38;5;28;43mstr\u001B[39;49m\u001B[43m(\u001B[49m\u001B[38;5;241;43m1\u001B[39;49m\u001B[43m \u001B[49m\u001B[38;5;241;43m/\u001B[39;49m\u001B[43m \u001B[49m\u001B[43mx\u001B[49m\u001B[43m)\u001B[49m\u001B[43m \u001B[49m\u001B[38;5;28;43;01mfor\u001B[39;49;00m\u001B[43m \u001B[49m\u001B[43mx\u001B[49m\u001B[43m \u001B[49m\u001B[38;5;129;43;01min\u001B[39;49;00m\u001B[43m \u001B[49m\u001B[38;5;28;43mrange\u001B[39;49m\u001B[43m(\u001B[49m\u001B[38;5;28;43mint\u001B[39;49m\u001B[43m(\u001B[49m\u001B[38;5;28;43minput\u001B[39;49m\u001B[43m(\u001B[49m\u001B[43m)\u001B[49m\u001B[43m)\u001B[49m\u001B[43m,\u001B[49m\u001B[43m \u001B[49m\u001B[38;5;28;43mint\u001B[39;49m\u001B[43m(\u001B[49m\u001B[38;5;28;43minput\u001B[39;49m\u001B[43m(\u001B[49m\u001B[43m)\u001B[49m\u001B[43m)\u001B[49m\u001B[43m \u001B[49m\u001B[38;5;241;43m+\u001B[39;49m\u001B[43m \u001B[49m\u001B[38;5;241;43m1\u001B[39;49m\u001B[43m)\u001B[49m\u001B[43m)\u001B[49m)\n",
      "Input \u001B[0;32mIn [5]\u001B[0m, in \u001B[0;36m<genexpr>\u001B[0;34m(.0)\u001B[0m\n\u001B[1;32m      1\u001B[0m \u001B[38;5;66;03m# vibo: считаем обратные значения для целых чисел из заданного диапазона\u001B[39;00m\n\u001B[0;32m----> 2\u001B[0m \u001B[38;5;28mprint\u001B[39m(\u001B[38;5;124m\"\u001B[39m\u001B[38;5;124m;\u001B[39m\u001B[38;5;124m\"\u001B[39m\u001B[38;5;241m.\u001B[39mjoin(\u001B[38;5;28mstr\u001B[39m(\u001B[38;5;241;43m1\u001B[39;49m\u001B[43m \u001B[49m\u001B[38;5;241;43m/\u001B[39;49m\u001B[43m \u001B[49m\u001B[43mx\u001B[49m) \u001B[38;5;28;01mfor\u001B[39;00m x \u001B[38;5;129;01min\u001B[39;00m \u001B[38;5;28mrange\u001B[39m(\u001B[38;5;28mint\u001B[39m(\u001B[38;5;28minput\u001B[39m()), \u001B[38;5;28mint\u001B[39m(\u001B[38;5;28minput\u001B[39m()) \u001B[38;5;241m+\u001B[39m \u001B[38;5;241m1\u001B[39m)))\n",
      "\u001B[0;31mZeroDivisionError\u001B[0m: division by zero"
     ]
    }
   ],
   "source": [
    "# vibo: считаем обратные значения для целых чисел из заданного диапазона\n",
    "print(\";\".join(str(1 / x) for x in range(int(input()), int(input()) + 1)))\n",
    "# для 1 5\n",
    "#       1/1; 1/2; 1/3; 1/4; 1/5\n",
    "# для -1 1\n",
    "#       division by zero"
   ],
   "metadata": {
    "collapsed": false,
    "pycharm": {
     "name": "#%%\n"
    }
   }
  },
  {
   "cell_type": "markdown",
   "source": [
    "**Исключение** - ошибка, возникающая при выполнении программы и останавливающая её работу."
   ],
   "metadata": {
    "collapsed": false,
    "pycharm": {
     "name": "#%% md\n"
    }
   }
  },
  {
   "cell_type": "code",
   "execution_count": 9,
   "outputs": [
    {
     "name": "stdout",
     "output_type": "stream",
     "text": [
      "Диапазон чисел содержит 0.\n"
     ]
    }
   ],
   "source": [
    "# vibo: добавляем проверку на ноль перед списочным выражением\n",
    "interval = range(int(input()), int(input()) + 1)\n",
    "if 0 in interval:\n",
    "    print(\"Диапазон чисел содержит 0.\")\n",
    "else:\n",
    "    print(\";\".join(str(1 / x) for x in interval))"
   ],
   "metadata": {
    "collapsed": false,
    "pycharm": {
     "name": "#%%\n"
    }
   }
  },
  {
   "cell_type": "markdown",
   "source": [
    "#### ValueError"
   ],
   "metadata": {
    "collapsed": false,
    "pycharm": {
     "name": "#%% md\n"
    }
   }
  },
  {
   "cell_type": "code",
   "execution_count": 10,
   "outputs": [
    {
     "ename": "ValueError",
     "evalue": "invalid literal for int() with base 10: 'a'",
     "output_type": "error",
     "traceback": [
      "\u001B[0;31m---------------------------------------------------------------------------\u001B[0m",
      "\u001B[0;31mValueError\u001B[0m                                Traceback (most recent call last)",
      "Input \u001B[0;32mIn [10]\u001B[0m, in \u001B[0;36m<cell line: 2>\u001B[0;34m()\u001B[0m\n\u001B[1;32m      1\u001B[0m \u001B[38;5;66;03m# vibo: если на вход прийдет 'a'\u001B[39;00m\n\u001B[0;32m----> 2\u001B[0m interval \u001B[38;5;241m=\u001B[39m \u001B[38;5;28mrange\u001B[39m(\u001B[38;5;28;43mint\u001B[39;49m\u001B[43m(\u001B[49m\u001B[38;5;28;43minput\u001B[39;49m\u001B[43m(\u001B[49m\u001B[43m)\u001B[49m\u001B[43m)\u001B[49m, \u001B[38;5;28mint\u001B[39m(\u001B[38;5;28minput\u001B[39m()) \u001B[38;5;241m+\u001B[39m \u001B[38;5;241m1\u001B[39m)\n\u001B[1;32m      3\u001B[0m \u001B[38;5;28;01mif\u001B[39;00m \u001B[38;5;241m0\u001B[39m \u001B[38;5;129;01min\u001B[39;00m interval:\n\u001B[1;32m      4\u001B[0m     \u001B[38;5;28mprint\u001B[39m(\u001B[38;5;124m\"\u001B[39m\u001B[38;5;124mДиапазон чисел содержит 0.\u001B[39m\u001B[38;5;124m\"\u001B[39m)\n",
      "\u001B[0;31mValueError\u001B[0m: invalid literal for int() with base 10: 'a'"
     ]
    }
   ],
   "source": [
    "# vibo: если на вход прийдет 'a'\n",
    "interval = range(int(input()), int(input()) + 1)\n",
    "if 0 in interval:\n",
    "    print(\"Диапазон чисел содержит 0.\")\n",
    "else:\n",
    "    print(\";\".join(str(1 / x) for x in interval))"
   ],
   "metadata": {
    "collapsed": false,
    "pycharm": {
     "name": "#%%\n"
    }
   }
  },
  {
   "cell_type": "code",
   "execution_count": 12,
   "outputs": [
    {
     "name": "stdout",
     "output_type": "stream",
     "text": [
      "Необходимо ввести два числа.\n"
     ]
    }
   ],
   "source": [
    "# vibo: решение - проверка на входе на цифры\n",
    "start = input()\n",
    "end = input()\n",
    "# Метод lstrip(\"-\"), удаляющий символы \"-\" в начале строки, нужен для учёта\n",
    "# отрицательных чисел, иначе isdigit() вернёт для них False\n",
    "if not (start.lstrip(\"-\").isdigit() and end.lstrip(\"-\").isdigit()):\n",
    "    print(\"Необходимо ввести два числа.\")\n",
    "else:\n",
    "    interval = range(int(start), int(end) + 1)\n",
    "    if 0 in interval:\n",
    "        print(\"Диапазон чисел содержит 0.\")\n",
    "    else:\n",
    "        print(\";\".join(str(1 / x) for x in interval))"
   ],
   "metadata": {
    "collapsed": false,
    "pycharm": {
     "name": "#%%\n"
    }
   }
  },
  {
   "cell_type": "markdown",
   "source": [
    "#### LBYL & EAFP"
   ],
   "metadata": {
    "collapsed": false,
    "pycharm": {
     "name": "#%% md\n"
    }
   }
  },
  {
   "cell_type": "markdown",
   "source": [
    "Рассмотренный выше подход называется - **\"Look Before You Leap\" (LBYL)**, или \"посмотри перед прыжком\". В программе, реализующей такой подход, проверяются возможные условия возникновения ошибок до исполнения основного кода. Подход имеет недостатки - сложнее читать код, длинное решение."
   ],
   "metadata": {
    "collapsed": false,
    "pycharm": {
     "name": "#%% md\n"
    }
   }
  },
  {
   "cell_type": "markdown",
   "source": [
    "Другой подход для работы с ошибками: **\"Easier to Ask Forgiveness than Permission\" (EAFP)** или \"проще извиниться, чем спрашивать разрешение\". В этом подходе сначала исполняется код, а в случае возникновения ошибок происходит их обработка. Подход EAFP реализован в Python в виде обработки исключений."
   ],
   "metadata": {
    "collapsed": false,
    "pycharm": {
     "name": "#%% md\n"
    }
   }
  },
  {
   "cell_type": "markdown",
   "source": [
    "Исключения в Python являются классами ошибок. В Python есть много стандартных исключений. Они имеют определённую иерархию за счёт механизма наследования классов. В документации Python версии 3.10.8 приводится следующее дерево иерархии стандартных исключений:"
   ],
   "metadata": {
    "collapsed": false,
    "pycharm": {
     "name": "#%% md\n"
    }
   }
  },
  {
   "cell_type": "markdown",
   "source": [
    "'''\n",
    "BaseException\n",
    " +-- SystemExit\n",
    " +-- KeyboardInterrupt\n",
    " +-- GeneratorExit\n",
    " +-- Exception\n",
    "      +-- StopIteration\n",
    "      +-- StopAsyncIteration\n",
    "      +-- ArithmeticError\n",
    "      |    +-- FloatingPointError\n",
    "      |    +-- OverflowError\n",
    "      |    +-- ZeroDivisionError\n",
    "      +-- AssertionError\n",
    "      +-- AttributeError\n",
    "      +-- BufferError\n",
    "      +-- EOFError\n",
    "      +-- ImportError\n",
    "      |    +-- ModuleNotFoundError\n",
    "      +-- LookupError\n",
    "      |    +-- IndexError\n",
    "      |    +-- KeyError\n",
    "      +-- MemoryError\n",
    "      +-- NameError\n",
    "      |    +-- UnboundLocalError\n",
    "      +-- OSError\n",
    "      |    +-- BlockingIOError\n",
    "      |    +-- ChildProcessError\n",
    "      |    +-- ConnectionError\n",
    "      |    |    +-- BrokenPipeError\n",
    "      |    |    +-- ConnectionAbortedError\n",
    "      |    |    +-- ConnectionRefusedError\n",
    "      |    |    +-- ConnectionResetError\n",
    "      |    +-- FileExistsError\n",
    "      |    +-- FileNotFoundError\n",
    "      |    +-- InterruptedError\n",
    "      |    +-- IsADirectoryError\n",
    "      |    +-- NotADirectoryError\n",
    "      |    +-- PermissionError\n",
    "      |    +-- ProcessLookupError\n",
    "      |    +-- TimeoutError\n",
    "      +-- ReferenceError\n",
    "      +-- RuntimeError\n",
    "      |    +-- NotImplementedError\n",
    "      |    +-- RecursionError\n",
    "      +-- SyntaxError\n",
    "      |    +-- IndentationError\n",
    "      |         +-- TabError\n",
    "      +-- SystemError\n",
    "      +-- TypeError\n",
    "      +-- ValueError\n",
    "      |    +-- UnicodeError\n",
    "      |         +-- UnicodeDecodeError\n",
    "      |         +-- UnicodeEncodeError\n",
    "      |         +-- UnicodeTranslateError\n",
    "      +-- Warning\n",
    "           +-- DeprecationWarning\n",
    "           +-- PendingDeprecationWarning\n",
    "           +-- RuntimeWarning\n",
    "           +-- SyntaxWarning\n",
    "           +-- UserWarning\n",
    "           +-- FutureWarning\n",
    "           +-- ImportWarning\n",
    "           +-- UnicodeWarning\n",
    "           +-- BytesWarning\n",
    "           +-- EncodingWarning\n",
    "           +-- ResourceWarning\n",
    "'''"
   ],
   "metadata": {
    "collapsed": false,
    "pycharm": {
     "name": "#%% md\n"
    }
   }
  },
  {
   "cell_type": "markdown",
   "source": [
    "#### Синтаксис обработки исключения в Python"
   ],
   "metadata": {
    "collapsed": false,
    "pycharm": {
     "name": "#%% md\n"
    }
   }
  },
  {
   "cell_type": "markdown",
   "source": [
    "'''\n",
    "try:\n",
    "    <код , который может вызвать исключения при выполнении>\n",
    "except <класс_исключения_1>:\n",
    "    <код обработки исключения>\n",
    "except <класс_исключения_2>:\n",
    "    <код обработки исключения>\n",
    "...\n",
    "else:\n",
    "    <код выполняется, если не вызвано исключение в блоке try>\n",
    "finally:\n",
    "    <код , который выполняется всегда>\n",
    "'''"
   ],
   "metadata": {
    "collapsed": false,
    "pycharm": {
     "name": "#%% md\n"
    }
   }
  },
  {
   "cell_type": "markdown",
   "source": [
    "**Необходимо учитывать иерархию исключений для определения порядка их обработки в блоках except.**"
   ],
   "metadata": {
    "collapsed": false,
    "pycharm": {
     "name": "#%% md\n"
    }
   }
  },
  {
   "cell_type": "markdown",
   "source": [
    "**Начинать обработку исключений следует с более узких классов исключений.**"
   ],
   "metadata": {
    "collapsed": false,
    "pycharm": {
     "name": "#%% md\n"
    }
   }
  },
  {
   "cell_type": "code",
   "execution_count": 14,
   "outputs": [
    {
     "name": "stdout",
     "output_type": "stream",
     "text": [
      "Невозможно преобразовать строку в число.\n"
     ]
    }
   ],
   "source": [
    "# vibo: пример 1.\n",
    "try:\n",
    "    print(1 / int(input()))\n",
    "except ZeroDivisionError:\n",
    "    print(\"Ошибка деления на ноль.\")\n",
    "except ValueError:\n",
    "    print(\"Невозможно преобразовать строку в число.\")\n",
    "except Exception:\n",
    "    print(\"Неизвестная ошибка.\")"
   ],
   "metadata": {
    "collapsed": false,
    "pycharm": {
     "name": "#%%\n"
    }
   }
  },
  {
   "cell_type": "code",
   "execution_count": 15,
   "outputs": [
    {
     "name": "stdout",
     "output_type": "stream",
     "text": [
      "Неизвестная ошибка.\n"
     ]
    }
   ],
   "source": [
    "# vibo: плохой пример\n",
    "try:\n",
    "    print(1 / int(input()))\n",
    "except Exception:\n",
    "    print(\"Неизвестная ошибка.\")\n",
    "except ZeroDivisionError:\n",
    "    print(\"Ошибка деления на ноль.\")\n",
    "except ValueError:\n",
    "    print(\"Невозможно преобразовать строку в число.\")"
   ],
   "metadata": {
    "collapsed": false,
    "pycharm": {
     "name": "#%%\n"
    }
   }
  },
  {
   "cell_type": "code",
   "execution_count": 16,
   "outputs": [
    {
     "name": "stdout",
     "output_type": "stream",
     "text": [
      "0.2\n",
      "Операция выполнена успешно.\n"
     ]
    }
   ],
   "source": [
    "# vibo: необязательный блок else выполняет код в случае, если в блоке try не вызвано исключение\n",
    "try:\n",
    "    print(1 / int(input()))\n",
    "except ZeroDivisionError:\n",
    "    print(\"Ошибка деления на ноль.\")\n",
    "except ValueError:\n",
    "    print(\"Невозможно преобразовать строку в число.\")\n",
    "except Exception:\n",
    "    print(\"Неизвестная ошибка.\")\n",
    "else:\n",
    "    print(\"Операция выполнена успешно.\")"
   ],
   "metadata": {
    "collapsed": false,
    "pycharm": {
     "name": "#%%\n"
    }
   }
  },
  {
   "cell_type": "code",
   "execution_count": 17,
   "outputs": [
    {
     "name": "stdout",
     "output_type": "stream",
     "text": [
      "0.2\n",
      "Операция выполнена успешно.\n",
      "Программа завершена.\n"
     ]
    }
   ],
   "source": [
    "# vibo: блок finally выполняется всегда\n",
    "try:\n",
    "    print(1 / int(input()))\n",
    "except ZeroDivisionError:\n",
    "    print(\"Ошибка деления на ноль.\")\n",
    "except ValueError:\n",
    "    print(\"Невозможно преобразовать строку в число.\")\n",
    "except Exception:\n",
    "    print(\"Неизвестная ошибка.\")\n",
    "else:\n",
    "    print(\"Операция выполнена успешно.\")\n",
    "finally:\n",
    "    print(\"Программа завершена.\")"
   ],
   "metadata": {
    "collapsed": false,
    "pycharm": {
     "name": "#%%\n"
    }
   }
  },
  {
   "cell_type": "markdown",
   "source": [
    "#### Два примера"
   ],
   "metadata": {
    "collapsed": false,
    "pycharm": {
     "name": "#%% md\n"
    }
   }
  },
  {
   "cell_type": "markdown",
   "source": [
    " Код, с подходом LBYL (“Look Before You Leap”, или “посмотри перед прыжком”)"
   ],
   "metadata": {
    "collapsed": false,
    "pycharm": {
     "name": "#%% md\n"
    }
   }
  },
  {
   "cell_type": "code",
   "execution_count": null,
   "outputs": [],
   "source": [
    "start = input()\n",
    "end = input()\n",
    "# Метод lstrip(\"-\"), удаляющий символы \"-\" в начале строки, нужен для учёта\n",
    "# отрицательных чисел, иначе isdigit() вернёт для них False\n",
    "if not (start.lstrip(\"-\").isdigit() and end.lstrip(\"-\").isdigit()):\n",
    "    print(\"Необходимо ввести два числа.\")\n",
    "else:\n",
    "    interval = range(int(start), int(end) + 1)\n",
    "    if 0 in interval:\n",
    "        print(\"Диапазон чисел содержит 0.\")\n",
    "    else:\n",
    "        print(\";\".join(str(1 / x) for x in interval))"
   ],
   "metadata": {
    "collapsed": false,
    "pycharm": {
     "name": "#%%\n"
    }
   }
  },
  {
   "cell_type": "markdown",
   "source": [
    "Код с подходом EAFP (\"Easier to Ask Forgiveness than Permission” или “проще извиниться, чем спрашивать разрешение”)"
   ],
   "metadata": {
    "collapsed": false,
    "pycharm": {
     "name": "#%% md\n"
    }
   }
  },
  {
   "cell_type": "code",
   "execution_count": null,
   "outputs": [],
   "source": [
    "try:\n",
    "    print(\";\".join(str(1 / x) for x in range(int(input()), int(input()) + 1)))\n",
    "except ZeroDivisionError:\n",
    "    print(\"Диапазон чисел содержит 0.\")\n",
    "except ValueError:\n",
    "    print(\"Необходимо ввести два числа.\")"
   ],
   "metadata": {
    "collapsed": false,
    "pycharm": {
     "name": "#%%\n"
    }
   }
  },
  {
   "cell_type": "markdown",
   "source": [
    "#### Синтаксис raise"
   ],
   "metadata": {
    "collapsed": false,
    "pycharm": {
     "name": "#%% md\n"
    }
   }
  },
  {
   "cell_type": "markdown",
   "source": [
    "Исключения можно принудительно вызывать с помощью оператора raise. Этот оператор имеет следующий синтаксис"
   ],
   "metadata": {
    "collapsed": false,
    "pycharm": {
     "name": "#%% md\n"
    }
   }
  },
  {
   "cell_type": "markdown",
   "source": [
    "'''\n",
    "raise <класс исключения>(параметры)\n",
    "'''"
   ],
   "metadata": {
    "collapsed": false,
    "pycharm": {
     "name": "#%% md\n"
    }
   }
  },
  {
   "cell_type": "markdown",
   "source": [
    "#### __main___"
   ],
   "metadata": {
    "collapsed": false,
    "pycharm": {
     "name": "#%% md\n"
    }
   }
  },
  {
   "cell_type": "markdown",
   "source": [
    "**В Python можно создавать свои собственные исключения.**"
   ],
   "metadata": {
    "collapsed": false,
    "pycharm": {
     "name": "#%% md\n"
    }
   }
  },
  {
   "cell_type": "code",
   "execution_count": null,
   "outputs": [],
   "source": [
    "# vibo: считаем сумму списка целых чисел, и вызываем исключение, если в списке чисел есть хотя бы одно чётное или отрицательное число\n",
    "\n",
    "# vibo: базовый класс исключения\n",
    "class NumbersError(Exception):\n",
    "    pass\n",
    "\n",
    "\n",
    "# vibo: исключение, которое вызывается при наличии хотя бы одного чётного числа\n",
    "class EvenError(NumbersError):\n",
    "    pass\n",
    "\n",
    "\n",
    "# vibo: исключение, которое вызывается при наличии хотя бы одного отрицательного числа\n",
    "class NegativeError(NumbersError):\n",
    "    pass\n",
    "\n",
    "\n",
    "def no_even(numbers):\n",
    "    if all(x % 2 != 0 for x in numbers):\n",
    "        return True\n",
    "    raise EvenError(\"В списке не должно быть чётных чисел\")\n",
    "\n",
    "\n",
    "def no_negative(numbers):\n",
    "    if all(x >= 0 for x in numbers):\n",
    "        return True\n",
    "    raise NegativeError(\"В списке не должно быть отрицательных чисел\")\n",
    "\n",
    "\n",
    "# vibo: основной код программы здесь\n",
    "def main():\n",
    "    print(\"Введите числа в одну строку через пробел:\")\n",
    "    try:\n",
    "        numbers = [int(x) for x in input().split()]\n",
    "        if no_negative(numbers) and no_even(numbers):\n",
    "            print(f\"Сумма чисел равна: {sum(numbers)}.\")\n",
    "    except NumbersError as e:  # обращение к исключению как к объекту\n",
    "        print(f\"Произошла ошибка: {e}.\")\n",
    "    except Exception as e:\n",
    "        print(f\"Произошла непредвиденная ошибка: {e}.\")\n",
    "\n",
    "\n",
    "# vibo: условие проверяет, запущен ли файл как самостоятельная программа или импортирован как модуль\n",
    "# vibo: БЕЗ ЭТОГО УСЛОВИЯ ПРИ ВЫЗОВЕ ИЗ ДРУГОЙ ПРОГРАММЫ ПРОИЗОЙДЕТ ПОЛНОЦЕННЫЙ ЗАПУСК\n",
    "# vibo: С УСЛОВИЕМ МОЖНО ИСПОЛЬЗОВАТЬ ОТДЕЛЬНЫЕ МЕТОДЫ БЕЗ ЗАПУСКА ВСЕЙ ПРОГРАММЫ\n",
    "if __name__ == \"__main__\":\n",
    "    main()"
   ],
   "metadata": {
    "collapsed": false,
    "pycharm": {
     "name": "#%%\n"
    }
   }
  },
  {
   "cell_type": "markdown",
   "source": [
    "**Любая программа, написанная на языке программирования Python может быть импортирована как модуль в другую программу. В идеологии Python импортировать модуль – значит полностью его выполнить.**"
   ],
   "metadata": {
    "collapsed": false,
    "pycharm": {
     "name": "#%% md\n"
    }
   }
  },
  {
   "cell_type": "markdown",
   "source": [
    " Если основной код модуля содержит вызовы функций, ввод или вывод данных без использования указанного условия `__name__ == \"__main__\"`, то произойдёт полноценный запуск программы. А это не всегда удобно, если из модуля нужна только отдельная функция или какой-либо класс."
   ],
   "metadata": {
    "collapsed": false,
    "pycharm": {
     "name": "#%% md\n"
    }
   }
  },
  {
   "cell_type": "markdown",
   "source": [
    "#### Импорт модуля"
   ],
   "metadata": {
    "collapsed": false,
    "pycharm": {
     "name": "#%% md\n"
    }
   }
  },
  {
   "cell_type": "markdown",
   "source": [
    "Для импорта модуля из файла, например `example_module.py`, нужно указать его имя, если он находится в той же папке, что и импортирующая его программа:"
   ],
   "metadata": {
    "collapsed": false,
    "pycharm": {
     "name": "#%% md\n"
    }
   }
  },
  {
   "cell_type": "markdown",
   "source": [
    "import example_module"
   ],
   "metadata": {
    "collapsed": false,
    "pycharm": {
     "name": "#%% md\n"
    }
   }
  },
  {
   "cell_type": "markdown",
   "source": [
    "Если требуется отдельный компонент модуля, например функция или класс, то импорт можно осуществить так:"
   ],
   "metadata": {
    "collapsed": false,
    "pycharm": {
     "name": "#%% md\n"
    }
   }
  },
  {
   "cell_type": "markdown",
   "source": [
    "from example_module import some_function, ExampleClass"
   ],
   "metadata": {
    "collapsed": false,
    "pycharm": {
     "name": "#%% md\n"
    }
   }
  },
  {
   "cell_type": "markdown",
   "source": [
    "### Практика /10"
   ],
   "metadata": {
    "collapsed": false,
    "pycharm": {
     "name": "#%% md\n"
    }
   }
  },
  {
   "cell_type": "code",
   "execution_count": 3,
   "outputs": [
    {
     "name": "stdout",
     "output_type": "stream",
     "text": [
      "TypeError\n"
     ]
    }
   ],
   "source": [
    "# A ПОЛНОЕ РЕШЕНИЕ\n",
    "\n",
    "# vibo: Пример 1.\n",
    "def func():\n",
    "    x = int('Hello, world!')\n",
    "\n",
    "# vibo: Пример 2.\n",
    "def func():\n",
    "    x = '2' + 2\n",
    "\n",
    "try:\n",
    "    func()\n",
    "except ValueError:\n",
    "    print('ValueError')\n",
    "except TypeError:\n",
    "    print('TypeError')\n",
    "except SystemError:\n",
    "    print('SystemError')\n",
    "else:\n",
    "    print('No Exceptions')\n"
   ],
   "metadata": {
    "collapsed": false,
    "pycharm": {
     "name": "#%%\n"
    }
   }
  },
  {
   "cell_type": "code",
   "execution_count": 49,
   "outputs": [
    {
     "name": "stdout",
     "output_type": "stream",
     "text": [
      "Ура! Ошибка!\n"
     ]
    }
   ],
   "source": [
    "# B ПОЛНОЕ РЕШЕНИЕ\n",
    "# vibo: Ломать — не строить\n",
    "#\n",
    "# # vibo: Пример 1.\n",
    "# def func(a, b):\n",
    "#     return a + b\n",
    "\n",
    "# vibo: Пример 2.\n",
    "def func(a, b):\n",
    "    return a * b\n",
    "\n",
    "try:\n",
    "    func(None, None)\n",
    "except Exception:\n",
    "    print('Ура! Ошибка!')"
   ],
   "metadata": {
    "collapsed": false,
    "pycharm": {
     "name": "#%%\n"
    }
   }
  },
  {
   "cell_type": "code",
   "execution_count": 20,
   "outputs": [
    {
     "name": "stdout",
     "output_type": "stream",
     "text": [
      "Ура! Ошибка!\n"
     ]
    }
   ],
   "source": [
    "# C НЕВЕРНОЕ РЕШЕНИЕ\n",
    "\n",
    "# # vibo: Пример 1.\n",
    "# def func(a, b, c):\n",
    "#     return ''.join(map(str, (a, b, c)))\n",
    "\n",
    "# vibo: Пример 2.\n",
    "def func(a, b):\n",
    "    return set(a) ^ set(b)\n",
    "\n",
    "try:\n",
    "    func()\n",
    "    raise Exception(\"Ура! Ошибка!\")\n",
    "except Exception as e:\n",
    "    print(\"Ура! Ошибка!\")\n"
   ],
   "metadata": {
    "collapsed": false,
    "pycharm": {
     "name": "#%%\n"
    }
   }
  },
  {
   "cell_type": "code",
   "execution_count": 102,
   "outputs": [
    {
     "ename": "ValueError",
     "evalue": "Вызвано исключение ValueError",
     "output_type": "error",
     "traceback": [
      "\u001B[0;31m---------------------------------------------------------------------------\u001B[0m",
      "\u001B[0;31mValueError\u001B[0m                                Traceback (most recent call last)",
      "Input \u001B[0;32mIn [102]\u001B[0m, in \u001B[0;36m<cell line: 14>\u001B[0;34m()\u001B[0m\n\u001B[1;32m      7\u001B[0m     \u001B[38;5;28;01mreturn\u001B[39;00m a \u001B[38;5;241m+\u001B[39m b\n\u001B[1;32m     10\u001B[0m \u001B[38;5;66;03m# # vibo: Пример 1.\u001B[39;00m\n\u001B[1;32m     11\u001B[0m \u001B[38;5;66;03m# print(only_positive_even_sum(\"3\", 2.5))\u001B[39;00m\n\u001B[1;32m     12\u001B[0m \n\u001B[1;32m     13\u001B[0m \u001B[38;5;66;03m# vibo: Пример 2.\u001B[39;00m\n\u001B[0;32m---> 14\u001B[0m \u001B[38;5;28mprint\u001B[39m(\u001B[43monly_positive_even_sum\u001B[49m\u001B[43m(\u001B[49m\u001B[38;5;241;43m-\u001B[39;49m\u001B[38;5;241;43m5\u001B[39;49m\u001B[43m,\u001B[49m\u001B[43m \u001B[49m\u001B[38;5;241;43m4\u001B[39;49m\u001B[43m)\u001B[49m)\n",
      "Input \u001B[0;32mIn [102]\u001B[0m, in \u001B[0;36monly_positive_even_sum\u001B[0;34m(a, b)\u001B[0m\n\u001B[1;32m      2\u001B[0m \u001B[38;5;28;01mdef\u001B[39;00m \u001B[38;5;21monly_positive_even_sum\u001B[39m(a, b):\n\u001B[1;32m      3\u001B[0m     \u001B[38;5;28;01mif\u001B[39;00m (\u001B[38;5;28mint\u001B[39m(a) \u001B[38;5;129;01mor\u001B[39;00m \u001B[38;5;28mint\u001B[39m(b)) \u001B[38;5;241m<\u001B[39m \u001B[38;5;241m0\u001B[39m:\n\u001B[0;32m----> 4\u001B[0m         \u001B[38;5;28;01mraise\u001B[39;00m \u001B[38;5;167;01mValueError\u001B[39;00m(\u001B[38;5;124m'\u001B[39m\u001B[38;5;124mВызвано исключение ValueError\u001B[39m\u001B[38;5;124m'\u001B[39m)\n\u001B[1;32m      5\u001B[0m     \u001B[38;5;28;01mif\u001B[39;00m (\u001B[38;5;28mint\u001B[39m(a) \u001B[38;5;241m!=\u001B[39m a) \u001B[38;5;129;01mor\u001B[39;00m (\u001B[38;5;28mint\u001B[39m(b) \u001B[38;5;241m!=\u001B[39m b):\n\u001B[1;32m      6\u001B[0m         \u001B[38;5;28;01mraise\u001B[39;00m \u001B[38;5;167;01mTypeError\u001B[39;00m(\u001B[38;5;124m'\u001B[39m\u001B[38;5;124mВызвано исключение TypeError\u001B[39m\u001B[38;5;124m'\u001B[39m)\n",
      "\u001B[0;31mValueError\u001B[0m: Вызвано исключение ValueError"
     ]
    }
   ],
   "source": [
    "# D НЕВЕРНОЕ РЕШЕНИЕ\n",
    "# vibo: WA на тесте-21\n",
    "def only_positive_even_sum(a, b):\n",
    "    if a < 0 or b < 0:\n",
    "        raise ValueError('Вызвано исключение ValueError')\n",
    "    if (int(a) != a) or (int(b) != b):\n",
    "        raise TypeError('Вызвано исключение TypeError')\n",
    "    if (a % 2 > 0) or (b % 2 > 0):\n",
    "        raise ValueError('Вызвано исключение ValueError')\n",
    "    return a + b\n",
    "\n",
    "\n",
    "# # vibo: Пример 1.\n",
    "# print(only_positive_even_sum(\"3\", 2.5))\n",
    "\n",
    "# vibo: Пример 2.\n",
    "print(only_positive_even_sum(-5, 4))"
   ],
   "metadata": {
    "collapsed": false,
    "pycharm": {
     "name": "#%%\n"
    }
   }
  },
  {
   "cell_type": "code",
   "execution_count": null,
   "outputs": [],
   "source": [
    "# E\n",
    "\n",
    "# vibo: Пример 1.\n",
    "\n",
    "# vibo: Пример 2."
   ],
   "metadata": {
    "collapsed": false,
    "pycharm": {
     "name": "#%%\n"
    }
   }
  },
  {
   "cell_type": "code",
   "execution_count": null,
   "outputs": [],
   "source": [
    "# F\n",
    "\n",
    "# vibo: Пример 1.\n",
    "\n",
    "# vibo: Пример 2."
   ],
   "metadata": {
    "collapsed": false,
    "pycharm": {
     "name": "#%%\n"
    }
   }
  },
  {
   "cell_type": "code",
   "execution_count": 184,
   "outputs": [
    {
     "name": "stdout",
     "output_type": "stream",
     "text": [
      "Вызвано исключение CyrillicError\n",
      "Вызвано исключение CapitalError\n"
     ]
    }
   ],
   "source": [
    "# G ПОЛНОЕ РЕШЕНИЕ\n",
    "# class UserNameError(Exception):\n",
    "#     pass\n",
    "#\n",
    "#\n",
    "# # vibo: вызывается, если значение не состоит только из кириллических букв\n",
    "# class CyrillicError(UserNameError):\n",
    "#     pass\n",
    "#\n",
    "#\n",
    "# # vibo: вызывается, если значение не начинается с заглавной буквы или\n",
    "# # найдена заглавная буква не в начале значения\n",
    "# class CapitalError(UserNameError):\n",
    "#     pass\n",
    "#\n",
    "#\n",
    "# # vibo: проверка на кириллицу\n",
    "# def no_cyrillic(user_name):\n",
    "#     not_kirill = ('abcdefghijklmnopqrstuvwxyz')\n",
    "#     if len([x for x in not_kirill if x in user_name.lower()]) == 0:\n",
    "#         return True\n",
    "#     raise CyrillicError('Вызвано исключение CyrillicError')\n",
    "#\n",
    "#\n",
    "# # vibo: проверка на первую заглавную букву\n",
    "# # vibo: проверка на отсутствие заглавной буквы в середине\n",
    "# def no_capital(user_name):\n",
    "#     if user_name[0].istitle() and all([x.istitle() is not True for x in list(user_name)[1:]]):\n",
    "#         return True\n",
    "#     raise CapitalError('Вызвано исключение CapitalError')\n",
    "#\n",
    "#\n",
    "# def name_validation(user_name):\n",
    "#     try:\n",
    "#         if type(user_name) != str:\n",
    "#             raise TypeError('Вызвано исключение TypeError')\n",
    "#         if no_cyrillic(user_name) and no_capital(user_name):\n",
    "#             return user_name\n",
    "#     except UserNameError as e:\n",
    "#         # print(f'{e}')\n",
    "#         return f'{e}' # vibo: иначе ответ с None\n",
    "#\n",
    "#\n",
    "# # vibo: Пример 1.\n",
    "# print(name_validation('user'))\n",
    "#\n",
    "# # vibo: Пример 2.\n",
    "# print(name_validation(\"иванов\"))"
   ],
   "metadata": {
    "collapsed": false,
    "pycharm": {
     "name": "#%%\n"
    }
   }
  },
  {
   "cell_type": "code",
   "execution_count": 161,
   "outputs": [
    {
     "name": "stdout",
     "output_type": "stream",
     "text": [
      "Вызвано исключение CyrillicError\n",
      "Вызвано исключение CapitalError\n"
     ]
    }
   ],
   "source": [
    "# G ПОЛНОЕ РЕШЕНИЕ Заново\n",
    "# vibo: валидация пользовательского ввода\n",
    "\n",
    "# vibo: создаем свой класс ошибки1\n",
    "# vibo: унаследуем его от типового Exception\n",
    "class CyrillicError(Exception):\n",
    "    pass\n",
    "\n",
    "\n",
    "# vibo: создаем свой класс ошибки2\n",
    "# vibo: унаследуем его от типового Exception\n",
    "class CapitalError(Exception):\n",
    "    pass\n",
    "\n",
    "\n",
    "# vibo: определяем, что переданный параметр - строка\n",
    "def no_str(user_name):\n",
    "    if type(user_name) == str:\n",
    "        return True\n",
    "    # vibo: если нет - вызываем исключение\n",
    "    raise TypeError('TypeError')\n",
    "\n",
    "\n",
    "# vibo: нужна только кириллица\n",
    "def only_cirill(user_name):\n",
    "    cirill = 'ёйцукенгшщзхъэждлорпавыфячсмитьбю'\n",
    "    # if len([x for x in user_name.lower() if x not in cirill]) == 0:\n",
    "    \"\"\"\n",
    "    Функция all() в Python, все элементы True\n",
    "    \"\"\"\n",
    "    if all([x in cirill for x in user_name.lower()]):\n",
    "        return True\n",
    "    raise CyrillicError('CyrillicError')\n",
    "\n",
    "\n",
    "# vibo: параметр должен начинаться с заглавной буквы,\n",
    "# в середине заглавных букв не должно быть\n",
    "def find_capital(user_name):\n",
    "    if user_name[0].isupper() and all([x.islower() for x in user_name[1:]]):\n",
    "        return True\n",
    "    raise CapitalError('CapitalError')\n",
    "\n",
    "\n",
    "# vibo: основная функция, которую запускаем\n",
    "def name_validation(user_name):\n",
    "    try:\n",
    "        # vibo: если все условия выполняются, возвращаем параметр\n",
    "        if no_str(user_name) and only_cirill(user_name) and find_capital(user_name):\n",
    "            return user_name\n",
    "    # vibo: обрабатываем исключения\n",
    "    except TypeError as e:\n",
    "        return f'Вызвано исключение {e}'\n",
    "    except CyrillicError as e:\n",
    "        return f'Вызвано исключение {e}'\n",
    "    except CapitalError as e:\n",
    "        return f'Вызвано исключение {e}'\n",
    "\n",
    "\n",
    "# vibo: Пример 1.\n",
    "print(name_validation('user'))\n",
    "\n",
    "# vibo: Пример 2.\n",
    "print(name_validation(\"иванов\"))"
   ],
   "metadata": {
    "collapsed": false,
    "pycharm": {
     "name": "#%%\n"
    }
   }
  },
  {
   "cell_type": "code",
   "execution_count": 120,
   "outputs": [
    {
     "name": "stdout",
     "output_type": "stream",
     "text": [
      "Вызвано исключение BadCharacterError\n",
      "Вызвано исключение StartsWithDigitError\n"
     ]
    }
   ],
   "source": [
    "# H ПОЛНОЕ РЕШЕНИЕ\n",
    "# vibo: валидация пользовательского ввода-2\n",
    "\n",
    "# vibo: создаем свой класс ошибки1\n",
    "# vibo: унаследуем его от типового Exception\n",
    "class BadCharacterError(Exception):\n",
    "    pass\n",
    "\n",
    "\n",
    "# vibo: создаем свой класс ошибки2\n",
    "# vibo: унаследуем его от типового Exception\n",
    "class StartsWithDigitError(Exception):\n",
    "    pass\n",
    "\n",
    "\n",
    "# vibo: определяем, что переданный параметр - строка\n",
    "def no_str(user_name):\n",
    "    if type(user_name) == str:\n",
    "        return True\n",
    "    # vibo: если нет - вызываем исключение\n",
    "    raise TypeError('TypeError')\n",
    "\n",
    "\n",
    "# vibo: нужна только латиница, цифры и _\n",
    "def only_eng(user_name):\n",
    "    eng = 'qwertyuiopasdfghjklzxcvbnm1234567890_'\n",
    "    # if len([x for x in user_name.lower() if x not in cirill]) == 0:\n",
    "    \"\"\"\n",
    "    Функция all() в Python, все элементы True\n",
    "    \"\"\"\n",
    "    if all([x in eng for x in user_name.lower()]):\n",
    "        return True\n",
    "    raise BadCharacterError('BadCharacterError')\n",
    "\n",
    "\n",
    "# vibo: параметр не должен начинаться с цифр\n",
    "def find_digit(user_name):\n",
    "    if user_name[0].isalpha():\n",
    "        return True\n",
    "    raise StartsWithDigitError('StartsWithDigitError')\n",
    "\n",
    "\n",
    "# vibo: основная функция, которую запускаем\n",
    "def username_validation(user_name):\n",
    "    try:\n",
    "        # vibo: если все условия выполняются, возвращаем параметр\n",
    "        if no_str(user_name) and only_eng(user_name) and find_digit(user_name):\n",
    "            return user_name\n",
    "    # vibo: обрабатываем исключения\n",
    "    except TypeError as e:\n",
    "        return f'Вызвано исключение {e}'\n",
    "    except BadCharacterError as e:\n",
    "        return f'Вызвано исключение {e}'\n",
    "    except StartsWithDigitError as e:\n",
    "        return f'Вызвано исключение {e}'\n",
    "\n",
    "# vibo: Пример 1.\n",
    "print(username_validation(\"$user_45$\"))\n",
    "\n",
    "# vibo: Пример 2.\n",
    "print(username_validation(\"45_user\"))"
   ],
   "metadata": {
    "collapsed": false,
    "pycharm": {
     "name": "#%%\n"
    }
   }
  },
  {
   "cell_type": "code",
   "execution_count": 5,
   "outputs": [
    {
     "name": "stdout",
     "output_type": "stream",
     "text": [
      "{'last_name': 'Иванов', 'first_name': 'Иван', 'username': 'ivanych45'}\n",
      "Вызвано исключение KeyError\n"
     ]
    }
   ],
   "source": [
    "# I ПОЛНОЕ РЕШЕНИЕ\n",
    "# vibo: валидация пользовательского ввода-3\n",
    "\n",
    "# vibo: унаследуем его от типового Exception\n",
    "class CyrillicError(Exception):\n",
    "    pass\n",
    "\n",
    "\n",
    "# vibo: унаследуем его от типового Exception\n",
    "class CapitalError(Exception):\n",
    "    pass\n",
    "\n",
    "\n",
    "# vibo: унаследуем его от типового Exception\n",
    "class BadCharacterError(Exception):\n",
    "    pass\n",
    "\n",
    "\n",
    "# vibo: унаследуем его от типового Exception\n",
    "class StartsWithDigitError(Exception):\n",
    "    pass\n",
    "\n",
    "\n",
    "# vibo: унаследуем его от типового Exception\n",
    "#vibo: без этого класса ответ выводился с кавычками (Вызвано исключение 'KeyError')\n",
    "# чекер этот ответ не принимал\n",
    "class KeyError(Exception):\n",
    "    pass\n",
    "\n",
    "\n",
    "# vibo: определяем, что переданный параметр - строка\n",
    "def no_str(user_name):\n",
    "    if type(user_name) == str:\n",
    "        return True\n",
    "    # vibo: если нет - вызываем исключение\n",
    "    raise TypeError('TypeError')\n",
    "\n",
    "\n",
    "# vibo: нужна только кириллица\n",
    "def only_cirill(user_name):\n",
    "    cirill = 'ёйцукенгшщзхъэждлорпавыфячсмитьбю'\n",
    "    # if len([x for x in user_name.lower() if x not in cirill]) == 0:\n",
    "    \"\"\"\n",
    "    Функция all() в Python, все элементы True\n",
    "    \"\"\"\n",
    "    if all([x in cirill for x in user_name.lower()]):\n",
    "        return True\n",
    "    raise CyrillicError('CyrillicError')\n",
    "\n",
    "\n",
    "# vibo: параметр должен начинаться с заглавной буквы,\n",
    "# в середине заглавных букв не должно быть\n",
    "def find_capital(user_name):\n",
    "    if user_name[0].isupper() and all([x.islower() for x in user_name[1:]]):\n",
    "        return True\n",
    "    raise CapitalError('CapitalError')\n",
    "\n",
    "\n",
    "# vibo: нужна только латиница, цифры и _\n",
    "def only_eng(user_name):\n",
    "    eng = 'qwertyuiopasdfghjklzxcvbnm1234567890_'\n",
    "    # if len([x for x in user_name.lower() if x not in cirill]) == 0:\n",
    "    \"\"\"\n",
    "    Функция all() в Python, все элементы True\n",
    "    \"\"\"\n",
    "    if all([x in eng for x in user_name.lower()]):\n",
    "        return True\n",
    "    raise BadCharacterError('BadCharacterError')\n",
    "\n",
    "\n",
    "# vibo: параметр не должен начинаться с цифр\n",
    "def find_digit(user_name):\n",
    "    if user_name[0].isalpha():\n",
    "        return True\n",
    "    raise StartsWithDigitError('StartsWithDigitError')\n",
    "\n",
    "\n",
    "# vibo: валидация имени/фамилии\n",
    "def name_validation(user_name):\n",
    "    try:\n",
    "        # vibo: если все условия выполняются, возвращаем параметр\n",
    "        if no_str(user_name) and only_cirill(user_name) and find_capital(user_name):\n",
    "            return user_name\n",
    "    # vibo: обрабатываем исключения\n",
    "    except TypeError as e:\n",
    "        return f'Вызвано исключение {e}'\n",
    "    except CyrillicError as e:\n",
    "        return f'Вызвано исключение {e}'\n",
    "    except CapitalError as e:\n",
    "        return f'Вызвано исключение {e}'\n",
    "\n",
    "\n",
    "# vibo: валидация username\n",
    "def username_validation(user_name):\n",
    "    try:\n",
    "        # vibo: если все условия выполняются, возвращаем параметр\n",
    "        if no_str(user_name) and only_eng(user_name) and find_digit(user_name):\n",
    "            return user_name\n",
    "    # vibo: обрабатываем исключения\n",
    "    except TypeError as e:\n",
    "        return f'Вызвано исключение {e}'\n",
    "    except BadCharacterError as e:\n",
    "        return f'Вызвано исключение {e}'\n",
    "    except StartsWithDigitError as e:\n",
    "        return f'Вызвано исключение {e}'\n",
    "\n",
    "\n",
    "# vibo: проверка на наличие всех необходимых параметров\n",
    "def all_param(last_name=None, first_name=None, username=None, **kwargs):\n",
    "    if all([x is not None for x in [last_name, first_name, username]]) and len(kwargs) == 0:\n",
    "        return True\n",
    "    # vibo: если нет - вызываем исключение\n",
    "    raise KeyError('KeyError')\n",
    "\n",
    "\n",
    "# vibo: итоговая функция\n",
    "# vibo: по условию задачи нужно было воспользоваться написанными выше функциями\n",
    "def user_validation(**kwargs):\n",
    "    try:\n",
    "        # vibo: вызываем написанные выше функции\n",
    "        last_name = name_validation(kwargs.get('last_name'))\n",
    "        first_name = name_validation(kwargs.get('first_name'))\n",
    "        username = username_validation(kwargs.get('username'))\n",
    "        # vibo: проверка наличия необходимых параметров для записи\n",
    "        if all_param(**kwargs):\n",
    "            if 'Вызвано исключение' not in last_name:\n",
    "                if 'Вызвано исключение' not in first_name:\n",
    "                    if 'Вызвано исключение' not in username:\n",
    "                        # vibo: если все ок - возвращаем словарь с пользователем\n",
    "                        return {'last_name': last_name, 'first_name': first_name, 'username': username}\n",
    "                    # vibo: при несоблюдении условий функции возвращают не параметры, а типы ошибок\n",
    "                    # поэтому возвращаем их\n",
    "                    else:\n",
    "                        return username\n",
    "                else:\n",
    "                    return first_name\n",
    "            else:\n",
    "                return last_name\n",
    "    except KeyError as e:\n",
    "        return f'Вызвано исключение {e}'\n",
    "\n",
    "\n",
    "# vibo: Пример 1.\n",
    "print(user_validation(last_name=\"Иванов\", first_name=\"Иван\", username=\"ivanych45\"))\n",
    "\n",
    "# vibo: Пример 2.\n",
    "print(user_validation(last_name=\"Иванов\", first_name=\"Иван\", username=\"ivanych45\", password=\"123456\"))"
   ],
   "metadata": {
    "collapsed": false,
    "pycharm": {
     "name": "#%%\n"
    }
   }
  },
  {
   "cell_type": "code",
   "execution_count": null,
   "outputs": [],
   "source": [
    "# J\n",
    "\n",
    "# vibo: Пример 1.\n",
    "\n",
    "# vibo: Пример 2."
   ],
   "metadata": {
    "collapsed": false,
    "pycharm": {
     "name": "#%%\n"
    }
   }
  }
 ],
 "metadata": {
  "kernelspec": {
   "display_name": "Python 3",
   "language": "python",
   "name": "python3"
  },
  "language_info": {
   "codemirror_mode": {
    "name": "ipython",
    "version": 2
   },
   "file_extension": ".py",
   "mimetype": "text/x-python",
   "name": "python",
   "nbconvert_exporter": "python",
   "pygments_lexer": "ipython2",
   "version": "2.7.6"
  }
 },
 "nbformat": 4,
 "nbformat_minor": 0
}