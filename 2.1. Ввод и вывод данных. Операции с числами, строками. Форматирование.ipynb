{
 "cells": [
  {
   "cell_type": "markdown",
   "metadata": {
    "pycharm": {
     "name": "#%% md\n"
    }
   },
   "source": [
    "# 2. Базовые конструкции Python"
   ]
  },
  {
   "cell_type": "markdown",
   "metadata": {
    "pycharm": {
     "name": "#%% md\n"
    }
   },
   "source": [
    "## 2.1. Ввод и вывод данных. Операции с числами, строками. Форматирование"
   ]
  },
  {
   "cell_type": "markdown",
   "source": [
    "### Теория"
   ],
   "metadata": {
    "collapsed": false,
    "pycharm": {
     "name": "#%% md\n"
    }
   }
  },
  {
   "cell_type": "code",
   "execution_count": 1,
   "outputs": [
    {
     "name": "stdout",
     "output_type": "stream",
     "text": [
      "Привет!\n"
     ]
    }
   ],
   "source": [
    "phrase = input(\"Введите строку: \")\n",
    "print(phrase)"
   ],
   "metadata": {
    "collapsed": false,
    "pycharm": {
     "name": "#%%\n"
    }
   }
  },
  {
   "cell_type": "code",
   "execution_count": 2,
   "outputs": [
    {
     "name": "stdout",
     "output_type": "stream",
     "text": [
      "Добрый день,Пользователь.\n"
     ]
    }
   ],
   "source": [
    "name = \"Пользователь\"\n",
    "print(\"Добрый день,\", name, \".\", sep=\"\")"
   ],
   "metadata": {
    "collapsed": false,
    "pycharm": {
     "name": "#%%\n"
    }
   }
  },
  {
   "cell_type": "code",
   "execution_count": 3,
   "outputs": [
    {
     "name": "stdout",
     "output_type": "stream",
     "text": [
      "Добрый день,\n",
      "Пользователь.\n"
     ]
    }
   ],
   "source": [
    "name = \"Пользователь\"\n",
    "print(f\"Добрый день,\\n{name}.\")"
   ],
   "metadata": {
    "collapsed": false,
    "pycharm": {
     "name": "#%%\n"
    }
   }
  },
  {
   "cell_type": "code",
   "execution_count": 4,
   "outputs": [
    {
     "name": "stdout",
     "output_type": "stream",
     "text": [
      "Сложноподчинённый\n"
     ]
    }
   ],
   "source": [
    "print(\"Сложно\" + \"подчинённый\")"
   ],
   "metadata": {
    "collapsed": false,
    "pycharm": {
     "name": "#%%\n"
    }
   }
  },
  {
   "cell_type": "code",
   "execution_count": 5,
   "outputs": [
    {
     "name": "stdout",
     "output_type": "stream",
     "text": [
      "----------\n"
     ]
    }
   ],
   "source": [
    "print(\"-\" * 10)"
   ],
   "metadata": {
    "collapsed": false,
    "pycharm": {
     "name": "#%%\n"
    }
   }
  },
  {
   "cell_type": "code",
   "execution_count": 6,
   "outputs": [
    {
     "name": "stdout",
     "output_type": "stream",
     "text": [
      "12\n",
      "3\n"
     ]
    }
   ],
   "source": [
    "n_1 = \"1\"\n",
    "n_2 = \"2\"\n",
    "print(n_1 + n_2)\n",
    "n_1 = int(n_1)\n",
    "n_2 = int(n_2)\n",
    "print(n_1 + n_2)"
   ],
   "metadata": {
    "collapsed": false,
    "pycharm": {
     "name": "#%%\n"
    }
   }
  },
  {
   "cell_type": "code",
   "execution_count": 7,
   "outputs": [
    {
     "name": "stdout",
     "output_type": "stream",
     "text": [
      "5.0\n",
      "-1.0\n",
      "6.0\n",
      "0.6666666666666666\n",
      "8.0\n"
     ]
    }
   ],
   "source": [
    "int_number = int(input())\n",
    "float_number = float(input())\n",
    "n = int_number\n",
    "x = float_number\n",
    "print(n + x)\n",
    "print(n - x)\n",
    "print(n * x)\n",
    "print(n / x)\n",
    "print(n ** x)"
   ],
   "metadata": {
    "collapsed": false,
    "pycharm": {
     "name": "#%%\n"
    }
   }
  },
  {
   "cell_type": "code",
   "execution_count": 8,
   "outputs": [
    {
     "name": "stdout",
     "output_type": "stream",
     "text": [
      "Остаток от деления: 1234 % 10 = 4\n"
     ]
    }
   ],
   "source": [
    "# vibo: % - статок от деления\n",
    "penultimate_digit = 1234 % 10\n",
    "print(f\"Остаток от деления: 1234 % 10 = {penultimate_digit}\")"
   ],
   "metadata": {
    "collapsed": false,
    "pycharm": {
     "name": "#%%\n"
    }
   }
  },
  {
   "cell_type": "code",
   "execution_count": 9,
   "outputs": [
    {
     "name": "stdout",
     "output_type": "stream",
     "text": [
      "Целочисленное деление: 1234 // 10 = 123\n"
     ]
    }
   ],
   "source": [
    "# vibo: // - целочисленное деление\n",
    "penultimate_digit = 1234 // 10\n",
    "print(f\"Целочисленное деление: 1234 // 10 = {penultimate_digit}\")"
   ],
   "metadata": {
    "collapsed": false,
    "pycharm": {
     "name": "#%%\n"
    }
   }
  },
  {
   "cell_type": "code",
   "execution_count": 10,
   "outputs": [
    {
     "name": "stdout",
     "output_type": "stream",
     "text": [
      "1234 // 10 % 10 = 3\n"
     ]
    }
   ],
   "source": [
    "# vibo: возвращаем предпоследнюю цифру\n",
    "penultimate_digit = 1234 // 10 % 10\n",
    "print(f\"1234 // 10 % 10 = {penultimate_digit}\")"
   ],
   "metadata": {
    "collapsed": false,
    "pycharm": {
     "name": "#%%\n"
    }
   }
  },
  {
   "cell_type": "markdown",
   "source": [
    "### Практика 18/20"
   ],
   "metadata": {
    "collapsed": false,
    "pycharm": {
     "name": "#%% md\n"
    }
   }
  },
  {
   "cell_type": "code",
   "execution_count": null,
   "outputs": [],
   "source": [
    "# A Полное решение\n",
    "print(\"Привет, Яндекс!\")"
   ],
   "metadata": {
    "collapsed": false,
    "pycharm": {
     "name": "#%%\n"
    }
   }
  },
  {
   "cell_type": "code",
   "execution_count": 11,
   "outputs": [
    {
     "name": "stdout",
     "output_type": "stream",
     "text": [
      "Как Вас зовут?\n",
      "Привет, vibo\n"
     ]
    }
   ],
   "source": [
    "# B Полное решение\n",
    "name = input()\n",
    "print(\"Как Вас зовут?\")\n",
    "print(f\"Привет, {name}\")"
   ],
   "metadata": {
    "collapsed": false,
    "pycharm": {
     "name": "#%%\n"
    }
   }
  },
  {
   "cell_type": "code",
   "execution_count": 12,
   "outputs": [
    {
     "name": "stdout",
     "output_type": "stream",
     "text": [
      "2\n",
      "2\n",
      "2\n",
      "\n"
     ]
    }
   ],
   "source": [
    "# C Полное решение\n",
    "string = input()\n",
    "print(f\"{string}\\n\" * 3)"
   ],
   "metadata": {
    "collapsed": false,
    "pycharm": {
     "name": "#%%\n"
    }
   }
  },
  {
   "cell_type": "code",
   "execution_count": null,
   "outputs": [],
   "source": [
    "# D Полное решение\n",
    "n = int(input())\n",
    "m = int(n - 2.5 * 38)\n",
    "print(m)"
   ],
   "metadata": {
    "collapsed": false,
    "pycharm": {
     "name": "#%%\n"
    }
   }
  },
  {
   "cell_type": "code",
   "execution_count": null,
   "outputs": [],
   "source": [
    "# E Полное решение\n",
    "price = int(input())\n",
    "weght = int(input())\n",
    "usr_money = int(input())\n",
    "usr_change = int(usr_money - price * weght)\n",
    "print(usr_change)"
   ],
   "metadata": {
    "collapsed": false,
    "pycharm": {
     "name": "#%%\n"
    }
   }
  },
  {
   "cell_type": "code",
   "execution_count": null,
   "outputs": [],
   "source": [
    "# F Полное решение\n",
    "item = str(input())\n",
    "price = int(input())\n",
    "weght = int(input())\n",
    "usr_money = int(input())\n",
    "total = int(price * weght)\n",
    "usr_change = int(usr_money - total)\n",
    "print(f\"Чек\\n{item} - {weght}кг - {price}руб/кг\\nИтого: {total}руб\\nВнесено: {usr_money}руб\\nСдача: {usr_change}руб\")"
   ],
   "metadata": {
    "collapsed": false,
    "pycharm": {
     "name": "#%%\n"
    }
   }
  },
  {
   "cell_type": "code",
   "execution_count": null,
   "outputs": [],
   "source": [
    "# G Полное решение\n",
    "n = int(input())\n",
    "print(f\"Купи слона!\\n\" * n)"
   ],
   "metadata": {
    "collapsed": false,
    "pycharm": {
     "name": "#%%\n"
    }
   }
  },
  {
   "cell_type": "code",
   "execution_count": null,
   "outputs": [],
   "source": [
    "# H Полное решение\n",
    "n = int(input())\n",
    "string = str(input())\n",
    "print(f'Я больше никогда не буду писать \"{string}\"!\\n' * n)"
   ],
   "metadata": {
    "collapsed": false,
    "pycharm": {
     "name": "#%%\n"
    }
   }
  },
  {
   "cell_type": "code",
   "execution_count": null,
   "outputs": [],
   "source": [
    "# I Полное решение\n",
    "n = int(input())\n",
    "m = int(input())\n",
    "print(int(0.5 * n * m))"
   ],
   "metadata": {
    "collapsed": false,
    "pycharm": {
     "name": "#%%\n"
    }
   }
  },
  {
   "cell_type": "code",
   "execution_count": null,
   "outputs": [],
   "source": [
    "# J Полное решение\n",
    "usr_name = str(input())\n",
    "case_number = int(input())\n",
    "group_number = int(case_number // 100)\n",
    "bed_number = int(case_number // 10 % 10)\n",
    "id_user = int(case_number % 10)\n",
    "print(f'Группа №{group_number}.')\n",
    "print(f'{id_user}. {usr_name}.')\n",
    "print(f'Шкафчик: {case_number}.')\n",
    "print(f'Кроватка: {bed_number}.')"
   ],
   "metadata": {
    "collapsed": false,
    "pycharm": {
     "name": "#%%\n"
    }
   }
  },
  {
   "cell_type": "code",
   "execution_count": null,
   "outputs": [],
   "source": [
    "# K Полное решение\n",
    "# vibo: abcd -> badc\n",
    "string = str(input())\n",
    "input_list = list(string)\n",
    "output_list = str(input_list[1]) + str(input_list[0]) + str(input_list[3]) + str(input_list[2])\n",
    "print(output_list)"
   ],
   "metadata": {
    "collapsed": false,
    "pycharm": {
     "name": "#%%\n"
    }
   }
  },
  {
   "cell_type": "code",
   "execution_count": null,
   "outputs": [],
   "source": [
    "# L Полное решение\n",
    "n = int(input())\n",
    "m = int(input())\n",
    "n0 = n % 10\n",
    "m0 = m % 10\n",
    "nm0 = str((n0 + m0) % 10)\n",
    "n1 = n // 10 % 10\n",
    "m1 = m // 10 % 10\n",
    "nm1 = str((n1 + m1) % 10)\n",
    "n2 = n // 100\n",
    "m2 = m // 100\n",
    "nm2 = str((n2 + m2) % 10)\n",
    "print(nm2 + nm1 + nm0)"
   ],
   "metadata": {
    "collapsed": false,
    "pycharm": {
     "name": "#%%\n"
    }
   }
  },
  {
   "cell_type": "code",
   "execution_count": null,
   "outputs": [],
   "source": [
    "# M Полное решение\n",
    "childrens = int(input())\n",
    "candy = int(input())\n",
    "print(int(candy // childrens))\n",
    "print(candy - childrens * (int(candy // childrens)))"
   ],
   "metadata": {
    "collapsed": false,
    "pycharm": {
     "name": "#%%\n"
    }
   }
  },
  {
   "cell_type": "code",
   "execution_count": null,
   "outputs": [],
   "source": [
    "# N Полное решение\n",
    "red = int(input())\n",
    "green = int(input())\n",
    "blue = int(input())\n",
    "print(red + blue + 1)"
   ],
   "metadata": {
    "collapsed": false,
    "pycharm": {
     "name": "#%%\n"
    }
   }
  },
  {
   "cell_type": "code",
   "execution_count": null,
   "outputs": [],
   "source": [
    "# O НЕВЕРНОЕ РЕШЕНИЕ\n",
    "# vibo: WA на тесте-12\n",
    "start_hour = int(input())\n",
    "start_min = int(input())\n",
    "t_deliv = int(input())\n",
    "t_deliv_min = t_deliv - (t_deliv // 60) * 60\n",
    "finish_hour = start_hour + (t_deliv // 60) - ((start_hour + (t_deliv // 60)) // 24) * 24\n",
    "finish_min = start_min + t_deliv_min\n",
    "hour = finish_min // 60\n",
    "finish_hour = finish_hour + hour\n",
    "finish_min = finish_min - 60 * hour\n",
    "if finish_hour < 10:\n",
    "    finish_hour = '0' + str(finish_hour)\n",
    "if finish_min < 10:\n",
    "    finish_min = '0' + str(finish_min)\n",
    "print(f'{finish_hour}:{finish_min}')"
   ],
   "metadata": {
    "collapsed": false,
    "pycharm": {
     "name": "#%%\n"
    }
   }
  },
  {
   "cell_type": "code",
   "execution_count": null,
   "outputs": [],
   "source": [
    "# P Полное решение\n",
    "a = int(input())\n",
    "b = int(input())\n",
    "c = int(input())\n",
    "dist = b - a\n",
    "time = round((dist / c), 2)\n",
    "print(f'{time}')"
   ],
   "metadata": {
    "collapsed": false,
    "pycharm": {
     "name": "#%%\n"
    }
   }
  },
  {
   "cell_type": "code",
   "execution_count": null,
   "outputs": [],
   "source": [
    "# Q Полное решение\n",
    "price_items = int(input())\n",
    "price_last_item = input()\n",
    "total = int(price_last_item, 2) + price_items\n",
    "print(f'{total}')"
   ],
   "metadata": {
    "collapsed": false,
    "pycharm": {
     "name": "#%%\n"
    }
   }
  },
  {
   "cell_type": "code",
   "execution_count": null,
   "outputs": [],
   "source": [
    "# R Полное решение\n",
    "# vibo: перевод из двоичного кода в десятичный int(input(), 2)\n",
    "price = int(input(), 2)\n",
    "money = int(input())\n",
    "change = money - price\n",
    "print(f'{change}')"
   ],
   "metadata": {
    "collapsed": false,
    "pycharm": {
     "name": "#%%\n"
    }
   }
  },
  {
   "cell_type": "code",
   "execution_count": null,
   "outputs": [],
   "source": [
    "# S НЕВЕРНОЕ РЕШЕНИЕ\n",
    "# vibo: WA на тесте-1\n",
    "name_item = input()\n",
    "len_name_item = len(name_item)\n",
    "len_str1 = ' ' * (35 - len_name_item - 6)\n",
    "price = input()\n",
    "len_price = len(price)\n",
    "price = int(price)\n",
    "waight = input()\n",
    "len_waight = len(waight)\n",
    "waight = int(waight)\n",
    "len_str2 = ' ' * (35 - len_price - len_waight - 16)\n",
    "print(len_str2)\n",
    "money = input()\n",
    "len_money = len(money)\n",
    "money = int(money)\n",
    "total = price * waight\n",
    "len_total = len(str(total))\n",
    "len_str3 = ' ' * (35 - len_total - 9)\n",
    "len_money = len(str(money))\n",
    "len_str4 = ' ' * (35 - len_money - 11)\n",
    "change = money - total\n",
    "len_change = len(str(change))\n",
    "len_str5 = ' ' * (35 - len_change - 9)\n",
    "print(f'================Чек================')\n",
    "print(f'Товар:{len_str1}{name_item}')\n",
    "print(f'Цена:{len_str2}{waight}кг * {price}руб/кг')\n",
    "print(f'Итого:{len_str3}{total}руб')\n",
    "print(f'Внесено:{len_str4}{money}руб')\n",
    "print(f'Сдача:{len_str5}{change}руб')\n",
    "print(f'===================================')"
   ],
   "metadata": {
    "collapsed": false,
    "pycharm": {
     "name": "#%%\n"
    }
   }
  },
  {
   "cell_type": "code",
   "execution_count": null,
   "outputs": [],
   "source": [
    "# T Полное решение\n",
    "'''\n",
    "x + y = N\n",
    "k1 * x + k2 * y = M * N\n",
    "'''\n",
    "n = int(input())\n",
    "m = int(input())\n",
    "k1 = int(input())\n",
    "k2 = int(input())\n",
    "y = ((m - k1) * n) / (-k1 + k2)\n",
    "x = n - y\n",
    "print(f'{int(x)} {int(y)}')"
   ],
   "metadata": {
    "collapsed": false,
    "pycharm": {
     "name": "#%%\n"
    }
   }
  }
 ],
 "metadata": {
  "kernelspec": {
   "display_name": "Python 3.9.9 ('venv-vsc': venv)",
   "language": "python",
   "name": "python3"
  },
  "language_info": {
   "codemirror_mode": {
    "name": "ipython",
    "version": 3
   },
   "file_extension": ".py",
   "mimetype": "text/x-python",
   "name": "python",
   "nbconvert_exporter": "python",
   "pygments_lexer": "ipython3",
   "version": "3.9.9"
  },
  "orig_nbformat": 4,
  "vscode": {
   "interpreter": {
    "hash": "43807f5c999ff1bc99c26ab56886fdb0eb1ab623df40ddad9a297a39d65cf47c"
   }
  }
 },
 "nbformat": 4,
 "nbformat_minor": 2
}