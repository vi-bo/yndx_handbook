{
 "cells": [
  {
   "cell_type": "markdown",
   "source": [
    "\n",
    "# 4. Функции и их особенности в Python"
   ],
   "metadata": {
    "collapsed": false,
    "pycharm": {
     "name": "#%% md\n"
    }
   }
  },
  {
   "cell_type": "markdown",
   "source": [
    "## 4.3. Рекурсия. Декораторы. Генераторы"
   ],
   "metadata": {
    "collapsed": false,
    "pycharm": {
     "name": "#%% md\n"
    }
   }
  },
  {
   "cell_type": "markdown",
   "source": [
    "### Теория"
   ],
   "metadata": {
    "collapsed": false,
    "pycharm": {
     "name": "#%% md\n"
    }
   }
  },
  {
   "cell_type": "code",
   "execution_count": 1,
   "outputs": [
    {
     "name": "stdout",
     "output_type": "stream",
     "text": [
      "120\n"
     ]
    }
   ],
   "source": [
    "# vibo: функция нахождение факториала числа\n",
    "def fact(n):\n",
    "    factorial = 1\n",
    "    for i in range(2, n + 1):\n",
    "        factorial *= i\n",
    "    return factorial\n",
    "\n",
    "\n",
    "print(fact(5))"
   ],
   "metadata": {
    "collapsed": false,
    "pycharm": {
     "name": "#%%\n"
    }
   }
  },
  {
   "cell_type": "markdown",
   "source": [
    "**Рекурсивными называют функции, в которых происходит вызов самих этих функций**"
   ],
   "metadata": {
    "collapsed": false,
    "pycharm": {
     "name": "#%% md\n"
    }
   }
  },
  {
   "cell_type": "code",
   "execution_count": 2,
   "outputs": [
    {
     "name": "stdout",
     "output_type": "stream",
     "text": [
      "120\n"
     ]
    }
   ],
   "source": [
    "#vibo: рекурсивная функция нахождения факториала числа\n",
    "def fact(n):\n",
    "    if n == 0:  # 0! = 1\n",
    "        return 1\n",
    "    return fact(n - 1) * n  # n! = (n - 1)! * n\n",
    "\n",
    "\n",
    "print(fact(5))"
   ],
   "metadata": {
    "collapsed": false,
    "pycharm": {
     "name": "#%%\n"
    }
   }
  },
  {
   "cell_type": "markdown",
   "source": [
    "Рекурсивный вариант функции выполняет действия, которые описаны правилом вычисления факториала. Такой стиль программирования называется **декларативным**. Данный подход описывает сам результат. Функции, выше, основаны на **императивном стиле**, и отвечают на вопрос о способе получения результата."
   ],
   "metadata": {
    "collapsed": false,
    "pycharm": {
     "name": "#%% md\n"
    }
   }
  },
  {
   "cell_type": "code",
   "execution_count": 3,
   "outputs": [
    {
     "name": "stdout",
     "output_type": "stream",
     "text": [
      "14930352\n"
     ]
    }
   ],
   "source": [
    "# vibo: рекурсивная функция вычисления n-го числа Фибоначчи\n",
    "def fib(n):\n",
    "    if n in (0, 1):\n",
    "        return 1\n",
    "    return fib(n - 1) + fib(n - 2)\n",
    "\n",
    "\n",
    "print(fib(35))"
   ],
   "metadata": {
    "collapsed": false,
    "pycharm": {
     "name": "#%%\n"
    }
   }
  },
  {
   "cell_type": "code",
   "execution_count": null,
   "outputs": [],
   "source": [
    "# vibo: время вычисления, усредним по 10 результатам\n",
    "# vibo: рекурсивная функция\n",
    "from timeit import timeit\n",
    "\n",
    "\n",
    "def fib(n):\n",
    "    if n in (0, 1):\n",
    "        return 1\n",
    "    return fib(n - 1) + fib(n - 2)\n",
    "\n",
    "\n",
    "print(f\"Среднее время вычисления: \"\n",
    "      f\"{round(timeit('fib(35)', number=10, globals=globals()) / 10, 3)} с.\")"
   ],
   "metadata": {
    "collapsed": false,
    "pycharm": {
     "name": "#%%\n",
     "is_executing": true
    }
   }
  },
  {
   "cell_type": "code",
   "execution_count": 7,
   "outputs": [
    {
     "name": "stdout",
     "output_type": "stream",
     "text": [
      "Среднее время вычисления: 0.0 с.\n"
     ]
    }
   ],
   "source": [
    "# vibo: время вычисления, усредним по 10 результатам\n",
    "# vibo: императивная версия функции\n",
    "from timeit import timeit\n",
    "\n",
    "\n",
    "def fib(n):\n",
    "    f_1, f = 1, 1\n",
    "    for i in range(n - 1):\n",
    "        f_1, f = f, f_1 + f\n",
    "    return f\n",
    "\n",
    "\n",
    "print(f\"Среднее время вычисления: \"\n",
    "      f\"{round(timeit('fib(35)', number=10, globals=globals()) / 10, 3)} с.\")"
   ],
   "metadata": {
    "collapsed": false,
    "pycharm": {
     "name": "#%%\n"
    }
   }
  },
  {
   "cell_type": "markdown",
   "source": [
    "Проблема рекурсивной функции заключается в том, что внутри неё происходит два вызова самой себя для каждого значения. В итоге появляется несколько рекурсивных веток, которые образуют рекурсивное дерево. Рекурсивная реализация функции выполняет много одинаковых вычислений."
   ],
   "metadata": {
    "collapsed": false,
    "pycharm": {
     "name": "#%% md\n"
    }
   }
  },
  {
   "cell_type": "code",
   "execution_count": null,
   "outputs": [],
   "source": [
    "# vibo: делаем счетчик вызова рекурсивной функции\n",
    "def fib(n):\n",
    "    global count\n",
    "    count += 1\n",
    "    if n in (0, 1):\n",
    "        return 1\n",
    "    return fib(n - 1) + fib(n - 2)\n",
    "\n",
    "\n",
    "count = 0\n",
    "print(f\"35-ое число Фибоначчи равно: {fib(35)}.\")\n",
    "print(f\"Количество вызовов рекурсивной функции равно: {count}.\")\n",
    "\n",
    "'''\n",
    "35-ое число Фибоначчи равно: 14930352.\n",
    "Количество вызовов рекурсивной функции равно: 29860703.\n",
    "'''"
   ],
   "metadata": {
    "collapsed": false,
    "pycharm": {
     "name": "#%%\n"
    }
   }
  },
  {
   "cell_type": "code",
   "execution_count": null,
   "outputs": [],
   "source": [
    "# vibo: функция с кешированием (мемоизацией)\n",
    "def fib(n):\n",
    "    global count\n",
    "    count += 1\n",
    "    if n not in cash:\n",
    "        cash[n] = fib(n - 1) + fib(n - 2)\n",
    "    return cash[n]\n",
    "\n",
    "\n",
    "count = 0\n",
    "cash = {0: 1, 1: 1}\n",
    "print(f\"35-ое число Фибоначчи равно: {fib(35)}.\")\n",
    "print(f\"Количество вызовов рекурсивной функции равно: {count}.\")\n",
    "\n",
    "'''\n",
    "35-ое число Фибоначчи равно: 14930352.\n",
    "Количество вызовов рекурсивной функции равно: 69.\n",
    "'''"
   ],
   "metadata": {
    "collapsed": false,
    "pycharm": {
     "name": "#%%\n"
    }
   }
  },
  {
   "cell_type": "code",
   "execution_count": 8,
   "outputs": [
    {
     "name": "stdout",
     "output_type": "stream",
     "text": [
      "Среднее время вычисления: 3e-06 с.\n"
     ]
    }
   ],
   "source": [
    "# vibo: проверим скорость работы функции с кешированием\n",
    "from timeit import timeit\n",
    "\n",
    "\n",
    "def fib(n):\n",
    "    global count\n",
    "    count += 1\n",
    "    if n not in cash:\n",
    "        cash[n] = fib(n - 1) + fib(n - 2)\n",
    "    return cash[n]\n",
    "\n",
    "\n",
    "count = 0\n",
    "cash = {0: 1, 1: 1}\n",
    "print(f\"Среднее время вычисления: \"\n",
    "      f\"{round(timeit('fib(35)', number=10, globals=globals()) / 10, 6)} с.\")"
   ],
   "metadata": {
    "collapsed": false,
    "pycharm": {
     "name": "#%%\n"
    }
   }
  },
  {
   "cell_type": "code",
   "execution_count": 9,
   "outputs": [
    {
     "name": "stdout",
     "output_type": "stream",
     "text": [
      "Среднее время вычисления: 0.000178 с.\n"
     ]
    },
    {
     "data": {
      "text/plain": "'\\nRecursionError: maximum recursion depth exceeded\\n'"
     },
     "execution_count": 9,
     "metadata": {},
     "output_type": "execute_result"
    }
   ],
   "source": [
    "# vibo: попробуем вычислить число Фибоначчи с номером 1000:\n",
    "from timeit import timeit\n",
    "\n",
    "\n",
    "def fib(n):\n",
    "    if n not in cash:\n",
    "        cash[n] = fib(n - 1) + fib(n - 2)\n",
    "    return cash[n]\n",
    "\n",
    "\n",
    "cash = {0: 1, 1: 1}\n",
    "print(f\"Среднее время вычисления: \"\n",
    "      f\"{round(timeit('fib(1000)', number=10, globals=globals()) / 10, 6)} с.\")\n",
    "\n",
    "'''\n",
    "RecursionError: maximum recursion depth exceeded\n",
    "Ошибка по превышению глубины рекурсии (1000 по умолчанию).\n",
    "\n",
    "'''\n"
   ],
   "metadata": {
    "collapsed": false,
    "pycharm": {
     "name": "#%%\n"
    }
   }
  },
  {
   "cell_type": "code",
   "execution_count": 10,
   "outputs": [
    {
     "name": "stdout",
     "output_type": "stream",
     "text": [
      "Среднее время вычисления: 0.000161 с.\n"
     ]
    }
   ],
   "source": [
    "# vibo: setrecursionlimit() - для изменения глубины рекурсии (по умолчанию 1000, зависит от операционной системы)\n",
    "from timeit import timeit\n",
    "from sys import setrecursionlimit\n",
    "\n",
    "\n",
    "def fib(n):\n",
    "    if n not in cash:\n",
    "        cash[n] = fib(n - 1) + fib(n - 2)\n",
    "    return cash[n]\n",
    "\n",
    "\n",
    "setrecursionlimit(2000)\n",
    "cash = {0: 1, 1: 1}\n",
    "print(f\"Среднее время вычисления: \"\n",
    "      f\"{round(timeit('fib(1000)', number=10, globals=globals()) / 10, 6)} с.\")"
   ],
   "metadata": {
    "collapsed": false,
    "pycharm": {
     "name": "#%%\n"
    }
   }
  },
  {
   "cell_type": "code",
   "execution_count": 11,
   "outputs": [
    {
     "name": "stdout",
     "output_type": "stream",
     "text": [
      "Среднее время вычисления: 5e-06 с.\n"
     ]
    }
   ],
   "source": [
    "# vibo: рекурсивная фукнция с кешированием и интерпретатором (lru_cache из модуля functools)\n",
    "# vibo: интерпретатор (lru_cache) для запоминания промежуточных значений функции\n",
    "from timeit import timeit\n",
    "from functools import lru_cache\n",
    "\n",
    "\n",
    "@lru_cache(maxsize=1000)\n",
    "def fib(n):\n",
    "    if n in (0, 1):\n",
    "        return 1\n",
    "    return fib(n - 1) + fib(n - 2)\n",
    "\n",
    "\n",
    "print(f\"Среднее время вычисления: \"\n",
    "      f\"{round(timeit('fib(35)', number=10, globals=globals()) / 10, 6)} с.\")\n"
   ],
   "metadata": {
    "collapsed": false,
    "pycharm": {
     "name": "#%%\n"
    }
   }
  },
  {
   "cell_type": "markdown",
   "source": [
    "Благодаря автоматическому кэшированию, наша функция снова приобрела \"декларативный\" вид и при этом работает быстро. Функция lru_cache в примере используется как **декоратор.**"
   ],
   "metadata": {
    "collapsed": false,
    "pycharm": {
     "name": "#%% md\n"
    }
   }
  },
  {
   "cell_type": "markdown",
   "source": [
    "### Практика /10"
   ],
   "metadata": {
    "collapsed": false,
    "pycharm": {
     "name": "#%% md\n"
    }
   }
  },
  {
   "cell_type": "code",
   "execution_count": 57,
   "outputs": [
    {
     "name": "stdout",
     "output_type": "stream",
     "text": [
      "6\n",
      "23\n"
     ]
    }
   ],
   "source": [
    "# A Полное решение\n",
    "def recursive_sum(*nums):\n",
    "    if len(nums) > 1:\n",
    "        num = nums[-1]\n",
    "        new_nums = nums[:-1]\n",
    "        ans = num + recursive_sum(*new_nums)\n",
    "    else:\n",
    "        ans = nums[0]\n",
    "    return ans\n",
    "\n",
    "\n",
    "result = recursive_sum(1, 2, 3)\n",
    "print(result)\n",
    "\n",
    "result = recursive_sum(7, 1, 3, 2, 10)\n",
    "print(result)"
   ],
   "metadata": {
    "collapsed": false,
    "pycharm": {
     "name": "#%%\n"
    }
   }
  },
  {
   "cell_type": "code",
   "execution_count": 79,
   "outputs": [
    {
     "name": "stdout",
     "output_type": "stream",
     "text": [
      "6\n",
      "26\n"
     ]
    }
   ],
   "source": [
    "# B Полное решение\n",
    "def recursive_digit_sum(nums):\n",
    "    nums = str(nums)\n",
    "    if len(nums) > 1:\n",
    "        num = int(nums[-1])\n",
    "        new_nums = nums[:-1]\n",
    "        ans = num + recursive_digit_sum(new_nums)\n",
    "    else:\n",
    "        ans = int(nums)\n",
    "    return ans\n",
    "\n",
    "\n",
    "result = recursive_digit_sum(123)\n",
    "print(result)\n",
    "\n",
    "result = recursive_digit_sum(7321346)\n",
    "print(result)"
   ],
   "metadata": {
    "collapsed": false,
    "pycharm": {
     "name": "#%%\n"
    }
   }
  },
  {
   "cell_type": "code",
   "execution_count": 30,
   "outputs": [
    {
     "name": "stdout",
     "output_type": "stream",
     "text": [
      "((3) * x + 2) * x + 1\n",
      "(((3) * x + 1) * x + 5) * x + 3\n"
     ]
    }
   ],
   "source": [
    "# C Полное решение\n",
    "def make_equation(*nums):\n",
    "    ans = str(nums[-1])\n",
    "    nums = nums[:-1]\n",
    "    if len(nums) > 0:\n",
    "        ans = \"(\" + make_equation(*nums) + \") * x + \" + str(ans)\n",
    "    return ans\n",
    "\n",
    "\n",
    "result = make_equation(3, 2, 1)\n",
    "print(result)\n",
    "\n",
    "result = make_equation(3, 1, 5, 3)\n",
    "print(result)"
   ],
   "metadata": {
    "collapsed": false,
    "pycharm": {
     "name": "#%%\n"
    }
   }
  },
  {
   "cell_type": "code",
   "execution_count": 86,
   "outputs": [
    {
     "name": "stdout",
     "output_type": "stream",
     "text": [
      "Результат функции: 8\n",
      "Результат функции: 16\n",
      "Результат функции: dehlorw\n",
      "Результат функции: адекортуыэ\n"
     ]
    }
   ],
   "source": [
    "# D Полное решение\n",
    "def answer(func):\n",
    "    def wrapper(*args, **kwargs):\n",
    "        ans = func(*args, **kwargs)\n",
    "        return 'Результат функции: ' + str(ans)\n",
    "    return wrapper\n",
    "\n",
    "\n",
    "# vibo: Пример 1.\n",
    "@answer\n",
    "def a_plus_b(a, b):\n",
    "    return a + b\n",
    "\n",
    "\n",
    "print(a_plus_b(3, 5))\n",
    "print(a_plus_b(7, 9))\n",
    "\n",
    "# vibo: Пример 2.\n",
    "@answer\n",
    "def get_letters(text: str) -> str:\n",
    "    return ''.join(sorted(set(filter(str.isalpha, text.lower()))))\n",
    "\n",
    "\n",
    "print(get_letters('Hello, world!'))\n",
    "print(get_letters('Декораторы это круто =)'))"
   ],
   "metadata": {
    "collapsed": false,
    "pycharm": {
     "name": "#%%\n"
    }
   }
  },
  {
   "cell_type": "code",
   "execution_count": 104,
   "outputs": [
    {
     "name": "stdout",
     "output_type": "stream",
     "text": [
      "[16]\n",
      "[16, -6]\n"
     ]
    },
    {
     "ename": "TypeError",
     "evalue": "a_plus_b() got an unexpected keyword argument 'method'",
     "output_type": "error",
     "traceback": [
      "\u001B[0;31m---------------------------------------------------------------------------\u001B[0m",
      "\u001B[0;31mTypeError\u001B[0m                                 Traceback (most recent call last)",
      "Input \u001B[0;32mIn [104]\u001B[0m, in \u001B[0;36m<cell line: 20>\u001B[0;34m()\u001B[0m\n\u001B[1;32m     18\u001B[0m \u001B[38;5;66;03m# print(a_plus_b(-3, 5, method=\"drop\"))\u001B[39;00m\n\u001B[1;32m     19\u001B[0m \u001B[38;5;28mprint\u001B[39m(a_plus_b(\u001B[38;5;241m1\u001B[39m, \u001B[38;5;241m-\u001B[39m\u001B[38;5;241m7\u001B[39m))\n\u001B[0;32m---> 20\u001B[0m \u001B[38;5;28mprint\u001B[39m(\u001B[43ma_plus_b\u001B[49m\u001B[43m(\u001B[49m\u001B[38;5;241;43m10\u001B[39;49m\u001B[43m,\u001B[49m\u001B[43m \u001B[49m\u001B[38;5;241;43m35\u001B[39;49m\u001B[43m,\u001B[49m\u001B[43m \u001B[49m\u001B[43mmethod\u001B[49m\u001B[38;5;241;43m=\u001B[39;49m\u001B[38;5;124;43m\"\u001B[39;49m\u001B[38;5;124;43mdrop\u001B[39;49m\u001B[38;5;124;43m\"\u001B[39;49m\u001B[43m)\u001B[49m)\n",
      "Input \u001B[0;32mIn [104]\u001B[0m, in \u001B[0;36mresult_accumulator.<locals>.wrapper\u001B[0;34m(*args, **kwargs)\u001B[0m\n\u001B[1;32m      4\u001B[0m \u001B[38;5;28;01mdef\u001B[39;00m \u001B[38;5;21mwrapper\u001B[39m(\u001B[38;5;241m*\u001B[39margs, \u001B[38;5;241m*\u001B[39m\u001B[38;5;241m*\u001B[39mkwargs):\n\u001B[0;32m----> 5\u001B[0m     ans \u001B[38;5;241m=\u001B[39m \u001B[43mfunc\u001B[49m\u001B[43m(\u001B[49m\u001B[38;5;241;43m*\u001B[39;49m\u001B[43margs\u001B[49m\u001B[43m,\u001B[49m\u001B[43m \u001B[49m\u001B[38;5;241;43m*\u001B[39;49m\u001B[38;5;241;43m*\u001B[39;49m\u001B[43mkwargs\u001B[49m\u001B[43m)\u001B[49m\n\u001B[1;32m      6\u001B[0m     ans_list\u001B[38;5;241m.\u001B[39mappend(ans)\n\u001B[1;32m      7\u001B[0m     \u001B[38;5;28;01mreturn\u001B[39;00m ans_list\n",
      "\u001B[0;31mTypeError\u001B[0m: a_plus_b() got an unexpected keyword argument 'method'"
     ]
    }
   ],
   "source": [
    "# E\n",
    "ans_list = []\n",
    "def result_accumulator(func, method=\"accumulate\"):\n",
    "    def wrapper(*args, **kwargs):\n",
    "        ans = func(*args, **kwargs)\n",
    "        ans_list.append(ans)\n",
    "        return ans_list\n",
    "    return wrapper\n",
    "\n",
    "# vibo: Пример 1.\n",
    "@result_accumulator\n",
    "def a_plus_b(a, b):\n",
    "    return a + b\n",
    "\n",
    "\n",
    "# print(a_plus_b(3, 5, method=\"accumulate\"))\n",
    "print(a_plus_b(7, 9))\n",
    "# print(a_plus_b(-3, 5, method=\"drop\"))\n",
    "print(a_plus_b(1, -7))\n",
    "print(a_plus_b(10, 35, method=\"drop\"))\n",
    "\n",
    "# vibo: Пример 2.\n",
    "# @result_accumulator\n",
    "# def get_letters(text: str) -> str:\n",
    "#     return ''.join(sorted(set(filter(str.isalpha, text.lower()))))\n",
    "#\n",
    "#\n",
    "# print(get_letters('Hello, world!'))\n",
    "# print(get_letters('Декораторы это круто =)'))\n",
    "# print(get_letters('Ехали медведи на велосипеде', method='drop'))"
   ],
   "metadata": {
    "collapsed": false,
    "pycharm": {
     "name": "#%%\n"
    }
   }
  },
  {
   "cell_type": "code",
   "execution_count": null,
   "outputs": [],
   "source": [
    "# F"
   ],
   "metadata": {
    "collapsed": false,
    "pycharm": {
     "name": "#%%\n"
    }
   }
  },
  {
   "cell_type": "code",
   "execution_count": null,
   "outputs": [],
   "source": [
    "# G"
   ],
   "metadata": {
    "collapsed": false,
    "pycharm": {
     "name": "#%%\n"
    }
   }
  },
  {
   "cell_type": "code",
   "execution_count": null,
   "outputs": [],
   "source": [
    "# H"
   ],
   "metadata": {
    "collapsed": false,
    "pycharm": {
     "name": "#%%\n"
    }
   }
  },
  {
   "cell_type": "code",
   "execution_count": null,
   "outputs": [],
   "source": [
    "# I"
   ],
   "metadata": {
    "collapsed": false,
    "pycharm": {
     "name": "#%%\n"
    }
   }
  },
  {
   "cell_type": "code",
   "execution_count": null,
   "outputs": [],
   "source": [
    "# J"
   ],
   "metadata": {
    "collapsed": false,
    "pycharm": {
     "name": "#%%\n"
    }
   }
  }
 ],
 "metadata": {
  "kernelspec": {
   "display_name": "Python 3",
   "language": "python",
   "name": "python3"
  },
  "language_info": {
   "codemirror_mode": {
    "name": "ipython",
    "version": 2
   },
   "file_extension": ".py",
   "mimetype": "text/x-python",
   "name": "python",
   "nbconvert_exporter": "python",
   "pygments_lexer": "ipython2",
   "version": "2.7.6"
  }
 },
 "nbformat": 4,
 "nbformat_minor": 0
}