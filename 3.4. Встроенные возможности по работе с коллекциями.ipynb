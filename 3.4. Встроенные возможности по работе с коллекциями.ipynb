{
 "cells": [
  {
   "cell_type": "markdown",
   "source": [
    "\n",
    "# 3. Коллекции и работа с памятью"
   ],
   "metadata": {
    "collapsed": false,
    "pycharm": {
     "name": "#%% md\n"
    }
   }
  },
  {
   "cell_type": "markdown",
   "source": [
    "## 3.4. Встроенные возможности по работе c коллекциями"
   ],
   "metadata": {
    "collapsed": false,
    "pycharm": {
     "name": "#%% md\n"
    }
   }
  },
  {
   "cell_type": "markdown",
   "source": [
    "### Теория"
   ],
   "metadata": {
    "collapsed": false,
    "pycharm": {
     "name": "#%% md\n"
    }
   }
  },
  {
   "cell_type": "markdown",
   "source": [
    "#### itertools"
   ],
   "metadata": {
    "collapsed": false,
    "pycharm": {
     "name": "#%% md\n"
    }
   }
  },
  {
   "cell_type": "markdown",
   "source": [
    "**itertools - библиотека для работы с коллекциями**"
   ],
   "metadata": {
    "collapsed": false,
    "pycharm": {
     "name": "#%% md\n"
    }
   }
  },
  {
   "cell_type": "code",
   "execution_count": 4,
   "outputs": [
    {
     "name": "stdout",
     "output_type": "stream",
     "text": [
      "[('A', 'A'), ('A', 'B'), ('A', 'C'), ('B', 'A'), ('B', 'B'), ('B', 'C'), ('C', 'A'), ('C', 'B'), ('C', 'C')]\n"
     ]
    }
   ],
   "source": [
    "import itertools\n",
    "\n",
    "print(list(itertools.product(\"ABC\", repeat=2)))"
   ],
   "metadata": {
    "collapsed": false,
    "pycharm": {
     "name": "#%%\n"
    }
   }
  },
  {
   "cell_type": "code",
   "execution_count": 2,
   "outputs": [
    {
     "name": "stdout",
     "output_type": "stream",
     "text": [
      "<itertools.product object at 0x7fcb0c53d5c0>\n"
     ]
    }
   ],
   "source": [
    "from itertools import product\n",
    "\n",
    "print(product(\"ABC\", repeat=2))"
   ],
   "metadata": {
    "collapsed": false,
    "pycharm": {
     "name": "#%%\n"
    }
   }
  },
  {
   "cell_type": "markdown",
   "source": [
    "##### Функции, возвращающие бесконечные итераторы"
   ],
   "metadata": {
    "collapsed": false,
    "pycharm": {
     "name": "#%% md\n"
    }
   }
  },
  {
   "cell_type": "code",
   "execution_count": 5,
   "outputs": [
    {
     "name": "stdout",
     "output_type": "stream",
     "text": [
      "0\n",
      "0.1\n",
      "0.2\n",
      "0.3\n",
      "0.4\n",
      "0.5\n",
      "0.6\n",
      "0.7\n",
      "0.8\n",
      "0.9\n",
      "1.0\n"
     ]
    }
   ],
   "source": [
    "# vibo: бесконечный цикл count(start, step)\n",
    "from itertools import count\n",
    "\n",
    "for value in count(0, 0.1):\n",
    "    if value <= 1:\n",
    "        print(round(value, 1))\n",
    "    else:\n",
    "        break"
   ],
   "metadata": {
    "collapsed": false,
    "pycharm": {
     "name": "#%%\n"
    }
   }
  },
  {
   "cell_type": "code",
   "execution_count": 6,
   "outputs": [
    {
     "name": "stdout",
     "output_type": "stream",
     "text": [
      "ABCABCABCA\n"
     ]
    }
   ],
   "source": [
    "# vibo: циклический перебор коллекции\n",
    "from itertools import cycle\n",
    "\n",
    "max_len = 10\n",
    "s = \"\"\n",
    "for letter in cycle(\"ABC\"):\n",
    "    if len(s) < 10:\n",
    "        s += letter\n",
    "    else:\n",
    "        break\n",
    "print(s)"
   ],
   "metadata": {
    "collapsed": false,
    "pycharm": {
     "name": "#%%\n"
    }
   }
  },
  {
   "cell_type": "code",
   "execution_count": 7,
   "outputs": [
    {
     "name": "stdout",
     "output_type": "stream",
     "text": [
      "['ABC', 'ABC', 'ABC', 'ABC', 'ABC']\n"
     ]
    }
   ],
   "source": [
    "# vibo: повторение значения\n",
    "from itertools import repeat\n",
    "\n",
    "result = list(repeat(\"ABC\", 5))\n",
    "print(result)"
   ],
   "metadata": {
    "collapsed": false,
    "pycharm": {
     "name": "#%%\n"
    }
   }
  },
  {
   "cell_type": "markdown",
   "source": [
    "##### Функции, выполняющиеся до кратчайшей входной последовательности"
   ],
   "metadata": {
    "collapsed": false,
    "pycharm": {
     "name": "#%% md\n"
    }
   }
  },
  {
   "cell_type": "code",
   "execution_count": 8,
   "outputs": [
    {
     "name": "stdout",
     "output_type": "stream",
     "text": [
      "1\n",
      "3\n",
      "6\n",
      "10\n",
      "15\n"
     ]
    }
   ],
   "source": [
    "# vibo: сумма наростающим итогом\n",
    "from itertools import accumulate\n",
    "\n",
    "for value in accumulate([1, 2, 3, 4, 5]):\n",
    "    print(value)"
   ],
   "metadata": {
    "collapsed": false,
    "pycharm": {
     "name": "#%%\n"
    }
   }
  },
  {
   "cell_type": "code",
   "execution_count": 9,
   "outputs": [
    {
     "name": "stdout",
     "output_type": "stream",
     "text": [
      "['А', 'Б', 'В', 'Г', 'Д', 'Е', 'Ё', 'Ж', 'З', 'И', 'Й', 'К']\n"
     ]
    }
   ],
   "source": [
    "# vibo: несколько итерируемых объектов - \"АБВ\", \"ГДЕЁ\", \"ЖЗИЙК\"\n",
    "from itertools import chain\n",
    "\n",
    "values = list(chain(\"АБВ\", \"ГДЕЁ\", \"ЖЗИЙК\"))\n",
    "print(values)"
   ],
   "metadata": {
    "collapsed": false,
    "pycharm": {
     "name": "#%%\n"
    }
   }
  },
  {
   "cell_type": "code",
   "execution_count": 10,
   "outputs": [
    {
     "name": "stdout",
     "output_type": "stream",
     "text": [
      "['А', 'Б', 'В', 'Г', 'Д', 'Е', 'Ё', 'Ж', 'З', 'И', 'Й', 'К']\n"
     ]
    }
   ],
   "source": [
    "# vibo: один итерируемый объект [\"АБВ\", \"ГДЕЁ\", \"ЖЗИЙК\"]\n",
    "from itertools import chain\n",
    "\n",
    "values = list(chain.from_iterable([\"АБВ\", \"ГДЕЁ\", \"ЖЗИЙК\"]))\n",
    "print(values)"
   ],
   "metadata": {
    "collapsed": false,
    "pycharm": {
     "name": "#%%\n"
    }
   }
  },
  {
   "cell_type": "markdown",
   "source": [
    "##### Функции для комбинаторики"
   ],
   "metadata": {
    "collapsed": false,
    "pycharm": {
     "name": "#%% md\n"
    }
   }
  },
  {
   "cell_type": "code",
   "execution_count": 11,
   "outputs": [
    {
     "name": "stdout",
     "output_type": "stream",
     "text": [
      "[(1, 'А'), (1, 'Б'), (1, 'В'), (1, 'Г'), (2, 'А'), (2, 'Б'), (2, 'В'), (2, 'Г'), (3, 'А'), (3, 'Б'), (3, 'В'), (3, 'Г')]\n"
     ]
    }
   ],
   "source": [
    "# vibo: декартово произведение\n",
    "from itertools import product\n",
    "\n",
    "values = list(product([1, 2, 3], \"АБВГ\"))\n",
    "print(values)"
   ],
   "metadata": {
    "collapsed": false,
    "pycharm": {
     "name": "#%%\n"
    }
   }
  },
  {
   "cell_type": "code",
   "execution_count": 12,
   "outputs": [
    {
     "name": "stdout",
     "output_type": "stream",
     "text": [
      "[(1, 'А', 1, 'А'), (1, 'А', 1, 'Б'), (1, 'А', 1, 'В'), (1, 'А', 1, 'Г'), (1, 'А', 2, 'А'), (1, 'А', 2, 'Б'), (1, 'А', 2, 'В'), (1, 'А', 2, 'Г'), (1, 'А', 3, 'А'), (1, 'А', 3, 'Б'), (1, 'А', 3, 'В'), (1, 'А', 3, 'Г'), (1, 'Б', 1, 'А'), (1, 'Б', 1, 'Б'), (1, 'Б', 1, 'В'), (1, 'Б', 1, 'Г'), (1, 'Б', 2, 'А'), (1, 'Б', 2, 'Б'), (1, 'Б', 2, 'В'), (1, 'Б', 2, 'Г'), (1, 'Б', 3, 'А'), (1, 'Б', 3, 'Б'), (1, 'Б', 3, 'В'), (1, 'Б', 3, 'Г'), (1, 'В', 1, 'А'), (1, 'В', 1, 'Б'), (1, 'В', 1, 'В'), (1, 'В', 1, 'Г'), (1, 'В', 2, 'А'), (1, 'В', 2, 'Б'), (1, 'В', 2, 'В'), (1, 'В', 2, 'Г'), (1, 'В', 3, 'А'), (1, 'В', 3, 'Б'), (1, 'В', 3, 'В'), (1, 'В', 3, 'Г'), (1, 'Г', 1, 'А'), (1, 'Г', 1, 'Б'), (1, 'Г', 1, 'В'), (1, 'Г', 1, 'Г'), (1, 'Г', 2, 'А'), (1, 'Г', 2, 'Б'), (1, 'Г', 2, 'В'), (1, 'Г', 2, 'Г'), (1, 'Г', 3, 'А'), (1, 'Г', 3, 'Б'), (1, 'Г', 3, 'В'), (1, 'Г', 3, 'Г'), (2, 'А', 1, 'А'), (2, 'А', 1, 'Б'), (2, 'А', 1, 'В'), (2, 'А', 1, 'Г'), (2, 'А', 2, 'А'), (2, 'А', 2, 'Б'), (2, 'А', 2, 'В'), (2, 'А', 2, 'Г'), (2, 'А', 3, 'А'), (2, 'А', 3, 'Б'), (2, 'А', 3, 'В'), (2, 'А', 3, 'Г'), (2, 'Б', 1, 'А'), (2, 'Б', 1, 'Б'), (2, 'Б', 1, 'В'), (2, 'Б', 1, 'Г'), (2, 'Б', 2, 'А'), (2, 'Б', 2, 'Б'), (2, 'Б', 2, 'В'), (2, 'Б', 2, 'Г'), (2, 'Б', 3, 'А'), (2, 'Б', 3, 'Б'), (2, 'Б', 3, 'В'), (2, 'Б', 3, 'Г'), (2, 'В', 1, 'А'), (2, 'В', 1, 'Б'), (2, 'В', 1, 'В'), (2, 'В', 1, 'Г'), (2, 'В', 2, 'А'), (2, 'В', 2, 'Б'), (2, 'В', 2, 'В'), (2, 'В', 2, 'Г'), (2, 'В', 3, 'А'), (2, 'В', 3, 'Б'), (2, 'В', 3, 'В'), (2, 'В', 3, 'Г'), (2, 'Г', 1, 'А'), (2, 'Г', 1, 'Б'), (2, 'Г', 1, 'В'), (2, 'Г', 1, 'Г'), (2, 'Г', 2, 'А'), (2, 'Г', 2, 'Б'), (2, 'Г', 2, 'В'), (2, 'Г', 2, 'Г'), (2, 'Г', 3, 'А'), (2, 'Г', 3, 'Б'), (2, 'Г', 3, 'В'), (2, 'Г', 3, 'Г'), (3, 'А', 1, 'А'), (3, 'А', 1, 'Б'), (3, 'А', 1, 'В'), (3, 'А', 1, 'Г'), (3, 'А', 2, 'А'), (3, 'А', 2, 'Б'), (3, 'А', 2, 'В'), (3, 'А', 2, 'Г'), (3, 'А', 3, 'А'), (3, 'А', 3, 'Б'), (3, 'А', 3, 'В'), (3, 'А', 3, 'Г'), (3, 'Б', 1, 'А'), (3, 'Б', 1, 'Б'), (3, 'Б', 1, 'В'), (3, 'Б', 1, 'Г'), (3, 'Б', 2, 'А'), (3, 'Б', 2, 'Б'), (3, 'Б', 2, 'В'), (3, 'Б', 2, 'Г'), (3, 'Б', 3, 'А'), (3, 'Б', 3, 'Б'), (3, 'Б', 3, 'В'), (3, 'Б', 3, 'Г'), (3, 'В', 1, 'А'), (3, 'В', 1, 'Б'), (3, 'В', 1, 'В'), (3, 'В', 1, 'Г'), (3, 'В', 2, 'А'), (3, 'В', 2, 'Б'), (3, 'В', 2, 'В'), (3, 'В', 2, 'Г'), (3, 'В', 3, 'А'), (3, 'В', 3, 'Б'), (3, 'В', 3, 'В'), (3, 'В', 3, 'Г'), (3, 'Г', 1, 'А'), (3, 'Г', 1, 'Б'), (3, 'Г', 1, 'В'), (3, 'Г', 1, 'Г'), (3, 'Г', 2, 'А'), (3, 'Г', 2, 'Б'), (3, 'Г', 2, 'В'), (3, 'Г', 2, 'Г'), (3, 'Г', 3, 'А'), (3, 'Г', 3, 'Б'), (3, 'Г', 3, 'В'), (3, 'Г', 3, 'Г')]\n"
     ]
    }
   ],
   "source": [
    "# vibo: декартово произведение + repeat=2\n",
    "from itertools import product\n",
    "\n",
    "values = list(product([1, 2, 3], \"АБВГ\", repeat=2))\n",
    "print(values)"
   ],
   "metadata": {
    "collapsed": false,
    "pycharm": {
     "name": "#%%\n"
    }
   }
  },
  {
   "cell_type": "code",
   "execution_count": 13,
   "outputs": [
    {
     "name": "stdout",
     "output_type": "stream",
     "text": [
      "[('А', 'Б', 'В'), ('А', 'В', 'Б'), ('Б', 'А', 'В'), ('Б', 'В', 'А'), ('В', 'А', 'Б'), ('В', 'Б', 'А')]\n"
     ]
    }
   ],
   "source": [
    "# vibo: перестановка без повторений элементов\n",
    "from itertools import permutations\n",
    "\n",
    "values = list(permutations(\"АБВ\"))\n",
    "print(values)"
   ],
   "metadata": {
    "collapsed": false,
    "pycharm": {
     "name": "#%%\n"
    }
   }
  },
  {
   "cell_type": "code",
   "execution_count": 20,
   "outputs": [
    {
     "name": "stdout",
     "output_type": "stream",
     "text": [
      "[('А', 'Б'), ('А', 'В'), ('Б', 'В')]\n"
     ]
    }
   ],
   "source": [
    "# vibo: комбинации элементов\n",
    "from itertools import combinations\n",
    "\n",
    "values = list(combinations(\"АБВ\", 2))\n",
    "print(values)"
   ],
   "metadata": {
    "collapsed": false,
    "pycharm": {
     "name": "#%%\n"
    }
   }
  },
  {
   "cell_type": "code",
   "execution_count": 21,
   "outputs": [
    {
     "name": "stdout",
     "output_type": "stream",
     "text": [
      "[('А', 'А'), ('А', 'Б'), ('А', 'В'), ('Б', 'Б'), ('Б', 'В'), ('В', 'В')]\n"
     ]
    }
   ],
   "source": [
    "from itertools import combinations_with_replacement\n",
    "\n",
    "values = list(combinations_with_replacement(\"АБВ\", 2))\n",
    "print(values)"
   ],
   "metadata": {
    "collapsed": false,
    "pycharm": {
     "name": "#%%\n"
    }
   }
  },
  {
   "cell_type": "markdown",
   "source": [
    "##### ещё пара полезных функций"
   ],
   "metadata": {
    "collapsed": false,
    "pycharm": {
     "name": "#%% md\n"
    }
   }
  },
  {
   "cell_type": "code",
   "execution_count": 22,
   "outputs": [
    {
     "name": "stdout",
     "output_type": "stream",
     "text": [
      "1 A\n",
      "2 B\n",
      "3 C\n"
     ]
    }
   ],
   "source": [
    "# vibo: enumerate\n",
    "for index, value in enumerate(\"ABC\", 1):\n",
    "    print(index, value)"
   ],
   "metadata": {
    "collapsed": false,
    "pycharm": {
     "name": "#%%\n"
    }
   }
  },
  {
   "cell_type": "code",
   "execution_count": 23,
   "outputs": [
    {
     "name": "stdout",
     "output_type": "stream",
     "text": [
      "[('A', 1), ('B', 2), ('C', 3)]\n"
     ]
    }
   ],
   "source": [
    "# vibo: zip\n",
    "print(list(zip(\"ABC\", [1, 2, 3])))"
   ],
   "metadata": {
    "collapsed": false,
    "pycharm": {
     "name": "#%%\n"
    }
   }
  },
  {
   "cell_type": "code",
   "execution_count": 24,
   "outputs": [
    {
     "name": "stdout",
     "output_type": "stream",
     "text": [
      "[('A', 1), ('B', 2), ('C', 3)]\n"
     ]
    }
   ],
   "source": [
    "# vibo: zip позращает самую короткую последовательность\n",
    "print(list(zip(\"ABCDE\", [1, 2, 3])))"
   ],
   "metadata": {
    "collapsed": false,
    "pycharm": {
     "name": "#%%\n"
    }
   }
  },
  {
   "cell_type": "code",
   "execution_count": 25,
   "outputs": [
    {
     "ename": "TypeError",
     "evalue": "zip() takes no keyword arguments",
     "output_type": "error",
     "traceback": [
      "\u001B[0;31m---------------------------------------------------------------------------\u001B[0m",
      "\u001B[0;31mTypeError\u001B[0m                                 Traceback (most recent call last)",
      "Input \u001B[0;32mIn [25]\u001B[0m, in \u001B[0;36m<cell line: 1>\u001B[0;34m()\u001B[0m\n\u001B[0;32m----> 1\u001B[0m \u001B[38;5;28mprint\u001B[39m(\u001B[38;5;28mlist\u001B[39m(\u001B[38;5;28;43mzip\u001B[39;49m\u001B[43m(\u001B[49m\u001B[38;5;124;43m\"\u001B[39;49m\u001B[38;5;124;43mABCDE\u001B[39;49m\u001B[38;5;124;43m\"\u001B[39;49m\u001B[43m,\u001B[49m\u001B[43m \u001B[49m\u001B[43m[\u001B[49m\u001B[38;5;241;43m1\u001B[39;49m\u001B[43m,\u001B[49m\u001B[43m \u001B[49m\u001B[38;5;241;43m2\u001B[39;49m\u001B[43m,\u001B[49m\u001B[43m \u001B[49m\u001B[38;5;241;43m3\u001B[39;49m\u001B[43m]\u001B[49m\u001B[43m,\u001B[49m\u001B[43m \u001B[49m\u001B[43mstrict\u001B[49m\u001B[38;5;241;43m=\u001B[39;49m\u001B[38;5;28;43;01mTrue\u001B[39;49;00m\u001B[43m)\u001B[49m))\n",
      "\u001B[0;31mTypeError\u001B[0m: zip() takes no keyword arguments"
     ]
    }
   ],
   "source": [
    "# vibo: если в zip передать strict=True выдаст исключение\n",
    "print(list(zip(\"ABCDE\", [1, 2, 3], strict=True)))"
   ],
   "metadata": {
    "collapsed": false,
    "pycharm": {
     "name": "#%%\n"
    }
   }
  },
  {
   "cell_type": "markdown",
   "source": [
    "### Практика 16/20"
   ],
   "metadata": {
    "collapsed": false,
    "pycharm": {
     "name": "#%% md\n"
    }
   }
  },
  {
   "cell_type": "code",
   "execution_count": 29,
   "outputs": [
    {
     "name": "stdout",
     "output_type": "stream",
     "text": [
      "1. Аня\n",
      "2. Боря\n",
      "3. Вова\n"
     ]
    }
   ],
   "source": [
    "# A Полное решение\n",
    "for index, value in enumerate(input().split(), 1):\n",
    "    print(f'{index}. {value}')"
   ],
   "metadata": {
    "collapsed": false,
    "pycharm": {
     "name": "#%%\n"
    }
   }
  },
  {
   "cell_type": "code",
   "execution_count": 63,
   "outputs": [
    {
     "name": "stdout",
     "output_type": "stream",
     "text": [
      "Аня - Боря\n",
      "Вова - Дима\n"
     ]
    }
   ],
   "source": [
    "# B Полное решение\n",
    "for i in list(zip(input().split(\", \"), input().split(\", \"))):\n",
    "    print(\" - \".join(list(i)))"
   ],
   "metadata": {
    "collapsed": false,
    "pycharm": {
     "name": "#%%\n"
    }
   }
  },
  {
   "cell_type": "code",
   "execution_count": 70,
   "outputs": [
    {
     "name": "stdout",
     "output_type": "stream",
     "text": [
      "3.14\n",
      "4.71\n",
      "6.28\n",
      "7.85\n",
      "9.42\n"
     ]
    }
   ],
   "source": [
    "# C Полное решение\n",
    "from itertools import count\n",
    "\n",
    "start, finish, step = input().split()\n",
    "\n",
    "for value in count(float(start), float(step)):\n",
    "    if value <= float(finish):\n",
    "        print(round(value, 2))\n",
    "    else:\n",
    "        break"
   ],
   "metadata": {
    "collapsed": false,
    "pycharm": {
     "name": "#%%\n"
    }
   }
  },
  {
   "cell_type": "code",
   "execution_count": 88,
   "outputs": [
    {
     "name": "stdout",
     "output_type": "stream",
     "text": [
      "картина \n",
      "картина корзина \n",
      "картина корзина картонка \n"
     ]
    }
   ],
   "source": [
    "# D Полное решение\n",
    "from itertools import accumulate\n",
    "\n",
    "for value in accumulate([(i + \" \") for i in input().split()]):\n",
    "    print(value)"
   ],
   "metadata": {
    "collapsed": false,
    "pycharm": {
     "name": "#%%\n"
    }
   }
  },
  {
   "cell_type": "code",
   "execution_count": 112,
   "outputs": [
    {
     "name": "stdout",
     "output_type": "stream",
     "text": [
      "1. картина\n",
      "2. картонка\n",
      "3. корзина\n",
      "4. манка\n",
      "5. молоко\n",
      "6. мыло\n",
      "7. сыр\n",
      "8. хлеб\n"
     ]
    }
   ],
   "source": [
    "# E Полное решение\n",
    "from itertools import chain\n",
    "\n",
    "values = list(chain.from_iterable([input().split(\", \") for i in range(3)]))\n",
    "for ind, val in enumerate(sorted(values), 1):\n",
    "    print(f'{ind}. {val}')"
   ],
   "metadata": {
    "collapsed": false,
    "pycharm": {
     "name": "#%%\n"
    }
   }
  },
  {
   "cell_type": "code",
   "execution_count": 137,
   "outputs": [
    {
     "name": "stdout",
     "output_type": "stream",
     "text": [
      "2 пик\n",
      "2 бубен\n",
      "2 червей\n",
      "3 пик\n",
      "3 бубен\n",
      "3 червей\n",
      "4 пик\n",
      "4 бубен\n",
      "4 червей\n",
      "5 пик\n",
      "5 бубен\n",
      "5 червей\n",
      "6 пик\n",
      "6 бубен\n",
      "6 червей\n",
      "7 пик\n",
      "7 бубен\n",
      "7 червей\n",
      "8 пик\n",
      "8 бубен\n",
      "8 червей\n",
      "9 пик\n",
      "9 бубен\n",
      "9 червей\n",
      "10 пик\n",
      "10 бубен\n",
      "10 червей\n",
      "валет пик\n",
      "валет бубен\n",
      "валет червей\n",
      "дама пик\n",
      "дама бубен\n",
      "дама червей\n",
      "король пик\n",
      "король бубен\n",
      "король червей\n",
      "туз пик\n",
      "туз бубен\n",
      "туз червей\n"
     ]
    }
   ],
   "source": [
    "# F Полное решение\n",
    "import itertools\n",
    "\n",
    "item = input()\n",
    "\n",
    "# vibo: cтаршинство мастей по возрастанию в преферансe: пики, трефы, бубны, червы\n",
    "list1 = [\"пик\", \"треф\", \"бубен\", \"червей\"]\n",
    "list1.remove(item)\n",
    "\n",
    "list2 = [\"2\", \"3\", \"4\", \"5\", \"6\", \"7\", \"8\", \"9\", \"10\", \"валет\", \"дама\", \"король\", \"туз\"]\n",
    "\n",
    "for i in list(itertools.product(list2, list1)):\n",
    "    print(\" \".join(i))"
   ],
   "metadata": {
    "collapsed": false,
    "pycharm": {
     "name": "#%%\n"
    }
   }
  },
  {
   "cell_type": "code",
   "execution_count": 148,
   "outputs": [
    {
     "name": "stdout",
     "output_type": "stream",
     "text": [
      "Аня - Боря\n",
      "Аня - Вова\n",
      "Боря - Вова\n"
     ]
    }
   ],
   "source": [
    "# G Полное решение\n",
    "from itertools import combinations\n",
    "\n",
    "users = []\n",
    "for i in range(int(input())):\n",
    "    users.append(input())\n",
    "\n",
    "for i in list(combinations(users, 2)):\n",
    "    print(\" - \".join(list(i)))"
   ],
   "metadata": {
    "collapsed": false,
    "pycharm": {
     "name": "#%%\n"
    }
   }
  },
  {
   "cell_type": "code",
   "execution_count": 154,
   "outputs": [
    {
     "name": "stdout",
     "output_type": "stream",
     "text": [
      "Манная\n",
      "Гречневая\n",
      "Пшённая\n",
      "Овсяная\n",
      "Рисовая\n",
      "Манная\n",
      "Гречневая\n",
      "Пшённая\n",
      "Овсяная\n",
      "Рисовая\n",
      "Манная\n",
      "Гречневая\n"
     ]
    }
   ],
   "source": [
    "# H Полное решение\n",
    "from itertools import cycle\n",
    "\n",
    "menu = []\n",
    "for i in range(int(input())):\n",
    "    menu.append(input())\n",
    "\n",
    "days = int(input())\n",
    "\n",
    "day = 1\n",
    "for item in cycle(menu):\n",
    "    print(item)\n",
    "    # print(f\"day: {day}, days: {days}\")\n",
    "    if day < days:\n",
    "        day += 1\n",
    "    else:\n",
    "        break"
   ],
   "metadata": {
    "collapsed": false,
    "pycharm": {
     "name": "#%%\n"
    }
   }
  },
  {
   "cell_type": "code",
   "execution_count": 29,
   "outputs": [
    {
     "name": "stdout",
     "output_type": "stream",
     "text": [
      "1 2 3\n",
      "2 4 6\n",
      "3 6 9\n"
     ]
    }
   ],
   "source": [
    "# I Полное решение\n",
    "import itertools\n",
    "\n",
    "n = int(input())\n",
    "lst = list(itertools.product(list(range(1, n + 1)), repeat=2))\n",
    "\n",
    "ans = []\n",
    "[ans.append(i[0] * i[1]) for i in lst]\n",
    "\n",
    "for j in ans:\n",
    "    if ans != []:\n",
    "        print(\" \".join(map(str, ans[:n])))\n",
    "        ans = ans[n:]\n"
   ],
   "metadata": {
    "collapsed": false,
    "pycharm": {
     "name": "#%%\n"
    }
   }
  },
  {
   "cell_type": "code",
   "execution_count": 68,
   "outputs": [
    {
     "name": "stdout",
     "output_type": "stream",
     "text": [
      "А Б В\n",
      "1 1 3\n",
      "1 2 2\n",
      "1 3 1\n",
      "2 1 2\n",
      "2 2 1\n",
      "3 1 1\n"
     ]
    }
   ],
   "source": [
    "# J Полное решение\n",
    "from itertools import product\n",
    "\n",
    "n = int(input())\n",
    "\n",
    "print(f'А Б В')\n",
    "for i in list(product(range(1, n + 1), repeat=3)):\n",
    "    if sum(i) == n:\n",
    "        print(\" \".join(map(str, i)))"
   ],
   "metadata": {
    "collapsed": false,
    "pycharm": {
     "name": "#%%\n"
    }
   }
  },
  {
   "cell_type": "code",
   "execution_count": 121,
   "outputs": [
    {
     "name": "stdout",
     "output_type": "stream",
     "text": [
      "[(1,), (2,), (3,), (4,), (5,), (6,)]\n"
     ]
    }
   ],
   "source": [
    "# K НЕ РЕШЕНА\n",
    "# vibo: числовой прямоугольник\n",
    "\n",
    "import itertools\n",
    "\n",
    "print(list(itertools.product([1, 2, 3, 4, 5, 6], repeat=1)))"
   ],
   "metadata": {
    "collapsed": false,
    "pycharm": {
     "name": "#%%\n"
    }
   }
  },
  {
   "cell_type": "code",
   "execution_count": 74,
   "outputs": [
    {
     "name": "stdout",
     "output_type": "stream",
     "text": [
      "1. кофе\n",
      "2. печенье\n",
      "3. сушки\n",
      "4. чай\n"
     ]
    }
   ],
   "source": [
    "# L Полное решение\n",
    "from itertools import chain\n",
    "\n",
    "products = []\n",
    "for i in range(int(input())):\n",
    "    products.append(input().split(\", \"))\n",
    "\n",
    "for ind, vel in enumerate(sorted(list(chain.from_iterable(products))), 1):\n",
    "    print(f\"{ind}. {vel}\")"
   ],
   "metadata": {
    "collapsed": false,
    "pycharm": {
     "name": "#%%\n"
    }
   }
  },
  {
   "cell_type": "code",
   "execution_count": 93,
   "outputs": [
    {
     "name": "stdout",
     "output_type": "stream",
     "text": [
      "Аня, Боря, Вова, Дима\n",
      "Аня, Боря, Дима, Вова\n",
      "Аня, Вова, Боря, Дима\n",
      "Аня, Вова, Дима, Боря\n",
      "Аня, Дима, Боря, Вова\n",
      "Аня, Дима, Вова, Боря\n",
      "Боря, Аня, Вова, Дима\n",
      "Боря, Аня, Дима, Вова\n",
      "Боря, Вова, Аня, Дима\n",
      "Боря, Вова, Дима, Аня\n",
      "Боря, Дима, Аня, Вова\n",
      "Боря, Дима, Вова, Аня\n",
      "Вова, Аня, Боря, Дима\n",
      "Вова, Аня, Дима, Боря\n",
      "Вова, Боря, Аня, Дима\n",
      "Вова, Боря, Дима, Аня\n",
      "Вова, Дима, Аня, Боря\n",
      "Вова, Дима, Боря, Аня\n",
      "Дима, Аня, Боря, Вова\n",
      "Дима, Аня, Вова, Боря\n",
      "Дима, Боря, Аня, Вова\n",
      "Дима, Боря, Вова, Аня\n",
      "Дима, Вова, Аня, Боря\n",
      "Дима, Вова, Боря, Аня\n"
     ]
    }
   ],
   "source": [
    "# M Полное решение\n",
    "from itertools import permutations\n",
    "\n",
    "users = []\n",
    "for i in range(int(input())):\n",
    "    users.append(input())\n",
    "\n",
    "for i in list(permutations(sorted(users))):\n",
    "    print(', '.join(list(i)))"
   ],
   "metadata": {
    "collapsed": false,
    "pycharm": {
     "name": "#%%\n"
    }
   }
  },
  {
   "cell_type": "code",
   "execution_count": 102,
   "outputs": [
    {
     "name": "stdout",
     "output_type": "stream",
     "text": [
      "Аня, Боря, Вова\n",
      "Аня, Боря, Вова\n",
      "Аня, Боря, Дима\n",
      "Аня, Боря, Дима\n",
      "Аня, Боря, Маша\n",
      "Аня, Боря, Маша\n",
      "Аня, Вова, Боря\n",
      "Аня, Вова, Боря\n",
      "Аня, Вова, Дима\n",
      "Аня, Вова, Дима\n",
      "Аня, Вова, Маша\n",
      "Аня, Вова, Маша\n",
      "Аня, Дима, Боря\n",
      "Аня, Дима, Боря\n",
      "Аня, Дима, Вова\n",
      "Аня, Дима, Вова\n",
      "Аня, Дима, Маша\n",
      "Аня, Дима, Маша\n",
      "Аня, Маша, Боря\n",
      "Аня, Маша, Боря\n",
      "Аня, Маша, Вова\n",
      "Аня, Маша, Вова\n",
      "Аня, Маша, Дима\n",
      "Аня, Маша, Дима\n",
      "Боря, Аня, Вова\n",
      "Боря, Аня, Вова\n",
      "Боря, Аня, Дима\n",
      "Боря, Аня, Дима\n",
      "Боря, Аня, Маша\n",
      "Боря, Аня, Маша\n",
      "Боря, Вова, Аня\n",
      "Боря, Вова, Аня\n",
      "Боря, Вова, Дима\n",
      "Боря, Вова, Дима\n",
      "Боря, Вова, Маша\n",
      "Боря, Вова, Маша\n",
      "Боря, Дима, Аня\n",
      "Боря, Дима, Аня\n",
      "Боря, Дима, Вова\n",
      "Боря, Дима, Вова\n",
      "Боря, Дима, Маша\n",
      "Боря, Дима, Маша\n",
      "Боря, Маша, Аня\n",
      "Боря, Маша, Аня\n",
      "Боря, Маша, Вова\n",
      "Боря, Маша, Вова\n",
      "Боря, Маша, Дима\n",
      "Боря, Маша, Дима\n",
      "Вова, Аня, Боря\n",
      "Вова, Аня, Боря\n",
      "Вова, Аня, Дима\n",
      "Вова, Аня, Дима\n",
      "Вова, Аня, Маша\n",
      "Вова, Аня, Маша\n",
      "Вова, Боря, Аня\n",
      "Вова, Боря, Аня\n",
      "Вова, Боря, Дима\n",
      "Вова, Боря, Дима\n",
      "Вова, Боря, Маша\n",
      "Вова, Боря, Маша\n",
      "Вова, Дима, Аня\n",
      "Вова, Дима, Аня\n",
      "Вова, Дима, Боря\n",
      "Вова, Дима, Боря\n",
      "Вова, Дима, Маша\n",
      "Вова, Дима, Маша\n",
      "Вова, Маша, Аня\n",
      "Вова, Маша, Аня\n",
      "Вова, Маша, Боря\n",
      "Вова, Маша, Боря\n",
      "Вова, Маша, Дима\n",
      "Вова, Маша, Дима\n",
      "Дима, Аня, Боря\n",
      "Дима, Аня, Боря\n",
      "Дима, Аня, Вова\n",
      "Дима, Аня, Вова\n",
      "Дима, Аня, Маша\n",
      "Дима, Аня, Маша\n",
      "Дима, Боря, Аня\n",
      "Дима, Боря, Аня\n",
      "Дима, Боря, Вова\n",
      "Дима, Боря, Вова\n",
      "Дима, Боря, Маша\n",
      "Дима, Боря, Маша\n",
      "Дима, Вова, Аня\n",
      "Дима, Вова, Аня\n",
      "Дима, Вова, Боря\n",
      "Дима, Вова, Боря\n",
      "Дима, Вова, Маша\n",
      "Дима, Вова, Маша\n",
      "Дима, Маша, Аня\n",
      "Дима, Маша, Аня\n",
      "Дима, Маша, Боря\n",
      "Дима, Маша, Боря\n",
      "Дима, Маша, Вова\n",
      "Дима, Маша, Вова\n",
      "Маша, Аня, Боря\n",
      "Маша, Аня, Боря\n",
      "Маша, Аня, Вова\n",
      "Маша, Аня, Вова\n",
      "Маша, Аня, Дима\n",
      "Маша, Аня, Дима\n",
      "Маша, Боря, Аня\n",
      "Маша, Боря, Аня\n",
      "Маша, Боря, Вова\n",
      "Маша, Боря, Вова\n",
      "Маша, Боря, Дима\n",
      "Маша, Боря, Дима\n",
      "Маша, Вова, Аня\n",
      "Маша, Вова, Аня\n",
      "Маша, Вова, Боря\n",
      "Маша, Вова, Боря\n",
      "Маша, Вова, Дима\n",
      "Маша, Вова, Дима\n",
      "Маша, Дима, Аня\n",
      "Маша, Дима, Аня\n",
      "Маша, Дима, Боря\n",
      "Маша, Дима, Боря\n",
      "Маша, Дима, Вова\n",
      "Маша, Дима, Вова\n"
     ]
    }
   ],
   "source": [
    "# N Полное решение\n",
    "# vibo: WA еа тесте-3\n",
    "from itertools import permutations\n",
    "\n",
    "users = []\n",
    "for i in range(int(input())):\n",
    "    users.append(input())\n",
    "\n",
    "for i in list(permutations(sorted(users), 3)):\n",
    "    print(', '.join(list(i)))"
   ],
   "metadata": {
    "collapsed": false,
    "pycharm": {
     "name": "#%%\n"
    }
   }
  },
  {
   "cell_type": "code",
   "execution_count": 105,
   "outputs": [
    {
     "name": "stdout",
     "output_type": "stream",
     "text": [
      "кофе печенье сушки\n",
      "кофе печенье чай\n",
      "кофе сушки печенье\n",
      "кофе сушки чай\n",
      "кофе чай печенье\n",
      "кофе чай сушки\n",
      "печенье кофе сушки\n",
      "печенье кофе чай\n",
      "печенье сушки кофе\n",
      "печенье сушки чай\n",
      "печенье чай кофе\n",
      "печенье чай сушки\n",
      "сушки кофе печенье\n",
      "сушки кофе чай\n",
      "сушки печенье кофе\n",
      "сушки печенье чай\n",
      "сушки чай кофе\n",
      "сушки чай печенье\n",
      "чай кофе печенье\n",
      "чай кофе сушки\n",
      "чай печенье кофе\n",
      "чай печенье сушки\n",
      "чай сушки кофе\n",
      "чай сушки печенье\n"
     ]
    }
   ],
   "source": [
    "# 0 Полное решение\n",
    "from itertools import chain\n",
    "from itertools import permutations\n",
    "\n",
    "items = []\n",
    "for i in range(int(input())):\n",
    "    items.append(input().split(\", \"))\n",
    "\n",
    "items = sorted(list(chain.from_iterable(items)))\n",
    "\n",
    "for i in list(permutations(items, 3)):\n",
    "    print(' '.join(list(i)))"
   ],
   "metadata": {
    "collapsed": false,
    "pycharm": {
     "name": "#%%\n"
    }
   }
  },
  {
   "cell_type": "code",
   "execution_count": null,
   "outputs": [],
   "source": [
    "# P НЕ РЕШЕНА"
   ],
   "metadata": {
    "collapsed": false,
    "pycharm": {
     "name": "#%%\n"
    }
   }
  },
  {
   "cell_type": "code",
   "execution_count": null,
   "outputs": [],
   "source": [
    "# Q НЕ РЕШЕНА"
   ],
   "metadata": {
    "collapsed": false,
    "pycharm": {
     "name": "#%%\n"
    }
   }
  },
  {
   "cell_type": "code",
   "execution_count": 142,
   "outputs": [
    {
     "name": "stdout",
     "output_type": "stream",
     "text": [
      "a b c f\n",
      "0 0 0 0\n",
      "0 0 1 0\n",
      "0 1 0 0\n",
      "0 1 1 0\n",
      "1 0 0 0\n",
      "1 0 1 1\n",
      "1 1 0 0\n",
      "1 1 1 0\n"
     ]
    }
   ],
   "source": [
    "# R Полное решение\n",
    "\n",
    "# \" замечательные функции: exec и eval\" (c)\n",
    "\n",
    "# vibo: input() -> not a or b and c\n",
    "# vibo: input() -> a and not b and c\n",
    "\n",
    "from itertools import product\n",
    "\n",
    "formula = input()\n",
    "print(f'a b c f')\n",
    "for i in list(product([0, 1], repeat=3)):\n",
    "    a, b, c = i\n",
    "    # vibo: eval принимает строку и работает с ней как с выражением\n",
    "    f = int(eval(formula))\n",
    "    print(f\"{a} {b} {c} {f}\")"
   ],
   "metadata": {
    "collapsed": false,
    "pycharm": {
     "name": "#%%\n"
    }
   }
  },
  {
   "cell_type": "code",
   "execution_count": 79,
   "outputs": [
    {
     "name": "stdout",
     "output_type": "stream",
     "text": [
      "A B F\n",
      "0 0 0\n",
      "0 1 0\n",
      "1 0 1\n",
      "1 1 0\n"
     ]
    }
   ],
   "source": [
    "# S Полное решение\n",
    "# vibo: input() -> A and not B and A\n",
    "# vibo: input() -> 'not A or B and C'\n",
    "\n",
    "from itertools import product\n",
    "\n",
    "formula = input()\n",
    "glob = set()\n",
    "for i in formula:\n",
    "    if i.istitle():\n",
    "        glob.add(i)\n",
    "glob = sorted(list(glob))\n",
    "n_glob = len(glob)\n",
    "print(f'{\" \".join(glob)} F')\n",
    "\n",
    "for j in list(product([0, 1], repeat=n_glob)):\n",
    "    new_glob = dict()\n",
    "    # vibo: создаем словарь для переменных\n",
    "    for k, v in zip(glob, j):\n",
    "        new_glob[k] = v\n",
    "\n",
    "    ans = new_glob.values()\n",
    "    # vibo: передаем в eval словарь с глобальными переменными\n",
    "    print(\" \".join(map(str, ans)) + ' ' + str(int(eval(formula, new_glob))))"
   ],
   "metadata": {
    "collapsed": false,
    "pycharm": {
     "name": "#%%\n"
    }
   }
  },
  {
   "cell_type": "code",
   "execution_count": 106,
   "outputs": [],
   "source": [
    "# T НЕ РЕШЕНА"
   ],
   "metadata": {
    "collapsed": false,
    "pycharm": {
     "name": "#%%\n"
    }
   }
  }
 ],
 "metadata": {
  "kernelspec": {
   "display_name": "Python 3",
   "language": "python",
   "name": "python3"
  },
  "language_info": {
   "codemirror_mode": {
    "name": "ipython",
    "version": 2
   },
   "file_extension": ".py",
   "mimetype": "text/x-python",
   "name": "python",
   "nbconvert_exporter": "python",
   "pygments_lexer": "ipython2",
   "version": "2.7.6"
  }
 },
 "nbformat": 4,
 "nbformat_minor": 0
}