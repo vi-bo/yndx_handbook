{
 "cells": [
  {
   "cell_type": "markdown",
   "metadata": {
    "pycharm": {
     "name": "#%% md\n"
    }
   },
   "source": [
    "# 2. Базовые конструкции Python"
   ]
  },
  {
   "cell_type": "markdown",
   "source": [
    "## 2.4. Вложенные циклы"
   ],
   "metadata": {
    "collapsed": false,
    "pycharm": {
     "name": "#%% md\n"
    }
   }
  },
  {
   "cell_type": "markdown",
   "source": [
    "### Теория"
   ],
   "metadata": {
    "collapsed": false,
    "pycharm": {
     "name": "#%% md\n"
    }
   }
  },
  {
   "cell_type": "code",
   "execution_count": 21,
   "outputs": [
    {
     "name": "stdout",
     "output_type": "stream",
     "text": [
      "False\n",
      "116 119\n",
      "t w\n"
     ]
    }
   ],
   "source": [
    "letter_1 = \"t\"\n",
    "letter_2 = \"w\"\n",
    "print(letter_1 > letter_2) # False\n",
    "print(ord(\"t\"), ord(\"w\")) # 116 119\n",
    "print(chr(116), chr(119)) # t w"
   ],
   "metadata": {
    "collapsed": false,
    "pycharm": {
     "name": "#%%\n"
    }
   }
  },
  {
   "cell_type": "code",
   "execution_count": null,
   "outputs": [],
   "source": [
    "for i in range(26):\n",
    "    for j in range(26):\n",
    "        print(f\"{chr(ord('a') + i)}{chr(ord('a') + j)}\")"
   ],
   "metadata": {
    "collapsed": false,
    "pycharm": {
     "name": "#%%\n",
     "is_executing": true
    }
   }
  },
  {
   "cell_type": "code",
   "execution_count": null,
   "outputs": [],
   "source": [
    "password = \"right_password\"\n",
    "while True:\n",
    "    if input(\"Введите пароль: \") == password:\n",
    "        print(\"Пароль принимается\")\n",
    "        break"
   ],
   "metadata": {
    "collapsed": false,
    "pycharm": {
     "name": "#%%\n"
    }
   }
  },
  {
   "cell_type": "code",
   "execution_count": null,
   "outputs": [],
   "source": [
    "# vibo: флаг на окончание внутреннего цикла для выхода из внешнего\n",
    "flag = False\n",
    "for i in range(26):\n",
    "    for j in range(26):\n",
    "        text = f\"{chr(ord('a') + i)}{chr(ord('a') + j)}\"\n",
    "        if text == \"ya\":\n",
    "            print(text)\n",
    "            flag = True\n",
    "            break\n",
    "        print(text)\n",
    "    if flag:\n",
    "        break"
   ],
   "metadata": {
    "collapsed": false,
    "pycharm": {
     "name": "#%%\n"
    }
   }
  },
  {
   "cell_type": "code",
   "execution_count": 23,
   "outputs": [
    {
     "name": "stdout",
     "output_type": "stream",
     "text": [
      "OK\n"
     ]
    }
   ],
   "source": [
    "flag1 = True\n",
    "flag2 = False\n",
    "\n",
    "if flag1:\n",
    "    print('OK')\n",
    "if flag2:\n",
    "    print('NOT OK')"
   ],
   "metadata": {
    "collapsed": false,
    "pycharm": {
     "name": "#%%\n"
    }
   }
  },
  {
   "cell_type": "code",
   "execution_count": null,
   "outputs": [],
   "source": [
    "# # vibo: continue скипает итерацию при i = j\n",
    "for i in range(26):\n",
    "    for j in range(26):\n",
    "        if i == j:\n",
    "            continue\n",
    "        print(f\"{chr(ord('a') + i)}{chr(ord('a') + j)}\")\n",
    "\n",
    "# # vibo: можно так (более привычно)\n",
    "for i in range(26):\n",
    "    for j in range(26):\n",
    "        if i != j:\n",
    "            print(f\"{chr(ord('a') + i)}{chr(ord('a') + j)}\")"
   ],
   "metadata": {
    "collapsed": false,
    "pycharm": {
     "name": "#%%\n",
     "is_executing": true
    }
   }
  },
  {
   "cell_type": "code",
   "execution_count": null,
   "outputs": [],
   "source": [
    "while input(\"Введите строку (СТОП для остановки): \") != \"СТОП\":\n",
    "    pass\n",
    "else:\n",
    "    print(\"Цикл завершён\")"
   ],
   "metadata": {
    "collapsed": false,
    "pycharm": {
     "name": "#%%\n"
    }
   }
  },
  {
   "cell_type": "code",
   "execution_count": null,
   "outputs": [],
   "source": [
    "while (text := input(\"Введите строку (СТОП для остановки): \")) != \"СТОП\":\n",
    "    if text == \"ignore_else\":\n",
    "        break\n",
    "else:\n",
    "    print(\"Цикл завершён\")"
   ],
   "metadata": {
    "collapsed": false,
    "pycharm": {
     "name": "#%%\n"
    }
   }
  },
  {
   "cell_type": "markdown",
   "source": [
    "\n",
    "### Практика 16/20"
   ],
   "metadata": {
    "collapsed": false,
    "pycharm": {
     "name": "#%% md\n"
    }
   }
  },
  {
   "cell_type": "code",
   "execution_count": 1,
   "outputs": [
    {
     "name": "stdout",
     "output_type": "stream",
     "text": [
      "1 2 3 4 5\n",
      "2 4 6 8 10\n",
      "3 6 9 12 15\n",
      "4 8 12 16 20\n",
      "5 10 15 20 25\n"
     ]
    }
   ],
   "source": [
    "# A Полное решение\n",
    "num = int(input())\n",
    "\n",
    "for i in range(1, num + 1):\n",
    "    string_list = []\n",
    "    for j in range(1, num + 1):\n",
    "        string_list.append(str(i * j))\n",
    "    print(' '.join(string_list))"
   ],
   "metadata": {
    "collapsed": false,
    "pycharm": {
     "name": "#%%\n"
    }
   }
  },
  {
   "cell_type": "code",
   "execution_count": 2,
   "outputs": [
    {
     "name": "stdout",
     "output_type": "stream",
     "text": [
      "1 * 1 = 1\n",
      "2 * 1 = 2\n",
      "3 * 1 = 3\n",
      "4 * 1 = 4\n",
      "5 * 1 = 5\n",
      "1 * 2 = 2\n",
      "2 * 2 = 4\n",
      "3 * 2 = 6\n",
      "4 * 2 = 8\n",
      "5 * 2 = 10\n",
      "1 * 3 = 3\n",
      "2 * 3 = 6\n",
      "3 * 3 = 9\n",
      "4 * 3 = 12\n",
      "5 * 3 = 15\n",
      "1 * 4 = 4\n",
      "2 * 4 = 8\n",
      "3 * 4 = 12\n",
      "4 * 4 = 16\n",
      "5 * 4 = 20\n",
      "1 * 5 = 5\n",
      "2 * 5 = 10\n",
      "3 * 5 = 15\n",
      "4 * 5 = 20\n",
      "5 * 5 = 25\n"
     ]
    }
   ],
   "source": [
    "# B Полное решение\n",
    "num = int(input())\n",
    "\n",
    "for i in range(1, num + 1):\n",
    "    for j in range(1, num + 1):\n",
    "        print(f'{j} * {i} = {i * j}')"
   ],
   "metadata": {
    "collapsed": false,
    "pycharm": {
     "name": "#%%\n"
    }
   }
  },
  {
   "cell_type": "code",
   "execution_count": 3,
   "outputs": [
    {
     "name": "stdout",
     "output_type": "stream",
     "text": [
      "1\n",
      "2 3\n",
      "4 5 6\n",
      "7 8 9 10\n",
      "11 12 13 14\n"
     ]
    }
   ],
   "source": [
    "# C Полное решение\n",
    "# vibo: определял границы каждой строки из формул членов прогрессии\n",
    "\n",
    "n = int(input())\n",
    "\n",
    "for i in range(1, n + 1):\n",
    "\n",
    "    # print(f'i: {i}')\n",
    "\n",
    "    start = int(1 + (i - 1) * i / 2)\n",
    "    # print(f'        start: {start}')\n",
    "\n",
    "    end = int(i * (i + 1) / 2)\n",
    "    # print(f'        end: {end}')\n",
    "\n",
    "    if end < n:\n",
    "        ans = list(range(start, end + 1))\n",
    "        print(' '.join(map(str, ans)))\n",
    "    else:\n",
    "        ans = list(range(start, n + 1))\n",
    "        print(' '.join(map(str, ans)))\n",
    "        break"
   ],
   "metadata": {
    "collapsed": false,
    "pycharm": {
     "name": "#%%\n"
    }
   }
  },
  {
   "cell_type": "code",
   "execution_count": 4,
   "outputs": [
    {
     "name": "stdout",
     "output_type": "stream",
     "text": [
      "1\n",
      "2 3\n",
      "4 5 6\n",
      "7 8 9 10\n",
      "11 12 13 14\n"
     ]
    }
   ],
   "source": [
    "# C Полное решение\n",
    "# vibo: решение через слайсы короче, чит\n",
    "\n",
    "num = int(input())\n",
    "\n",
    "num = [i for i in range (1, num + 1)]\n",
    "get = 1\n",
    "\n",
    "while len(num) > 0:\n",
    "    print(' '.join(map(str, num[:get])))\n",
    "    num = num[get:]\n",
    "    get += 1"
   ],
   "metadata": {
    "collapsed": false,
    "pycharm": {
     "name": "#%%\n"
    }
   }
  },
  {
   "cell_type": "code",
   "execution_count": 5,
   "outputs": [
    {
     "name": "stdout",
     "output_type": "stream",
     "text": [
      "45\n"
     ]
    }
   ],
   "source": [
    "# D Полное решение\n",
    "n_num = int(input())\n",
    "\n",
    "sum = 0\n",
    "for i in range(n_num):\n",
    "    str_num = input()\n",
    "    sum_str_num = 0\n",
    "    for j in str_num:\n",
    "        sum_str_num += int(j)\n",
    "    # print(sum_str_num)\n",
    "    sum += sum_str_num\n",
    "\n",
    "print(sum)"
   ],
   "metadata": {
    "collapsed": false,
    "pycharm": {
     "name": "#%%\n"
    }
   }
  },
  {
   "cell_type": "code",
   "execution_count": null,
   "outputs": [],
   "source": [
    "# E Полное решение\n",
    "num_str = int(input())\n",
    "\n",
    "ans = 0\n",
    "\n",
    "for i in range(num_str):\n",
    "    flag = True # vibo: используем флаг для выхода из цикла\n",
    "    while (string := input()) != 'ВСЁ':\n",
    "\n",
    "        if string == 'зайка' and flag:\n",
    "            ans += 1\n",
    "            flag = False # vibo: считаем только одного зайку на строку\n",
    "\n",
    "print(ans)"
   ],
   "metadata": {
    "collapsed": false,
    "pycharm": {
     "name": "#%%\n"
    }
   }
  },
  {
   "cell_type": "code",
   "execution_count": 6,
   "outputs": [
    {
     "name": "stdout",
     "output_type": "stream",
     "text": [
      "3\n"
     ]
    }
   ],
   "source": [
    "# F Полное решение\n",
    "# vibo: задача на НОД\n",
    "\n",
    "n_num = int(input())\n",
    "flst = []\n",
    "for i in range(n_num):\n",
    "    num = int(input())\n",
    "    lst = []\n",
    "    for j in range(1, num + 1):\n",
    "        if num % j == 0:\n",
    "            lst.append(j)\n",
    "    # print(lst)\n",
    "    flst.append(lst)\n",
    "\n",
    "# print(flst)\n",
    "\n",
    "ans = set(flst[0])\n",
    "for i in range(1, n_num):\n",
    "    ans = ans & set(flst[i])\n",
    "\n",
    "print(max(ans))"
   ],
   "metadata": {
    "collapsed": false,
    "pycharm": {
     "name": "#%%\n"
    }
   }
  },
  {
   "cell_type": "code",
   "execution_count": 7,
   "outputs": [
    {
     "name": "stdout",
     "output_type": "stream",
     "text": [
      "До старта 3 секунд(ы)\n",
      "До старта 2 секунд(ы)\n",
      "До старта 1 секунд(ы)\n",
      "Старт 1!!!\n",
      "До старта 4 секунд(ы)\n",
      "До старта 3 секунд(ы)\n",
      "До старта 2 секунд(ы)\n",
      "До старта 1 секунд(ы)\n",
      "Старт 2!!!\n",
      "До старта 5 секунд(ы)\n",
      "До старта 4 секунд(ы)\n",
      "До старта 3 секунд(ы)\n",
      "До старта 2 секунд(ы)\n",
      "До старта 1 секунд(ы)\n",
      "Старт 3!!!\n"
     ]
    }
   ],
   "source": [
    "# G Полное решение\n",
    "num_user = int(input())\n",
    "\n",
    "for j in range(num_user):\n",
    "    for i in range(3 + j, 0, -1):\n",
    "        print(f'До старта {(i)} секунд(ы)')\n",
    "    print(f'Старт {j + 1}!!!')"
   ],
   "metadata": {
    "collapsed": false,
    "pycharm": {
     "name": "#%%\n"
    }
   }
  },
  {
   "cell_type": "code",
   "execution_count": null,
   "outputs": [],
   "source": [
    "# H Полное решение\n",
    "\n",
    "input_content = int(input())\n",
    "\n",
    "my_dict = {}\n",
    "for i in range(input_content):\n",
    "    name, num = input(), input()\n",
    "    num_sum = 0\n",
    "    for j in list(num):\n",
    "        num_sum += int(j)\n",
    "    # print(name, num_sum)\n",
    "    my_dict[num_sum] = name\n",
    "\n",
    "winner_points = max(list(my_dict.keys()))\n",
    "print(my_dict[winner_points])"
   ],
   "metadata": {
    "collapsed": false,
    "pycharm": {
     "name": "#%%\n"
    }
   }
  },
  {
   "cell_type": "code",
   "execution_count": null,
   "outputs": [],
   "source": [
    "# I Полное решение\n",
    "n_num = int(input())\n",
    "\n",
    "max_num_list = []\n",
    "for i in range(n_num):\n",
    "    num_list = []\n",
    "    num = input()\n",
    "    for j in num:\n",
    "        num_list.append(int(j))\n",
    "    # print(num_list)\n",
    "    max_num = max(num_list)\n",
    "    max_num_list.append(str(max_num))\n",
    "print(''.join(max_num_list))"
   ],
   "metadata": {
    "collapsed": false,
    "pycharm": {
     "name": "#%%\n"
    }
   }
  },
  {
   "cell_type": "code",
   "execution_count": 8,
   "outputs": [
    {
     "name": "stdout",
     "output_type": "stream",
     "text": [
      "А Б В\n",
      "1 1 3\n",
      "1 2 2\n",
      "1 3 1\n",
      "2 1 2\n",
      "2 2 1\n",
      "3 1 1\n"
     ]
    }
   ],
   "source": [
    "# J Полное решение\n",
    "items = int(input())\n",
    "\n",
    "print(f'А Б В')\n",
    "\n",
    "sum_items = 0\n",
    "\n",
    "for i in range(1, items):\n",
    "    for j in range(1, items):\n",
    "        for k in range(1, items):\n",
    "            sum_items = i + j + k\n",
    "            if sum_items == items:\n",
    "                print(f'{i} {j} {k}')"
   ],
   "metadata": {
    "collapsed": false,
    "pycharm": {
     "name": "#%%\n"
    }
   }
  },
  {
   "cell_type": "code",
   "execution_count": null,
   "outputs": [],
   "source": [
    "# K Полное решение\n",
    "# vibo: модификация простых чисел\n",
    "\n",
    "count_n = int(input())\n",
    "\n",
    "def prime(n):\n",
    "\n",
    "    ans = 0\n",
    "\n",
    "    if n == 1:\n",
    "        # print(\"NO\")\n",
    "        pass\n",
    "\n",
    "    elif n == 2 or n == 3:\n",
    "        # print('YES')\n",
    "        ans = 1\n",
    "\n",
    "    elif (n % 2 == 0 and n != 2) or (n % 3 == 0 and n != 3) or (n % 5 == 0 and n != 5):\n",
    "        # print('NO')\n",
    "        pass\n",
    "\n",
    "    else:\n",
    "        nums = range(3, n + 1, 2)\n",
    "\n",
    "        for i in nums[:-1]:\n",
    "\n",
    "            if n % i == 0:\n",
    "                flag = False\n",
    "                break\n",
    "            else:\n",
    "                flag = True\n",
    "        if flag:\n",
    "            # print('YES')\n",
    "            ans = 1\n",
    "        else:\n",
    "            # print('NO')\n",
    "            pass\n",
    "\n",
    "    return ans\n",
    "\n",
    "total = 0\n",
    "for i in range(count_n):\n",
    "    n = int(input())\n",
    "    # print(f'n: {n}')\n",
    "    # print(prime(n))\n",
    "    total += prime(n)"
   ],
   "metadata": {
    "collapsed": false,
    "pycharm": {
     "name": "#%%\n"
    }
   }
  },
  {
   "cell_type": "code",
   "execution_count": 9,
   "outputs": [
    {
     "name": "stdout",
     "output_type": "stream",
     "text": [
      " 1  2  3  4  5  6\n",
      " 7  8  9 10 11 12\n",
      "13 14 15 16 17 18\n",
      "19 20 21 22 23 24\n"
     ]
    }
   ],
   "source": [
    "# L Полное решение\n",
    "# vibo: числовой прямоугольник (по горизонтали)\n",
    "\n",
    "n, m = int(input()), int(input())\n",
    "\n",
    "start = 1\n",
    "finish = start + m\n",
    "\n",
    "for i in range(n):\n",
    "\n",
    "    ans = list(range(start, finish))\n",
    "\n",
    "    if n * m < 10:\n",
    "        new_ans = []\n",
    "        for k in ans:\n",
    "            new_ans.append(str(k))\n",
    "\n",
    "    if n * m >= 10:\n",
    "        new_ans = []\n",
    "        for j in ans:\n",
    "            if j < 10:\n",
    "                j = ' ' + str(j)\n",
    "                new_ans.append(j)\n",
    "            else:\n",
    "                j = str(j)\n",
    "                new_ans.append(j)\n",
    "\n",
    "    if n * m >= 100:\n",
    "        new_ans = []\n",
    "        for j in ans:\n",
    "            if j < 10:\n",
    "                new_j = '  ' + str(j)\n",
    "                new_ans.append(new_j)\n",
    "            if j >= 10 and j < 100:\n",
    "                new_j = ' ' + str(j)\n",
    "                new_ans.append(new_j)\n",
    "            if j >= 100:\n",
    "                new_j = str(j)\n",
    "                new_ans.append(new_j)\n",
    "\n",
    "    print(\" \".join(new_ans))\n",
    "    start = finish\n",
    "    finish = start + m"
   ],
   "metadata": {
    "collapsed": false,
    "pycharm": {
     "name": "#%%\n"
    }
   }
  },
  {
   "cell_type": "code",
   "execution_count": 10,
   "outputs": [
    {
     "name": "stdout",
     "output_type": "stream",
     "text": [
      " 1  5  9 13 17 21\n",
      " 2  6 10 14 18 22\n",
      " 3  7 11 15 19 23\n",
      " 4  8 12 16 20 24\n"
     ]
    }
   ],
   "source": [
    "# M Полное решение\n",
    "# vibo: числовой прямоугольник (по вертикали)\n",
    "\n",
    "n, m = int(input()), int(input())\n",
    "\n",
    "for i in range(1, n + 1):\n",
    "    ans = list(range(i, m * n + 1, n))\n",
    "\n",
    "    if n * m < 10:\n",
    "        new_ans = []\n",
    "        for k in ans:\n",
    "            new_ans.append(str(k))\n",
    "\n",
    "    if n * m >= 10:\n",
    "        new_ans = []\n",
    "        for j in ans:\n",
    "            if j < 10:\n",
    "                j = ' ' + str(j)\n",
    "                new_ans.append(j)\n",
    "            else:\n",
    "                j = str(j)\n",
    "                new_ans.append(j)\n",
    "\n",
    "    if n * m >= 100:\n",
    "        new_ans = []\n",
    "        for j in ans:\n",
    "            if j < 10:\n",
    "                new_j = '  ' + str(j)\n",
    "                new_ans.append(new_j)\n",
    "            if j >= 10 and j < 100:\n",
    "                new_j = ' ' + str(j)\n",
    "                new_ans.append(new_j)\n",
    "            if j >= 100:\n",
    "                new_j = str(j)\n",
    "                new_ans.append(new_j)\n",
    "\n",
    "    print(\" \".join(new_ans))"
   ],
   "metadata": {
    "collapsed": false,
    "pycharm": {
     "name": "#%%\n"
    }
   }
  },
  {
   "cell_type": "code",
   "execution_count": 11,
   "outputs": [
    {
     "name": "stdout",
     "output_type": "stream",
     "text": [
      " 1  2  3  4  5  6\n",
      "12 11 10  9  8  7\n",
      "13 14 15 16 17 18\n",
      "24 23 22 21 20 19\n"
     ]
    }
   ],
   "source": [
    "# N Полное решение\n",
    "# vibo: числовой прямоугольник (змейка по горизонтали)\n",
    "\n",
    "n, m = int(input()), int(input())\n",
    "\n",
    "start = 1\n",
    "finish = start + m\n",
    "\n",
    "for i in range(n):\n",
    "\n",
    "    ans = list(range(start, finish))\n",
    "\n",
    "    if n * m < 10:\n",
    "        new_ans = []\n",
    "        for k in ans:\n",
    "            new_ans.append(str(k))\n",
    "\n",
    "    if n * m >= 10:\n",
    "        new_ans = []\n",
    "        for j in ans:\n",
    "            if j < 10:\n",
    "                j = ' ' + str(j)\n",
    "                new_ans.append(j)\n",
    "            else:\n",
    "                j = str(j)\n",
    "                new_ans.append(j)\n",
    "\n",
    "    if n * m >= 100:\n",
    "        new_ans = []\n",
    "        for j in ans:\n",
    "            if j < 10:\n",
    "                new_j = '  ' + str(j)\n",
    "                new_ans.append(new_j)\n",
    "            if j >= 10 and j < 100:\n",
    "                new_j = ' ' + str(j)\n",
    "                new_ans.append(new_j)\n",
    "            if j >= 100:\n",
    "                new_j = str(j)\n",
    "                new_ans.append(new_j)\n",
    "\n",
    "    if i % 2 == 0:\n",
    "        new_new_ans = new_ans\n",
    "    if i % 2 != 0:\n",
    "        new_new_ans = new_ans[::-1]\n",
    "    print(\" \".join(new_new_ans))\n",
    "    start = finish\n",
    "    finish = start + m"
   ],
   "metadata": {
    "collapsed": false,
    "pycharm": {
     "name": "#%%\n"
    }
   }
  },
  {
   "cell_type": "code",
   "execution_count": 12,
   "outputs": [
    {
     "name": "stdout",
     "output_type": "stream",
     "text": [
      " 1  8  9 16 17 24\n",
      " 2  7 10 15 18 23\n",
      " 3  6 11 14 19 22\n",
      " 4  5 12 13 20 21\n"
     ]
    }
   ],
   "source": [
    "# O Полное решение\n",
    "# vibo: числовой прямоугольник (змейка по вертикали)\n",
    "# vibo: решение через numpy\n",
    "\n",
    "import numpy as np\n",
    "\n",
    "m, n = int(input()), int(input())\n",
    "\n",
    "mtr = np.array([i for i in range(1, n * m + 1)]).reshape(n, m)\n",
    "\n",
    "for j in range(m):\n",
    "    ans = []\n",
    "    for i in range(n):\n",
    "        if i % 2 == 0:\n",
    "            ans.append(mtr[i][j])\n",
    "        else:\n",
    "            ans.append(mtr[i][-j - 1])\n",
    "\n",
    "    if n * m < 10:\n",
    "        new_ans = []\n",
    "        for k in ans:\n",
    "            new_ans.append(str(k))\n",
    "\n",
    "    if n * m >= 10:\n",
    "        new_ans = []\n",
    "        for j in ans:\n",
    "            if j < 10:\n",
    "                j = ' ' + str(j)\n",
    "                new_ans.append(j)\n",
    "            else:\n",
    "                j = str(j)\n",
    "                new_ans.append(j)\n",
    "\n",
    "    if n * m >= 100:\n",
    "        new_ans = []\n",
    "        for j in ans:\n",
    "            if j < 10:\n",
    "                new_j = '  ' + str(j)\n",
    "                new_ans.append(new_j)\n",
    "            if 10 <= j < 100:\n",
    "                new_j = ' ' + str(j)\n",
    "                new_ans.append(new_j)\n",
    "            if j >= 100:\n",
    "                new_j = str(j)\n",
    "                new_ans.append(new_j)\n",
    "\n",
    "    print(\" \".join(new_ans))"
   ],
   "metadata": {
    "collapsed": false,
    "pycharm": {
     "name": "#%%\n"
    }
   }
  },
  {
   "cell_type": "code",
   "execution_count": null,
   "outputs": [],
   "source": [
    "# P НЕВЕРНОЕ РЕШЕНИЕ\n",
    "# vibo: таблица умножения (редизайн)\n",
    "# vibo: WA на тесте-4\n",
    "\n",
    "n = int(input())\n",
    "size = int(input())\n",
    "\n",
    "for i in range(1, n + 1):\n",
    "    ans = []\n",
    "    for j in range(1, n + 1):\n",
    "        value = i * j\n",
    "        if size == 3:\n",
    "            str_value = ' ' * 1 + str(value) + ' ' * 1\n",
    "        if size == 5:\n",
    "            if value < 10:\n",
    "                str_value = ' ' * 2 + str(value) + ' ' * 2\n",
    "            if value > 9:\n",
    "                str_value = ' ' * 1 + str(value) + ' ' * 2\n",
    "        ans.append(str_value)\n",
    "\n",
    "    separator = '|'\n",
    "    print(separator.join(map(str, ans)))\n",
    "    if value == n * n:\n",
    "        break\n",
    "    else:\n",
    "        if size == 3:\n",
    "            print('-' * n * n + '-' * 2)\n",
    "        if size == 5:\n",
    "            print('-' * n * n + '-' * 4)"
   ],
   "metadata": {
    "collapsed": false,
    "pycharm": {
     "name": "#%%\n"
    }
   }
  },
  {
   "cell_type": "code",
   "execution_count": null,
   "outputs": [],
   "source": [
    "# Q Полное решение\n",
    "count_num = int(input())\n",
    "ans = 0\n",
    "\n",
    "for i in range(count_num):\n",
    "    input_num = input()\n",
    "    input_num = list(input_num)\n",
    "    if input_num == input_num[::-1]:\n",
    "        ans += 1\n",
    "\n",
    "print(ans)"
   ],
   "metadata": {
    "collapsed": false,
    "pycharm": {
     "name": "#%%\n",
     "is_executing": true
    }
   }
  },
  {
   "cell_type": "code",
   "execution_count": null,
   "outputs": [],
   "source": [
    "# R НЕ РЕШЕНА\n",
    "# vibo: не понимаю, как расставлены пробелы в примере\n",
    "\n",
    "# n = int(input())\n",
    "\n",
    "# ans_list = list(range(1, n + 1))\n",
    "\n",
    "# for i in ans_list:\n",
    "#     print(ans_list[:i])\n",
    "#     ans_list = ans_list[i:]\n",
    "\n",
    "#     if ans_list == []:\n",
    "#         break\n",
    "\n",
    "\n",
    "# print(len('     1     '))\n",
    "# print(len('    2 3    '))\n",
    "# print(len('   4 5 6   '))\n",
    "# print(len(' 7 8 9 10  '))\n",
    "# print(len('11 12 13 14'))"
   ],
   "metadata": {
    "collapsed": false,
    "pycharm": {
     "name": "#%%\n"
    }
   }
  },
  {
   "cell_type": "code",
   "execution_count": null,
   "outputs": [],
   "source": [
    "# S НЕ РЕШЕНА"
   ],
   "metadata": {
    "collapsed": false,
    "pycharm": {
     "name": "#%%\n"
    }
   }
  },
  {
   "cell_type": "code",
   "execution_count": null,
   "outputs": [],
   "source": [
    "# T НЕ РЕШЕНА"
   ],
   "metadata": {
    "collapsed": false,
    "pycharm": {
     "name": "#%%\n"
    }
   }
  }
 ],
 "metadata": {
  "kernelspec": {
   "display_name": "Python 3.9.9 ('venv-vsc': venv)",
   "language": "python",
   "name": "python3"
  },
  "language_info": {
   "codemirror_mode": {
    "name": "ipython",
    "version": 3
   },
   "file_extension": ".py",
   "mimetype": "text/x-python",
   "name": "python",
   "nbconvert_exporter": "python",
   "pygments_lexer": "ipython3",
   "version": "3.9.9"
  },
  "orig_nbformat": 4,
  "vscode": {
   "interpreter": {
    "hash": "43807f5c999ff1bc99c26ab56886fdb0eb1ab623df40ddad9a297a39d65cf47c"
   }
  }
 },
 "nbformat": 4,
 "nbformat_minor": 2
}