{
 "cells": [
  {
   "cell_type": "markdown",
   "source": [
    "\n",
    "# 4. Функции и их особенности в Python"
   ],
   "metadata": {
    "collapsed": false,
    "pycharm": {
     "name": "#%% md\n"
    }
   }
  },
  {
   "cell_type": "markdown",
   "source": [
    "## 4.1. Функции. Области видимости. Передача параметров в функции"
   ],
   "metadata": {
    "collapsed": false,
    "pycharm": {
     "name": "#%% md\n"
    }
   }
  },
  {
   "cell_type": "markdown",
   "source": [
    "### Теория"
   ],
   "metadata": {
    "collapsed": false,
    "pycharm": {
     "name": "#%% md\n"
    }
   }
  },
  {
   "cell_type": "code",
   "execution_count": null,
   "outputs": [],
   "source": [
    "'''\n",
    "def <имя функции>(<аргументы функции>):\n",
    "    <тело функции>\n",
    "'''"
   ],
   "metadata": {
    "collapsed": false,
    "pycharm": {
     "name": "#%%\n"
    }
   }
  },
  {
   "cell_type": "markdown",
   "source": [
    "**Аргумент функции — это локальная переменная**"
   ],
   "metadata": {
    "collapsed": false,
    "pycharm": {
     "name": "#%% md\n"
    }
   }
  },
  {
   "cell_type": "code",
   "execution_count": 1,
   "outputs": [
    {
     "name": "stdout",
     "output_type": "stream",
     "text": [
      "True\n",
      "False\n"
     ]
    }
   ],
   "source": [
    "def only_even(numbers):\n",
    "    result = True\n",
    "    for x in numbers:\n",
    "        if x % 2 != 0:\n",
    "            result = False\n",
    "            break\n",
    "    return result\n",
    "\n",
    "\n",
    "print(only_even([2, 4, 6]))\n",
    "print(only_even([1, 2, 3]))"
   ],
   "metadata": {
    "collapsed": false,
    "pycharm": {
     "name": "#%%\n"
    }
   }
  },
  {
   "cell_type": "code",
   "execution_count": 2,
   "outputs": [
    {
     "name": "stdout",
     "output_type": "stream",
     "text": [
      "True\n",
      "False\n"
     ]
    }
   ],
   "source": [
    "# vibo: два return\n",
    "def only_even(numbers):\n",
    "    for x in numbers:\n",
    "        if x % 2 != 0:\n",
    "            return False\n",
    "    return True\n",
    "\n",
    "\n",
    "print(only_even([2, 4, 6]))\n",
    "print(only_even([1, 2, 3]))"
   ],
   "metadata": {
    "collapsed": false,
    "pycharm": {
     "name": "#%%\n"
    }
   }
  },
  {
   "cell_type": "code",
   "execution_count": 3,
   "outputs": [
    {
     "name": "stdout",
     "output_type": "stream",
     "text": [
      "Эту строку выведет функция до возврата значения.\n",
      "None\n"
     ]
    }
   ],
   "source": [
    "# vibo: возврат none\n",
    "print(print(\"Эту строку выведет функция до возврата значения.\"))"
   ],
   "metadata": {
    "collapsed": false,
    "pycharm": {
     "name": "#%%\n"
    }
   }
  },
  {
   "cell_type": "code",
   "execution_count": 4,
   "outputs": [
    {
     "name": "stdout",
     "output_type": "stream",
     "text": [
      "True\n",
      "(False, 0)\n"
     ]
    }
   ],
   "source": [
    "# vibo: возврат нескольких значений (tuple)\n",
    "def only_even(numbers):\n",
    "    for i, x in enumerate(numbers):\n",
    "        if x % 2 != 0:\n",
    "            return False, i\n",
    "    return True\n",
    "\n",
    "\n",
    "print(only_even([2, 4, 6]))\n",
    "print(only_even([1, 2, 3]))"
   ],
   "metadata": {
    "collapsed": false,
    "pycharm": {
     "name": "#%%\n"
    }
   }
  },
  {
   "cell_type": "code",
   "execution_count": 5,
   "outputs": [
    {
     "ename": "NameError",
     "evalue": "name 'numbers' is not defined",
     "output_type": "error",
     "traceback": [
      "\u001B[0;31m---------------------------------------------------------------------------\u001B[0m",
      "\u001B[0;31mNameError\u001B[0m                                 Traceback (most recent call last)",
      "Input \u001B[0;32mIn [5]\u001B[0m, in \u001B[0;36m<cell line: 8>\u001B[0;34m()\u001B[0m\n\u001B[1;32m      4\u001B[0m             \u001B[38;5;28;01mreturn\u001B[39;00m \u001B[38;5;28;01mFalse\u001B[39;00m, i\n\u001B[1;32m      5\u001B[0m     \u001B[38;5;28;01mreturn\u001B[39;00m \u001B[38;5;28;01mTrue\u001B[39;00m\n\u001B[0;32m----> 8\u001B[0m \u001B[38;5;28mprint\u001B[39m(\u001B[43mnumbers\u001B[49m)\n",
      "\u001B[0;31mNameError\u001B[0m: name 'numbers' is not defined"
     ]
    }
   ],
   "source": [
    "# vibo: аргумент функции является локальной переменной\n",
    "# vibo: аргумент функции находится в локальной области видимости функции\n",
    "def only_even(numbers):\n",
    "    for i, x in enumerate(numbers):\n",
    "        if x % 2 != 0:\n",
    "            return False, i\n",
    "    return True\n",
    "\n",
    "\n",
    "print(numbers)"
   ],
   "metadata": {
    "collapsed": false,
    "pycharm": {
     "name": "#%%\n"
    }
   }
  },
  {
   "cell_type": "code",
   "execution_count": 7,
   "outputs": [
    {
     "name": "stdout",
     "output_type": "stream",
     "text": [
      "False\n",
      "True\n"
     ]
    }
   ],
   "source": [
    "# vibo: глобальная область видимости\n",
    "def check_password(pwd):\n",
    "    return pwd == password\n",
    "\n",
    "\n",
    "password = \"Python\"\n",
    "print(check_password(\"123\"))\n",
    "print(check_password(\"Python\"))"
   ],
   "metadata": {
    "collapsed": false,
    "pycharm": {
     "name": "#%%\n"
    }
   }
  },
  {
   "cell_type": "code",
   "execution_count": 8,
   "outputs": [
    {
     "name": "stdout",
     "output_type": "stream",
     "text": [
      "[1, 2]\n"
     ]
    }
   ],
   "source": [
    "def list_modify():\n",
    "    del sample[-1]\n",
    "\n",
    "\n",
    "sample = [1, 2, 3]\n",
    "list_modify()\n",
    "print(sample)"
   ],
   "metadata": {
    "collapsed": false,
    "pycharm": {
     "name": "#%%\n"
    }
   }
  },
  {
   "cell_type": "code",
   "execution_count": 9,
   "outputs": [
    {
     "name": "stdout",
     "output_type": "stream",
     "text": [
      "[1, 2, 3]\n"
     ]
    }
   ],
   "source": [
    "# vibo: аргумент функции — это локальная переменная\n",
    "def list_modify():\n",
    "    sample = [4, 5, 6]\n",
    "\n",
    "\n",
    "sample = [1, 2, 3]\n",
    "list_modify()\n",
    "print(sample)"
   ],
   "metadata": {
    "collapsed": false,
    "pycharm": {
     "name": "#%%\n"
    }
   }
  },
  {
   "cell_type": "code",
   "execution_count": 10,
   "outputs": [
    {
     "name": "stdout",
     "output_type": "stream",
     "text": [
      "[1, 2, 3]\n",
      "[1, 2, 3, 4]\n"
     ]
    }
   ],
   "source": [
    "def list_modify_1(list_arg):\n",
    "    # создаём новый локальный список, не имеющий связи с внешним\n",
    "    list_arg = [1, 2, 3, 4]\n",
    "\n",
    "\n",
    "def list_modify_2(list_arg):\n",
    "    # меняем исходный внешний список, переданный как аргумент\n",
    "    list_arg += [4]\n",
    "\n",
    "\n",
    "sample_1 = [1, 2, 3]\n",
    "sample_2 = [1, 2, 3]\n",
    "list_modify_1(sample_1)\n",
    "list_modify_2(sample_2)\n",
    "print(sample_1)\n",
    "print(sample_2)"
   ],
   "metadata": {
    "collapsed": false,
    "pycharm": {
     "name": "#%%\n"
    }
   }
  },
  {
   "cell_type": "code",
   "execution_count": 12,
   "outputs": [
    {
     "name": "stdout",
     "output_type": "stream",
     "text": [
      "Количество вызовов функции равно 1.\n",
      "Количество вызовов функции равно 2.\n",
      "Количество вызовов функции равно 3.\n"
     ]
    }
   ],
   "source": [
    "# vibo: global (использование глобальных переменных будет приводить к усложнению анализа программы)\n",
    "def inc():\n",
    "    global x\n",
    "    x += 1\n",
    "    print(f\"Количество вызовов функции равно {x}.\")\n",
    "\n",
    "\n",
    "x = 0\n",
    "inc()\n",
    "inc()\n",
    "inc()"
   ],
   "metadata": {
    "collapsed": false,
    "pycharm": {
     "name": "#%%\n"
    }
   }
  },
  {
   "cell_type": "code",
   "execution_count": 13,
   "outputs": [
    {
     "name": "stdout",
     "output_type": "stream",
     "text": [
      "Количество вызовов функции равно 1.\n",
      "Количество вызовов функции равно 2.\n",
      "Количество вызовов функции равно 3.\n"
     ]
    }
   ],
   "source": [
    "# vibo: тоже самое без global\n",
    "def f(count):\n",
    "    count += 1\n",
    "    print(f'Количество вызовов функции равно {count}.')\n",
    "    return count\n",
    "\n",
    "\n",
    "count_f = 0\n",
    "count_f = f(count_f)\n",
    "count_f = f(count_f)\n",
    "count_f = f(count_f)\n"
   ],
   "metadata": {
    "collapsed": false,
    "pycharm": {
     "name": "#%%\n"
    }
   }
  },
  {
   "cell_type": "markdown",
   "source": [
    "### Практика /10"
   ],
   "metadata": {
    "collapsed": false,
    "pycharm": {
     "name": "#%% md\n"
    }
   }
  },
  {
   "cell_type": "code",
   "execution_count": 18,
   "outputs": [
    {
     "name": "stdout",
     "output_type": "stream",
     "text": [
      "Hello, world!\n"
     ]
    }
   ],
   "source": [
    "# A Полное решение\n",
    "name = input()\n",
    "\n",
    "def print_hello(name):\n",
    "    print(f'Hello, {name}!')\n",
    "\n",
    "print_hello(name)"
   ],
   "metadata": {
    "collapsed": false,
    "pycharm": {
     "name": "#%%\n"
    }
   }
  },
  {
   "cell_type": "code",
   "execution_count": 32,
   "outputs": [
    {
     "name": "stdout",
     "output_type": "stream",
     "text": [
      "3\n",
      "48\n"
     ]
    }
   ],
   "source": [
    "# B Полное решение\n",
    "# vibo: наибольший общий делитель (НОД)\n",
    "def gcd(a, b):\n",
    "    list_a = []\n",
    "    for i in range(a + 1):\n",
    "        if a % (i + 1) == 0:\n",
    "            list_a.append(i + 1)\n",
    "\n",
    "    list_b = []\n",
    "    for i in range(b + 1):\n",
    "        if b % (i + 1) == 0:\n",
    "            list_b.append(i + 1)\n",
    "\n",
    "    ans = (sorted(list(set(list_a) & set(list_b)), reverse=True))[0]\n",
    "    return ans\n",
    "\n",
    "result = gcd(12, 45)\n",
    "print(result)\n",
    "result = gcd(144, 96)\n",
    "print(result)"
   ],
   "metadata": {
    "collapsed": false,
    "pycharm": {
     "name": "#%%\n"
    }
   }
  },
  {
   "cell_type": "code",
   "execution_count": 33,
   "outputs": [
    {
     "name": "stdout",
     "output_type": "stream",
     "text": [
      "5\n",
      "6\n"
     ]
    }
   ],
   "source": [
    "# C Полное решение\n",
    "def number_length(nums):\n",
    "    if str(nums)[0] == '-':\n",
    "        ans = len(str(nums)[1:])\n",
    "    else:\n",
    "        ans = len(str(nums))\n",
    "    return ans\n",
    "\n",
    "result = number_length(12345)\n",
    "print(result)\n",
    "result = number_length(-100500)\n",
    "print(result)"
   ],
   "metadata": {
    "collapsed": false,
    "pycharm": {
     "name": "#%%\n"
    }
   }
  },
  {
   "cell_type": "code",
   "execution_count": 36,
   "outputs": [
    {
     "name": "stdout",
     "output_type": "stream",
     "text": [
      "January\n",
      "Июль\n"
     ]
    }
   ],
   "source": [
    "# D Полное решение\n",
    "def month(number, lang):\n",
    "    en = {1: 'January',\n",
    "          2: 'February',\n",
    "          3: 'March',\n",
    "          4: 'April',\n",
    "          5: 'May',\n",
    "          6: 'July',\n",
    "          7: 'July',\n",
    "          8: 'August',\n",
    "          9: 'September',\n",
    "          10: 'October',\n",
    "          11: 'November',\n",
    "          12: 'December'}\n",
    "    ru = {1: 'Январь',\n",
    "          2: 'Февраль',\n",
    "          3: 'Март',\n",
    "          4: 'Апрель',\n",
    "          5: 'Май',\n",
    "          6: 'Июнь',\n",
    "          7: 'Июль',\n",
    "          8: 'Август',\n",
    "          9: 'Сентябрь',\n",
    "          10: 'Октябрь',\n",
    "          11: 'Ноябрь',\n",
    "          12: 'Декабрь'}\n",
    "    if lang == \"en\":\n",
    "        dct = en\n",
    "    else:\n",
    "        dct = ru\n",
    "    ans = dct[number]\n",
    "    return ans\n",
    "\n",
    "result = month(1, \"en\")\n",
    "print(result)\n",
    "result = month(7, \"ru\")\n",
    "print(result)"
   ],
   "metadata": {
    "collapsed": false,
    "pycharm": {
     "name": "#%%\n"
    }
   }
  },
  {
   "cell_type": "markdown",
   "source": [
    "**Почему из функции возвращаем кортеж, а не список? Всё дело в безопасности. Кортежи неизменяемые коллекции и их безопаснее передавать в функцию или из неё.**"
   ],
   "metadata": {
    "collapsed": false,
    "pycharm": {
     "name": "#%% md\n"
    }
   }
  },
  {
   "cell_type": "code",
   "execution_count": 44,
   "outputs": [
    {
     "name": "stdout",
     "output_type": "stream",
     "text": [
      "(1, 2, 3, 4, 5)\n",
      "(1, -2, 3, -4, 5)\n"
     ]
    }
   ],
   "source": [
    "# E\n",
    "def split_numbers(string):\n",
    "    ans = [int(i) for i in string.split()]\n",
    "    return tuple(ans)\n",
    "\n",
    "result = split_numbers(\"1 2 3 4 5\")\n",
    "print(result)\n",
    "result = split_numbers(\"1 -2 3 -4 5\")\n",
    "print(result)"
   ],
   "metadata": {
    "collapsed": false,
    "pycharm": {
     "name": "#%%\n"
    }
   }
  },
  {
   "cell_type": "code",
   "execution_count": 53,
   "outputs": [
    {
     "name": "stdout",
     "output_type": "stream",
     "text": [
      "Hello!\n",
      "How do you do?\n",
      "\n",
      "Ало!\n",
      "Я тебя не слышу\n",
      "Позвони когда сможешь\n"
     ]
    }
   ],
   "source": [
    "# F Полное решение\n",
    "ans_base = set()\n",
    "\n",
    "def modern_print(string):\n",
    "    if string not in ans_base:\n",
    "        ans_base.add(string)\n",
    "        print(string)\n",
    "\n",
    "modern_print(\"Hello!\")\n",
    "modern_print(\"Hello!\")\n",
    "modern_print(\"How do you do?\")\n",
    "modern_print(\"Hello!\")\n",
    "print()\n",
    "modern_print(\"Ало!\")\n",
    "modern_print(\"Ало!\")\n",
    "modern_print(\"Я тебя не слышу\")\n",
    "modern_print(\"Ало!\")\n",
    "modern_print(\"Ало!\")\n",
    "modern_print(\"Позвони когда сможешь\")\n",
    "modern_print(\"Позвони когда сможешь\")\n",
    "modern_print(\"Я тебя не слышу\")\n"
   ],
   "metadata": {
    "collapsed": false,
    "pycharm": {
     "name": "#%%\n"
    }
   }
  },
  {
   "cell_type": "code",
   "execution_count": 153,
   "outputs": [
    {
     "name": "stdout",
     "output_type": "stream",
     "text": [
      "True\n",
      "False\n"
     ]
    }
   ],
   "source": [
    "# G Полное решение\n",
    "# vibo: шахматный \"обед\"\n",
    "def can_eat(a, b):\n",
    "    ans = False\n",
    "    a_x, a_y = a[0], a[1]\n",
    "    ans_list = ((a[0] - 1, a[1] + 2),\n",
    "                (a[0] + 1, a[1] + 2),\n",
    "                (a[0] + 2, a[1] + 1),\n",
    "                (a[0] + 2, a[1] - 1),\n",
    "                (a[0] + 1, a[1] - 2),\n",
    "                (a[0] - 1, a[1] - 2),\n",
    "                (a[0] - 2, a[1] + 1),\n",
    "                (a[0] - 2, a[1] - 1))\n",
    "    if b in ans_list:\n",
    "        ans = True\n",
    "    return ans\n",
    "\n",
    "result = can_eat((2, 1), (4, 2))\n",
    "print(result)\n",
    "result = can_eat((5, 5), (6, 6))\n",
    "print(result)"
   ],
   "metadata": {
    "collapsed": false,
    "pycharm": {
     "name": "#%%\n"
    }
   }
  },
  {
   "cell_type": "code",
   "execution_count": 83,
   "outputs": [
    {
     "name": "stdout",
     "output_type": "stream",
     "text": [
      "False\n",
      "False\n",
      "True\n",
      "True\n"
     ]
    }
   ],
   "source": [
    "# H Полное решение\n",
    "def is_palindrome(inpt):\n",
    "    ans = True\n",
    "    if type(inpt) == int:\n",
    "        if list(str(inpt)) != list(str(inpt))[::-1]:\n",
    "            ans = False\n",
    "    if type(inpt) == str:\n",
    "        if inpt != inpt[::-1]:\n",
    "            ans = False\n",
    "    if type(inpt) == tuple:\n",
    "        if list(inpt) != list(inpt)[::-1]:\n",
    "            ans = False\n",
    "    if type(inpt) == list:\n",
    "        if inpt != inpt[::-1]:\n",
    "            ans = False\n",
    "    return ans\n",
    "\n",
    "result = is_palindrome(121021)\n",
    "print(result)\n",
    "result = is_palindrome('1 1 1 2 1')\n",
    "print(result)\n",
    "result = is_palindrome((1, 2, 1, 2, 1))\n",
    "print(result)\n",
    "result = is_palindrome([1, 2, 1, 2, 1])\n",
    "print(result)"
   ],
   "metadata": {
    "collapsed": false,
    "pycharm": {
     "name": "#%%\n"
    }
   }
  },
  {
   "cell_type": "code",
   "execution_count": 86,
   "outputs": [
    {
     "name": "stdout",
     "output_type": "stream",
     "text": [
      "True\n",
      "False\n"
     ]
    }
   ],
   "source": [
    "# I НЕ РЕШЕНА\n",
    "# vibo: TLE на тесте-3\n",
    "def is_prime(n):\n",
    "    ans = False\n",
    "    if n == 1:\n",
    "        pass\n",
    "    elif n == 2 or n == 3:\n",
    "        ans = True\n",
    "    elif (n % 2 == 0 and n != 2) or (n % 3 == 0 and n != 3) or (n % 5 == 0 and n != 5):\n",
    "        pass\n",
    "    else:\n",
    "        nums = range(3, n + 1, 2)\n",
    "        for i in nums[:-1]:\n",
    "            if n % i == 0:\n",
    "                flag = False\n",
    "                break\n",
    "            else:\n",
    "                flag = True\n",
    "        if flag:\n",
    "            ans = True\n",
    "        else:\n",
    "            ans = False\n",
    "    return ans\n",
    "\n",
    "result = is_prime(1001459)\n",
    "print(result)\n",
    "result = is_prime(79701)\n",
    "print(result)"
   ],
   "metadata": {
    "collapsed": false,
    "pycharm": {
     "name": "#%%\n"
    }
   }
  },
  {
   "cell_type": "code",
   "execution_count": 140,
   "outputs": [
    {
     "name": "stdout",
     "output_type": "stream",
     "text": [
      "(1, 2, 3, 4, 5)\n",
      "(1, 7, 9, 12, 50)\n"
     ]
    }
   ],
   "source": [
    "# J НЕ РЕШЕНА\n",
    "# vibo: ошибки RE при использовании sort или sorted\n",
    "# vibo: RE на тесте-1\n",
    "def merge(a, b):\n",
    "    ans = a + b\n",
    "    ans = tuple(sorted(ans))\n",
    "    return ans\n",
    "\n",
    "result = merge((1, 2), (3, 4, 5))\n",
    "print(result)\n",
    "result = merge((7, 12), (1, 9, 50))\n",
    "print(result)"
   ],
   "metadata": {
    "collapsed": false,
    "pycharm": {
     "name": "#%%\n"
    }
   }
  },
  {
   "cell_type": "code",
   "execution_count": 144,
   "outputs": [
    {
     "data": {
      "text/plain": "(1, 7, 9, 12, 50)"
     },
     "execution_count": 144,
     "metadata": {},
     "output_type": "execute_result"
    }
   ],
   "source": [
    "a, b = (7, 12), (1, 9, 50)\n",
    "tuple(sorted(a + b))"
   ],
   "metadata": {
    "collapsed": false,
    "pycharm": {
     "name": "#%%\n"
    }
   }
  },
  {
   "cell_type": "code",
   "execution_count": 152,
   "outputs": [
    {
     "name": "stdout",
     "output_type": "stream",
     "text": [
      "(1, 2, 3, 4, 5)\n",
      "(1, 7, 9, 12, 50)\n"
     ]
    }
   ],
   "source": [
    "# J Полное решение\n",
    "# vibo: без sort или sorted (чит)\n",
    "def merge(a, b):\n",
    "    data_list = list(a + b)\n",
    "    new_list = []\n",
    "\n",
    "    while data_list:\n",
    "        minimum = data_list[0]  # arbitrary number in list\n",
    "        for x in data_list:\n",
    "            if x < minimum:\n",
    "                minimum = x\n",
    "        new_list.append(minimum)\n",
    "        data_list.remove(minimum)\n",
    "    return tuple(new_list)\n",
    "\n",
    "result = merge((1, 2), (3, 4, 5))\n",
    "print(result)\n",
    "result = merge((7, 12), (1, 9, 50))\n",
    "print(result)"
   ],
   "metadata": {
    "collapsed": false,
    "pycharm": {
     "name": "#%%\n"
    }
   }
  }
 ],
 "metadata": {
  "kernelspec": {
   "display_name": "Python 3",
   "language": "python",
   "name": "python3"
  },
  "language_info": {
   "codemirror_mode": {
    "name": "ipython",
    "version": 2
   },
   "file_extension": ".py",
   "mimetype": "text/x-python",
   "name": "python",
   "nbconvert_exporter": "python",
   "pygments_lexer": "ipython2",
   "version": "2.7.6"
  }
 },
 "nbformat": 4,
 "nbformat_minor": 0
}