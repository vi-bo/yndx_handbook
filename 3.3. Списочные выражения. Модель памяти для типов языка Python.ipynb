{
 "cells": [
  {
   "cell_type": "markdown",
   "source": [
    "\n",
    "# 3. Коллекции и работа с памятью"
   ],
   "metadata": {
    "collapsed": false,
    "pycharm": {
     "name": "#%% md\n"
    }
   }
  },
  {
   "cell_type": "markdown",
   "source": [
    "## 3.3. Списочные выражения. Модель памяти для типов языка Python"
   ],
   "metadata": {
    "collapsed": false,
    "pycharm": {
     "name": "#%% md\n"
    }
   }
  },
  {
   "cell_type": "markdown",
   "source": [
    "### Теория"
   ],
   "metadata": {
    "collapsed": false,
    "pycharm": {
     "name": "#%% md\n"
    }
   }
  },
  {
   "cell_type": "markdown",
   "source": [
    "#### list comprehensions"
   ],
   "metadata": {
    "collapsed": false,
    "pycharm": {
     "name": "#%% md\n"
    }
   }
  },
  {
   "cell_type": "code",
   "execution_count": 4,
   "outputs": [
    {
     "name": "stdout",
     "output_type": "stream",
     "text": [
      "[15, 12, 45, 55, 64]\n"
     ]
    }
   ],
   "source": [
    "numbers = []\n",
    "for i in range(5):\n",
    "    numbers.append(int(input()))\n",
    "print(numbers)"
   ],
   "metadata": {
    "collapsed": false,
    "pycharm": {
     "name": "#%%\n"
    }
   }
  },
  {
   "cell_type": "code",
   "execution_count": 5,
   "outputs": [
    {
     "name": "stdout",
     "output_type": "stream",
     "text": [
      "[15, 12, 45, 55, 64]\n"
     ]
    }
   ],
   "source": [
    "# vibo: list comprehensions\n",
    "numbers = [int(input()) for i in range(5)]\n",
    "print(numbers)"
   ],
   "metadata": {
    "collapsed": false,
    "pycharm": {
     "name": "#%%\n"
    }
   }
  },
  {
   "cell_type": "code",
   "execution_count": 6,
   "outputs": [
    {
     "name": "stdout",
     "output_type": "stream",
     "text": [
      "[45, 55, 64]\n"
     ]
    }
   ],
   "source": [
    "# vibo: добавление условия в list comprehensions\n",
    "numbers = [int(input()) for i in range(5)]\n",
    "avg = sum(numbers) // len(numbers)\n",
    "# vibo: выбираем только те значения, которые больше среднего арифметического\n",
    "numbers = [element for element in numbers if element > avg]\n",
    "print(numbers)"
   ],
   "metadata": {
    "collapsed": false,
    "pycharm": {
     "name": "#%%\n"
    }
   }
  },
  {
   "cell_type": "code",
   "execution_count": null,
   "outputs": [],
   "source": [
    "# vibo: ТАК НЕ ДЕЛАТЬ!!!\n",
    "numbers = [int(input()) for i in range(5)]\n",
    "numbers = [element for element in numbers if element > sum(numbers) // len(numbers)]\n",
    "print(numbers)"
   ],
   "metadata": {
    "collapsed": false,
    "pycharm": {
     "name": "#%%\n"
    }
   }
  },
  {
   "cell_type": "code",
   "execution_count": 7,
   "outputs": [
    {
     "name": "stdout",
     "output_type": "stream",
     "text": [
      "[[1, 2, 3, 4, 5], [2, 3, 4, 5, 6], [3, 4, 5, 6, 7], [4, 5, 6, 7, 8], [5, 6, 7, 8, 9]]\n"
     ]
    }
   ],
   "source": [
    "# vibo: вложенные циклы\n",
    "matrix = [[int(x) for x in input().split()] for i in range(5)]\n",
    "print(matrix)"
   ],
   "metadata": {
    "collapsed": false,
    "pycharm": {
     "name": "#%%\n"
    }
   }
  },
  {
   "cell_type": "code",
   "execution_count": 8,
   "outputs": [
    {
     "name": "stdout",
     "output_type": "stream",
     "text": [
      "[1057, 1090, 1088, 1086, 1082, 1072, 32, 1089, 1080, 1084, 1074, 1086, 1083, 1086, 1074]\n"
     ]
    }
   ],
   "source": [
    "# vibo: работа со строкой\n",
    "text = \"Строка символов\"\n",
    "codes = [ord(symbol) for symbol in text]\n",
    "print(codes)"
   ],
   "metadata": {
    "collapsed": false,
    "pycharm": {
     "name": "#%%\n"
    }
   }
  },
  {
   "cell_type": "code",
   "execution_count": 9,
   "outputs": [
    {
     "name": "stdout",
     "output_type": "stream",
     "text": [
      "['Беларусь', 'Бельгия']\n"
     ]
    }
   ],
   "source": [
    "# vibo: list comprehensions для обработки словарей\n",
    "countries = {\"Россия\": [\"русский\"],\n",
    "             \"Беларусь\": [\"белорусский\", \"русский\"],\n",
    "             \"Бельгия\": [\"немецкий\", \"французский\", \"нидерландский\"],\n",
    "             \"Вьетнам\": [\"вьетнамский\"]}\n",
    "multiple_lang = [country for (country, lang) in countries.items() if len(lang) > 1]\n",
    "print(multiple_lang)"
   ],
   "metadata": {
    "collapsed": false,
    "pycharm": {
     "name": "#%%\n"
    }
   }
  },
  {
   "cell_type": "code",
   "execution_count": 10,
   "outputs": [
    {
     "name": "stdout",
     "output_type": "stream",
     "text": [
      "<generator object <genexpr> at 0x7fd99533f190>\n"
     ]
    }
   ],
   "source": [
    "# vibo: возвращаем не список, а итератор\n",
    "numbers = (int(input()) for i in range(5))\n",
    "print(numbers)"
   ],
   "metadata": {
    "collapsed": false,
    "pycharm": {
     "name": "#%%\n"
    }
   }
  },
  {
   "cell_type": "markdown",
   "source": [
    "#### getsizeof"
   ],
   "metadata": {
    "collapsed": false,
    "pycharm": {
     "name": "#%% md\n"
    }
   }
  },
  {
   "cell_type": "code",
   "execution_count": 11,
   "outputs": [
    {
     "name": "stdout",
     "output_type": "stream",
     "text": [
      "Итератор занимает 112 байт.\n",
      "Список занимает 8000056 байт.\n"
     ]
    }
   ],
   "source": [
    "# vibo: разница в объеме памяти, занимаемом итератором и списком\n",
    "from sys import getsizeof\n",
    "\n",
    "# Создаём итератор из одного миллиона целых чисел\n",
    "numbers_iter = (i for i in range(10 ** 6))\n",
    "# Выводим количество байт, занятых итератором\n",
    "print(f\"Итератор занимает {getsizeof(numbers_iter)} байт.\")\n",
    "# Создаём список\n",
    "numbers_list = list(range(10 ** 6))\n",
    "# Выводим количество байт, занятых списком\n",
    "print(f\"Список занимает {getsizeof(numbers_list)} байт.\")"
   ],
   "metadata": {
    "collapsed": false,
    "pycharm": {
     "name": "#%%\n"
    }
   }
  },
  {
   "cell_type": "markdown",
   "source": [
    "**ИТЕРАТОР ЗАНИМАЕТ ЗНАЧИТЕЛЬНО МЕНЬШЕ МЕСТА В ПАМЯТИ, ЧЕМ СПИСОК**"
   ],
   "metadata": {
    "collapsed": false,
    "pycharm": {
     "name": "#%% md\n"
    }
   }
  },
  {
   "cell_type": "markdown",
   "source": [
    "#### timeit"
   ],
   "metadata": {
    "collapsed": false,
    "pycharm": {
     "name": "#%% md\n"
    }
   }
  },
  {
   "cell_type": "code",
   "execution_count": 12,
   "outputs": [
    {
     "name": "stdout",
     "output_type": "stream",
     "text": [
      "28.137\n",
      "29.121\n"
     ]
    }
   ],
   "source": [
    "from timeit import timeit\n",
    "\n",
    "# vibo: объединяем строки итератора\n",
    "print(round(timeit(\"s = '; '.join(str(x) for x in range(10 ** 7))\", number=10), 3))\n",
    "\n",
    "# vibo: объединяем строки list comprehensions\n",
    "print(round(timeit(\"s = '; '.join([str(x) for x in list(range(10 ** 7))])\", number=10), 3))"
   ],
   "metadata": {
    "collapsed": false,
    "pycharm": {
     "name": "#%%\n"
    }
   }
  },
  {
   "cell_type": "markdown",
   "source": [
    "**ИТЕРАТОР РАБОТАЕТ БЫСТРЕЕ, ЧЕМ СПИСОК**"
   ],
   "metadata": {
    "collapsed": false,
    "pycharm": {
     "name": "#%% md\n"
    }
   }
  },
  {
   "cell_type": "code",
   "execution_count": 17,
   "outputs": [
    {
     "name": "stdout",
     "output_type": "stream",
     "text": [
      "140572872837552\n",
      "140572872837712\n"
     ]
    }
   ],
   "source": [
    "# vibo: уникальный идентификатор переменной\n",
    "x = 5\n",
    "print(id(x))\n",
    "x = 10\n",
    "print(id(x))"
   ],
   "metadata": {
    "collapsed": false,
    "pycharm": {
     "name": "#%%\n"
    }
   }
  },
  {
   "cell_type": "markdown",
   "source": [
    "#### Объект и переменная"
   ],
   "metadata": {
    "collapsed": false,
    "pycharm": {
     "name": "#%% md\n"
    }
   }
  },
  {
   "cell_type": "code",
   "execution_count": 19,
   "outputs": [
    {
     "name": "stdout",
     "output_type": "stream",
     "text": [
      "140572872837424\n",
      "140572872837424\n",
      "True\n"
     ]
    }
   ],
   "source": [
    "# vibo: y указывает на тот же объект, что и х\n",
    "x = 1\n",
    "y = x\n",
    "print(id(x))\n",
    "print(id(y))\n",
    "print(x is y)"
   ],
   "metadata": {
    "collapsed": false,
    "pycharm": {
     "name": "#%%\n"
    }
   }
  },
  {
   "cell_type": "markdown",
   "source": [
    "**Равенство переменных не означает, что они являются одним и тем же объектом в программе (имеют одинаковые ссылки на значения)**"
   ],
   "metadata": {
    "collapsed": false,
    "pycharm": {
     "name": "#%% md\n"
    }
   }
  },
  {
   "cell_type": "code",
   "execution_count": 20,
   "outputs": [
    {
     "name": "stdout",
     "output_type": "stream",
     "text": [
      "True\n",
      "False\n"
     ]
    }
   ],
   "source": [
    "x = [el ** 2 for el in range(5)]\n",
    "y = [el ** 2 for el in range(5)]\n",
    "# vibo: видим, что числа одни и теже\n",
    "print(x == y)\n",
    "# vibo: а объекты разные\n",
    "print(x is y)"
   ],
   "metadata": {
    "collapsed": false,
    "pycharm": {
     "name": "#%%\n"
    }
   }
  },
  {
   "cell_type": "markdown",
   "source": [
    "**Неизменяемые типов: int, float, str, tuple**"
   ],
   "metadata": {
    "collapsed": false,
    "pycharm": {
     "name": "#%% md\n"
    }
   }
  },
  {
   "cell_type": "code",
   "execution_count": 21,
   "outputs": [
    {
     "name": "stdout",
     "output_type": "stream",
     "text": [
      "140572872837552\n",
      "140572872837712\n"
     ]
    }
   ],
   "source": [
    "# vibo: изменение идентификатора целочисленной переменной при операции присваивания\n",
    "x = 5\n",
    "print(id(x))\n",
    "x = 10\n",
    "print(id(x))"
   ],
   "metadata": {
    "collapsed": false,
    "pycharm": {
     "name": "#%%\n"
    }
   }
  },
  {
   "cell_type": "markdown",
   "source": [
    "**Изменяемые типы: set, list, dict**"
   ],
   "metadata": {
    "collapsed": false,
    "pycharm": {
     "name": "#%% md\n"
    }
   }
  },
  {
   "cell_type": "code",
   "execution_count": 22,
   "outputs": [
    {
     "name": "stdout",
     "output_type": "stream",
     "text": [
      "[1, 2, 3], id = 140571663093824\n",
      "[1, 2, 3, 4], id = 140571663093824\n"
     ]
    }
   ],
   "source": [
    "# vibo: идентификатор не изменился\n",
    "numbers = [1, 2, 3]\n",
    "print(f\"{numbers}, id = {id(numbers)}\")\n",
    "numbers += [4]\n",
    "print(f\"{numbers}, id = {id(numbers)}\")"
   ],
   "metadata": {
    "collapsed": false,
    "pycharm": {
     "name": "#%%\n"
    }
   }
  },
  {
   "cell_type": "code",
   "execution_count": 23,
   "outputs": [
    {
     "name": "stdout",
     "output_type": "stream",
     "text": [
      "[1, 2, 3], id = 140571663085248\n",
      "[1, 2, 3, 4], id = 140571663093824\n"
     ]
    }
   ],
   "source": [
    "# vibo: идентификатор изменился\n",
    "numbers = [1, 2, 3]\n",
    "print(f\"{numbers}, id = {id(numbers)}\")\n",
    "numbers = numbers + [4]\n",
    "print(f\"{numbers}, id = {id(numbers)}\")"
   ],
   "metadata": {
    "collapsed": false,
    "pycharm": {
     "name": "#%%\n"
    }
   }
  },
  {
   "cell_type": "code",
   "execution_count": 24,
   "outputs": [
    {
     "name": "stdout",
     "output_type": "stream",
     "text": [
      "True\n",
      "[0, 2, 3]\n",
      "[0, 2, 3]\n",
      "True\n"
     ]
    }
   ],
   "source": [
    "# vibo: изменение изменяемых типов данных:\n",
    "x = [1, 2, 3]\n",
    "y = x\n",
    "print(x is y)\n",
    "x[0] = 0\n",
    "print(x)\n",
    "print(y)\n",
    "print(x is y)"
   ],
   "metadata": {
    "collapsed": false,
    "pycharm": {
     "name": "#%%\n"
    }
   }
  },
  {
   "cell_type": "code",
   "execution_count": 25,
   "outputs": [
    {
     "name": "stdout",
     "output_type": "stream",
     "text": [
      "False\n",
      "[0, 2, 3]\n",
      "[1, 2, 3]\n",
      "False\n"
     ]
    }
   ],
   "source": [
    "# vibo: явная копия\n",
    "x = [1, 2, 3]\n",
    "y = x[:]\n",
    "print(x is y)\n",
    "x[0] = 0\n",
    "print(x)\n",
    "print(y)\n",
    "print(x is y)"
   ],
   "metadata": {
    "collapsed": false,
    "pycharm": {
     "name": "#%%\n"
    }
   }
  },
  {
   "cell_type": "code",
   "execution_count": 27,
   "outputs": [
    {
     "name": "stdout",
     "output_type": "stream",
     "text": [
      "[True, True, True]\n"
     ]
    }
   ],
   "source": [
    "# vibo: копия вложенного списка (опять изменяя один объект поменяется другой)\n",
    "numbers = [[1, 2, 3],\n",
    "           [4, 5, 6],\n",
    "           [7, 8, 9]]\n",
    "numbers_copy = numbers[:]\n",
    "print([numbers_copy[i] is numbers[i] for i in range(len(numbers))])"
   ],
   "metadata": {
    "collapsed": false,
    "pycharm": {
     "name": "#%%\n"
    }
   }
  },
  {
   "cell_type": "code",
   "execution_count": 1,
   "outputs": [
    {
     "name": "stdout",
     "output_type": "stream",
     "text": [
      "[False, False, False]\n"
     ]
    }
   ],
   "source": [
    "# vibo: обход циклом для явного копирования\n",
    "numbers = [[1, 2, 3],\n",
    "           [4, 5, 6],\n",
    "           [7, 8, 9]]\n",
    "numbers_copy = [elem[:] for elem in numbers]\n",
    "print([numbers_copy[i] is numbers[i] for i in range(len(numbers))])"
   ],
   "metadata": {
    "collapsed": false,
    "pycharm": {
     "name": "#%%\n"
    }
   }
  },
  {
   "cell_type": "code",
   "execution_count": 2,
   "outputs": [
    {
     "name": "stdout",
     "output_type": "stream",
     "text": [
      "[False, False, False]\n"
     ]
    }
   ],
   "source": [
    "# vibo: чтобы не обходить циклом достаточно deepcopy\n",
    "from copy import deepcopy\n",
    "\n",
    "numbers = [[1, 2, 3],\n",
    "           [4, 5, 6],\n",
    "           [7, 8, 9]]\n",
    "numbers_copy = deepcopy(numbers)\n",
    "print([numbers_copy[i] is numbers[i] for i in range(len(numbers))])"
   ],
   "metadata": {
    "collapsed": false,
    "pycharm": {
     "name": "#%%\n"
    }
   }
  },
  {
   "cell_type": "markdown",
   "source": [
    "### Практика /10"
   ],
   "metadata": {
    "collapsed": false,
    "pycharm": {
     "name": "#%% md\n"
    }
   }
  },
  {
   "cell_type": "code",
   "execution_count": 16,
   "outputs": [
    {
     "data": {
      "text/plain": "[25, 16, 9, 4, 1, 0, 1, 4, 9, 16, 25]"
     },
     "execution_count": 16,
     "metadata": {},
     "output_type": "execute_result"
    }
   ],
   "source": [
    "# A Полное решение\n",
    "a = -5\n",
    "b = 5\n",
    "\n",
    "[x**2 for x in range(a, b + 1)]"
   ],
   "metadata": {
    "collapsed": false,
    "pycharm": {
     "name": "#%%\n"
    }
   }
  },
  {
   "cell_type": "code",
   "execution_count": 33,
   "outputs": [
    {
     "data": {
      "text/plain": "[[1, 2, 3, 4], [2, 4, 6, 8], [3, 6, 9, 12], [4, 8, 12, 16]]"
     },
     "execution_count": 33,
     "metadata": {},
     "output_type": "execute_result"
    }
   ],
   "source": [
    "# B Полное решение\n",
    "n = 4\n",
    "\n",
    "[[x * y for x in range(1, (n + 1))] for y in range(1, (n + 1))]"
   ],
   "metadata": {
    "collapsed": false,
    "pycharm": {
     "name": "#%%\n"
    }
   }
  },
  {
   "cell_type": "code",
   "execution_count": 35,
   "outputs": [
    {
     "data": {
      "text/plain": "[5, 7, 2, 10]"
     },
     "execution_count": 35,
     "metadata": {},
     "output_type": "execute_result"
    }
   ],
   "source": [
    "# C Полное решение\n",
    "sentence = 'Ехали медведи на велосипеде'\n",
    "\n",
    "[len(word) for word in sentence.split()]"
   ],
   "metadata": {
    "collapsed": false,
    "pycharm": {
     "name": "#%%\n"
    }
   }
  },
  {
   "cell_type": "code",
   "execution_count": 53,
   "outputs": [
    {
     "data": {
      "text/plain": "{1, 3, 5}"
     },
     "execution_count": 53,
     "metadata": {},
     "output_type": "execute_result"
    }
   ],
   "source": [
    "# D Полное решение\n",
    "\n",
    "numbers = [1, 2, 3, 4, 5]\n",
    "\n",
    "set([element for element in numbers if element % 2 != 0])"
   ],
   "metadata": {
    "collapsed": false,
    "pycharm": {
     "name": "#%%\n"
    }
   }
  },
  {
   "cell_type": "code",
   "execution_count": 75,
   "outputs": [
    {
     "data": {
      "text/plain": "{16, 36, 64}"
     },
     "execution_count": 75,
     "metadata": {},
     "output_type": "execute_result"
    }
   ],
   "source": [
    "# E Полное решение\n",
    "numbers = [number for number in range(16, 100, 4)]\n",
    "\n",
    "set([element for element in numbers if (element ** 0.5) - int(element ** 0.5) == 0])"
   ],
   "metadata": {
    "collapsed": false,
    "pycharm": {
     "name": "#%%\n"
    }
   }
  },
  {
   "cell_type": "code",
   "execution_count": 78,
   "outputs": [
    {
     "data": {
      "text/plain": "['С', 'т', 'р', 'о', 'к', 'а', ' ', 'с', 'и', 'м', 'в', 'о', 'л', 'о', 'в']"
     },
     "execution_count": 78,
     "metadata": {},
     "output_type": "execute_result"
    }
   ],
   "source": [
    "# F\n",
    "\n",
    "text = \"Строка символов\"\n",
    "\n",
    "[symbol for symbol in text]"
   ],
   "metadata": {
    "collapsed": false,
    "pycharm": {
     "name": "#%%\n"
    }
   }
  },
  {
   "cell_type": "code",
   "execution_count": 8,
   "outputs": [],
   "source": [
    "# G"
   ],
   "metadata": {
    "collapsed": false,
    "pycharm": {
     "name": "#%%\n"
    }
   }
  },
  {
   "cell_type": "code",
   "execution_count": 9,
   "outputs": [],
   "source": [
    "# H"
   ],
   "metadata": {
    "collapsed": false,
    "pycharm": {
     "name": "#%%\n"
    }
   }
  },
  {
   "cell_type": "code",
   "execution_count": null,
   "outputs": [],
   "source": [
    "# I"
   ],
   "metadata": {
    "collapsed": false,
    "pycharm": {
     "name": "#%%\n"
    }
   }
  },
  {
   "cell_type": "code",
   "execution_count": null,
   "outputs": [],
   "source": [
    "# J"
   ],
   "metadata": {
    "collapsed": false,
    "pycharm": {
     "name": "#%%\n"
    }
   }
  }
 ],
 "metadata": {
  "kernelspec": {
   "display_name": "Python 3",
   "language": "python",
   "name": "python3"
  },
  "language_info": {
   "codemirror_mode": {
    "name": "ipython",
    "version": 2
   },
   "file_extension": ".py",
   "mimetype": "text/x-python",
   "name": "python",
   "nbconvert_exporter": "python",
   "pygments_lexer": "ipython2",
   "version": "2.7.6"
  }
 },
 "nbformat": 4,
 "nbformat_minor": 0
}