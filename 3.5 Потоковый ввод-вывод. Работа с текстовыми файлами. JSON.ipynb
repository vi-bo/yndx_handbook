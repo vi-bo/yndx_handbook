{
 "cells": [
  {
   "cell_type": "markdown",
   "source": [
    "\n",
    "# 3. Коллекции и работа с памятью"
   ],
   "metadata": {
    "collapsed": false,
    "pycharm": {
     "name": "#%% md\n"
    }
   }
  },
  {
   "cell_type": "markdown",
   "source": [
    "## 3.5. Потоковый ввод/вывод. Работа с текстовыми файлами. JSON"
   ],
   "metadata": {
    "collapsed": false,
    "pycharm": {
     "name": "#%% md\n"
    }
   }
  },
  {
   "cell_type": "markdown",
   "source": [
    "### Теория"
   ],
   "metadata": {
    "collapsed": false,
    "pycharm": {
     "name": "#%% md\n"
    }
   }
  },
  {
   "cell_type": "markdown",
   "source": [
    "#### stdin"
   ],
   "metadata": {
    "collapsed": false,
    "pycharm": {
     "name": "#%% md\n"
    }
   }
  },
  {
   "cell_type": "code",
   "execution_count": null,
   "outputs": [],
   "source": [
    "# vibo: запускать в отдельном py-файле\n",
    "# vibo: отстановка ввода (EOF - end of file) linux: Ctrl + D, windows: Crtl + Z\n",
    "\n",
    "from sys import stdin\n",
    "\n",
    "# vibo: построчное добавление в список\n",
    "lines = []\n",
    "for line in stdin:\n",
    "    # vibo: rstrip(\"\\n\") - убираем символ переноса на новую строку\n",
    "    lines.append(line.rstrip(\"\\n\"))\n",
    "print(lines)"
   ],
   "metadata": {
    "collapsed": false,
    "pycharm": {
     "name": "#%%\n",
     "is_executing": true
    }
   }
  },
  {
   "cell_type": "code",
   "execution_count": null,
   "outputs": [],
   "source": [
    "from sys import stdin\n",
    "\n",
    "# vibo: сохранение в список (в конце строки будет \\n)\n",
    "lines = stdin.readlines()\n",
    "print(lines)"
   ],
   "metadata": {
    "collapsed": false,
    "pycharm": {
     "name": "#%%\n"
    }
   }
  },
  {
   "cell_type": "code",
   "execution_count": null,
   "outputs": [],
   "source": [
    "from sys import stdin\n",
    "\n",
    "# vibo: сохранение в одну строку всего ввода\n",
    "text = stdin.read()\n",
    "print([text])"
   ],
   "metadata": {
    "collapsed": false,
    "pycharm": {
     "name": "#%%\n"
    }
   }
  },
  {
   "cell_type": "markdown",
   "source": [
    "#### файл txt"
   ],
   "metadata": {
    "collapsed": false,
    "pycharm": {
     "name": "#%% md\n"
    }
   }
  },
  {
   "cell_type": "markdown",
   "source": [
    "**Файл — это именованная область данных на носителе информации**"
   ],
   "metadata": {
    "collapsed": false,
    "pycharm": {
     "name": "#%% md\n"
    }
   }
  },
  {
   "cell_type": "markdown",
   "source": [
    "Функция **open()**, аргументы:\n",
    "> - `file` - строка, содержащая путь до файла;\n",
    "> - `mode` - режим доступа к файлу (r - чтение, w - записи, a - дополнения, + добавляется к конец r+, w+, a+ - работа в режиме чтения и записи);\n",
    "> - `encoding` - строка, для обозначения кодировки файла"
   ],
   "metadata": {
    "collapsed": false,
    "pycharm": {
     "name": "#%% md\n"
    }
   }
  },
  {
   "cell_type": "code",
   "execution_count": 6,
   "outputs": [],
   "source": [
    "file_in = open(\"input_1.txt\")"
   ],
   "metadata": {
    "collapsed": false,
    "pycharm": {
     "name": "#%%\n"
    }
   }
  },
  {
   "cell_type": "code",
   "execution_count": 7,
   "outputs": [
    {
     "name": "stdout",
     "output_type": "stream",
     "text": [
      "Привет!\n",
      "\n",
      "Это пример текстового файла.\n",
      "\n",
      "А это - последняя строка, которая должна закончиться переходом на новую.\n",
      "\n"
     ]
    }
   ],
   "source": [
    "file_in = open(\"input_1.txt\", encoding=\"UTF-8\")\n",
    "for line in file_in:\n",
    "    print(line)\n",
    "file_in.close()"
   ],
   "metadata": {
    "collapsed": false,
    "pycharm": {
     "name": "#%%\n"
    }
   }
  },
  {
   "cell_type": "code",
   "execution_count": 8,
   "outputs": [
    {
     "name": "stdout",
     "output_type": "stream",
     "text": [
      "Привет!\n",
      "Это пример текстового файла.\n",
      "А это - последняя строка, которая должна закончиться переходом на новую.\n"
     ]
    }
   ],
   "source": [
    "# vibo: менеджер контекста with\n",
    "with open(\"input_1.txt\", encoding=\"UTF-8\") as file_in:\n",
    "    for line in file_in:\n",
    "        print(line.rstrip(\"\\n\"))"
   ],
   "metadata": {
    "collapsed": false,
    "pycharm": {
     "name": "#%%\n"
    }
   }
  },
  {
   "cell_type": "code",
   "execution_count": 9,
   "outputs": [
    {
     "name": "stdout",
     "output_type": "stream",
     "text": [
      "['Привет!\\n', 'Это пример текстового файла.\\n', 'А это - последняя строка, которая должна закончиться переходом на новую.\\n']\n"
     ]
    }
   ],
   "source": [
    "# vibo: для считывания всего файла\n",
    "with open(\"input_1.txt\", encoding=\"UTF-8\") as file_in:\n",
    "    lines = file_in.readlines()\n",
    "print(lines)"
   ],
   "metadata": {
    "collapsed": false,
    "pycharm": {
     "name": "#%%\n"
    }
   }
  },
  {
   "cell_type": "code",
   "execution_count": 10,
   "outputs": [
    {
     "name": "stdout",
     "output_type": "stream",
     "text": [
      "['Привет!\\nЭт']\n"
     ]
    }
   ],
   "source": [
    "# vibo: для считывания определенного количества символов\n",
    "with open(\"input_1.txt\", encoding=\"UTF-8\") as file_in:\n",
    "    symbols = file_in.read(10)\n",
    "print([symbols])"
   ],
   "metadata": {
    "collapsed": false,
    "pycharm": {
     "name": "#%%\n"
    }
   }
  },
  {
   "cell_type": "code",
   "execution_count": 11,
   "outputs": [
    {
     "name": "stdout",
     "output_type": "stream",
     "text": [
      "54\n"
     ]
    }
   ],
   "source": [
    "# vibo: запись в файл\n",
    "with open(\"output_1.txt\", \"w\", encoding=\"UTF-8\") as file_out:\n",
    "    n = file_out.write(\"Это первая строка\\nА вот и вторая\\nИ третья — последняя\\n\")\n",
    "print(n)"
   ],
   "metadata": {
    "collapsed": false,
    "pycharm": {
     "name": "#%%\n"
    }
   }
  },
  {
   "cell_type": "code",
   "execution_count": 12,
   "outputs": [],
   "source": [
    "# vibo: запись всех строк в файл\n",
    "lines = [\"Это первая строка\\n\", \"А вот и вторая\\n\", \"И третья — последняя\\n\"]\n",
    "with open(\"output_2.txt\", \"w\", encoding=\"UTF-8\") as file_out:\n",
    "    file_out.writelines(lines)"
   ],
   "metadata": {
    "collapsed": false,
    "pycharm": {
     "name": "#%%\n"
    }
   }
  },
  {
   "cell_type": "code",
   "execution_count": 13,
   "outputs": [],
   "source": [
    "# vibo: печать в файл\n",
    "with open(\"output_3.txt\", \"w\", encoding=\"UTF-8\") as file_out:\n",
    "    print(\"Вывод в файл с помощью функции print()\", file=file_out)"
   ],
   "metadata": {
    "collapsed": false,
    "pycharm": {
     "name": "#%%\n"
    }
   }
  },
  {
   "cell_type": "markdown",
   "source": [
    "#### JSON (JavaScript Object Notation)"
   ],
   "metadata": {
    "collapsed": false,
    "pycharm": {
     "name": "#%% md\n"
    }
   }
  },
  {
   "cell_type": "code",
   "execution_count": null,
   "outputs": [],
   "source": [
    "# vibo: пример JSON-файла\n",
    "[\n",
    "  {\n",
    "    \"last_name\": \"Иванов\",\n",
    "    \"first_name\": \"Иван\",\n",
    "    \"patronymic\": \"Иванович\",\n",
    "    \"date_of_birth\": \"01.01.2001\",\n",
    "    \"group_number\": 1,\n",
    "    \"phone_numbers\": [\n",
    "      \"+7 111 111 1111\",\n",
    "      \"+7 111 111 1112\"\n",
    "    ]\n",
    "  },\n",
    "  {\n",
    "    \"last_name\": \"Петров\",\n",
    "    \"first_name\": \"Пётр\",\n",
    "    \"patronymic\": \"Петрович\",\n",
    "    \"date_of_birth\": \"10.10.2001\",\n",
    "    \"group_number\": 1,\n",
    "    \"phone_numbers\": [\n",
    "      \"+7 111 111 1113\",\n",
    "      \"+7 111 111 1114\"\n",
    "    ]\n",
    "  }\n",
    "]"
   ],
   "metadata": {
    "collapsed": false,
    "pycharm": {
     "name": "#%%\n",
     "is_executing": true
    }
   }
  },
  {
   "cell_type": "code",
   "execution_count": 15,
   "outputs": [
    {
     "name": "stdout",
     "output_type": "stream",
     "text": [
      "[{'last_name': 'Иванов', 'first_name': 'Иван', 'patronymic': 'Иванович', 'date_of_birth': '01.01.2001', 'group_number': 1, 'phone_numbers': ['+7 111 111 1111', '+7 111 111 1112']}, {'last_name': 'Петров', 'first_name': 'Пётр', 'patronymic': 'Петрович', 'date_of_birth': '10.10.2001', 'group_number': 1, 'phone_numbers': ['+7 111 111 1113', '+7 111 111 1114']}]\n"
     ]
    }
   ],
   "source": [
    "# vibo: преобразование json в список словарей python\n",
    "import json\n",
    "\n",
    "with open(\"data.json\", encoding=\"UTF-8\") as file_in:\n",
    "    records = json.load(file_in)\n",
    "print(records)"
   ],
   "metadata": {
    "collapsed": false,
    "pycharm": {
     "name": "#%%\n"
    }
   }
  },
  {
   "cell_type": "markdown",
   "source": [
    "**`dump()` - метод для записи измененных данных в JSON**"
   ],
   "metadata": {
    "collapsed": false,
    "pycharm": {
     "name": "#%% md\n"
    }
   }
  },
  {
   "cell_type": "code",
   "execution_count": 19,
   "outputs": [],
   "source": [
    "# vibo: меняем номер группы второго студента и записываем\n",
    "import json\n",
    "\n",
    "with open(\"data.json\", encoding=\"UTF-8\") as file_in:\n",
    "    records = json.load(file_in)\n",
    "# vibo: т.к. запись вторая, индекс [1], ключ [\"group_number\"]\n",
    "records[1][\"group_number\"] = 5\n",
    "# vibo: запись в JSON\n",
    "# vibo: w - запись\n",
    "with open(\"data.json\", \"w\", encoding=\"UTF-8\") as file_out:\n",
    "    # vibo: метод dump для записи\n",
    "    # vibo: ensure_ascii=False - чтобы записать в виде символов, а не кода вида \\uXXXX\n",
    "    # vibo: indent=2 - отступ\n",
    "    json.dump(records, file_out, ensure_ascii=False, indent=2)\n",
    "    # vibo: можно добавить sort_keys = True для сортировки ключей"
   ],
   "metadata": {
    "collapsed": false,
    "pycharm": {
     "name": "#%%\n"
    }
   }
  },
  {
   "cell_type": "code",
   "execution_count": 20,
   "outputs": [],
   "source": [
    "# vibo: при записи в json целочисленные ключи преобразуются автоматически в строку\n",
    "import json\n",
    "\n",
    "records = {1: \"First\",\n",
    "           2: \"Second\",\n",
    "           3: \"Third\"}\n",
    "with open(\"output.json\", \"w\", encoding=\"UTF-8\") as file_out:\n",
    "    json.dump(records, file_out, ensure_ascii=False, indent=2)"
   ],
   "metadata": {
    "collapsed": false,
    "pycharm": {
     "name": "#%%\n"
    }
   }
  },
  {
   "cell_type": "markdown",
   "source": [
    "### Практика /20"
   ],
   "metadata": {
    "collapsed": false,
    "pycharm": {
     "name": "#%% md\n"
    }
   }
  },
  {
   "cell_type": "code",
   "execution_count": null,
   "outputs": [],
   "source": [
    "# A Полное решение\n",
    "from sys import stdin\n",
    "from itertools import chain\n",
    "\n",
    "nums = []\n",
    "for num in stdin:\n",
    "    nums.append(num.rstrip(\"\\n\").split())\n",
    "\n",
    "# vibo: делаем список плоским [[a, b], [c, d]] -> [a, b, c, d]\n",
    "nums = list(chain.from_iterable(nums))\n",
    "\n",
    "# print(sum([int(x) for x in nums]))\n",
    "print(sum(map(int, nums)))"
   ],
   "metadata": {
    "collapsed": false,
    "pycharm": {
     "name": "#%%\n"
    }
   }
  },
  {
   "cell_type": "code",
   "execution_count": null,
   "outputs": [],
   "source": [
    "# B Полное решение\n",
    "from sys import stdin\n",
    "\n",
    "users_n = []\n",
    "users_m = []\n",
    "for line in stdin:\n",
    "    users_n.append(line.rstrip(\"\\n\").split()[1])\n",
    "    users_m.append(line.rstrip(\"\\n\").split()[2])\n",
    "\n",
    "ans_n = sum(map(int, users_n)) / len(users_n)\n",
    "ans_m = sum(map(int, users_m)) / len(users_m)\n",
    "\n",
    "ans = round(ans_m - ans_n, 0)\n",
    "print(int(ans))"
   ],
   "metadata": {
    "collapsed": false,
    "pycharm": {
     "name": "#%%\n"
    }
   }
  },
  {
   "cell_type": "code",
   "execution_count": null,
   "outputs": [],
   "source": [
    "# C Полное решение\n",
    "from sys import stdin\n",
    "\n",
    "lines = []\n",
    "for line in stdin:\n",
    "    lines.append(line.rstrip(\"\\n\"))\n",
    "\n",
    "for string in lines:\n",
    "    if string.startswith('#'):\n",
    "        pass\n",
    "    elif '#' in string:\n",
    "        print(string[:string.index('#')])\n",
    "    else:\n",
    "        print(string)"
   ],
   "metadata": {
    "collapsed": false,
    "pycharm": {
     "name": "#%%\n"
    }
   }
  },
  {
   "cell_type": "code",
   "execution_count": null,
   "outputs": [],
   "source": [
    "# D Полное решение\n",
    "from sys import stdin\n",
    "\n",
    "lines = []\n",
    "for line in stdin:\n",
    "    lines.append(line.rstrip(\"\\n\"))\n",
    "\n",
    "for string in lines[:-1]:\n",
    "    if lines[-1].lower() in string.lower():\n",
    "        print(string)"
   ],
   "metadata": {
    "collapsed": false,
    "pycharm": {
     "name": "#%%\n"
    }
   }
  },
  {
   "cell_type": "code",
   "execution_count": null,
   "outputs": [],
   "source": [
    "# E Полное решение\n",
    "from sys import stdin\n",
    "from itertools import chain\n",
    "\n",
    "words = []\n",
    "for line in stdin:\n",
    "    words.append(line.rstrip(\"\\n\").split())\n",
    "\n",
    "words = list(chain.from_iterable(words))\n",
    "\n",
    "ans = []\n",
    "for word in words:\n",
    "    if word.lower() == word[::-1].lower():\n",
    "        ans.append(word)\n",
    "\n",
    "ans = sorted(list(set(ans)))\n",
    "\n",
    "for i in ans:\n",
    "    print(i)"
   ],
   "metadata": {
    "collapsed": false,
    "pycharm": {
     "name": "#%%\n"
    }
   }
  },
  {
   "cell_type": "code",
   "execution_count": null,
   "outputs": [],
   "source": [
    "# F Полное решение\n",
    "dct = {\n",
    "    'А': 'A', 'а': 'a',\n",
    "    'Б': 'B', 'б': 'b',\n",
    "    'В': 'V', 'в': 'v',\n",
    "    'Г': 'G', 'г': 'g',\n",
    "    'Д': 'D', 'д': 'd',\n",
    "    'Е': 'E', 'е': 'e',\n",
    "    'Ё': 'E', 'ё': 'e',\n",
    "    'Ж': 'Zh', 'ж': 'zh',\n",
    "    'З': 'Z', 'з': 'z',\n",
    "    'И': 'I', 'и': 'i',\n",
    "    'Й': 'I', 'й': 'i',\n",
    "    'К': 'K', 'к': 'k',\n",
    "    'Л': 'L', 'л': 'l',\n",
    "    'М': 'M', 'м': 'm',\n",
    "    'Н': 'N', 'н': 'n',\n",
    "    'О': 'O', 'о': 'o',\n",
    "    'П': 'P', 'п': 'p',\n",
    "    'Р': 'R', 'р': 'r',\n",
    "    'С': 'S', 'с': 's',\n",
    "    'Т': 'T', 'т': 't',\n",
    "    'У': 'U', 'у': 'u',\n",
    "    'Ф': 'F', 'ф': 'f',\n",
    "    'Х': 'Kh', 'х': 'kh',\n",
    "    'Ц': 'Tc', 'ц': 'tc',\n",
    "    'Ч': 'Ch', 'ч': 'ch',\n",
    "    'Ш': 'Sh', 'ш': 'sh',\n",
    "    'Щ': 'Shch', 'щ': 'shch',\n",
    "    'Ы': 'Y', 'ы': 'y',\n",
    "    'Э': 'E', 'э': 'e',\n",
    "    'Ю': 'Iu', 'ю': 'iu',\n",
    "    'Я': 'Ia', 'я': 'ia',\n",
    "    'Ъ': '', 'ъ': '',\n",
    "    'Ь': '', 'ь': ''\n",
    "}\n",
    "\n",
    "\n",
    "def translate(in_txt):\n",
    "    out_txt = []\n",
    "    for word in in_txt.split():\n",
    "        t_word = []\n",
    "        for letter in list(word):\n",
    "            if letter in dct:\n",
    "                t_letter = dct[letter]\n",
    "                t_word.append(t_letter)\n",
    "            else:\n",
    "                t_word.append(letter)\n",
    "        out_txt.append(''.join(t_word))\n",
    "    return ' '.join(out_txt)\n",
    "\n",
    "\n",
    "with open(\"cyrillic.txt\", encoding=\"UTF-8\") as file_in:\n",
    "    for line in file_in:\n",
    "        new_string = translate(line.rstrip(\"\\n\")) + '\\n'\n",
    "        with open(\"transliteration.txt\", \"a\", encoding=\"UTF-8\") as file_out:\n",
    "            file_out.write(new_string)"
   ],
   "metadata": {
    "collapsed": false,
    "pycharm": {
     "name": "#%%\n"
    }
   }
  },
  {
   "cell_type": "code",
   "execution_count": null,
   "outputs": [],
   "source": [
    "# G Полное решение\n",
    "from itertools import chain\n",
    "\n",
    "file_name = input()\n",
    "\n",
    "numbers = []\n",
    "with open(file_name, encoding=\"UTF-8\") as file_in:\n",
    "    for line in file_in:\n",
    "        numbers.append(line.rstrip(\"\\n\").split())\n",
    "\n",
    "numbers = list(chain.from_iterable(numbers))\n",
    "numbers = [int(x) for x in numbers]\n",
    "\n",
    "print(len(numbers))\n",
    "print(len([x for x in numbers if x > 0]))\n",
    "print(min(numbers))\n",
    "print(max(numbers))\n",
    "print(sum(numbers))\n",
    "print(round(sum(numbers) / len(numbers), 2))"
   ],
   "metadata": {
    "collapsed": false,
    "pycharm": {
     "name": "#%%\n"
    }
   }
  },
  {
   "cell_type": "code",
   "execution_count": 25,
   "outputs": [],
   "source": [
    "# H Полное решение\n",
    "from itertools import chain\n",
    "\n",
    "# vibo: пользователь вводит названия файлов\n",
    "file1, file2, file3 = input(), input(), input()\n",
    "\n",
    "words1 = []\n",
    "with open(file1, encoding=\"UTF-8\") as file_in:\n",
    "    for line in file_in:\n",
    "        words1.append(line.rstrip(\"\\n\").split())\n",
    "\n",
    "words2 = []\n",
    "with open(file2, encoding=\"UTF-8\") as file_in:\n",
    "    for line in file_in:\n",
    "        words2.append(line.rstrip(\"\\n\").split())\n",
    "\n",
    "# vibo: делаем списки плоскими\n",
    "words1 = list(chain.from_iterable(words1))\n",
    "words2 = list(chain.from_iterable(words2))\n",
    "\n",
    "# vibo: убираем пересечения\n",
    "ans = sorted(list(set(words1) ^ set(words2)))\n",
    "\n",
    "with open(file3, \"a\", encoding=\"UTF-8\") as file_out:\n",
    "    for i in ans:\n",
    "        print(i, file=file_out)"
   ],
   "metadata": {
    "collapsed": false,
    "pycharm": {
     "name": "#%%\n"
    }
   }
  },
  {
   "cell_type": "code",
   "execution_count": 37,
   "outputs": [],
   "source": [
    "# I Полное решение\n",
    "file1, file2 = input(), input()\n",
    "\n",
    "ans = []\n",
    "with open(file1, encoding=\"UTF-8\") as file_in:\n",
    "    for line in file_in:\n",
    "        word = line.rstrip(\"\\n\").split()\n",
    "        ans.append(\" \".join(word))\n",
    "\n",
    "ans = [x for x in ans if x != '']\n",
    "\n",
    "with open(file2, \"a\", encoding=\"UTF-8\") as file_out:\n",
    "    for i in ans:\n",
    "        print(i, file=file_out)"
   ],
   "metadata": {
    "collapsed": false,
    "pycharm": {
     "name": "#%%\n"
    }
   }
  },
  {
   "cell_type": "code",
   "execution_count": 40,
   "outputs": [
    {
     "name": "stdout",
     "output_type": "stream",
     "text": [
      "4 строка\n",
      "5 строка\n"
     ]
    }
   ],
   "source": [
    "# J Полное решение\n",
    "file_name, n = input(), int(input())\n",
    "\n",
    "ans = []\n",
    "with open(file_name, encoding=\"UTF-8\") as file_in:\n",
    "    for line in file_in:\n",
    "        ans.append(line.rstrip(\"\\n\"))\n",
    "\n",
    "# vibo: выводим n последних строк\n",
    "for i in ans[-n:]:\n",
    "    print(i)"
   ],
   "metadata": {
    "collapsed": false,
    "pycharm": {
     "name": "#%%\n"
    }
   }
  },
  {
   "cell_type": "code",
   "execution_count": 43,
   "outputs": [],
   "source": [
    "# K Полное решение\n",
    "from itertools import chain\n",
    "import json\n",
    "\n",
    "file1, file2 = input(), input()\n",
    "\n",
    "numbers = []\n",
    "with open(file1, encoding=\"UTF-8\") as file_in:\n",
    "    for line in file_in:\n",
    "        numbers.append(line.rstrip(\"\\n\").split())\n",
    "\n",
    "numbers = list(chain.from_iterable(numbers))\n",
    "numbers = [int(x) for x in numbers]\n",
    "\n",
    "records = {\"count\": len(numbers),\n",
    "           \"positive_count\": len([x for x in numbers if x > 0]),\n",
    "           \"min\": min(numbers),\n",
    "           \"max\": max(numbers),\n",
    "           \"sum\": sum(numbers),\n",
    "           \"average\": round(sum(numbers) / len(numbers), 2)}\n",
    "\n",
    "with open(file2, \"w\", encoding=\"UTF-8\") as file_out:\n",
    "    json.dump(records, file_out, ensure_ascii=False, indent=2)"
   ],
   "metadata": {
    "collapsed": false,
    "pycharm": {
     "name": "#%%\n"
    }
   }
  },
  {
   "cell_type": "code",
   "execution_count": 59,
   "outputs": [],
   "source": [
    "# L Полное решение\n",
    "file1, file2, file3, file4 = input(), input(), input(), input()\n",
    "\n",
    "\n",
    "def find_ans(num):\n",
    "    i_even = 0\n",
    "    i_odd = 0\n",
    "    for i in num:\n",
    "        if int(i) % 2 == 0:\n",
    "            i_even += 1\n",
    "        else:\n",
    "            i_odd += 1\n",
    "    if i_even > i_odd:\n",
    "        pre_ans = 'even'\n",
    "    elif i_even < i_odd:\n",
    "        pre_ans = 'odd'\n",
    "    else:\n",
    "        pre_ans = 'eq'\n",
    "    return pre_ans\n",
    "\n",
    "\n",
    "with open(file1, encoding=\"UTF-8\") as file_in:\n",
    "    for line in file_in:\n",
    "        string = line.rstrip(\"\\n\").split()\n",
    "        evan_nums = []\n",
    "        odd_nums = []\n",
    "        eq_nums = []\n",
    "        for num in string:\n",
    "            if find_ans(num) == 'even':\n",
    "                evan_nums.append(num)\n",
    "            elif find_ans(num) == 'odd':\n",
    "                odd_nums.append(num)\n",
    "            else:\n",
    "                eq_nums.append(num)\n",
    "\n",
    "        with open(file2, \"a\", encoding=\"UTF-8\") as file_out:\n",
    "            print(\" \".join(evan_nums), file=file_out)\n",
    "        with open(file3, \"a\", encoding=\"UTF-8\") as file_out:\n",
    "            print(\" \".join(odd_nums), file=file_out)\n",
    "        with open(file4, \"a\", encoding=\"UTF-8\") as file_out:\n",
    "            print(\" \".join(eq_nums), file=file_out)"
   ],
   "metadata": {
    "collapsed": false,
    "pycharm": {
     "name": "#%%\n"
    }
   }
  },
  {
   "cell_type": "code",
   "execution_count": null,
   "outputs": [],
   "source": [
    "# M\n",
    "from sys import stdin\n",
    "import json\n",
    "\n",
    "file_name = input()\n",
    "\n",
    "# vibo: забираем данные для обновления файла\n",
    "dct = {}\n",
    "for line in stdin:\n",
    "    new_line = line.rstrip(\"\\n\").split(\" == \")\n",
    "    dct[new_line[0]] = new_line[1]\n",
    "\n",
    "# vibo: читаем словарь из файла\n",
    "with open(file_name, encoding=\"UTF-8\") as file_in:\n",
    "    records = json.load(file_in)\n",
    "\n",
    "# vibo: обновляем значения словаря\n",
    "for k, v in dct.items():\n",
    "    records[k] = v\n",
    "\n",
    "# vibo: обновляем json через dump()\n",
    "with open(file_name, \"w\", encoding=\"UTF-8\") as file_out:\n",
    "    json.dump(records, file_out, ensure_ascii=False, indent=2)"
   ],
   "metadata": {
    "collapsed": false,
    "pycharm": {
     "name": "#%%\n"
    }
   }
  },
  {
   "cell_type": "markdown",
   "source": [
    "**Лексикографический порядок** - по аналогии с сортировкой по алфавиту в словаре"
   ],
   "metadata": {
    "collapsed": false,
    "pycharm": {
     "name": "#%% md\n"
    }
   }
  },
  {
   "cell_type": "code",
   "execution_count": 28,
   "outputs": [
    {
     "name": "stdout",
     "output_type": "stream",
     "text": [
      "new_users_info: {'Ann': {'address': 'Flower st.', 'phone': '+7 (098) 765-43-21'}, 'Bob': {'address': 'Winter st.', 'phone': '+7 (123) 456-78-90'}}\n"
     ]
    }
   ],
   "source": [
    "# # N НЕВЕРНОЕ РЕШЕНИЕ - 1\n",
    "# #vibo: WA на тесте-2\n",
    "# # vibo: слияние данных\n",
    "# import json\n",
    "# from copy import deepcopy\n",
    "#\n",
    "# # users_file, update_file = input(), input()\n",
    "# users_file, update_file = 'users.json', 'updates.json'\n",
    "#\n",
    "# # vibo: читаем словарь из файла\n",
    "# with open(users_file, encoding=\"UTF-8\") as file_in:\n",
    "#     users_info = json.load(file_in)\n",
    "#\n",
    "# with open(update_file, encoding=\"UTF-8\") as file_in:\n",
    "#     update_info = json.load(file_in)\n",
    "#\n",
    "# # print(f'users_info: {users_info}')\n",
    "# # print(f'update_info: {update_info}')\n",
    "#\n",
    "# # vibo: делаем deepcopy словаря\n",
    "# users_info_old = deepcopy(users_info)\n",
    "#\n",
    "# for i, j in zip(users_info, update_info):\n",
    "#     # vibo: обновляем словарь\n",
    "#     i.update(j)\n",
    "#\n",
    "# # print(f'users_info (после update): {users_info}')\n",
    "# # print(f'users_info_old: {users_info_old}')\n",
    "#\n",
    "# # vibo: по условию при обновлении нужно оставить лексикографически большие значения\n",
    "# pre_ans = []\n",
    "# for i, j in zip(users_info, users_info_old):\n",
    "#     # print(f'i: {i}, j: {j}')\n",
    "#     for m, n in zip(i.items(), j.items()):\n",
    "#         # print(f'm: {m}, n: {n}')\n",
    "#         if m[1] > n[1]:\n",
    "#             i[m[0]] = m[1]\n",
    "#         else:\n",
    "#             i[m[0]] = n[1]\n",
    "#     # print(f'НОВАЯ i: {i}')\n",
    "#     pre_ans.append(i)\n",
    "# # print(f'pre_ans: {pre_ans}')\n",
    "#\n",
    "# # vibo: приводим к новой структуре\n",
    "# new_users_info = dict()\n",
    "#\n",
    "# for usr_inf in pre_ans:\n",
    "#     # print(f'usr_inf: {usr_inf}')\n",
    "#     usr_name = usr_inf['name']\n",
    "#     # print(f'usr_name: {usr_name}')\n",
    "#     # vibo: делаем словарь в словаре\n",
    "#     new_users_info.setdefault(usr_name, {})\n",
    "#     usr_inf.pop('name')\n",
    "#     # print(f'usr_inf: {usr_inf}')\n",
    "#     new_users_info[usr_name].update(usr_inf)\n",
    "#\n",
    "# # vibo: исходя из того, что имя всегда идет первым\n",
    "# # vibo: WA на тесте-2\n",
    "# # new_users_info = dict()\n",
    "# # for usr_inf in pre_ans:\n",
    "# #     # print(usr_inf)\n",
    "# #     for k, v in usr_inf.items():\n",
    "# #         # print(f'k: {k}, v: {v}')\n",
    "# #         if k == 'name':\n",
    "# #             usr_name = v\n",
    "# #             # vibo: делаем словарь в словаре\n",
    "# #             new_users_info.setdefault(usr_name, {})\n",
    "# #             # print(new_users_info)\n",
    "# #         else:\n",
    "# #             new_users_info[usr_name].update({k: v})\n",
    "#\n",
    "# print(f'new_users_info: {new_users_info}')\n",
    "#\n",
    "# # with open(\"users.json\", \"w\", encoding=\"UTF-8\") as file_out:\n",
    "# #     json.dump(new_users_info, file_out, ensure_ascii=False, indent=4)"
   ],
   "metadata": {
    "collapsed": false,
    "pycharm": {
     "name": "#%%\n"
    }
   }
  },
  {
   "cell_type": "code",
   "execution_count": 33,
   "outputs": [],
   "source": [
    "# N Полное решение с принтами\n",
    "# vibo: слияние данных\n",
    "import json\n",
    "\n",
    "users_file, update_file = input(), input()\n",
    "# users_file, update_file = 'users.json', 'updates.json'\n",
    "\n",
    "with open(users_file, encoding=\"UTF-8\") as file_in:\n",
    "    users_info = json.load(file_in)\n",
    "\n",
    "with open(update_file, encoding=\"UTF-8\") as file_in:\n",
    "    update_info = json.load(file_in)\n",
    "\n",
    "# print(f'users_info: {users_info}')\n",
    "# print(f'update_info: {update_info}')\n",
    "\n",
    "old_users = []\n",
    "for i in users_info:\n",
    "    old_users.append(i['name'])\n",
    "# print(old_users)\n",
    "\n",
    "# vibo: новые пользователи, которых нужно перенести в базу\n",
    "for j in update_info:\n",
    "    if j['name'] not in old_users:\n",
    "        # print(j['name'])\n",
    "        # print(update_info.index(j))\n",
    "        users_info.append(update_info[update_info.index(j)])\n",
    "# print(f'users_info: {users_info}')\n",
    "\n",
    "for i in users_info:\n",
    "    for j in update_info:\n",
    "        # print(f\"i: {i['name']}, j: {j['name']}\")\n",
    "        if i['name'] == j['name']:\n",
    "            # print(f'    i: {i}, j: {j}')\n",
    "            # print(f'{i.keys() & j.keys()}')\n",
    "            # vibo: добавляем непересекающиеся поля в исходный словарь из второго словаря\n",
    "            add_inf = {key: j[key] for key in j if key not in (i.keys() & j.keys())}\n",
    "            # print(add_inf)\n",
    "            i.update(add_inf)\n",
    "            # print(i)\n",
    "\n",
    "            for k_usr, v_usr in i.items():\n",
    "                for k_upd, v_upd in j.items():\n",
    "                    if k_usr == k_upd:\n",
    "                        # print(f'        k: {k_usr}, {k_upd}, текущая инф: {v_usr}, новая инф: {v_upd}')\n",
    "                        if v_upd > v_usr:\n",
    "                            i[k_usr] = v_upd\n",
    "\n",
    "# print(f'users_info: {users_info}')\n",
    "\n",
    "new_users_info = dict()\n",
    "# vibo: приводим к новой структуре\n",
    "for usr_inf in users_info:\n",
    "    # print(f'usr_inf: {usr_inf}')\n",
    "    usr_name = usr_inf['name']\n",
    "    # print(f'usr_name: {usr_name}')\n",
    "    # vibo: делаем словарь в словаре\n",
    "    new_users_info.setdefault(usr_name, {})\n",
    "    usr_inf.pop('name')\n",
    "    # print(f'usr_inf: {usr_inf}')\n",
    "    new_users_info[usr_name].update(usr_inf)\n",
    "\n",
    "# print(f'new_users_info: {new_users_info}')\n",
    "\n",
    "with open(users_file, \"w\", encoding=\"UTF-8\") as file_out:\n",
    "    json.dump(new_users_info, file_out, ensure_ascii=False, indent=4)"
   ],
   "metadata": {
    "collapsed": false,
    "pycharm": {
     "name": "#%%\n"
    }
   }
  },
  {
   "cell_type": "code",
   "execution_count": null,
   "outputs": [],
   "source": [
    "# N Полное решение\n",
    "# vibo: слияние данных\n",
    "import json\n",
    "\n",
    "users_file, update_file = input(), input()\n",
    "\n",
    "with open(users_file, encoding=\"UTF-8\") as file_in:\n",
    "    users_info = json.load(file_in)\n",
    "\n",
    "with open(update_file, encoding=\"UTF-8\") as file_in:\n",
    "    update_info = json.load(file_in)\n",
    "\n",
    "old_users = []\n",
    "for i in users_info:\n",
    "    old_users.append(i['name'])\n",
    "\n",
    "# vibo: новые пользователи, которых нужно перенести в базу\n",
    "for j in update_info:\n",
    "    if j['name'] not in old_users:\n",
    "        users_info.append(update_info[update_info.index(j)])\n",
    "\n",
    "for i in users_info:\n",
    "    for j in update_info:\n",
    "        if i['name'] == j['name']:\n",
    "            # vibo: добавляем непересекающиеся поля в исходный словарь из второго словаря\n",
    "            add_inf = {key: j[key] for key in j if key not in (i.keys() & j.keys())}\n",
    "            i.update(add_inf)\n",
    "\n",
    "            for k_usr, v_usr in i.items():\n",
    "                for k_upd, v_upd in j.items():\n",
    "                    if k_usr == k_upd:\n",
    "                        if v_upd > v_usr:\n",
    "                            i[k_usr] = v_upd\n",
    "\n",
    "new_users_info = dict()\n",
    "# vibo: приводим к новой структуре\n",
    "for usr_inf in users_info:\n",
    "    usr_name = usr_inf['name']\n",
    "    # vibo: делаем словарь в словаре\n",
    "    new_users_info.setdefault(usr_name, {})\n",
    "    usr_inf.pop('name')\n",
    "    new_users_info[usr_name].update(usr_inf)\n",
    "\n",
    "with open(users_file, \"w\", encoding=\"UTF-8\") as file_out:\n",
    "    json.dump(new_users_info, file_out, ensure_ascii=False, indent=4)"
   ],
   "metadata": {
    "collapsed": false,
    "pycharm": {
     "name": "#%%\n"
    }
   }
  },
  {
   "cell_type": "code",
   "execution_count": null,
   "outputs": [],
   "source": [
    "# 0 Полное решение\n",
    "from sys import stdin\n",
    "import json\n",
    "\n",
    "# vibo: принмаем стандартный ввод\n",
    "usr_ans_lst = []\n",
    "for line in stdin:\n",
    "    usr_ans_lst.append(line.rstrip(\"\\n\"))\n",
    "\n",
    "# print(f'usr_ans: {usr_ans_lst}')\n",
    "\n",
    "with open('scoring.json', encoding=\"UTF-8\") as file_in:\n",
    "    scoring_info = json.load(file_in)\n",
    "\n",
    "# print(f'scoring_info: {scoring_info}')\n",
    "\n",
    "ans = 0\n",
    "tot_count = len(scoring_info)\n",
    "for i in range(tot_count):\n",
    "    # print(i, scoring_info[i])\n",
    "    for k, v in scoring_info[i].items():\n",
    "        if k == 'points':\n",
    "            points = v\n",
    "            # print(f'    test: {i}, points: {points}')\n",
    "\n",
    "        if k == 'tests':\n",
    "            # print(v)\n",
    "            test_count = len(v)\n",
    "            for j in range(test_count):\n",
    "                # print(f'        {v[j]}')\n",
    "                if v[j]['pattern'] == usr_ans_lst[0]:\n",
    "                    ans += (points // test_count)\n",
    "                    usr_ans_lst.pop(0)\n",
    "                    # print(f'ans: {ans}')\n",
    "                else:\n",
    "                    usr_ans_lst.pop(0)\n",
    "\n",
    "print(ans)"
   ],
   "metadata": {
    "collapsed": false,
    "pycharm": {
     "name": "#%%\n"
    }
   }
  },
  {
   "cell_type": "code",
   "execution_count": 30,
   "outputs": [],
   "source": [
    "# P Полное решение\n",
    "from sys import stdin\n",
    "\n",
    "find_txt = input().lower()\n",
    "\n",
    "name_files = []\n",
    "for line in stdin:\n",
    "    name_files.append(line.rstrip(\"\\n\"))\n",
    "\n",
    "ans = []\n",
    "for file in name_files:\n",
    "    pre_ans = []\n",
    "    with open(file, encoding=\"UTF-8\") as file_in:\n",
    "        for line in file_in:\n",
    "            word = line.rstrip(\"\\n\").split()\n",
    "            pre_ans.append(\" \".join(word))\n",
    "    pre_ans = [x for x in pre_ans if x != '']\n",
    "    pre_ans = \" \".join(pre_ans).lower()\n",
    "    if find_txt in pre_ans:\n",
    "        ans.append(file)\n",
    "\n",
    "if len(ans) > 0:\n",
    "    for i in ans:\n",
    "        print(i)\n",
    "else:\n",
    "    print('404. Not Found')"
   ],
   "metadata": {
    "collapsed": false,
    "pycharm": {
     "name": "#%%\n"
    }
   }
  },
  {
   "cell_type": "markdown",
   "source": [
    "**Стеганография** — способ передачи или хранения информации с учётом сохранения в тайне самого факта такой передачи (хранения)"
   ],
   "metadata": {
    "collapsed": false,
    "pycharm": {
     "name": "#%% md\n"
    }
   }
  },
  {
   "cell_type": "code",
   "execution_count": 134,
   "outputs": [
    {
     "name": "stdout",
     "output_type": "stream",
     "text": [
      "text: ['᥈\\u0b65ᙬᱬᝯ,', '᭷ᝯ୲੬\\u0e64!']\n",
      "str(text): ['᥈\\u0b65ᙬᱬᝯ,', '᭷ᝯ୲੬\\u0e64!']\n",
      "i: [, ord(i): 91\n",
      "i: ', ord(i): 39\n",
      "i: \\, ord(i): 92\n",
      "i: u, ord(i): 117\n",
      "i: 0, ord(i): 48\n",
      "i: b, ord(i): 98\n",
      "i: 6, ord(i): 54\n",
      "i: 5, ord(i): 53\n",
      "i: ,, ord(i): 44\n",
      "i: ', ord(i): 39\n",
      "i: ,, ord(i): 44\n",
      "i:  , ord(i): 32\n",
      "i: ', ord(i): 39\n",
      "i: \\, ord(i): 92\n",
      "i: u, ord(i): 117\n",
      "i: 0, ord(i): 48\n",
      "i: e, ord(i): 101\n",
      "i: 6, ord(i): 54\n",
      "i: 4, ord(i): 52\n",
      "i: !, ord(i): 33\n",
      "i: ', ord(i): 39\n",
      "i: ], ord(i): 93\n",
      "['\\u0b65,', '\\u0e64!']\n",
      "['\\u0b65,', '\\u0e64!']\n"
     ]
    }
   ],
   "source": [
    "# Q НЕ РЕШЕНА\n",
    "\n",
    "with open('secret.txt', encoding=\"UTF-8\") as file_in:\n",
    "    for line in file_in:\n",
    "        text = line.rstrip(\"\\n\").split()\n",
    "\n",
    "print(f'text: {text}')\n",
    "print(f'str(text): {str(text)}')\n",
    "\n",
    "new_str = []\n",
    "for i in str(text):\n",
    "    if ord(i) < 128:\n",
    "        print(f'i: {i}, ord(i): {ord(i)}')\n",
    "        new_str.append(i)\n",
    "\n",
    "print(\"\".join(new_str))\n",
    "ans = \"\".join(new_str)\n",
    "print(ans)\n",
    "\n",
    "# text = [ord(x) for x in str(text) if ord(x) < 125]\n",
    "# print(text)"
   ],
   "metadata": {
    "collapsed": false,
    "pycharm": {
     "name": "#%%\n"
    }
   }
  },
  {
   "cell_type": "code",
   "execution_count": null,
   "outputs": [],
   "source": [
    "# R"
   ],
   "metadata": {
    "collapsed": false,
    "pycharm": {
     "name": "#%%\n"
    }
   }
  },
  {
   "cell_type": "code",
   "execution_count": null,
   "outputs": [],
   "source": [
    "# S"
   ],
   "metadata": {
    "collapsed": false,
    "pycharm": {
     "name": "#%%\n"
    }
   }
  },
  {
   "cell_type": "code",
   "execution_count": null,
   "outputs": [],
   "source": [
    "# T"
   ],
   "metadata": {
    "collapsed": false,
    "pycharm": {
     "name": "#%%\n"
    }
   }
  }
 ],
 "metadata": {
  "kernelspec": {
   "display_name": "Python 3",
   "language": "python",
   "name": "python3"
  },
  "language_info": {
   "codemirror_mode": {
    "name": "ipython",
    "version": 2
   },
   "file_extension": ".py",
   "mimetype": "text/x-python",
   "name": "python",
   "nbconvert_exporter": "python",
   "pygments_lexer": "ipython2",
   "version": "2.7.6"
  }
 },
 "nbformat": 4,
 "nbformat_minor": 0
}