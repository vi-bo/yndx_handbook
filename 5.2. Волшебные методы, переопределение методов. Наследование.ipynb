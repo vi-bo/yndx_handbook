{
 "cells": [
  {
   "cell_type": "markdown",
   "source": [
    "\n",
    "# 5. Объектно ориентированное программирование"
   ],
   "metadata": {
    "collapsed": false,
    "pycharm": {
     "name": "#%% md\n"
    }
   }
  },
  {
   "cell_type": "markdown",
   "source": [
    "## 5.2. Волшебные методы, переопределение методов. Наследование"
   ],
   "metadata": {
    "collapsed": false,
    "pycharm": {
     "name": "#%% md\n"
    }
   }
  },
  {
   "cell_type": "markdown",
   "source": [
    "### Теория"
   ],
   "metadata": {
    "collapsed": false,
    "pycharm": {
     "name": "#%% md\n"
    }
   }
  },
  {
   "cell_type": "markdown",
   "source": [
    "В ООП для создания новых классов на основе других применяется принцип **наследования**. Наследование позволяет при создании нового класса указать для него **базовый класс**. От базового класса наследуется вся его структура – атрибуты и методы. Созданный класс-наследник называется **производным классом**."
   ],
   "metadata": {
    "collapsed": false,
    "pycharm": {
     "name": "#%% md\n"
    }
   }
  },
  {
   "cell_type": "code",
   "execution_count": 1,
   "outputs": [
    {
     "name": "stdout",
     "output_type": "stream",
     "text": [
      "Нарисован рисунок цветом 'синий'.\n",
      "Подписан документ.\n",
      "Нарисован рисунок цветом 'красный'.\n",
      "Ручкой цвета 'красный' нельзя подписать документ.\n"
     ]
    }
   ],
   "source": [
    "class Pencil:\n",
    "\n",
    "    def __init__(self, color=\"серый\"):\n",
    "        self.color = color\n",
    "\n",
    "    def draw_picture(self):\n",
    "        return f\"Нарисован рисунок цветом '{self.color}'.\"\n",
    "\n",
    "# vibo: класс Pen является производным от базового класса Pencil\n",
    "class Pen(Pencil):\n",
    "\n",
    "    def sign_document(self):\n",
    "        if self.color not in (\"синий\", \"чёрный\", \"фиолетовый\"):\n",
    "            return f\"Ручкой цвета '{self.color}' нельзя подписать документ.\"\n",
    "        return f\"Подписан документ.\"\n",
    "\n",
    "\n",
    "blue_pen = Pen(color=\"синий\")\n",
    "print(blue_pen.draw_picture())\n",
    "print(blue_pen.sign_document())\n",
    "red_pen = Pen(color=\"красный\")\n",
    "print(red_pen.draw_picture())\n",
    "print(red_pen.sign_document())"
   ],
   "metadata": {
    "collapsed": false,
    "pycharm": {
     "name": "#%%\n"
    }
   }
  },
  {
   "cell_type": "markdown",
   "source": [
    "Модифицируем метод __init__ базового класса, добавив в него новый аргумент. Такая операция при наследовании называется **расширением метода**."
   ],
   "metadata": {
    "collapsed": false,
    "pycharm": {
     "name": "#%% md\n"
    }
   }
  },
  {
   "cell_type": "code",
   "execution_count": 2,
   "outputs": [
    {
     "name": "stdout",
     "output_type": "stream",
     "text": [
      "Нарисован рисунок цветом 'синий'.\n",
      "Подписан документ.\n",
      "Нарисован рисунок цветом 'синий'.\n",
      "Ручкой типа 'гелевая' нельзя подписать документ.\n"
     ]
    }
   ],
   "source": [
    "class Pencil:\n",
    "\n",
    "    def __init__(self, color=\"серый\"):\n",
    "        self.color = color\n",
    "\n",
    "    def draw_picture(self):\n",
    "        return f\"Нарисован рисунок цветом '{self.color}'.\"\n",
    "\n",
    "\n",
    "class Pen(Pencil):\n",
    "\n",
    "    def __init__(self, color, pen_type):\n",
    "        # vibo: при расширении метода необходимо вначале вызвать метод базового класса с помощью функции super()\n",
    "        super().__init__(color=color)\n",
    "        self.pen_type = pen_type\n",
    "\n",
    "    def sign_document(self):\n",
    "        if self.color not in (\"синий\", \"чёрный\", \"фиолетовый\"):\n",
    "            return f\"Ручкой цвета '{self.color}' нельзя подписать документ.\"\n",
    "        elif self.pen_type == \"гелевая\":\n",
    "            return f\"Ручкой типа '{self.pen_type}' нельзя подписать документ.\"\n",
    "        return f\"Подписан документ.\"\n",
    "\n",
    "\n",
    "blue_ball_pen = Pen(color=\"синий\", pen_type=\"шариковая\")\n",
    "print(blue_ball_pen.draw_picture())\n",
    "print(blue_ball_pen.sign_document())\n",
    "blue_gel_pen = Pen(color=\"синий\", pen_type=\"гелевая\")\n",
    "print(blue_gel_pen.draw_picture())\n",
    "print(blue_gel_pen.sign_document())"
   ],
   "metadata": {
    "collapsed": false,
    "pycharm": {
     "name": "#%%\n"
    }
   }
  },
  {
   "cell_type": "markdown",
   "source": [
    "Если в производном классе метод базового класса переписывается заново, то говорят о **переопределении метода**."
   ],
   "metadata": {
    "collapsed": false,
    "pycharm": {
     "name": "#%% md\n"
    }
   }
  },
  {
   "cell_type": "code",
   "execution_count": 3,
   "outputs": [
    {
     "name": "stdout",
     "output_type": "stream",
     "text": [
      "Нарисован рисунок ручкой типа 'шариковая', цветом 'синий'.\n",
      "Подписан документ.\n",
      "Нарисован рисунок ручкой типа 'гелевая', цветом 'синий'.\n",
      "Ручкой типа 'гелевая' нельзя подписать документ.\n"
     ]
    }
   ],
   "source": [
    "class Pencil:\n",
    "\n",
    "    def __init__(self, color=\"серый\"):\n",
    "        self.color = color\n",
    "\n",
    "    def draw_picture(self):\n",
    "        return f\"Нарисован рисунок цветом '{self.color}'.\"\n",
    "\n",
    "\n",
    "class Pen(Pencil):\n",
    "\n",
    "    def __init__(self, color, pen_type):\n",
    "        # vibo: при расширении метода необходимо вначале вызвать метод базового класса с помощью функции super()\n",
    "        super().__init__(color=color)\n",
    "        self.pen_type = pen_type\n",
    "\n",
    "    def sign_document(self):\n",
    "        if self.color not in (\"синий\", \"чёрный\", \"фиолетовый\"):\n",
    "            return f\"Ручкой цвета '{self.color}' нельзя подписать документ.\"\n",
    "        elif self.pen_type == \"гелевая\":\n",
    "            return f\"Ручкой типа '{self.pen_type}' нельзя подписать документ.\"\n",
    "        return f\"Подписан документ.\"\n",
    "\n",
    "    # vibo: переопределение метода базового класса\n",
    "    def draw_picture(self):\n",
    "        return f\"Нарисован рисунок ручкой типа '{self.pen_type}', цветом '{self.color}'.\"\n",
    "\n",
    "\n",
    "blue_ball_pen = Pen(color=\"синий\", pen_type=\"шариковая\")\n",
    "print(blue_ball_pen.draw_picture())\n",
    "print(blue_ball_pen.sign_document())\n",
    "blue_gel_pen = Pen(color=\"синий\", pen_type=\"гелевая\")\n",
    "print(blue_gel_pen.draw_picture())\n",
    "print(blue_gel_pen.sign_document())"
   ],
   "metadata": {
    "collapsed": false,
    "pycharm": {
     "name": "#%%\n"
    }
   }
  },
  {
   "cell_type": "markdown",
   "source": [
    "Наследование может производиться сразу от нескольких классов. В таком случае базовые классы перечисляются через запятую. Производный класс унаследует атрибуты и методы обоих базовых классов."
   ],
   "metadata": {
    "collapsed": false,
    "pycharm": {
     "name": "#%% md\n"
    }
   }
  },
  {
   "cell_type": "code",
   "execution_count": 4,
   "outputs": [
    {
     "name": "stdout",
     "output_type": "stream",
     "text": [
      "Добрый день, Пользователь!\n",
      "Привет, Пользователь!\n"
     ]
    }
   ],
   "source": [
    "class GreetingFormal:\n",
    "\n",
    "    def __init__(self):\n",
    "        self.formal_greeting = \"Добрый день,\"\n",
    "\n",
    "    def greet_formal(self, name):\n",
    "        return f\"{self.formal_greeting} {name}!\"\n",
    "\n",
    "\n",
    "class GreetingInformal:\n",
    "\n",
    "    def __init__(self):\n",
    "        self.informal_greeting = \"Привет,\"\n",
    "\n",
    "    def greet_informal(self, name):\n",
    "        return f\"{self.informal_greeting} {name}!\"\n",
    "\n",
    "\n",
    "# vibo: класс наследуется от двух предыдущих и может приветствовать пользователя по имени обоими методами\n",
    "class GreetingMix(GreetingFormal, GreetingInformal):\n",
    "\n",
    "    # vibo: вместо вызова метода базового класса через функцию super() используется непосредственный вызов из базовых классов\n",
    "    # с указанием имён этих классов. Такой вызов необходим из-за того, что метод __init__ присутствует в обоих базовых классах\n",
    "    # и происходит конфликт.\n",
    "    def __init__(self):\n",
    "        GreetingFormal.__init__(self)\n",
    "        GreetingInformal.__init__(self)\n",
    "\n",
    "\n",
    "mixed_greeting = GreetingMix()\n",
    "print(mixed_greeting.greet_formal(\"Пользователь\"))\n",
    "print(mixed_greeting.greet_informal(\"Пользователь\"))"
   ],
   "metadata": {
    "collapsed": false,
    "pycharm": {
     "name": "#%%\n"
    }
   }
  },
  {
   "cell_type": "markdown",
   "source": [
    "Перепишем пример предыдущего занятия"
   ],
   "metadata": {
    "collapsed": false,
    "pycharm": {
     "name": "#%% md\n"
    }
   }
  },
  {
   "cell_type": "code",
   "execution_count": 5,
   "outputs": [
    {
     "name": "stdout",
     "output_type": "stream",
     "text": [
      "Двигатель запущен.\n",
      "Проехали 100 км. Остаток заряда: 75.0 кВт*ч.\n"
     ]
    }
   ],
   "source": [
    "class Car:\n",
    "\n",
    "    def __init__(self, color, consumption, tank_volume, mileage=0):\n",
    "        self.color = color\n",
    "        self.consumption = consumption\n",
    "        self.tank_volume = tank_volume\n",
    "        self.reserve = tank_volume\n",
    "        self.mileage = mileage\n",
    "        self.engine_on = False\n",
    "\n",
    "    def start_engine(self):\n",
    "        if not self.engine_on and self.reserve > 0:\n",
    "            self.engine_on = True\n",
    "            return \"Двигатель запущен.\"\n",
    "        return \"Двигатель уже был запущен.\"\n",
    "\n",
    "    def stop_engine(self):\n",
    "        if self.engine_on:\n",
    "            self.engine_on = False\n",
    "            return \"Двигатель остановлен.\"\n",
    "        return \"Двигатель уже был остановлен.\"\n",
    "\n",
    "    def drive(self, distance):\n",
    "        if not self.engine_on:\n",
    "            return \"Двигатель не запущен.\"\n",
    "        if self.reserve / self.consumption * 100 < distance:\n",
    "            return \"Малый запас топлива.\"\n",
    "        self.mileage += distance\n",
    "        self.reserve -= distance / 100 * self.consumption\n",
    "        return f\"Проехали {distance} км. Остаток топлива: {self.reserve} л.\"\n",
    "\n",
    "    def refuel(self):\n",
    "        self.reserve = self.tank_volume\n",
    "\n",
    "    def get_mileage(self):\n",
    "        return self.mileage\n",
    "\n",
    "    def get_reserve(self):\n",
    "        return self.reserve\n",
    "\n",
    "    def get_consumption(self):\n",
    "        return self.consumption\n",
    "\n",
    "\n",
    "class ElectricCar(Car):\n",
    "\n",
    "    def __init__(self, color, consumption, bat_capacity, mileage=0):\n",
    "        super().__init__(color, consumption, bat_capacity, mileage)\n",
    "        self.bat_capacity = bat_capacity\n",
    "\n",
    "    def drive(self, distance):\n",
    "        super().drive(100)\n",
    "        return f\"Проехали {distance} км. Остаток заряда: {self.reserve} кВт*ч.\"\n",
    "\n",
    "    def recharge(self):\n",
    "        self.reserve = self.bat_capacity\n",
    "\n",
    "\n",
    "electric_car = ElectricCar(color=\"white\", consumption=15, bat_capacity=90)\n",
    "print(electric_car.start_engine())\n",
    "print(electric_car.drive(100))"
   ],
   "metadata": {
    "collapsed": false,
    "pycharm": {
     "name": "#%%\n"
    }
   }
  },
  {
   "cell_type": "code",
   "execution_count": 6,
   "outputs": [
    {
     "name": "stdout",
     "output_type": "stream",
     "text": [
      "<__main__.ElectricCar object at 0x7fa6a43c08b0>\n"
     ]
    }
   ],
   "source": [
    "# vibo: стандартный вывод информации о созданном объекте\n",
    "print(electric_car)"
   ],
   "metadata": {
    "collapsed": false,
    "pycharm": {
     "name": "#%%\n"
    }
   }
  },
  {
   "cell_type": "markdown",
   "source": [
    "Дополним класс ElectricCar методом `__str__`, чтобы добавить информативность"
   ],
   "metadata": {
    "collapsed": false,
    "pycharm": {
     "name": "#%% md\n"
    }
   }
  },
  {
   "cell_type": "code",
   "execution_count": 7,
   "outputs": [
    {
     "name": "stdout",
     "output_type": "stream",
     "text": [
      "Двигатель запущен.\n",
      "Проехали 100 км. Остаток заряда: 75.0 кВт*ч.\n",
      "Электромобиль. Цвет: белый. Пробег: 100 км. Остаток заряда: 75.0 кВт*ч.\n"
     ]
    }
   ],
   "source": [
    "class Car:\n",
    "\n",
    "    def __init__(self, color, consumption, tank_volume, mileage=0):\n",
    "        self.color = color\n",
    "        self.consumption = consumption\n",
    "        self.tank_volume = tank_volume\n",
    "        self.reserve = tank_volume\n",
    "        self.mileage = mileage\n",
    "        self.engine_on = False\n",
    "\n",
    "    def start_engine(self):\n",
    "        if not self.engine_on and self.reserve > 0:\n",
    "            self.engine_on = True\n",
    "            return \"Двигатель запущен.\"\n",
    "        return \"Двигатель уже был запущен.\"\n",
    "\n",
    "    def stop_engine(self):\n",
    "        if self.engine_on:\n",
    "            self.engine_on = False\n",
    "            return \"Двигатель остановлен.\"\n",
    "        return \"Двигатель уже был остановлен.\"\n",
    "\n",
    "    def drive(self, distance):\n",
    "        if not self.engine_on:\n",
    "            return \"Двигатель не запущен.\"\n",
    "        if self.reserve / self.consumption * 100 < distance:\n",
    "            return \"Малый запас топлива.\"\n",
    "        self.mileage += distance\n",
    "        self.reserve -= distance / 100 * self.consumption\n",
    "        return f\"Проехали {distance} км. Остаток топлива: {self.reserve} л.\"\n",
    "\n",
    "    def refuel(self):\n",
    "        self.reserve = self.tank_volume\n",
    "\n",
    "    def get_mileage(self):\n",
    "        return self.mileage\n",
    "\n",
    "    def get_reserve(self):\n",
    "        return self.reserve\n",
    "\n",
    "    def get_consumption(self):\n",
    "        return self.consumption\n",
    "\n",
    "\n",
    "class ElectricCar(Car):\n",
    "\n",
    "    def __init__(self, color, consumption, bat_capacity, mileage=0):\n",
    "        super().__init__(color, consumption, bat_capacity, mileage)\n",
    "        self.bat_capacity = bat_capacity\n",
    "\n",
    "    def drive(self, distance):\n",
    "        super().drive(100)\n",
    "        return f\"Проехали {distance} км. Остаток заряда: {self.reserve} кВт*ч.\"\n",
    "\n",
    "    def recharge(self):\n",
    "        self.reserve = self.bat_capacity\n",
    "\n",
    "    # vibo: специальный(магический) метод\n",
    "    def __str__(self):\n",
    "        return f\"Электромобиль. \" \\\n",
    "               f\"Цвет: {self.color}. \" \\\n",
    "               f\"Пробег: {self.mileage} км. \" \\\n",
    "               f\"Остаток заряда: {self.reserve} кВт*ч.\"\n",
    "\n",
    "\n",
    "electric_car = ElectricCar(color=\"белый\", consumption=15, bat_capacity=90)\n",
    "print(electric_car.start_engine())\n",
    "print(electric_car.drive(100))\n",
    "print(electric_car)"
   ],
   "metadata": {
    "collapsed": false,
    "pycharm": {
     "name": "#%%\n"
    }
   }
  },
  {
   "cell_type": "markdown",
   "source": [
    "**Специальные методы** нужны для описания взаимодействия с объектами при помощи стандартных операций и встроенных функций. Описание специальных методов называется **перегрузкой операторов** (operator overloading)."
   ],
   "metadata": {
    "collapsed": false,
    "pycharm": {
     "name": "#%% md\n"
    }
   }
  },
  {
   "cell_type": "markdown",
   "source": [
    "#### Назначение некоторых специальных методов"
   ],
   "metadata": {
    "collapsed": false,
    "pycharm": {
     "name": "#%% md\n"
    }
   }
  },
  {
   "cell_type": "markdown",
   "source": [
    "Метод `__repr__` вызывается стандартной функцией repr и возвращает строку, которая является представлением объекта в формате инициализации. Этот метод может быть также полезен, если необходимо вывести информацию об объектах, когда они являются элементами коллекции."
   ],
   "metadata": {
    "collapsed": false,
    "pycharm": {
     "name": "#%% md\n"
    }
   }
  },
  {
   "cell_type": "markdown",
   "source": [
    "Методы для операций сравнения:\n",
    "- `__lt__(self, other)` – `<`;\n",
    "- `__le__(self, other)` – `<=`;\n",
    "- `__eq__(self, other)` – `==`;\n",
    "- `__ne__(self, other)` – `!=`;\n",
    "- `__gt__(self, other)` – `>`;\n",
    "- `__ge__(self, other)` – `>=`."
   ],
   "metadata": {
    "collapsed": false,
    "pycharm": {
     "name": "#%% md\n"
    }
   }
  },
  {
   "cell_type": "markdown",
   "source": [
    "Метод `__call__(arg1, arg2, ...)` вызывается, когда сам объект вызывается как функция с аргументами."
   ],
   "metadata": {
    "collapsed": false,
    "pycharm": {
     "name": "#%% md\n"
    }
   }
  },
  {
   "cell_type": "markdown",
   "source": [
    "Методы для работы с объектом как с коллекцией:\n",
    "- `__getitem__(self, key)` используется для получения элемента коллекции по ключу `self[key]`;\n",
    "- `__setitem__(self, key, value)` используется для записи значения по ключу `self[key] = value`;\n",
    "- `__delitem__(self, key)` используется для удаления ключа и соответствующего ему значения;\n",
    "- `__len__(self)` вызывается стандартной функцией `len`;\n",
    "- `__contains__(self, item)` вызывается при проверке принадлежности значения `item` объекту-коллекции `self` с помощью оператора `in`."
   ],
   "metadata": {
    "collapsed": false,
    "pycharm": {
     "name": "#%% md\n"
    }
   }
  },
  {
   "cell_type": "markdown",
   "source": [
    "Математические операции:\n",
    "-    `__add__(self, other)` – `self + other`;\n",
    "-    `__sub__(self, other)` – `self - other`;\n",
    "-    `__mul__(self, other)` – `self * other`;\n",
    "-    `__matmul__(self, other)` – `self @ other`;\n",
    "-    `__truediv__(self, other)` – `self / other`;\n",
    "-    `__floordiv__(self, other)` – `self // other`;\n",
    "-    `__mod__(self, other)` – `self % other`;\n",
    "-    `__divmod__(self, other)` – `divmod(self, other)`;\n",
    "-    `__pow__(self, other)` – `self ** other`;\n",
    "-    `__lshift__(self, other)` – `self << other`;\n",
    "-    `__rshift__(self, other)` – `self >> other`;\n",
    "-    `__and__(self, other)` – `self & other`;\n",
    "-    `__xor__(self, other)` – `self ^ other`;\n",
    "-    `__or__(self, other)` – `self | other`;\n",
    "-    `__radd__(self, other)` – `other + self`;\n",
    "-    `__rsub__(self, other)` – `other - self`;\n",
    "-    `__rmul__(self, other)` – `other * self`;\n",
    "-    `__rmatmul__(self, other)` – `other @ self`;\n",
    "-    `__rtruediv__(self, other)` – `other / self`;\n",
    "-    `__rfloordiv__(self, other)` – `other // self`;\n",
    "-    `__rmod__(self, other)` – `other % self`;\n",
    "-    `__rdivmod__(self, other)` – `divmod(other, self)`;\n",
    "-    `__rpow__(self, other)` – `other ** self`;\n",
    "-    `__rlshift__(self, other)` – `other << self`;\n",
    "-    `__rrshift__(self, other)` – `other >> self`;\n",
    "-    `__rand__(self, other)` – `other & self`;\n",
    "-    `__rxor__(self, other)` – `other ^ self`;\n",
    "-    `__ror__(self, other)` – `other | self`;\n",
    "-    `__iadd__(self, other)` – `self += other`;\n",
    "-    `__isub__(self, other)` – `self -= other`;\n",
    "-    `__imul__(self, other)` – `self *= other`;\n",
    "-    `__imatmul__(self, other)` – `self @= other`;\n",
    "-    `__itruediv__(self, other)` – `self /= other`;\n",
    "-    `__ifloordiv__(self, other)` – `self //= other`;\n",
    "-    `__imod__(self, other)` – `self %= other`;\n",
    "-    `__ipow__(self, other)` – `self **= other`;\n",
    "-    `__ilshift__(self, other)` – `self <<= other`;\n",
    "-    `__irshift__(self, other)` – `self >>= other`;\n",
    "-    `__iand__(self, other)` – `self &= other`;\n",
    "-    `__ixor__(self, other)` – `self ^= other`;\n",
    "-    `__ior__(self, other)` – `self |= other`."
   ],
   "metadata": {
    "collapsed": false,
    "pycharm": {
     "name": "#%% md\n"
    }
   }
  },
  {
   "cell_type": "code",
   "execution_count": 16,
   "outputs": [
    {
     "name": "stdout",
     "output_type": "stream",
     "text": [
      "Выполняется метод __add__.\n",
      "Выполняется метод __radd__.\n",
      "value: 11.\n"
     ]
    }
   ],
   "source": [
    "class A:\n",
    "\n",
    "    def __init__(self):\n",
    "        self.value = 10\n",
    "\n",
    "    def __add__(self, other):\n",
    "        return \"Выполняется метод __add__.\"\n",
    "\n",
    "    def __radd__(self, other):\n",
    "        return \"Выполняется метод __radd__.\"\n",
    "\n",
    "    def __iadd__(self, other):\n",
    "        self.value += other\n",
    "        return self\n",
    "\n",
    "    def __str__(self):\n",
    "        return f\"value: {self.value}.\"\n",
    "\n",
    "\n",
    "a = A()\n",
    "# vibo: используется метод `__add__(self, other)` – `self + other`\n",
    "print(a + 1)\n",
    "# vibo: используется метод `__radd__(self, other)` – `other + self`\n",
    "print(1 + a)\n",
    "# vibo: используется метод `__iadd__(self, other)` – `self += other`\n",
    "a += 1\n",
    "print(a)"
   ],
   "metadata": {
    "collapsed": false,
    "pycharm": {
     "name": "#%%\n"
    }
   }
  },
  {
   "cell_type": "markdown",
   "source": [
    "При выполнении методов, начинающихся с буквы `i` недостаточно только изменить атрибуты объекта, нужно ещё вернуть объект из метода, иначе в объект запишется `None`."
   ],
   "metadata": {
    "collapsed": false,
    "pycharm": {
     "name": "#%% md\n"
    }
   }
  },
  {
   "cell_type": "markdown",
   "source": [
    "Метод `__repr__` для класса `ElectricCar`:"
   ],
   "metadata": {
    "collapsed": false,
    "pycharm": {
     "name": "#%% md\n"
    }
   }
  },
  {
   "cell_type": "code",
   "execution_count": 18,
   "outputs": [
    {
     "name": "stdout",
     "output_type": "stream",
     "text": [
      "ElectricCar('белый', 15, 90, 0)\n",
      "[ElectricCar('белый', 15, 90, 0), ElectricCar('чёрный', 17, 80, 0)]\n"
     ]
    }
   ],
   "source": [
    "class Car:\n",
    "\n",
    "    def __init__(self, color, consumption, tank_volume, mileage=0):\n",
    "        self.color = color\n",
    "        self.consumption = consumption\n",
    "        self.tank_volume = tank_volume\n",
    "        self.reserve = tank_volume\n",
    "        self.mileage = mileage\n",
    "        self.engine_on = False\n",
    "\n",
    "    def start_engine(self):\n",
    "        if not self.engine_on and self.reserve > 0:\n",
    "            self.engine_on = True\n",
    "            return \"Двигатель запущен.\"\n",
    "        return \"Двигатель уже был запущен.\"\n",
    "\n",
    "    def stop_engine(self):\n",
    "        if self.engine_on:\n",
    "            self.engine_on = False\n",
    "            return \"Двигатель остановлен.\"\n",
    "        return \"Двигатель уже был остановлен.\"\n",
    "\n",
    "    def drive(self, distance):\n",
    "        if not self.engine_on:\n",
    "            return \"Двигатель не запущен.\"\n",
    "        if self.reserve / self.consumption * 100 < distance:\n",
    "            return \"Малый запас топлива.\"\n",
    "        self.mileage += distance\n",
    "        self.reserve -= distance / 100 * self.consumption\n",
    "        return f\"Проехали {distance} км. Остаток топлива: {self.reserve} л.\"\n",
    "\n",
    "    def refuel(self):\n",
    "        self.reserve = self.tank_volume\n",
    "\n",
    "    def get_mileage(self):\n",
    "        return self.mileage\n",
    "\n",
    "    def get_reserve(self):\n",
    "        return self.reserve\n",
    "\n",
    "    def get_consumption(self):\n",
    "        return self.consumption\n",
    "\n",
    "\n",
    "class ElectricCar(Car):\n",
    "\n",
    "    def __init__(self, color, consumption, bat_capacity, mileage=0):\n",
    "        super().__init__(color, consumption, bat_capacity, mileage)\n",
    "        self.bat_capacity = bat_capacity\n",
    "\n",
    "    def drive(self, distance):\n",
    "        super().drive(100)\n",
    "        return f\"Проехали {distance} км. Остаток заряда: {self.reserve} кВт*ч.\"\n",
    "\n",
    "    def recharge(self):\n",
    "        self.reserve = self.bat_capacity\n",
    "\n",
    "    # vibo: специальный(магический) метод\n",
    "    def __str__(self):\n",
    "        return f\"Электромобиль. \" \\\n",
    "               f\"Цвет: {self.color}. \" \\\n",
    "               f\"Пробег: {self.mileage} км. \" \\\n",
    "               f\"Остаток заряда: {self.reserve} кВт*ч.\"\n",
    "\n",
    "    # vibo: метод `__repr__` вызывается стандартной функцией repr и возвращает строку, которая является\n",
    "    # представлением объекта в формате инициализации. Этот метод может быть также полезен, если необходимо\n",
    "    # вывести информацию об объектах, когда они являются элементами коллекции.\n",
    "    def __repr__(self):\n",
    "        return f\"ElectricCar('{self.color}', \" \\\n",
    "               f\"{self.consumption}, \" \\\n",
    "               f\"{self.bat_capacity}, \" \\\n",
    "               f\"{self.mileage})\"\n",
    "\n",
    "\n",
    "electric_car = ElectricCar(color=\"белый\", consumption=15, bat_capacity=90)\n",
    "print(repr(electric_car))\n",
    "electric_car_1 = ElectricCar(color=\"чёрный\", consumption=17, bat_capacity=80)\n",
    "print([electric_car, electric_car_1])"
   ],
   "metadata": {
    "collapsed": false,
    "pycharm": {
     "name": "#%%\n"
    }
   }
  },
  {
   "cell_type": "markdown",
   "source": [
    "Операция сложения для объектов класса `ElectricCar`:"
   ],
   "metadata": {
    "collapsed": false,
    "pycharm": {
     "name": "#%% md\n"
    }
   }
  },
  {
   "cell_type": "code",
   "execution_count": 19,
   "outputs": [
    {
     "name": "stdout",
     "output_type": "stream",
     "text": [
      "Электромобиль. Цвет: белый. Пробег: 200 км. Остаток заряда: 138.0 кВт*ч.\n"
     ]
    }
   ],
   "source": [
    "class Car:\n",
    "\n",
    "    def __init__(self, color, consumption, tank_volume, mileage=0):\n",
    "        self.color = color\n",
    "        self.consumption = consumption\n",
    "        self.tank_volume = tank_volume\n",
    "        self.reserve = tank_volume\n",
    "        self.mileage = mileage\n",
    "        self.engine_on = False\n",
    "\n",
    "    def start_engine(self):\n",
    "        if not self.engine_on and self.reserve > 0:\n",
    "            self.engine_on = True\n",
    "            return \"Двигатель запущен.\"\n",
    "        return \"Двигатель уже был запущен.\"\n",
    "\n",
    "    def stop_engine(self):\n",
    "        if self.engine_on:\n",
    "            self.engine_on = False\n",
    "            return \"Двигатель остановлен.\"\n",
    "        return \"Двигатель уже был остановлен.\"\n",
    "\n",
    "    def drive(self, distance):\n",
    "        if not self.engine_on:\n",
    "            return \"Двигатель не запущен.\"\n",
    "        if self.reserve / self.consumption * 100 < distance:\n",
    "            return \"Малый запас топлива.\"\n",
    "        self.mileage += distance\n",
    "        self.reserve -= distance / 100 * self.consumption\n",
    "        return f\"Проехали {distance} км. Остаток топлива: {self.reserve} л.\"\n",
    "\n",
    "    def refuel(self):\n",
    "        self.reserve = self.tank_volume\n",
    "\n",
    "    def get_mileage(self):\n",
    "        return self.mileage\n",
    "\n",
    "    def get_reserve(self):\n",
    "        return self.reserve\n",
    "\n",
    "    def get_consumption(self):\n",
    "        return self.consumption\n",
    "\n",
    "\n",
    "class ElectricCar(Car):\n",
    "\n",
    "    def __init__(self, color, consumption, bat_capacity, mileage=0):\n",
    "        super().__init__(color, consumption, bat_capacity, mileage)\n",
    "        self.bat_capacity = bat_capacity\n",
    "\n",
    "    def drive(self, distance):\n",
    "        super().drive(100)\n",
    "        return f\"Проехали {distance} км. Остаток заряда: {self.reserve} кВт*ч.\"\n",
    "\n",
    "    def recharge(self):\n",
    "        self.reserve = self.bat_capacity\n",
    "\n",
    "    # vibo: специальный(магический) метод\n",
    "    def __str__(self):\n",
    "        return f\"Электромобиль. \" \\\n",
    "               f\"Цвет: {self.color}. \" \\\n",
    "               f\"Пробег: {self.mileage} км. \" \\\n",
    "               f\"Остаток заряда: {self.reserve} кВт*ч.\"\n",
    "\n",
    "    # vibo: метод `__repr__` вызывается стандартной функцией repr и возвращает строку, которая является\n",
    "    # представлением объекта в формате инициализации. Этот метод может быть также полезен, если необходимо\n",
    "    # вывести информацию об объектах, когда они являются элементами коллекции.\n",
    "    def __repr__(self):\n",
    "        return f\"ElectricCar('{self.color}', \" \\\n",
    "               f\"{self.consumption}, \" \\\n",
    "               f\"{self.bat_capacity}, \" \\\n",
    "               f\"{self.mileage})\"\n",
    "\n",
    "    # vibo: возвращает новый объект, класса `ElectricCar`\n",
    "    # у которого цвет такой же как у левого слагаемого, а уровень заряда батареи, ёмкость батареи,\n",
    "    # расход энергии на 100 км пути и общий пробег вычисляется как сумма соответствующих атрибутов слагаемых объектов\n",
    "    def __add__(self, other):\n",
    "        new_car = ElectricCar(self.color,\n",
    "                              self.consumption + other.consumption,\n",
    "                              self.bat_capacity + other.bat_capacity,\n",
    "                              self.mileage + other.mileage)\n",
    "        new_car.reserve = self.reserve + other.reserve\n",
    "        return new_car\n",
    "\n",
    "\n",
    "electric_car = ElectricCar(color=\"белый\", consumption=15, bat_capacity=90)\n",
    "electric_car_1 = ElectricCar(color=\"чёрный\", consumption=17, bat_capacity=80)\n",
    "electric_car.start_engine()\n",
    "electric_car_1.start_engine()\n",
    "electric_car.drive(300)\n",
    "electric_car_1.drive(100)\n",
    "new_electric_car = electric_car + electric_car_1\n",
    "print(new_electric_car)"
   ],
   "metadata": {
    "collapsed": false,
    "pycharm": {
     "name": "#%%\n"
    }
   }
  },
  {
   "cell_type": "markdown",
   "source": [
    "### Практика /10"
   ],
   "metadata": {
    "collapsed": false,
    "pycharm": {
     "name": "#%% md\n"
    }
   }
  },
  {
   "cell_type": "code",
   "execution_count": 53,
   "outputs": [
    {
     "name": "stdout",
     "output_type": "stream",
     "text": [
      "0 0\n",
      "2 -3\n",
      "16.76\n",
      "16.76\n"
     ]
    }
   ],
   "source": [
    "# A Полное решение\n",
    "# vibo: Классная точка 3.0\n",
    "\n",
    "class Point:\n",
    "\n",
    "    def __init__(self, x, y):\n",
    "        self.x = x\n",
    "        self.y = y\n",
    "\n",
    "    # vibo: создание метода move\n",
    "    def move(self, dx, dy):\n",
    "        self.x += dx\n",
    "        self.y += dy\n",
    "\n",
    "    # vibo: создание метода length\n",
    "    def length(self, name):\n",
    "        # vibo: self.x - значение аргумента для объекта для которого вызывается метод length\n",
    "        # vibo: name.x - значение аргумента для объекта, передаваемого в метод length\n",
    "        return round(((name.x - self.x) ** 2 + (name.y - self.y) ** 2) ** (1 / 2), 2)\n",
    "\n",
    "\n",
    "# vibo: расширяем функционал класса Point, PatchedPoint - наследник Point\n",
    "class PatchedPoint(Point):\n",
    "\n",
    "    # vibo: переопределяем __init__ с учетом обработки входных данных\n",
    "    # по умолчанию точка в начале координат, если передается кортеж, тогда распаковываем его\n",
    "    def __init__(self, x=0, y=0):\n",
    "        self.x = x\n",
    "        self.y = y\n",
    "        if type(self.x) == tuple:\n",
    "            self.x = x[0]\n",
    "            self.y = x[1]\n",
    "\n",
    "\n",
    "# vibo: Пример 1.\n",
    "point = PatchedPoint()\n",
    "print(point.x, point.y)\n",
    "point.move(2, -3)\n",
    "print(point.x, point.y)\n",
    "\n",
    "# vibo: Пример 2.\n",
    "first_point = PatchedPoint((2, -7))\n",
    "second_point = PatchedPoint(7, 9)\n",
    "print(first_point.length(second_point))\n",
    "print(second_point.length(first_point))"
   ],
   "metadata": {
    "collapsed": false,
    "pycharm": {
     "name": "#%%\n"
    }
   }
  },
  {
   "cell_type": "code",
   "execution_count": 54,
   "outputs": [
    {
     "ename": "TypeError",
     "evalue": "__str__ returned non-string (type NoneType)",
     "output_type": "error",
     "traceback": [
      "\u001B[0;31m---------------------------------------------------------------------------\u001B[0m",
      "\u001B[0;31mTypeError\u001B[0m                                 Traceback (most recent call last)",
      "Input \u001B[0;32mIn [54]\u001B[0m, in \u001B[0;36m<cell line: 43>\u001B[0;34m()\u001B[0m\n\u001B[1;32m     41\u001B[0m \u001B[38;5;66;03m# vibo: Пример 1.\u001B[39;00m\n\u001B[1;32m     42\u001B[0m point \u001B[38;5;241m=\u001B[39m PatchedPoint()\n\u001B[0;32m---> 43\u001B[0m \u001B[38;5;28;43mprint\u001B[39;49m\u001B[43m(\u001B[49m\u001B[43mpoint\u001B[49m\u001B[43m)\u001B[49m\n\u001B[1;32m     44\u001B[0m point\u001B[38;5;241m.\u001B[39mmove(\u001B[38;5;241m2\u001B[39m, \u001B[38;5;241m-\u001B[39m\u001B[38;5;241m3\u001B[39m)\n\u001B[1;32m     45\u001B[0m \u001B[38;5;28mprint\u001B[39m(\u001B[38;5;28mrepr\u001B[39m(point))\n",
      "\u001B[0;31mTypeError\u001B[0m: __str__ returned non-string (type NoneType)"
     ]
    }
   ],
   "source": [
    "# B\n",
    "# vibo: Классная точка 4.0\n",
    "\n",
    "class Point:\n",
    "\n",
    "    def __init__(self, x, y):\n",
    "        self.x = x\n",
    "        self.y = y\n",
    "\n",
    "    # vibo: создание метода move\n",
    "    def move(self, dx, dy):\n",
    "        self.x += dx\n",
    "        self.y += dy\n",
    "\n",
    "    # vibo: создание метода length\n",
    "    def length(self, name):\n",
    "        # vibo: self.x - значение аргумента для объекта для которого вызывается метод length\n",
    "        # vibo: name.x - значение аргумента для объекта, передаваемого в метод length\n",
    "        return round(((name.x - self.x) ** 2 + (name.y - self.y) ** 2) ** (1 / 2), 2)\n",
    "\n",
    "\n",
    "# vibo: расширяем функционал класса Point, PatchedPoint - наследник Point\n",
    "class PatchedPoint(Point):\n",
    "\n",
    "    # vibo: переопределяем __init__ с учетом обработки входных данных\n",
    "    # по умолчанию точка в начале координат, если передается кортеж, тогда распаковываем его\n",
    "    def __init__(self, x=0, y=0):\n",
    "        self.x = x\n",
    "        self.y = y\n",
    "        if type(self.x) == tuple:\n",
    "            self.x = x[0]\n",
    "            self.y = x[1]\n",
    "\n",
    "    def __str__(self):\n",
    "        pass\n",
    "\n",
    "    def __repr__(self):\n",
    "        pass\n",
    "\n",
    "\n",
    "# vibo: Пример 1.\n",
    "point = PatchedPoint()\n",
    "print(point)\n",
    "point.move(2, -3)\n",
    "print(repr(point))\n",
    "\n",
    "# vibo: Пример 2.\n",
    "first_point = PatchedPoint((2, -7))\n",
    "second_point = PatchedPoint(7, 9)\n",
    "print(*map(str, (first_point, second_point)))\n",
    "print(*map(repr, (first_point, second_point)))"
   ],
   "metadata": {
    "collapsed": false,
    "pycharm": {
     "name": "#%%\n"
    }
   }
  },
  {
   "cell_type": "code",
   "execution_count": null,
   "outputs": [],
   "source": [],
   "metadata": {
    "collapsed": false,
    "pycharm": {
     "name": "#%%\n"
    }
   }
  },
  {
   "cell_type": "code",
   "execution_count": null,
   "outputs": [],
   "source": [],
   "metadata": {
    "collapsed": false,
    "pycharm": {
     "name": "#%%\n"
    }
   }
  },
  {
   "cell_type": "code",
   "execution_count": null,
   "outputs": [],
   "source": [],
   "metadata": {
    "collapsed": false,
    "pycharm": {
     "name": "#%%\n"
    }
   }
  },
  {
   "cell_type": "code",
   "execution_count": null,
   "outputs": [],
   "source": [],
   "metadata": {
    "collapsed": false,
    "pycharm": {
     "name": "#%%\n"
    }
   }
  },
  {
   "cell_type": "code",
   "execution_count": null,
   "outputs": [],
   "source": [],
   "metadata": {
    "collapsed": false,
    "pycharm": {
     "name": "#%%\n"
    }
   }
  },
  {
   "cell_type": "code",
   "execution_count": null,
   "outputs": [],
   "source": [],
   "metadata": {
    "collapsed": false,
    "pycharm": {
     "name": "#%%\n"
    }
   }
  },
  {
   "cell_type": "code",
   "execution_count": null,
   "outputs": [],
   "source": [],
   "metadata": {
    "collapsed": false,
    "pycharm": {
     "name": "#%%\n"
    }
   }
  },
  {
   "cell_type": "code",
   "execution_count": null,
   "outputs": [],
   "source": [],
   "metadata": {
    "collapsed": false,
    "pycharm": {
     "name": "#%%\n"
    }
   }
  }
 ],
 "metadata": {
  "kernelspec": {
   "display_name": "Python 3",
   "language": "python",
   "name": "python3"
  },
  "language_info": {
   "codemirror_mode": {
    "name": "ipython",
    "version": 2
   },
   "file_extension": ".py",
   "mimetype": "text/x-python",
   "name": "python",
   "nbconvert_exporter": "python",
   "pygments_lexer": "ipython2",
   "version": "2.7.6"
  }
 },
 "nbformat": 4,
 "nbformat_minor": 0
}