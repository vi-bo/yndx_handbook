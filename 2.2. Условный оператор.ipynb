{
 "cells": [
  {
   "cell_type": "markdown",
   "metadata": {
    "pycharm": {
     "name": "#%% md\n"
    }
   },
   "source": [
    "# 2. Базовые конструкции Python"
   ]
  },
  {
   "cell_type": "markdown",
   "source": [
    "## 2.2. Условный оператор"
   ],
   "metadata": {
    "collapsed": false,
    "pycharm": {
     "name": "#%% md\n"
    }
   }
  },
  {
   "cell_type": "markdown",
   "source": [
    "### Теория"
   ],
   "metadata": {
    "collapsed": false,
    "pycharm": {
     "name": "#%% md\n"
    }
   }
  },
  {
   "cell_type": "code",
   "execution_count": 14,
   "outputs": [
    {
     "name": "stdout",
     "output_type": "stream",
     "text": [
      "Сегодня теплее, чем вчера.\n"
     ]
    }
   ],
   "source": [
    "yesterday_temp = int(input())\n",
    "today_temp = int(input())\n",
    "if today_temp > yesterday_temp:\n",
    "    print(\"Сегодня теплее, чем вчера.\")\n",
    "# vibo: проверяется только в случае, если предыдущее условие не было истинным.\n",
    "elif today_temp < yesterday_temp:\n",
    "    print(\"Сегодня холоднее, чем вчера.\")\n",
    "else:\n",
    "    print(\"Сегодня такая же температура, как вчера.\")"
   ],
   "metadata": {
    "collapsed": false,
    "pycharm": {
     "name": "#%%\n"
    }
   }
  },
  {
   "cell_type": "code",
   "execution_count": 15,
   "outputs": [
    {
     "name": "stdout",
     "output_type": "stream",
     "text": [
      "False\n",
      "116 119\n",
      "t w\n"
     ]
    }
   ],
   "source": [
    "letter_1 = \"t\"\n",
    "letter_2 = \"w\"\n",
    "print(letter_1 > letter_2)\n",
    "print(ord(\"t\"), ord(\"w\"))\n",
    "print(chr(116), chr(119))"
   ],
   "metadata": {
    "collapsed": false,
    "pycharm": {
     "name": "#%%\n"
    }
   }
  },
  {
   "cell_type": "code",
   "execution_count": 16,
   "outputs": [
    {
     "name": "stdout",
     "output_type": "stream",
     "text": [
      "Встретилось 'доброе' слово.\n"
     ]
    }
   ],
   "source": [
    "text = input()\n",
    "if \"добр\" in text:\n",
    "    print(\"Встретилось 'доброе' слово.\")\n",
    "else:\n",
    "    print(\"Добрых слов не найдено.\")"
   ],
   "metadata": {
    "collapsed": false,
    "pycharm": {
     "name": "#%%\n"
    }
   }
  },
  {
   "cell_type": "code",
   "execution_count": null,
   "outputs": [],
   "source": [
    "# vibo: только в Python версии 3.10\n",
    "color = input()\n",
    "match color:\n",
    "    case 'красный' | 'жёлтый':\n",
    "        print('Стоп.')\n",
    "    case 'зелёный':\n",
    "        print('Можно ехать.')\n",
    "    case _: # Последний оператор case выполняется всегда и сработает в случае, если ни одно из предыдущих условий не сработало.\n",
    "        print('Некорректное значение.')"
   ],
   "metadata": {
    "collapsed": false,
    "pycharm": {
     "name": "#%%\n"
    }
   }
  },
  {
   "cell_type": "code",
   "execution_count": 17,
   "outputs": [
    {
     "name": "stdout",
     "output_type": "stream",
     "text": [
      "25\n"
     ]
    }
   ],
   "source": [
    "m = 12\n",
    "n = 19\n",
    "k = 25\n",
    "\n",
    "# максимальное число\n",
    "print(max(m, n, k))\n",
    "\n",
    "line_1 = \"m\"\n",
    "line_2 = \"n\"\n",
    "line_3 = \"k\""
   ],
   "metadata": {
    "collapsed": false,
    "pycharm": {
     "name": "#%%\n"
    }
   }
  },
  {
   "cell_type": "code",
   "execution_count": 18,
   "outputs": [
    {
     "name": "stdout",
     "output_type": "stream",
     "text": [
      "k\n"
     ]
    }
   ],
   "source": [
    "# минимальная лексикографически строка\n",
    "print(min(line_1, line_2, line_3))"
   ],
   "metadata": {
    "collapsed": false,
    "pycharm": {
     "name": "#%%\n"
    }
   }
  },
  {
   "cell_type": "code",
   "execution_count": 19,
   "outputs": [
    {
     "name": "stdout",
     "output_type": "stream",
     "text": [
      "609\n"
     ]
    }
   ],
   "source": [
    "# количество цифр в числе 2 в степени 2022\n",
    "print(len(str(2 ** 2022)))"
   ],
   "metadata": {
    "collapsed": false,
    "pycharm": {
     "name": "#%%\n"
    }
   }
  },
  {
   "cell_type": "markdown",
   "source": [
    "### Практика 18/20"
   ],
   "metadata": {
    "collapsed": false,
    "pycharm": {
     "name": "#%% md\n"
    }
   }
  },
  {
   "cell_type": "code",
   "execution_count": null,
   "outputs": [],
   "source": [
    "# A Полное решение\n",
    "print(f'Как Вас зовут?')\n",
    "username = input()\n",
    "print(f'Здравствуйте, {username}!')\n",
    "print(f'Как дела?')\n",
    "status = input()\n",
    "\n",
    "if 'хорошо' in status:\n",
    "    print(f'Я за вас рада!')\n",
    "if 'плохо' in status:\n",
    "    print(f'Всё наладится!')"
   ],
   "metadata": {
    "collapsed": false,
    "pycharm": {
     "name": "#%%\n"
    }
   }
  },
  {
   "cell_type": "code",
   "execution_count": null,
   "outputs": [],
   "source": [
    "# B Полное решение\n",
    "dist = 43872\n",
    "speed_pety = int(input())\n",
    "speed_vasy = int(input())\n",
    "if speed_pety > speed_vasy:\n",
    "    print('Петя')\n",
    "if speed_pety < speed_vasy:\n",
    "    print('Вася')"
   ],
   "metadata": {
    "collapsed": false,
    "pycharm": {
     "name": "#%%\n"
    }
   }
  },
  {
   "cell_type": "code",
   "execution_count": null,
   "outputs": [],
   "source": [
    "# C Полное решение\n",
    "speed_pety = int(input())\n",
    "speed_vasy = int(input())\n",
    "speed_toly = int(input())\n",
    "max_speed = max(speed_pety, speed_vasy, speed_toly)\n",
    "if max_speed == speed_pety:\n",
    "    print('Петя')\n",
    "elif max_speed == speed_vasy:\n",
    "    print('Вася')\n",
    "elif max_speed == speed_toly:\n",
    "    print('Толя')"
   ],
   "metadata": {
    "collapsed": false,
    "pycharm": {
     "name": "#%%\n"
    }
   }
  },
  {
   "cell_type": "code",
   "execution_count": null,
   "outputs": [],
   "source": [
    "# D Полное решение\n",
    "# vibo: как-то все криво и некрасиво получилось\n",
    "speed_pety = int(input())\n",
    "speed_vasy = int(input())\n",
    "speed_toly = int(input())\n",
    "\n",
    "name_list = [speed_pety, speed_vasy, speed_toly]\n",
    "sort_name_list = sorted(name_list, reverse=True)\n",
    "\n",
    "if sort_name_list[0] == speed_pety:\n",
    "    first_name = 'Петя'\n",
    "elif sort_name_list[0] == speed_vasy:\n",
    "    first_name = 'Вася'\n",
    "elif sort_name_list[0] == speed_toly:\n",
    "    first_name = 'Толя'\n",
    "\n",
    "if sort_name_list[1] == speed_pety:\n",
    "    second_name = 'Петя'\n",
    "elif sort_name_list[1] == speed_vasy:\n",
    "    second_name = 'Вася'\n",
    "elif sort_name_list[1] == speed_toly:\n",
    "    second_name = 'Толя'\n",
    "\n",
    "if sort_name_list[2] == speed_pety:\n",
    "    third_name = 'Петя'\n",
    "elif sort_name_list[2] == speed_vasy:\n",
    "    third_name = 'Вася'\n",
    "elif sort_name_list[2] == speed_toly:\n",
    "    third_name = 'Толя'\n",
    "\n",
    "print(f'1. {first_name}')\n",
    "print(f'2. {second_name}')\n",
    "print(f'3. {third_name}')"
   ],
   "metadata": {
    "collapsed": false,
    "pycharm": {
     "name": "#%%\n"
    }
   }
  },
  {
   "cell_type": "code",
   "execution_count": null,
   "outputs": [],
   "source": [
    "# E Полное решение\n",
    "n = int(input())\n",
    "m = int(input())\n",
    "pety_items = 7 - 3 + n\n",
    "vasy_items = 6 + 3 + 2 - 2 + m\n",
    "if pety_items > vasy_items:\n",
    "    print('Петя')\n",
    "if pety_items < vasy_items:\n",
    "    print('Вася')"
   ],
   "metadata": {
    "collapsed": false,
    "pycharm": {
     "name": "#%%\n"
    }
   }
  },
  {
   "cell_type": "code",
   "execution_count": null,
   "outputs": [],
   "source": [
    "# F Полное решение\n",
    "# vibo: високосный год https://learn.microsoft.com/ru-ru/office/troubleshoot/excel/determine-a-leap-year\n",
    "year = int(input())\n",
    "if year % 4 == 0:\n",
    "    if year % 100 == 0:\n",
    "        if year % 400 == 0:\n",
    "            print('YES')\n",
    "        else:\n",
    "            print('NO')\n",
    "    else:\n",
    "        print('YES')\n",
    "else:\n",
    "    print('NO')"
   ],
   "metadata": {
    "collapsed": false,
    "pycharm": {
     "name": "#%%\n"
    }
   }
  },
  {
   "cell_type": "code",
   "execution_count": null,
   "outputs": [],
   "source": [
    "# G Полное решение\n",
    "string = list(input())\n",
    "if string[0] == string[3] and string[1] == string[2]:\n",
    "    print('YES')\n",
    "else:\n",
    "    print('NO')"
   ],
   "metadata": {
    "collapsed": false,
    "pycharm": {
     "name": "#%%\n"
    }
   }
  },
  {
   "cell_type": "code",
   "execution_count": null,
   "outputs": [],
   "source": [
    "# H Полное решение\n",
    "string = input()\n",
    "if 'зайка' in string:\n",
    "    print('YES')\n",
    "else:\n",
    "    print('NO')"
   ],
   "metadata": {
    "collapsed": false,
    "pycharm": {
     "name": "#%%\n"
    }
   }
  },
  {
   "cell_type": "code",
   "execution_count": null,
   "outputs": [],
   "source": [
    "# I Полное решение\n",
    "name1, name2, name3 = input(), input(), input()\n",
    "name_list = sorted([name1, name2, name3])\n",
    "print(name_list[0])"
   ],
   "metadata": {
    "collapsed": false,
    "pycharm": {
     "name": "#%%\n"
    }
   }
  },
  {
   "cell_type": "code",
   "execution_count": null,
   "outputs": [],
   "source": [
    "# J Полное решение\n",
    "input_pass = int(input())\n",
    "first_num = input_pass // 100\n",
    "second_num = input_pass // 10 % 10\n",
    "third_num = input_pass % 10\n",
    "numb1 = second_num + third_num\n",
    "numb2 = first_num + second_num\n",
    "output_list = [numb1, numb2]\n",
    "output_list = sorted(output_list, reverse=True)\n",
    "output_list = str(output_list[0]) + str(output_list[1])\n",
    "print(output_list)"
   ],
   "metadata": {
    "collapsed": false,
    "pycharm": {
     "name": "#%%\n"
    }
   }
  },
  {
   "cell_type": "code",
   "execution_count": null,
   "outputs": [],
   "source": [
    "# K Полное решение\n",
    "input_pass = int(input())\n",
    "first_num = input_pass // 100\n",
    "second_num = input_pass // 10 % 10\n",
    "third_num = input_pass % 10\n",
    "min_num = min(first_num, second_num, third_num)\n",
    "max_num = max(first_num, second_num, third_num)\n",
    "num_list = [int(first_num), int(second_num), int(third_num)]\n",
    "num_list.remove(min_num)\n",
    "num_list.remove(max_num)\n",
    "else_num = num_list[0]\n",
    "if (min_num + max_num) == (else_num * 2):\n",
    "    print('YES')\n",
    "else:\n",
    "    print('NO')"
   ],
   "metadata": {
    "collapsed": false,
    "pycharm": {
     "name": "#%%\n"
    }
   }
  },
  {
   "cell_type": "code",
   "execution_count": null,
   "outputs": [],
   "source": [
    "# L Полное решение\n",
    "a, b, c = int(input()), int(input()), int(input())\n",
    "if a < (b + c) and b < (a + c) and c < (a + b) and a != 0 and b != 0 and c != 0:\n",
    "    print('YES')\n",
    "else:\n",
    "    print('NO')"
   ],
   "metadata": {
    "collapsed": false,
    "pycharm": {
     "name": "#%%\n"
    }
   }
  },
  {
   "cell_type": "code",
   "execution_count": null,
   "outputs": [],
   "source": [
    "# M Полное решение\n",
    "num1, num2, num3 = int(input()), int(input()), int(input())\n",
    "num1_1, num2_1, num3_1 = num1 // 10, num2 // 10, num3 // 10\n",
    "num1_2, num2_2, num3_2 = num1 % 10, num2 % 10, num3 % 10\n",
    "\n",
    "if num1_1 == num2_1 == num3_1:\n",
    "    print(num1_1)\n",
    "elif num1_2 == num2_2 == num3_2:\n",
    "    print(num1_2)"
   ],
   "metadata": {
    "collapsed": false,
    "pycharm": {
     "name": "#%%\n"
    }
   }
  },
  {
   "cell_type": "code",
   "execution_count": null,
   "outputs": [],
   "source": [
    "# N Полное решение\n",
    "start_num = list(input())\n",
    "a = int(start_num[0])\n",
    "b = int(start_num[1])\n",
    "c = int(start_num[2])\n",
    "\n",
    "total_list = [int(str(a) + str(b)), int(str(b) + str(a)),\n",
    "              int(str(b) + str(c)), int(str(c) + str(b)),\n",
    "              int(str(a) + str(c)), int(str(c) + str(a))\n",
    "              ]\n",
    "total_list = sorted(total_list, reverse=True)\n",
    "\n",
    "ans2 = total_list[0]\n",
    "\n",
    "for num in total_list:\n",
    "    if num > 9:\n",
    "        ans1 = num\n",
    "\n",
    "print(f'{ans1} {ans2}')"
   ],
   "metadata": {
    "collapsed": false,
    "pycharm": {
     "name": "#%%\n"
    }
   }
  },
  {
   "cell_type": "code",
   "execution_count": null,
   "outputs": [],
   "source": [
    "# O Полное решение\n",
    "num1, num2 = int(input()), int(input())\n",
    "num1_1, num1_2 = num1 // 10, num1 % 10\n",
    "num2_1, num2_2 = num2 // 10, num2 % 10\n",
    "total_list = sorted([num1_1, num1_2, num2_1, num2_2], reverse=True)\n",
    "ans = str(total_list[0]) + str((total_list[1] + total_list[2]) % 10) + str(total_list[3])\n",
    "print(ans)"
   ],
   "metadata": {
    "collapsed": false,
    "pycharm": {
     "name": "#%%\n"
    }
   }
  },
  {
   "cell_type": "code",
   "execution_count": null,
   "outputs": [],
   "source": [
    "# P Полное решение\n",
    "pety = int(input())\n",
    "vasy = int(input())\n",
    "tola = int(input())\n",
    "\n",
    "my_dict = {'Петя': pety, 'Толя': tola, 'Вася': vasy}\n",
    "top_list = sorted(my_dict.items(), reverse=True, key=lambda item: item[1])\n",
    "\n",
    "first = top_list[0][0]\n",
    "second = top_list[1][0]\n",
    "third = top_list[2][0]\n",
    "print(f'          {first}          ')\n",
    "print(f'  {second}                  ')\n",
    "print(f'                  {third}  ')\n",
    "print(f'   II      I      III')"
   ],
   "metadata": {
    "collapsed": false,
    "pycharm": {
     "name": "#%%\n"
    }
   }
  },
  {
   "cell_type": "code",
   "execution_count": null,
   "outputs": [],
   "source": [
    "# Q НЕ РЕШЕНА\n",
    "# vibo: поиск корней квадратного уранения"
   ],
   "metadata": {
    "collapsed": false,
    "pycharm": {
     "name": "#%%\n"
    }
   }
  },
  {
   "cell_type": "code",
   "execution_count": null,
   "outputs": [],
   "source": [
    "# R Полное решение\n",
    "a, b, c = int(input()), int(input()), int(input())\n",
    "sort_list = sorted([a, b, c])\n",
    "a = sort_list[0]\n",
    "b = sort_list[1]\n",
    "c = sort_list[2]\n",
    "\n",
    "if a ** 2 + b ** 2 == c ** 2:\n",
    "    print('100%')\n",
    "if a ** 2 + b ** 2 > c ** 2:\n",
    "    print('крайне мала')\n",
    "if a ** 2 + b ** 2 < c ** 2:\n",
    "    print('велика')"
   ],
   "metadata": {
    "collapsed": false,
    "pycharm": {
     "name": "#%%\n"
    }
   }
  },
  {
   "cell_type": "code",
   "execution_count": null,
   "outputs": [],
   "source": [
    "# S НЕ РЕШЕНА\n",
    "# vibo: график параболы, круга, прямой"
   ],
   "metadata": {
    "collapsed": false,
    "pycharm": {
     "name": "#%%\n"
    }
   }
  },
  {
   "cell_type": "code",
   "execution_count": 4,
   "outputs": [
    {
     "name": "stdout",
     "output_type": "stream",
     "text": [
      "березка зайка 13\n"
     ]
    }
   ],
   "source": [
    "# T Полное решение\n",
    "ans = 'я'\n",
    "for i in range(3):\n",
    "    str = input()\n",
    "    if 'зайка' in str:\n",
    "        if str < ans:\n",
    "            ans = str\n",
    "\n",
    "print(f\"{ans} {len(ans)}\")"
   ],
   "metadata": {
    "collapsed": false,
    "pycharm": {
     "name": "#%%\n"
    }
   }
  }
 ],
 "metadata": {
  "kernelspec": {
   "display_name": "Python 3.9.9 ('venv-vsc': venv)",
   "language": "python",
   "name": "python3"
  },
  "language_info": {
   "codemirror_mode": {
    "name": "ipython",
    "version": 3
   },
   "file_extension": ".py",
   "mimetype": "text/x-python",
   "name": "python",
   "nbconvert_exporter": "python",
   "pygments_lexer": "ipython3",
   "version": "3.9.9"
  },
  "orig_nbformat": 4,
  "vscode": {
   "interpreter": {
    "hash": "43807f5c999ff1bc99c26ab56886fdb0eb1ab623df40ddad9a297a39d65cf47c"
   }
  }
 },
 "nbformat": 4,
 "nbformat_minor": 2
}