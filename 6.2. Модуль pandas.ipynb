{
 "cells": [
  {
   "cell_type": "markdown",
   "metadata": {
    "pycharm": {
     "name": "#%% md\n"
    }
   },
   "source": [
    "\n",
    "# 6. Библиотеки для получения и обработки данных"
   ]
  },
  {
   "cell_type": "markdown",
   "metadata": {
    "pycharm": {
     "name": "#%% md\n"
    }
   },
   "source": [
    "## 6.2. Модуль pandas"
   ]
  },
  {
   "cell_type": "markdown",
   "metadata": {
    "pycharm": {
     "name": "#%% md\n"
    }
   },
   "source": [
    "### Теория"
   ]
  },
  {
   "cell_type": "markdown",
   "source": [
    "pandAs"
   ],
   "metadata": {
    "collapsed": false,
    "pycharm": {
     "name": "#%% md\n"
    }
   }
  },
  {
   "cell_type": "code",
   "execution_count": 1,
   "outputs": [],
   "source": [
    "import numpy as np\n",
    "import pandas as pd"
   ],
   "metadata": {
    "collapsed": false,
    "pycharm": {
     "name": "#%%\n"
    }
   }
  },
  {
   "cell_type": "markdown",
   "source": [
    "Два класса объектов Pandas:\n",
    "- `Series` – одномерный массив, который может хранить значения любого типа данных;\n",
    "- `DataFrame` – двумерный массив (таблица), в котором столбцами являются объекты класса `Series`."
   ],
   "metadata": {
    "collapsed": false,
    "pycharm": {
     "name": "#%% md\n"
    }
   }
  },
  {
   "cell_type": "markdown",
   "source": [
    "##### Series() - одномерный массив (аналог словаря Python)"
   ],
   "metadata": {
    "collapsed": false,
    "pycharm": {
     "name": "#%% md\n"
    }
   }
  },
  {
   "cell_type": "markdown",
   "source": [
    "Cоздание объекта класса Series\n",
    "**s = pd.Series(data, index=index)**\n",
    "`data` - массив numpy, словарь, число\n",
    "`index` - список меток осей (число, метки-строки)"
   ],
   "metadata": {
    "collapsed": false,
    "pycharm": {
     "name": "#%% md\n"
    }
   }
  },
  {
   "cell_type": "code",
   "execution_count": 4,
   "outputs": [
    {
     "name": "stdout",
     "output_type": "stream",
     "text": [
      "a    0\n",
      "b    1\n",
      "c    2\n",
      "d    3\n",
      "e    4\n",
      "dtype: int64\n",
      "\n",
      "0    0.00\n",
      "1    0.25\n",
      "2    0.50\n",
      "3    0.75\n",
      "4    1.00\n",
      "dtype: float64\n"
     ]
    }
   ],
   "source": [
    "# vibo: создание объекта Series из numpy, с созданием индексов\n",
    "s = pd.Series(np.arange(5), index=[\"a\", \"b\", \"c\", \"d\", \"e\"])\n",
    "print(s)\n",
    "print()\n",
    "# vibo: linspace - начало, конец, количество точек\n",
    "# vibo: индексы по умолчанию от 0 до len(data)-1\n",
    "s = pd.Series(np.linspace(0, 1, 5))\n",
    "print(s)"
   ],
   "metadata": {
    "collapsed": false,
    "pycharm": {
     "name": "#%%\n"
    }
   }
  },
  {
   "cell_type": "code",
   "execution_count": 6,
   "outputs": [
    {
     "name": "stdout",
     "output_type": "stream",
     "text": [
      "a    10\n",
      "b    20\n",
      "c    30\n",
      "g    40\n",
      "dtype: int64\n",
      "\n",
      "a    10.0\n",
      "b    20.0\n",
      "c    30.0\n",
      "d     NaN\n",
      "dtype: float64\n"
     ]
    }
   ],
   "source": [
    "# vibo: создание объекта Series из словаря\n",
    "# vibo: ключи словаря по дефолту используются как индексы строк\n",
    "d = {\"a\": 10, \"b\": 20, \"c\": 30, \"g\": 40}\n",
    "print(pd.Series(d))\n",
    "print()\n",
    "# vibo: если индекса нет в исходном словаре, поле заполняется NaN\n",
    "print(pd.Series(d, index=[\"a\", \"b\", \"c\", \"d\"]))"
   ],
   "metadata": {
    "collapsed": false,
    "pycharm": {
     "name": "#%%\n"
    }
   }
  },
  {
   "cell_type": "markdown",
   "source": [
    "**`NaN` – стандартное обозначение отсутствия данных в библиотеке pandas**"
   ],
   "metadata": {
    "collapsed": false,
    "pycharm": {
     "name": "#%% md\n"
    }
   }
  },
  {
   "cell_type": "code",
   "execution_count": 2,
   "outputs": [
    {
     "name": "stdout",
     "output_type": "stream",
     "text": [
      "a    5\n",
      "b    5\n",
      "c    5\n",
      "dtype: int64\n"
     ]
    }
   ],
   "source": [
    "# vibo: создание объекта Series из числа\n",
    "# vibo: ИНДЕКСЫ ОБЯЗАТЕЛЬНЫ\n",
    "index = [\"a\", \"b\", \"c\"]\n",
    "print(pd.Series(5, index=index))"
   ],
   "metadata": {
    "collapsed": false,
    "pycharm": {
     "name": "#%%\n"
    }
   }
  },
  {
   "cell_type": "code",
   "execution_count": 8,
   "outputs": [
    {
     "name": "stdout",
     "output_type": "stream",
     "text": [
      "Выбор одного элемента\n",
      "0\n",
      "Выбор нескольких элементов\n",
      "a    0\n",
      "d    3\n",
      "dtype: int64\n",
      "Срез\n",
      "b    1\n",
      "c    2\n",
      "d    3\n",
      "e    4\n",
      "dtype: int64\n",
      "Поэлементное сложение\n",
      "a    0\n",
      "b    2\n",
      "c    4\n",
      "d    6\n",
      "e    8\n",
      "dtype: int64\n"
     ]
    }
   ],
   "source": [
    "s = pd.Series(np.arange(5), index=[\"a\", \"b\", \"c\", \"d\", \"e\"])\n",
    "print(\"Выбор одного элемента\")\n",
    "print(s[\"a\"])\n",
    "print(\"Выбор нескольких элементов\")\n",
    "print(s[[\"a\", \"d\"]])\n",
    "print(\"Срез\")\n",
    "print(s[1:])\n",
    "print(\"Поэлементное сложение\")\n",
    "print(s + s)"
   ],
   "metadata": {
    "collapsed": false,
    "pycharm": {
     "name": "#%%\n"
    }
   }
  },
  {
   "cell_type": "code",
   "execution_count": 9,
   "outputs": [
    {
     "name": "stdout",
     "output_type": "stream",
     "text": [
      "Фильтрация\n",
      "d    3\n",
      "e    4\n",
      "dtype: int64\n"
     ]
    }
   ],
   "source": [
    "# vibo: фильтрация по условию\n",
    "s = pd.Series(np.arange(5), index=[\"a\", \"b\", \"c\", \"d\", \"e\"])\n",
    "print(\"Фильтрация\")\n",
    "print(s[s > 2])"
   ],
   "metadata": {
    "collapsed": false,
    "pycharm": {
     "name": "#%%\n"
    }
   }
  },
  {
   "cell_type": "code",
   "execution_count": 10,
   "outputs": [
    {
     "name": "stdout",
     "output_type": "stream",
     "text": [
      "Индекс\n",
      "a    0\n",
      "b    1\n",
      "c    2\n",
      "d    3\n",
      "e    4\n",
      "Name: Данные, dtype: int64\n"
     ]
    }
   ],
   "source": [
    "s = pd.Series(np.arange(5), index=[\"a\", \"b\", \"c\", \"d\", \"e\"])\n",
    "# vibo: атрибут - имя набора данных\n",
    "s.name = \"Данные\"\n",
    "# vibo: имена для индексов\n",
    "s.index.name = \"Индекс\"\n",
    "print(s)"
   ],
   "metadata": {
    "collapsed": false,
    "pycharm": {
     "name": "#%%\n"
    }
   }
  },
  {
   "cell_type": "markdown",
   "source": [
    "##### DataFrame() - двумерный массив"
   ],
   "metadata": {
    "collapsed": false,
    "pycharm": {
     "name": "#%% md\n"
    }
   }
  },
  {
   "cell_type": "code",
   "execution_count": 3,
   "outputs": [
    {
     "name": "stdout",
     "output_type": "stream",
     "text": [
      "     student  math  physics\n",
      "0  Студент_1     5        4\n",
      "1  Студент_2     3        5\n",
      "2  Студент_3     4        5\n"
     ]
    }
   ],
   "source": [
    "# vibo: создание DatsFrame() из словаря Python\n",
    "students_marks_dict = {\"student\": [\"Студент_1\", \"Студент_2\", \"Студент_3\"],\n",
    "                       \"math\": [5, 3, 4],\n",
    "                       \"physics\": [4, 5, 5]}\n",
    "students = pd.DataFrame(students_marks_dict)\n",
    "print(students)"
   ],
   "metadata": {
    "collapsed": false,
    "pycharm": {
     "name": "#%%\n"
    }
   }
  },
  {
   "cell_type": "code",
   "execution_count": 12,
   "outputs": [
    {
     "name": "stdout",
     "output_type": "stream",
     "text": [
      "RangeIndex(start=0, stop=3, step=1)\n",
      "Index(['student', 'math', 'physics'], dtype='object')\n"
     ]
    }
   ],
   "source": [
    "# vibo: индексы по строкам (по умолчанию)\n",
    "print(students.index)\n",
    "# vibo: индексы по столбцам\n",
    "print(students.columns)"
   ],
   "metadata": {
    "collapsed": false,
    "pycharm": {
     "name": "#%%\n"
    }
   }
  },
  {
   "cell_type": "code",
   "execution_count": 13,
   "outputs": [
    {
     "name": "stdout",
     "output_type": "stream",
     "text": [
      "     student  math  physics\n",
      "A  Студент_1     5        4\n",
      "B  Студент_2     3        5\n",
      "C  Студент_3     4        5\n"
     ]
    }
   ],
   "source": [
    "# vibo: меняем индексы по строкам на буквы\n",
    "students.index = [\"A\", \"B\", \"C\"]\n",
    "print(students)"
   ],
   "metadata": {
    "collapsed": false,
    "pycharm": {
     "name": "#%%\n"
    }
   }
  },
  {
   "cell_type": "code",
   "execution_count": 15,
   "outputs": [
    {
     "name": "stdout",
     "output_type": "stream",
     "text": [
      "     student  math  physics\n",
      "B  Студент_2     3        5\n",
      "C  Студент_3     4        5\n"
     ]
    }
   ],
   "source": [
    "# vibo: срез по строковой метке\n",
    "print(students.loc[\"B\":])"
   ],
   "metadata": {
    "collapsed": false,
    "pycharm": {
     "name": "#%%\n"
    }
   }
  },
  {
   "cell_type": "code",
   "execution_count": 17,
   "outputs": [
    {
     "name": "stdout",
     "output_type": "stream",
     "text": [
      "<class 'pandas.core.series.Series'>\n"
     ]
    }
   ],
   "source": [
    "# vibo: столбцы объекта DataFrame являются объектами класса Series\n",
    "print(type(students[\"student\"]))"
   ],
   "metadata": {
    "collapsed": false,
    "pycharm": {
     "name": "#%%\n"
    }
   }
  },
  {
   "cell_type": "markdown",
   "source": [
    "##### Работа с файлами"
   ],
   "metadata": {
    "collapsed": false,
    "pycharm": {
     "name": "#%% md\n"
    }
   }
  },
  {
   "cell_type": "markdown",
   "source": [
    "Получение и запись датасета:\n",
    "- **CSV (Comma Separated Values)**:\n",
    "-- Функция `read_csv()`, аргумент `file` - строка, в которой записан путь до файла;\n",
    "-- Метод `to_csv(file)`, для записи данных из DataFrame в CSV-файл;\n",
    "- **Excel**:\n",
    "-- `read_excel()`;\n",
    "-- `to_excel()` - для записи данных из `DataFrame`;\n",
    "- **JSON**:\n",
    "-- `read_json()`;\n",
    "-- `to_json()` - для записи данных из `DataFrame`."
   ],
   "metadata": {
    "collapsed": false,
    "pycharm": {
     "name": "#%% md\n"
    }
   }
  },
  {
   "cell_type": "code",
   "execution_count": 5,
   "outputs": [],
   "source": [
    "import numpy as np\n",
    "import pandas as pd\n",
    "\n",
    "# vibo: расположение и имя файла передается строкой\n",
    "students = pd.read_csv(\"Students_Performance.csv\")"
   ],
   "metadata": {
    "collapsed": false,
    "pycharm": {
     "name": "#%%\n"
    }
   }
  },
  {
   "cell_type": "code",
   "execution_count": 10,
   "outputs": [
    {
     "data": {
      "text/plain": "   gender race/ethnicity parental level of education         lunch  \\\n0  female        group B           bachelor's degree      standard   \n1  female        group C                some college      standard   \n2  female        group B             master's degree      standard   \n3    male        group A          associate's degree  free/reduced   \n4    male        group C                some college      standard   \n\n  test preparation course  math score  reading score  writing score  \n0                    none          72             72             74  \n1               completed          69             90             88  \n2                    none          90             95             93  \n3                    none          47             57             44  \n4                    none          76             78             75  ",
      "text/html": "<div>\n<style scoped>\n    .dataframe tbody tr th:only-of-type {\n        vertical-align: middle;\n    }\n\n    .dataframe tbody tr th {\n        vertical-align: top;\n    }\n\n    .dataframe thead th {\n        text-align: right;\n    }\n</style>\n<table border=\"1\" class=\"dataframe\">\n  <thead>\n    <tr style=\"text-align: right;\">\n      <th></th>\n      <th>gender</th>\n      <th>race/ethnicity</th>\n      <th>parental level of education</th>\n      <th>lunch</th>\n      <th>test preparation course</th>\n      <th>math score</th>\n      <th>reading score</th>\n      <th>writing score</th>\n    </tr>\n  </thead>\n  <tbody>\n    <tr>\n      <th>0</th>\n      <td>female</td>\n      <td>group B</td>\n      <td>bachelor's degree</td>\n      <td>standard</td>\n      <td>none</td>\n      <td>72</td>\n      <td>72</td>\n      <td>74</td>\n    </tr>\n    <tr>\n      <th>1</th>\n      <td>female</td>\n      <td>group C</td>\n      <td>some college</td>\n      <td>standard</td>\n      <td>completed</td>\n      <td>69</td>\n      <td>90</td>\n      <td>88</td>\n    </tr>\n    <tr>\n      <th>2</th>\n      <td>female</td>\n      <td>group B</td>\n      <td>master's degree</td>\n      <td>standard</td>\n      <td>none</td>\n      <td>90</td>\n      <td>95</td>\n      <td>93</td>\n    </tr>\n    <tr>\n      <th>3</th>\n      <td>male</td>\n      <td>group A</td>\n      <td>associate's degree</td>\n      <td>free/reduced</td>\n      <td>none</td>\n      <td>47</td>\n      <td>57</td>\n      <td>44</td>\n    </tr>\n    <tr>\n      <th>4</th>\n      <td>male</td>\n      <td>group C</td>\n      <td>some college</td>\n      <td>standard</td>\n      <td>none</td>\n      <td>76</td>\n      <td>78</td>\n      <td>75</td>\n    </tr>\n  </tbody>\n</table>\n</div>"
     },
     "execution_count": 10,
     "metadata": {},
     "output_type": "execute_result"
    }
   ],
   "source": [
    "# vibo: вывод первых пяти строк датасета\n",
    "# print(students.head())\n",
    "students.head()"
   ],
   "metadata": {
    "collapsed": false,
    "pycharm": {
     "name": "#%%\n"
    }
   }
  },
  {
   "cell_type": "code",
   "execution_count": 11,
   "outputs": [
    {
     "data": {
      "text/plain": "     gender race/ethnicity parental level of education         lunch  \\\n997  female        group C                 high school  free/reduced   \n998  female        group D                some college      standard   \n999  female        group D                some college  free/reduced   \n\n    test preparation course  math score  reading score  writing score  \n997               completed          59             71             65  \n998               completed          68             78             77  \n999                    none          77             86             86  ",
      "text/html": "<div>\n<style scoped>\n    .dataframe tbody tr th:only-of-type {\n        vertical-align: middle;\n    }\n\n    .dataframe tbody tr th {\n        vertical-align: top;\n    }\n\n    .dataframe thead th {\n        text-align: right;\n    }\n</style>\n<table border=\"1\" class=\"dataframe\">\n  <thead>\n    <tr style=\"text-align: right;\">\n      <th></th>\n      <th>gender</th>\n      <th>race/ethnicity</th>\n      <th>parental level of education</th>\n      <th>lunch</th>\n      <th>test preparation course</th>\n      <th>math score</th>\n      <th>reading score</th>\n      <th>writing score</th>\n    </tr>\n  </thead>\n  <tbody>\n    <tr>\n      <th>997</th>\n      <td>female</td>\n      <td>group C</td>\n      <td>high school</td>\n      <td>free/reduced</td>\n      <td>completed</td>\n      <td>59</td>\n      <td>71</td>\n      <td>65</td>\n    </tr>\n    <tr>\n      <th>998</th>\n      <td>female</td>\n      <td>group D</td>\n      <td>some college</td>\n      <td>standard</td>\n      <td>completed</td>\n      <td>68</td>\n      <td>78</td>\n      <td>77</td>\n    </tr>\n    <tr>\n      <th>999</th>\n      <td>female</td>\n      <td>group D</td>\n      <td>some college</td>\n      <td>free/reduced</td>\n      <td>none</td>\n      <td>77</td>\n      <td>86</td>\n      <td>86</td>\n    </tr>\n  </tbody>\n</table>\n</div>"
     },
     "execution_count": 11,
     "metadata": {},
     "output_type": "execute_result"
    }
   ],
   "source": [
    "# vibo: последние три записи\n",
    "# print(students.tail(3))\n",
    "students.tail(3)"
   ],
   "metadata": {
    "collapsed": false,
    "pycharm": {
     "name": "#%%\n"
    }
   }
  },
  {
   "cell_type": "markdown",
   "source": [
    "##### Срезы"
   ],
   "metadata": {
    "collapsed": false,
    "pycharm": {
     "name": "#%% md\n"
    }
   }
  },
  {
   "cell_type": "code",
   "execution_count": 12,
   "outputs": [
    {
     "data": {
      "text/plain": "    gender race/ethnicity parental level of education     lunch  \\\n10    male        group C          associate's degree  standard   \n11    male        group D          associate's degree  standard   \n12  female        group B                 high school  standard   \n\n   test preparation course  math score  reading score  writing score  \n10                    none          58             54             52  \n11                    none          40             52             43  \n12                    none          65             81             73  ",
      "text/html": "<div>\n<style scoped>\n    .dataframe tbody tr th:only-of-type {\n        vertical-align: middle;\n    }\n\n    .dataframe tbody tr th {\n        vertical-align: top;\n    }\n\n    .dataframe thead th {\n        text-align: right;\n    }\n</style>\n<table border=\"1\" class=\"dataframe\">\n  <thead>\n    <tr style=\"text-align: right;\">\n      <th></th>\n      <th>gender</th>\n      <th>race/ethnicity</th>\n      <th>parental level of education</th>\n      <th>lunch</th>\n      <th>test preparation course</th>\n      <th>math score</th>\n      <th>reading score</th>\n      <th>writing score</th>\n    </tr>\n  </thead>\n  <tbody>\n    <tr>\n      <th>10</th>\n      <td>male</td>\n      <td>group C</td>\n      <td>associate's degree</td>\n      <td>standard</td>\n      <td>none</td>\n      <td>58</td>\n      <td>54</td>\n      <td>52</td>\n    </tr>\n    <tr>\n      <th>11</th>\n      <td>male</td>\n      <td>group D</td>\n      <td>associate's degree</td>\n      <td>standard</td>\n      <td>none</td>\n      <td>40</td>\n      <td>52</td>\n      <td>43</td>\n    </tr>\n    <tr>\n      <th>12</th>\n      <td>female</td>\n      <td>group B</td>\n      <td>high school</td>\n      <td>standard</td>\n      <td>none</td>\n      <td>65</td>\n      <td>81</td>\n      <td>73</td>\n    </tr>\n  </tbody>\n</table>\n</div>"
     },
     "execution_count": 12,
     "metadata": {},
     "output_type": "execute_result"
    }
   ],
   "source": [
    "# vibo: срез по индексам строк\n",
    "# print(students[10:13])\n",
    "students[10:13]"
   ],
   "metadata": {
    "collapsed": false,
    "pycharm": {
     "name": "#%%\n"
    }
   }
  },
  {
   "cell_type": "code",
   "execution_count": 15,
   "outputs": [
    {
     "data": {
      "text/plain": "1     69\n6     88\n8     64\n13    78\n18    46\nName: math score, dtype: int64"
     },
     "execution_count": 15,
     "metadata": {},
     "output_type": "execute_result"
    }
   ],
   "source": [
    "# vibo: индексация с условием фильтрации данных\n",
    "# print(students[students[\"test preparation course\"] == \"completed\"][\"math score\"].head())\n",
    "# vibo: 5 первых результатов по математике из тех, кто прошел подготовительные курсы\n",
    "students[students[\"test preparation course\"] == \"completed\"][\"math score\"].head()"
   ],
   "metadata": {
    "collapsed": false,
    "pycharm": {
     "name": "#%%\n"
    }
   }
  },
  {
   "cell_type": "markdown",
   "source": [
    "##### Сортировка"
   ],
   "metadata": {
    "collapsed": false,
    "pycharm": {
     "name": "#%% md\n"
    }
   }
  },
  {
   "cell_type": "code",
   "execution_count": 23,
   "outputs": [
    {
     "data": {
      "text/plain": "     math score  reading score  writing score\n916         100            100            100\n149         100            100             93\n625         100             97             99\n623         100             96             86\n114          99            100            100",
      "text/html": "<div>\n<style scoped>\n    .dataframe tbody tr th:only-of-type {\n        vertical-align: middle;\n    }\n\n    .dataframe tbody tr th {\n        vertical-align: top;\n    }\n\n    .dataframe thead th {\n        text-align: right;\n    }\n</style>\n<table border=\"1\" class=\"dataframe\">\n  <thead>\n    <tr style=\"text-align: right;\">\n      <th></th>\n      <th>math score</th>\n      <th>reading score</th>\n      <th>writing score</th>\n    </tr>\n  </thead>\n  <tbody>\n    <tr>\n      <th>916</th>\n      <td>100</td>\n      <td>100</td>\n      <td>100</td>\n    </tr>\n    <tr>\n      <th>149</th>\n      <td>100</td>\n      <td>100</td>\n      <td>93</td>\n    </tr>\n    <tr>\n      <th>625</th>\n      <td>100</td>\n      <td>97</td>\n      <td>99</td>\n    </tr>\n    <tr>\n      <th>623</th>\n      <td>100</td>\n      <td>96</td>\n      <td>86</td>\n    </tr>\n    <tr>\n      <th>114</th>\n      <td>99</td>\n      <td>100</td>\n      <td>100</td>\n    </tr>\n  </tbody>\n</table>\n</div>"
     },
     "execution_count": 23,
     "metadata": {},
     "output_type": "execute_result"
    }
   ],
   "source": [
    "# vibo: предыдущий запрос с сортировкой (ascending=False для сортировки по убыванию)\n",
    "# vibo: 5 лучших результатов по трем дисциплинам (по убыванию) для предыдущей выборки (те, кто прошел подготовительные курсы)\n",
    "\n",
    "# vibo: выборка тех, кто прошел подготовительные курсы\n",
    "with_course = students[students[\"test preparation course\"] == \"completed\"]\n",
    "# print(with_course[[\"math score\",\n",
    "#                    \"reading score\",\n",
    "#                    \"writing score\"]].sort_values([\"math score\",\n",
    "#                                                   \"reading score\",\n",
    "#                                                   \"writing score\"], ascending=False).head())\n",
    "# vibo: работаем с новой выборкой\n",
    "with_course[['math score',\n",
    "             'reading score',\n",
    "             'writing score']].sort_values(['math score',\n",
    "                                            'reading score',\n",
    "                                            'writing score'], ascending=False).head()"
   ],
   "metadata": {
    "collapsed": false,
    "pycharm": {
     "name": "#%%\n"
    }
   }
  },
  {
   "cell_type": "markdown",
   "source": [
    "##### Добавление колонки"
   ],
   "metadata": {
    "collapsed": false,
    "pycharm": {
     "name": "#%% md\n"
    }
   }
  },
  {
   "cell_type": "code",
   "execution_count": 27,
   "outputs": [
    {
     "data": {
      "text/plain": "     gender race/ethnicity parental level of education     lunch  \\\n916    male        group E           bachelor's degree  standard   \n458  female        group E           bachelor's degree  standard   \n962  female        group E          associate's degree  standard   \n114  female        group E           bachelor's degree  standard   \n179  female        group D            some high school  standard   \n\n    test preparation course  math score  reading score  writing score  \\\n916               completed         100            100            100   \n458                    none         100            100            100   \n962                    none         100            100            100   \n114               completed          99            100            100   \n179               completed          97            100            100   \n\n     total score  \n916          300  \n458          300  \n962          300  \n114          299  \n179          297  ",
      "text/html": "<div>\n<style scoped>\n    .dataframe tbody tr th:only-of-type {\n        vertical-align: middle;\n    }\n\n    .dataframe tbody tr th {\n        vertical-align: top;\n    }\n\n    .dataframe thead th {\n        text-align: right;\n    }\n</style>\n<table border=\"1\" class=\"dataframe\">\n  <thead>\n    <tr style=\"text-align: right;\">\n      <th></th>\n      <th>gender</th>\n      <th>race/ethnicity</th>\n      <th>parental level of education</th>\n      <th>lunch</th>\n      <th>test preparation course</th>\n      <th>math score</th>\n      <th>reading score</th>\n      <th>writing score</th>\n      <th>total score</th>\n    </tr>\n  </thead>\n  <tbody>\n    <tr>\n      <th>916</th>\n      <td>male</td>\n      <td>group E</td>\n      <td>bachelor's degree</td>\n      <td>standard</td>\n      <td>completed</td>\n      <td>100</td>\n      <td>100</td>\n      <td>100</td>\n      <td>300</td>\n    </tr>\n    <tr>\n      <th>458</th>\n      <td>female</td>\n      <td>group E</td>\n      <td>bachelor's degree</td>\n      <td>standard</td>\n      <td>none</td>\n      <td>100</td>\n      <td>100</td>\n      <td>100</td>\n      <td>300</td>\n    </tr>\n    <tr>\n      <th>962</th>\n      <td>female</td>\n      <td>group E</td>\n      <td>associate's degree</td>\n      <td>standard</td>\n      <td>none</td>\n      <td>100</td>\n      <td>100</td>\n      <td>100</td>\n      <td>300</td>\n    </tr>\n    <tr>\n      <th>114</th>\n      <td>female</td>\n      <td>group E</td>\n      <td>bachelor's degree</td>\n      <td>standard</td>\n      <td>completed</td>\n      <td>99</td>\n      <td>100</td>\n      <td>100</td>\n      <td>299</td>\n    </tr>\n    <tr>\n      <th>179</th>\n      <td>female</td>\n      <td>group D</td>\n      <td>some high school</td>\n      <td>standard</td>\n      <td>completed</td>\n      <td>97</td>\n      <td>100</td>\n      <td>100</td>\n      <td>297</td>\n    </tr>\n  </tbody>\n</table>\n</div>"
     },
     "execution_count": 27,
     "metadata": {},
     "output_type": "execute_result"
    }
   ],
   "source": [
    "# vibo: создаем дополнительный столбец total score\n",
    "# vibo: выберем лучших по сумме баллов за три дисциплины\n",
    "\n",
    "# vibo: создаем новый столбец с результирующими данными\n",
    "students[\"total score\"] = students[\"math score\"] + students[\"reading score\"] + students[\"writing score\"]\n",
    "\n",
    "# print(students.sort_values([\"total score\"], ascending=False).head())\n",
    "students.sort_values([\"total score\"], ascending=False).head()"
   ],
   "metadata": {
    "collapsed": false,
    "pycharm": {
     "name": "#%%\n"
    }
   }
  },
  {
   "cell_type": "markdown",
   "source": [
    "##### assign()"
   ],
   "metadata": {
    "collapsed": false,
    "pycharm": {
     "name": "#%% md\n"
    }
   }
  },
  {
   "cell_type": "code",
   "execution_count": 30,
   "outputs": [
    {
     "data": {
      "text/plain": "     gender race/ethnicity parental level of education     lunch  \\\n916    male        group E           bachelor's degree  standard   \n458  female        group E           bachelor's degree  standard   \n962  female        group E          associate's degree  standard   \n114  female        group E           bachelor's degree  standard   \n179  female        group D            some high school  standard   \n\n    test preparation course  math score  reading score  writing score  \\\n916               completed         100            100            100   \n458                    none         100            100            100   \n962                    none         100            100            100   \n114               completed          99            100            100   \n179               completed          97            100            100   \n\n     total score  total_score  \n916          300          300  \n458          300          300  \n962          300          300  \n114          299          299  \n179          297          297  ",
      "text/html": "<div>\n<style scoped>\n    .dataframe tbody tr th:only-of-type {\n        vertical-align: middle;\n    }\n\n    .dataframe tbody tr th {\n        vertical-align: top;\n    }\n\n    .dataframe thead th {\n        text-align: right;\n    }\n</style>\n<table border=\"1\" class=\"dataframe\">\n  <thead>\n    <tr style=\"text-align: right;\">\n      <th></th>\n      <th>gender</th>\n      <th>race/ethnicity</th>\n      <th>parental level of education</th>\n      <th>lunch</th>\n      <th>test preparation course</th>\n      <th>math score</th>\n      <th>reading score</th>\n      <th>writing score</th>\n      <th>total score</th>\n      <th>total_score</th>\n    </tr>\n  </thead>\n  <tbody>\n    <tr>\n      <th>916</th>\n      <td>male</td>\n      <td>group E</td>\n      <td>bachelor's degree</td>\n      <td>standard</td>\n      <td>completed</td>\n      <td>100</td>\n      <td>100</td>\n      <td>100</td>\n      <td>300</td>\n      <td>300</td>\n    </tr>\n    <tr>\n      <th>458</th>\n      <td>female</td>\n      <td>group E</td>\n      <td>bachelor's degree</td>\n      <td>standard</td>\n      <td>none</td>\n      <td>100</td>\n      <td>100</td>\n      <td>100</td>\n      <td>300</td>\n      <td>300</td>\n    </tr>\n    <tr>\n      <th>962</th>\n      <td>female</td>\n      <td>group E</td>\n      <td>associate's degree</td>\n      <td>standard</td>\n      <td>none</td>\n      <td>100</td>\n      <td>100</td>\n      <td>100</td>\n      <td>300</td>\n      <td>300</td>\n    </tr>\n    <tr>\n      <th>114</th>\n      <td>female</td>\n      <td>group E</td>\n      <td>bachelor's degree</td>\n      <td>standard</td>\n      <td>completed</td>\n      <td>99</td>\n      <td>100</td>\n      <td>100</td>\n      <td>299</td>\n      <td>299</td>\n    </tr>\n    <tr>\n      <th>179</th>\n      <td>female</td>\n      <td>group D</td>\n      <td>some high school</td>\n      <td>standard</td>\n      <td>completed</td>\n      <td>97</td>\n      <td>100</td>\n      <td>100</td>\n      <td>297</td>\n      <td>297</td>\n    </tr>\n  </tbody>\n</table>\n</div>"
     },
     "execution_count": 30,
     "metadata": {},
     "output_type": "execute_result"
    }
   ],
   "source": [
    "# vibo: добавить колонку - метод assign(), при помощи лямбда-функции\n",
    "scores = students.assign(total_score=lambda x: x[\"math score\"] + x[\"reading score\"] + x[\"writing score\"])\n",
    "# print(scores.sort_values([\"total_score\"], ascending=False).head())\n",
    "scores.sort_values([\"total_score\"], ascending=False).head()"
   ],
   "metadata": {
    "collapsed": false,
    "pycharm": {
     "name": "#%%\n"
    }
   }
  },
  {
   "cell_type": "markdown",
   "source": [
    "##### Группировка и агрегация"
   ],
   "metadata": {
    "collapsed": false,
    "pycharm": {
     "name": "#%% md\n"
    }
   }
  },
  {
   "cell_type": "code",
   "execution_count": 32,
   "outputs": [
    {
     "data": {
      "text/plain": "gender  test preparation course\nfemale  completed                  184\n        none                       334\nmale    completed                  174\n        none                       308\nName: writing score, dtype: int64"
     },
     "execution_count": 32,
     "metadata": {},
     "output_type": "execute_result"
    }
   ],
   "source": [
    "# vibo: groupby() и count()\n",
    "# print(students.groupby([\"gender\", \"test preparation course\"])[\"writing score\"].count())\n",
    "students.groupby([\"gender\", \"test preparation course\"])[\"writing score\"].count()"
   ],
   "metadata": {
    "collapsed": false,
    "pycharm": {
     "name": "#%%\n"
    }
   }
  },
  {
   "cell_type": "markdown",
   "source": [
    "##### agg()"
   ],
   "metadata": {
    "collapsed": false,
    "pycharm": {
     "name": "#%% md\n"
    }
   }
  },
  {
   "cell_type": "code",
   "execution_count": 35,
   "outputs": [
    {
     "data": {
      "text/plain": "                               math score       \n                                     mean median\ngender test preparation course                  \nfemale completed                67.195652   67.0\n       none                     61.670659   62.0\nmale   completed                72.339080   73.0\n       none                     66.688312   67.0",
      "text/html": "<div>\n<style scoped>\n    .dataframe tbody tr th:only-of-type {\n        vertical-align: middle;\n    }\n\n    .dataframe tbody tr th {\n        vertical-align: top;\n    }\n\n    .dataframe thead tr th {\n        text-align: left;\n    }\n\n    .dataframe thead tr:last-of-type th {\n        text-align: right;\n    }\n</style>\n<table border=\"1\" class=\"dataframe\">\n  <thead>\n    <tr>\n      <th></th>\n      <th></th>\n      <th colspan=\"2\" halign=\"left\">math score</th>\n    </tr>\n    <tr>\n      <th></th>\n      <th></th>\n      <th>mean</th>\n      <th>median</th>\n    </tr>\n    <tr>\n      <th>gender</th>\n      <th>test preparation course</th>\n      <th></th>\n      <th></th>\n    </tr>\n  </thead>\n  <tbody>\n    <tr>\n      <th rowspan=\"2\" valign=\"top\">female</th>\n      <th>completed</th>\n      <td>67.195652</td>\n      <td>67.0</td>\n    </tr>\n    <tr>\n      <th>none</th>\n      <td>61.670659</td>\n      <td>62.0</td>\n    </tr>\n    <tr>\n      <th rowspan=\"2\" valign=\"top\">male</th>\n      <th>completed</th>\n      <td>72.339080</td>\n      <td>73.0</td>\n    </tr>\n    <tr>\n      <th>none</th>\n      <td>66.688312</td>\n      <td>67.0</td>\n    </tr>\n  </tbody>\n</table>\n</div>"
     },
     "execution_count": 35,
     "metadata": {},
     "output_type": "execute_result"
    }
   ],
   "source": [
    "agg_functions = {\"math score\": [\"mean\", \"median\"]}\n",
    "# print(students.groupby([\"gender\", \"test preparation course\"]).agg(agg_functions))\n",
    "\n",
    "# vibo: для агрегации используем метод agg\n",
    "# vibo: в agg передаем словарь с ключами - названиями столбцов\n",
    "# vibo: значения по ключам могут быть списками функций агрегации\n",
    "students.groupby([\"gender\", \"test preparation course\"]).agg(agg_functions)"
   ],
   "metadata": {
    "collapsed": false,
    "pycharm": {
     "name": "#%%\n"
    }
   }
  },
  {
   "cell_type": "markdown",
   "source": [
    "##### Визуализация"
   ],
   "metadata": {
    "collapsed": false,
    "pycharm": {
     "name": "#%% md\n"
    }
   }
  },
  {
   "cell_type": "code",
   "execution_count": 37,
   "outputs": [
    {
     "data": {
      "text/plain": "<Figure size 640x480 with 1 Axes>",
      "image/png": "[encoded data removed]"
     },
     "metadata": {},
     "output_type": "display_data"
    }
   ],
   "source": [
    "import matplotlib.pyplot as plt\n",
    "\n",
    "plt.hist(students[\"math score\"], label=\"Тест по математике\")\n",
    "plt.xlabel(\"Баллы за тест\")\n",
    "plt.ylabel(\"Количество студентов\")\n",
    "plt.legend()\n",
    "plt.show()"
   ],
   "metadata": {
    "collapsed": false,
    "pycharm": {
     "name": "#%%\n"
    }
   }
  },
  {
   "cell_type": "markdown",
   "source": [
    "### Практика 9/10"
   ],
   "metadata": {
    "collapsed": false,
    "pycharm": {
     "name": "#%% md\n"
    }
   }
  },
  {
   "cell_type": "code",
   "execution_count": 54,
   "outputs": [
    {
     "name": "stdout",
     "output_type": "stream",
     "text": [
      "мама    4\n",
      "мыла    4\n",
      "раму    4\n",
      "dtype: int64\n",
      "домик       5\n",
      "зверушка    8\n",
      "и           1\n",
      "лес         3\n",
      "опушка      6\n",
      "странный    8\n",
      "dtype: int64\n"
     ]
    }
   ],
   "source": [
    "# A ПОЛНОЕ РЕШЕНИЕ\n",
    "import pandas as pd\n",
    "\n",
    "\n",
    "def length_stats(string):\n",
    "    # vibo: переводим строку в нижний регистр, делим по пробелам\n",
    "    string = string.lower().split()\n",
    "    # vibo: проходим по строке, словам, оставляя только буквы\n",
    "    string = [\"\".join([y for y in x if y.isalpha()]) for x in string]\n",
    "    # vibo: преобразуем в словарь\n",
    "    dct = {i: len(i) for i in string}\n",
    "    # vibo: делаем лексикографическом порядок\n",
    "    ans = pd.Series(dct).sort_index()\n",
    "    # vibo: условие фильтрации для пропуска - \"\" (остается от отдельностоящей цифры)\n",
    "    return ans[ans.index != \"\"]\n",
    "\n",
    "# vibo: Пример 1\n",
    "print(length_stats('Мама 7 мыла, раму'))\n",
    "\n",
    "# vibo: Пример 2\n",
    "print(length_stats('Лес, опушка, странный домик. Лес, опушка и зверушка.'))"
   ],
   "metadata": {
    "collapsed": false,
    "pycharm": {
     "name": "#%%\n"
    }
   }
  },
  {
   "cell_type": "code",
   "execution_count": 57,
   "outputs": [
    {
     "name": "stdout",
     "output_type": "stream",
     "text": [
      "Series([], dtype: int64)\n",
      "мама    4\n",
      "мыла    4\n",
      "раму    4\n",
      "dtype: int64\n",
      "домик    5\n",
      "и        1\n",
      "лес      3\n",
      "dtype: int64\n",
      "зверушка    8\n",
      "опушка      6\n",
      "странный    8\n",
      "dtype: int64\n"
     ]
    }
   ],
   "source": [
    "# B ПОЛНОЕ РЕШЕНИЕ\n",
    "import pandas as pd\n",
    "\n",
    "\n",
    "def length_stats(string):\n",
    "    # vibo: переводим строку в нижний регистр, делим по пробелам\n",
    "    string = string.lower().split()\n",
    "    # vibo: проходим по строке, словам, оставляя только буквы\n",
    "    string = [\"\".join([y for y in x if y.isalpha()]) for x in string]\n",
    "    # vibo: преобразуем в словарь\n",
    "    dct = {i: len(i) for i in string}\n",
    "    # vibo: делаем лексикографическом порядок\n",
    "    ans = pd.Series(dct).sort_index()\n",
    "    # vibo: условие фильтрации для пропуска - \"\" (остается от отдельностоящей цифры)\n",
    "    ans = ans[ans.index != \"\"]\n",
    "    # vibo: разбиваем на нечетные и четные длины слов\n",
    "    ans_odd, ans_even = ans[ans.values % 2 != 0], ans[ans.values % 2 == 0]\n",
    "    return ans_odd, ans_even\n",
    "\n",
    "# vibo: Пример 1\n",
    "odd, even = length_stats('Мама мыла раму')\n",
    "print(odd)\n",
    "print(even)\n",
    "\n",
    "# vibo: Пример 2\n",
    "odd, even = length_stats('Лес, опушка, странный домик. Лес, опушка и зверушка.')\n",
    "print(odd)\n",
    "print(even)"
   ],
   "metadata": {
    "collapsed": false,
    "pycharm": {
     "name": "#%%\n"
    }
   }
  },
  {
   "cell_type": "code",
   "execution_count": 132,
   "outputs": [
    {
     "name": "stdout",
     "output_type": "stream",
     "text": [
      "  product  price  number  cost\n",
      "0   cream     72       1    72\n",
      "1    milk     58       2   116\n",
      "2    soda     99       3   297\n"
     ]
    }
   ],
   "source": [
    "# C ПОЛНОЕ РЕШЕНИЕ\n",
    "import pandas as pd\n",
    "\n",
    "\n",
    "# vibo: принимаем прайс-лист в Series() и словарь с заказом (kwargs)\n",
    "def cheque(price_list, **kwargs):\n",
    "    # vibo: из прайс-листа оставляем только позиции из заказа\n",
    "    cheque_price = pd.DataFrame(price_list, index=kwargs.keys())\n",
    "    # vibo: создаем пустой чек\n",
    "    total = pd.DataFrame()\n",
    "    # vibo: добавляем product и price из Series()\n",
    "    total[\"product\"] = cheque_price.index\n",
    "    total[\"price\"] = cheque_price.values\n",
    "    # vibo: добавляем столбец с количеством\n",
    "    total[\"number\"] = pd.Series(kwargs.values())\n",
    "    # vibo: сумма по позициям\n",
    "    total[\"cost\"] = total[\"price\"] * total[\"number\"]\n",
    "    # vibo: делаем сортировку по позициям\n",
    "    total = total.sort_values(\"product\")\n",
    "    # vibo: сбрасываем индексацию строк\n",
    "    total.index = pd.Series(range(0, len(total)))\n",
    "    return total\n",
    "\n",
    "\n",
    "# vibo: Пример\n",
    "products = ['bread', 'milk', 'soda', 'cream']\n",
    "prices = [37, 58, 99, 72]\n",
    "price_list = pd.Series(prices, products)\n",
    "result = cheque(price_list, soda=3, milk=2, cream=1)\n",
    "print(result)"
   ],
   "metadata": {
    "collapsed": false,
    "pycharm": {
     "name": "#%%\n"
    }
   }
  },
  {
   "cell_type": "code",
   "execution_count": 7,
   "outputs": [
    {
     "name": "stdout",
     "output_type": "stream",
     "text": [
      "  product  price  number  cost\n",
      "0   cream     72       1    72\n",
      "1    milk     58       2   116\n",
      "2    soda     99       3   297\n",
      "  product  price  number   cost\n",
      "0   cream     72       1   72.0\n",
      "1    milk     58       2  116.0\n",
      "2    soda     99       3  148.5\n"
     ]
    }
   ],
   "source": [
    "# D\n",
    "# vibo: Акция! При покупке больше двух товаров — скидка 50%\n",
    "# vibo: мелкий шрифт: скидка распространяется только на товары купленные в количестве более двух штук\n",
    "import pandas as pd\n",
    "import numpy as np\n",
    "\n",
    "\n",
    "def cheque(price_list, **kwargs):\n",
    "    # vibo: из прайс-листа оставляем только позиции из заказа\n",
    "    cheque_price = pd.DataFrame(price_list, index=kwargs.keys())\n",
    "    # vibo: создаем пустой чек\n",
    "    total = pd.DataFrame()\n",
    "    # vibo: добавляем product и price из Series()\n",
    "    total[\"product\"] = cheque_price.index\n",
    "    total[\"price\"] = cheque_price.values\n",
    "    # vibo: добавляем столбец с количеством\n",
    "    total[\"number\"] = pd.Series(kwargs.values())\n",
    "    # vibo: сумма по позициям\n",
    "    total[\"cost\"] = total[\"price\"] * total[\"number\"]\n",
    "    # vibo: делаем сортировку по позициям\n",
    "    total = total.sort_values(\"product\")\n",
    "    # vibo: сбрасываем индексацию строк\n",
    "    total.index = pd.Series(range(0, len(total)))\n",
    "    return total\n",
    "\n",
    "\n",
    "def discount(result):\n",
    "    new_result = result.copy()\n",
    "    # new_result[\"cost\"][new_result[\"number\"] > 2] = result[\"cost\"][result[\"number\"] > 2] * 0.5\n",
    "    new_result[\"cost\"] = np.where(new_result[\"number\"] > 2, new_result[\"cost\"] * 0.5, new_result[\"cost\"])\n",
    "    return new_result\n",
    "\n",
    "\n",
    "# vibo: Пример\n",
    "products = ['bread', 'milk', 'soda', 'cream']\n",
    "prices = [37, 58, 99, 72]\n",
    "price_list = pd.Series(prices, products)\n",
    "\n",
    "result = cheque(price_list, soda=3, milk=2, cream=1)\n",
    "with_discount = discount(result)\n",
    "print(result)\n",
    "print(with_discount)\n"
   ],
   "metadata": {
    "collapsed": false,
    "pycharm": {
     "name": "#%%\n"
    }
   }
  },
  {
   "cell_type": "code",
   "execution_count": 9,
   "outputs": [
    {
     "name": "stdout",
     "output_type": "stream",
     "text": [
      "мир       3\n",
      "питон     5\n",
      "привет    6\n",
      "яндекс    6\n",
      "dtype: int64\n",
      "питон     5\n",
      "привет    6\n",
      "яндекс    6\n",
      "dtype: int64\n",
      "мир       3\n",
      "питон     5\n",
      "привет    6\n",
      "яндекс    6\n",
      "dtype: int64\n",
      "привет    6\n",
      "яндекс    6\n",
      "dtype: int64\n"
     ]
    }
   ],
   "source": [
    "# E ПОЛНОЕ РЕШЕНИЕ\n",
    "# vibo: фильтрация pd.Series по длине слова\n",
    "import pandas as pd\n",
    "\n",
    "\n",
    "def get_long(data, min_length=5):\n",
    "    return data[data.values >= min_length]\n",
    "\n",
    "\n",
    "# vibo: Пример 1.\n",
    "data = pd.Series([3, 5, 6, 6], ['мир', 'питон', 'привет', 'яндекс'])\n",
    "filtered = get_long(data)\n",
    "print(data)\n",
    "print(filtered)\n",
    "\n",
    "# vibo: Пример 2.\n",
    "data = pd.Series([3, 5, 6, 6], ['мир', 'питон', 'привет', 'яндекс'])\n",
    "filtered = get_long(data, min_length=6)\n",
    "print(data)\n",
    "print(filtered)"
   ],
   "metadata": {
    "collapsed": false,
    "pycharm": {
     "name": "#%%\n"
    }
   }
  },
  {
   "cell_type": "code",
   "execution_count": 2,
   "outputs": [
    {
     "name": "stdout",
     "output_type": "stream",
     "text": [
      "       name  maths  physics  computer science\n",
      "0    Иванов      5        4                 5\n",
      "1    Петров      4        4                 2\n",
      "2   Сидоров      5        4                 5\n",
      "3  Васечкин      2        5                 4\n",
      "4  Николаев      4        5                 3\n",
      "             maths   physics  computer science\n",
      "name                                          \n",
      "Иванов    0.357143  0.285714          0.357143\n",
      "Петров    0.400000  0.400000          0.200000\n",
      "Сидоров   0.357143  0.285714          0.357143\n",
      "Васечкин  0.181818  0.454545          0.363636\n",
      "Николаев  0.333333  0.416667          0.250000\n"
     ]
    }
   ],
   "source": [
    "# vibo: вне зачета\n",
    "\n",
    "import pandas as pd\n",
    "\n",
    "\n",
    "def div(journal):\n",
    "    # vibo: set_index() для смены индекса на заданный столбец\n",
    "    new_journal = journal.set_index(\"name\")\n",
    "    # vibo: div() доля оценки в общей сумме\n",
    "    new_journal = new_journal.div(new_journal.sum(axis=1), axis = 0)\n",
    "    return new_journal\n",
    "\n",
    "# vibo: Пример\n",
    "columns = ['name', 'maths', 'physics', 'computer science']\n",
    "data = {\n",
    "    'name': ['Иванов', 'Петров', 'Сидоров', 'Васечкин', 'Николаев'],\n",
    "    'maths': [5, 4, 5, 2, 4],\n",
    "    'physics': [4, 4, 4, 5, 5],\n",
    "    'computer science': [5, 2, 5, 4, 3]\n",
    "}\n",
    "journal = pd.DataFrame(data, columns=columns)\n",
    "filtered = div(journal)\n",
    "print(journal)\n",
    "print(filtered)"
   ],
   "metadata": {
    "collapsed": false,
    "pycharm": {
     "name": "#%%\n"
    }
   }
  },
  {
   "cell_type": "code",
   "execution_count": 3,
   "outputs": [
    {
     "name": "stdout",
     "output_type": "stream",
     "text": [
      "       name  maths  physics  computer science\n",
      "0    Иванов      5        4                 5\n",
      "1    Петров      4        4                 2\n",
      "2   Сидоров      5        4                 5\n",
      "3  Васечкин      2        5                 4\n",
      "4  Николаев      4        5                 3\n",
      "      name  maths  physics  computer science\n",
      "0   Иванов      5        4                 5\n",
      "2  Сидоров      5        4                 5\n"
     ]
    }
   ],
   "source": [
    "# F ПОЛНОЕ РЕШЕНИЕ\n",
    "import pandas as pd\n",
    "\n",
    "\n",
    "def best(journal):\n",
    "    new_journal = journal.copy()\n",
    "    # vibo: проверяем наличие оценки >3 в строках, заполняем новый столбец True/False\n",
    "    pre_score = [x > 3 for x in new_journal[[\"maths\", \"physics\", \"computer science\"]].values]\n",
    "    new_journal[\"score_>3\"] = [all(y) for y in pre_score]\n",
    "    # vibo: приводим новый столбец к str, иначе было не выполнить фильтрацию по True\n",
    "    # vibo: чекер по PEP8 требовал заменить == на is, но данная конструкция не работала\n",
    "    new_journal = new_journal.astype({\"score_>3\": str})\n",
    "    new_journal = new_journal[new_journal[\"score_>3\"] == \"True\"]\n",
    "    new_journal = new_journal[[\"name\", \"maths\", \"physics\", \"computer science\"]]\n",
    "    return new_journal\n",
    "\n",
    "# vibo: Пример\n",
    "columns = ['name', 'maths', 'physics', 'computer science']\n",
    "data = {\n",
    "    'name': ['Иванов', 'Петров', 'Сидоров', 'Васечкин', 'Николаев'],\n",
    "    'maths': [5, 4, 5, 2, 4],\n",
    "    'physics': [4, 4, 4, 5, 5],\n",
    "    'computer science': [5, 2, 5, 4, 3]\n",
    "}\n",
    "journal = pd.DataFrame(data, columns=columns)\n",
    "filtered = best(journal)\n",
    "print(journal)\n",
    "print(filtered)"
   ],
   "metadata": {
    "collapsed": false,
    "pycharm": {
     "name": "#%%\n"
    }
   }
  },
  {
   "cell_type": "code",
   "execution_count": 73,
   "outputs": [
    {
     "name": "stdout",
     "output_type": "stream",
     "text": [
      "       name  maths  physics  computer science\n",
      "0    Иванов      5        4                 5\n",
      "1    Петров      4        4                 2\n",
      "2   Сидоров      5        4                 5\n",
      "3  Васечкин      2        5                 4\n",
      "4  Николаев      4        5                 3\n",
      "       name  maths  physics  computer science\n",
      "1    Петров      4        4                 2\n",
      "3  Васечкин      2        5                 4\n"
     ]
    }
   ],
   "source": [
    "# G ПОЛНОЕ РЕШЕНИЕ\n",
    "import pandas as pd\n",
    "\n",
    "\n",
    "def need_to_work_better(journal):\n",
    "    new_journal = journal.copy()\n",
    "    # vibo: проверяем наличие оценки 2 в строках, заполняем новый столбец True/False\n",
    "    new_journal[\"score_2\"] = [2 in x for x in new_journal[[\"maths\", \"physics\", \"computer science\"]].values]\n",
    "    # vibo: приводим новый столбец к str, иначе было не выполнить фильтрацию по True\n",
    "    # vibo: чекер по PEP8 требовал заменить == на is, но данная конструкция не работала\n",
    "    new_journal = new_journal.astype({\"score_2\": str})\n",
    "    new_journal = new_journal[new_journal[\"score_2\"] == \"True\"]\n",
    "    new_journal = new_journal[[\"name\", \"maths\", \"physics\", \"computer science\"]]\n",
    "    return new_journal\n",
    "\n",
    "\n",
    "# vibo: Пример\n",
    "columns = ['name', 'maths', 'physics', 'computer science']\n",
    "data = {\n",
    "    'name': ['Иванов', 'Петров', 'Сидоров', 'Васечкин', 'Николаев'],\n",
    "    'maths': [5, 4, 5, 2, 4],\n",
    "    'physics': [4, 4, 4, 5, 5],\n",
    "    'computer science': [5, 2, 5, 4, 3]\n",
    "}\n",
    "journal = pd.DataFrame(data, columns=columns)\n",
    "filtered = need_to_work_better(journal)\n",
    "print(journal)\n",
    "print(filtered)"
   ],
   "metadata": {
    "collapsed": false,
    "pycharm": {
     "name": "#%%\n"
    }
   }
  },
  {
   "cell_type": "code",
   "execution_count": 113,
   "outputs": [
    {
     "name": "stdout",
     "output_type": "stream",
     "text": [
      "       name  maths physics  computer science\n",
      "0    Иванов      5     NaN                 5\n",
      "1    Петров      4     NaN                 2\n",
      "2   Сидоров      5     NaN                 5\n",
      "3  Васечкин      2     NaN                 4\n",
      "4  Николаев      4     NaN                 3\n",
      "       name  maths physics  computer science  average\n",
      "0    Иванов      5     NaN                 5      5.0\n",
      "2   Сидоров      5     NaN                 5      5.0\n",
      "4  Николаев      4     NaN                 3      3.5\n",
      "3  Васечкин      2     NaN                 4      3.0\n",
      "1    Петров      4     NaN                 2      3.0\n"
     ]
    }
   ],
   "source": [
    "# H ПОЛНОЕ РЕШЕНИЕ\n",
    "import pandas as pd\n",
    "\n",
    "\n",
    "def update(journal):\n",
    "    new_journal = journal.copy()\n",
    "    # vibo: при использовании .sum и .count \"NaN\" не считаются\n",
    "    # vibo: параметром указываем оси вдоль которых считаем\n",
    "    new_journal[\"average\"] = new_journal[[\"maths\", \"physics\", \"computer science\"]].sum(axis=1) / \\\n",
    "        new_journal[[\"maths\", \"physics\", \"computer science\"]].count(axis=1)\n",
    "    # vibo: двойная сортировка\n",
    "    new_journal = new_journal.sort_values([\"average\", \"name\"], ascending=(False, True))\n",
    "    return new_journal\n",
    "\n",
    "\n",
    "columns = ['name', 'maths', 'physics', 'computer science']\n",
    "data = {\n",
    "    'name': ['Иванов', 'Петров', 'Сидоров', 'Васечкин', 'Николаев'],\n",
    "    'maths': [5, 4, 5, 2, 4],\n",
    "    'pysics': [4, 4, 4, 5, 5],\n",
    "    'computer science': [5, 2, 5, 4, 3]\n",
    "}\n",
    "journal = pd.DataFrame(data, columns=columns)\n",
    "filtered = update(journal)\n",
    "print(journal)\n",
    "print(filtered)\n"
   ],
   "metadata": {
    "collapsed": false,
    "pycharm": {
     "name": "#%%\n"
    }
   }
  },
  {
   "cell_type": "code",
   "execution_count": 36,
   "outputs": [
    {
     "name": "stdout",
     "output_type": "stream",
     "text": [
      "         x   y\n",
      "6262     9   0\n",
      "59060   10   4\n",
      "69882   10   5\n",
      "72739    0   0\n",
      "120951   3   1\n",
      "137931   9  10\n",
      "183595   7   0\n",
      "194157   0   9\n",
      "219910   0   3\n",
      "220920  10   0\n",
      "242318   8   4\n",
      "283651   1   8\n",
      "292990   4   3\n",
      "294474   6   3\n",
      "352959  10  10\n",
      "393223   3   5\n",
      "423449   1   2\n"
     ]
    }
   ],
   "source": [
    "# I ПОЛНОЕ РЕШЕНИЕ\n",
    "import pandas as pd\n",
    "\n",
    "\n",
    "df = pd.read_csv(\"data.csv\")\n",
    "\n",
    "# vibo: верхний левый\n",
    "a_x, a_y = input().split()\n",
    "# vibo: правый нижний\n",
    "b_x, b_y = input().split()\n",
    "\n",
    "# vibo: TLE на тесте-18\n",
    "# df = df[df[\"x\"] >= int(a_x)]\n",
    "# df = df[df[\"x\"] <= int(b_x)]\n",
    "# df = df[df[\"y\"] <= int(a_y)]\n",
    "# df = df[df[\"y\"] >= int(b_y)]\n",
    "\n",
    "df = df[(df[\"x\"] >= int(a_x)) & (df[\"x\"] <= int(b_x)) & (df[\"y\"] <= int(a_y)) & (df[\"y\"] >= int(b_y))]\n",
    "\n",
    "print(df)"
   ],
   "metadata": {
    "collapsed": false,
    "pycharm": {
     "name": "#%%\n"
    }
   }
  }
 ],
 "metadata": {
  "kernelspec": {
   "display_name": "Python 3 (ipykernel)",
   "language": "python",
   "name": "python3"
  },
  "language_info": {
   "codemirror_mode": {
    "name": "ipython",
    "version": 3
   },
   "file_extension": ".py",
   "mimetype": "text/x-python",
   "name": "python",
   "nbconvert_exporter": "python",
   "pygments_lexer": "ipython3",
   "version": "3.9.9"
  }
 },
 "nbformat": 4,
 "nbformat_minor": 1
}